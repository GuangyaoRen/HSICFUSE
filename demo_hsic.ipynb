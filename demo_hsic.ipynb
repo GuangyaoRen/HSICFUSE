{
 "cells": [
  {
   "cell_type": "code",
   "execution_count": 1,
   "id": "0e9da2be-68b0-457e-b2da-34c248ecc205",
   "metadata": {},
   "outputs": [],
   "source": [
    "%load_ext autoreload\n",
    "%autoreload 2"
   ]
  },
  {
   "cell_type": "code",
   "execution_count": 4,
   "id": "7ad5db75-7c19-49e5-bbcd-7066e15d63c9",
   "metadata": {},
   "outputs": [
    {
     "data": {
      "text/plain": [
       "StreamExecutorGpuDevice(id=1, process_index=0, slice_index=0)"
      ]
     },
     "execution_count": 4,
     "metadata": {},
     "output_type": "execute_result"
    }
   ],
   "source": [
    "import numpy as np\n",
    "from hsic import hsic, human_readable_dict\n",
    "from sampler_gclusters import sampler_gclusters\n",
    "from jax import random\n",
    "import jax.numpy as jnp\n",
    "X = jnp.array([1, 2])\n",
    "X.device()"
   ]
  },
  {
   "cell_type": "code",
   "execution_count": 5,
   "id": "c71d5680-c0c8-4626-9732-871655d6c7fd",
   "metadata": {},
   "outputs": [],
   "source": [
    "# generate data\n",
    "key = random.PRNGKey(0)\n",
    "key, subkey = random.split(key)\n",
    "subkeys = random.split(subkey, num=2)\n",
    "X = random.uniform(subkeys[0], shape=(500, 10))\n",
    "Y = random.uniform(subkeys[1], shape=(500, 10)) + 1"
   ]
  },
  {
   "cell_type": "markdown",
   "id": "1001e371-7bc5-4965-8ec8-45ce480859f3",
   "metadata": {},
   "source": [
    "### hsic <br>\n",
    "### sample from Uniform distributions"
   ]
  },
  {
   "cell_type": "code",
   "execution_count": 6,
   "id": "0b7afe3b-98ef-4e6f-8f9b-b2b728102ea2",
   "metadata": {},
   "outputs": [],
   "source": [
    "# compile function\n",
    "key, subkey = random.split(key)\n",
    "output, dictionary = hsic(X, Y, subkey, return_dictionary=True)"
   ]
  },
  {
   "cell_type": "code",
   "execution_count": 7,
   "id": "9481f475-b37f-4fd3-9b25-c87a697dbac3",
   "metadata": {},
   "outputs": [
    {
     "name": "stdout",
     "output_type": "stream",
     "text": [
      "20.7 ms ± 872 µs per loop (mean ± std. dev. of 7 runs, 10 loops each)\n"
     ]
    }
   ],
   "source": [
    "# Now the function runs fast for any inputs X and Y of the compiled shaped (500, 10)\n",
    "# If the shape is changed, the function will need to be compiled again\n",
    "key = random.PRNGKey(1) # different initialisation\n",
    "key, subkey = random.split(key)\n",
    "subkeys = random.split(subkey, num=2)\n",
    "X = random.uniform(subkeys[0], shape=(500, 10))\n",
    "Y = random.uniform(subkeys[1], shape=(500, 10))\n",
    "# see section below for detailed speed comparision between jax cpu and jax gpu \n",
    "%timeit output, dictionary = hsic(X, Y, subkey, return_dictionary=True)"
   ]
  },
  {
   "cell_type": "code",
   "execution_count": 6,
   "id": "2f6c64ec-a0f6-4afc-b7d4-8374b63c0693",
   "metadata": {},
   "outputs": [],
   "source": [
    "key, subkey = random.split(key)\n",
    "output, dictionary = hsic(X, Y, subkey, return_dictionary=True)"
   ]
  },
  {
   "cell_type": "code",
   "execution_count": 7,
   "id": "3208d3b2-bc36-4660-a26f-47ee4b48d5f1",
   "metadata": {},
   "outputs": [
    {
     "data": {
      "text/plain": [
       "Array(1, dtype=int32)"
      ]
     },
     "execution_count": 7,
     "metadata": {},
     "output_type": "execute_result"
    }
   ],
   "source": [
    "# output is a jax array consisting of either 0 or 1\n",
    "output"
   ]
  },
  {
   "cell_type": "code",
   "execution_count": 8,
   "id": "c03bc7cf-3070-4032-985e-7b131003bfd0",
   "metadata": {},
   "outputs": [
    {
     "data": {
      "text/plain": [
       "1"
      ]
     },
     "execution_count": 8,
     "metadata": {},
     "output_type": "execute_result"
    }
   ],
   "source": [
    "# to convert it to an int use: \n",
    "output.item()"
   ]
  },
  {
   "cell_type": "code",
   "execution_count": 9,
   "id": "36f580c6-72de-4425-a501-497b54d40580",
   "metadata": {},
   "outputs": [
    {
     "data": {
      "text/plain": [
       "{'Bandwidth': 1,\n",
       " 'HSIC': 0.0560261607170105,\n",
       " 'HSIC quantile': 0.05598384141921997,\n",
       " 'HSIC test reject': True,\n",
       " 'Kernel gaussian': True,\n",
       " 'p-value': 0.03048475831747055,\n",
       " 'p-value threshold': 0.05000000074505806}"
      ]
     },
     "execution_count": 9,
     "metadata": {},
     "output_type": "execute_result"
    }
   ],
   "source": [
    "human_readable_dict(dictionary) # use to convert jax arrays to scalars\n",
    "dictionary"
   ]
  },
  {
   "cell_type": "code",
   "execution_count": null,
   "id": "67f36873-3f07-4408-bbbf-c650b74c8dfe",
   "metadata": {},
   "outputs": [],
   "source": []
  },
  {
   "cell_type": "markdown",
   "id": "ad68be27-e8df-4fcd-b17f-46ee2e9400ad",
   "metadata": {},
   "source": [
    "### hsic <br>\n",
    "### sample from three Gaussian clusters"
   ]
  },
  {
   "cell_type": "code",
   "execution_count": 10,
   "id": "2e411b15-3b8f-4d65-b0e8-658c1b95bcd5",
   "metadata": {},
   "outputs": [],
   "source": [
    "# generate data\n",
    "key = random.PRNGKey(0)\n",
    "key, subkey = random.split(key)\n",
    "\n",
    "N = 500\n",
    "L = 10 \n",
    "theta = jnp.pi / 12\n",
    "# means\n",
    "means = [\n",
    "    jnp.array([0,0]),\n",
    "    jnp.array([L * jnp.cos(theta), L * jnp.sin(theta)]),\n",
    "    jnp.array([(L / 2) * jnp.cos(theta) - (L * jnp.sqrt(3) / 2) * jnp.sin(theta), (L / 2) * jnp.sin(theta) + (L * jnp.sqrt(3) / 2) * jnp.cos(theta)])  \n",
    "]\n",
    "# Covariance matrix\n",
    "var = 1\n",
    "cov = jnp.array([[var,   0], \n",
    "                 [  0, var]])\n",
    "\n",
    "X, Y = sampler_gclusters(key, L, theta, means, cov, N, permute=False)"
   ]
  },
  {
   "cell_type": "code",
   "execution_count": 11,
   "id": "5650ca8a-eee6-4c98-9063-526812ae13d7",
   "metadata": {},
   "outputs": [],
   "source": [
    "# compile function\n",
    "key, subkey = random.split(key)\n",
    "output, dictionary = hsic(X, Y, subkey, return_dictionary=True)"
   ]
  },
  {
   "cell_type": "code",
   "execution_count": 12,
   "id": "9cdf6c8c-672e-402e-8336-b966df9a9c7d",
   "metadata": {},
   "outputs": [
    {
     "name": "stdout",
     "output_type": "stream",
     "text": [
      "21.9 ms ± 797 µs per loop (mean ± std. dev. of 7 runs, 10 loops each)\n"
     ]
    }
   ],
   "source": [
    "# Now the function runs fast for any inputs X and Y of the compiled shaped (500, 10)\n",
    "# If the shape is changed, the function will need to be compiled again\n",
    "key = random.PRNGKey(1)\n",
    "key, subkey = random.split(key)\n",
    "\n",
    "N = 500\n",
    "L = 10\n",
    "theta = jnp.pi / 12\n",
    "means = [\n",
    "    jnp.array([0,0]),\n",
    "    jnp.array([L * jnp.cos(theta), L * jnp.sin(theta)]),\n",
    "    jnp.array([(L / 2) * jnp.cos(theta) - (L * jnp.sqrt(3) / 2) * jnp.sin(theta), (L / 2) * jnp.sin(theta) + (L * jnp.sqrt(3) / 2) * jnp.cos(theta)])  \n",
    "]\n",
    "# Covariance matrix\n",
    "var = 1\n",
    "cov = jnp.array([[var,   0], \n",
    "                 [  0, var]])\n",
    "\n",
    "X, Y = sampler_gclusters(key, L, theta, means, cov, N, permute=False)\n",
    "\n",
    "# see section below for detailed speed comparision between jax cpu and jax gpu \n",
    "%timeit output, dictionary = hsic(X, Y, subkey, return_dictionary=True)"
   ]
  },
  {
   "cell_type": "code",
   "execution_count": 13,
   "id": "ac8da40e-5544-4192-9caa-c0b24f1d6b23",
   "metadata": {},
   "outputs": [],
   "source": [
    "key, subkey = random.split(key)\n",
    "output, dictionary = hsic(X, Y, subkey, return_dictionary=True)"
   ]
  },
  {
   "cell_type": "code",
   "execution_count": 14,
   "id": "2763e7cf-d0e4-4239-9fb2-b696d9ba5c05",
   "metadata": {},
   "outputs": [
    {
     "data": {
      "text/plain": [
       "Array(1, dtype=int32)"
      ]
     },
     "execution_count": 14,
     "metadata": {},
     "output_type": "execute_result"
    }
   ],
   "source": [
    "# output is a jax array consisting of either 0 or 1\n",
    "output"
   ]
  },
  {
   "cell_type": "code",
   "execution_count": 15,
   "id": "6bb62d05-83d0-4b0e-8775-f22927a1f909",
   "metadata": {},
   "outputs": [
    {
     "data": {
      "text/plain": [
       "1"
      ]
     },
     "execution_count": 15,
     "metadata": {},
     "output_type": "execute_result"
    }
   ],
   "source": [
    "# to convert it to an int use: \n",
    "output.item()"
   ]
  },
  {
   "cell_type": "code",
   "execution_count": 16,
   "id": "7eb32d84-7431-4bc2-a113-ed9bda0cc240",
   "metadata": {},
   "outputs": [
    {
     "data": {
      "text/plain": [
       "{'Bandwidth': 1,\n",
       " 'HSIC': 0.014159763231873512,\n",
       " 'HSIC quantile': 0.00620127422735095,\n",
       " 'HSIC test reject': True,\n",
       " 'Kernel gaussian': True,\n",
       " 'p-value': 0.0004997501382604241,\n",
       " 'p-value threshold': 0.05000000074505806}"
      ]
     },
     "execution_count": 16,
     "metadata": {},
     "output_type": "execute_result"
    }
   ],
   "source": [
    "human_readable_dict(dictionary) # use to convert jax arrays to scalars\n",
    "dictionary"
   ]
  },
  {
   "cell_type": "code",
   "execution_count": null,
   "id": "3d1bc303-7e7b-4b6a-9604-cfa4a1e87900",
   "metadata": {},
   "outputs": [],
   "source": []
  },
  {
   "cell_type": "code",
   "execution_count": null,
   "id": "41ea2148-161c-40a0-a269-3e3611792a6e",
   "metadata": {},
   "outputs": [],
   "source": []
  }
 ],
 "metadata": {
  "kernelspec": {
   "display_name": "Python 3 (ipykernel)",
   "language": "python",
   "name": "python3"
  },
  "language_info": {
   "codemirror_mode": {
    "name": "ipython",
    "version": 3
   },
   "file_extension": ".py",
   "mimetype": "text/x-python",
   "name": "python",
   "nbconvert_exporter": "python",
   "pygments_lexer": "ipython3",
   "version": "3.9.16"
  }
 },
 "nbformat": 4,
 "nbformat_minor": 5
}
