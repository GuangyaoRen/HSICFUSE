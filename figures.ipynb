{
 "cells": [
  {
   "cell_type": "code",
   "execution_count": 4,
   "id": "41f78be7-89a5-49f5-a2e9-bdc1b4918e63",
   "metadata": {},
   "outputs": [],
   "source": [
    "from matplotlib import pyplot as plt\n",
    "from matplotlib import rc, rcParams\n",
    "import numpy as np\n",
    "from pathlib import Path\n",
    "Path(\"figures\").mkdir(exist_ok=True)"
   ]
  },
  {
   "cell_type": "code",
   "execution_count": 5,
   "id": "88bc0f76-4112-4f4e-b03a-e3d5a6533912",
   "metadata": {},
   "outputs": [],
   "source": [
    "# might need to be run twice for some obscure reason\n",
    "# latex needs to be installed\n",
    "fs = 18\n",
    "rcParams.update({\"font.size\": fs})\n",
    "rc(\"font\", **{\"family\": \"serif\", \"serif\": [\"Computer Modern\"]})\n",
    "rc(\"text\", usetex=True)"
   ]
  },
  {
   "cell_type": "markdown",
   "id": "9760d210-2b30-421c-b852-5d8dc96993dc",
   "metadata": {},
   "source": [
    "### Main figure"
   ]
  },
  {
   "cell_type": "code",
   "execution_count": null,
   "id": "682e19b8-0e8c-4c6a-83eb-2e03d92540ed",
   "metadata": {},
   "outputs": [],
   "source": [
    "# Main figure\n",
    "scale = 0.8\n",
    "f, axs = plt.subplots(2, 4, figuresize=(18*scale), sharey=True)\n",
    "f.tight_layout()\n",
    "f.subplots_adjust(wspace=0.1, hspace=0.45)\n",
    "\n",
    "# Parameters\n",
    "markersize = 5\n",
    "tests_names = [\" \", \" \", \" \"]\n",
    "styles = [\"-\",] * len(tests_names)\n",
    "styles = [\n",
    "    ' ', #\n",
    "    ' ', #\n",
    "    ' ', #\n",
    "    ' ', #\n",
    "    ' ', #\n",
    "    ' ', #\n",
    "    ' ', #\n",
    "    ' ', #\n",
    "    ' ', #\n",
    "]\n",
    "markers = [\"o\",] * len(tests_names)\n",
    "colors = np.array([\"C\" + str(i) for i in range(len(tests_names))])[[3, 9, 1, 0, 4, 5, 6, 7, 8, 2]] \n",
    "order = [2, 1, 7, 6, 5, 8, 9, 4, 3, 0]\n",
    "color_autotst = \"#98DF8A\"\n",
    "marker_autotst = \"o\"\n",
    "style_autotst = \"dashed\"\n",
    "label_autotst = \"AutoML\"\n",
    "\n",
    "# Plot 0.0\n",
    "idx = (0, 0)\n",
    "\n",
    "\n",
    "\n",
    "\n",
    "\n",
    "\n",
    "\n",
    "\n",
    "\n"
   ]
  },
  {
   "cell_type": "code",
   "execution_count": null,
   "id": "23d70c1f-afdd-4f14-9a2f-2868c2500a24",
   "metadata": {},
   "outputs": [],
   "source": []
  },
  {
   "cell_type": "code",
   "execution_count": null,
   "id": "870182b3-ccf7-4269-9d4b-3ee19e49ce87",
   "metadata": {},
   "outputs": [],
   "source": []
  },
  {
   "cell_type": "code",
   "execution_count": null,
   "id": "caa2aadb-da7d-4e00-a105-69273e2eaba1",
   "metadata": {},
   "outputs": [],
   "source": []
  },
  {
   "cell_type": "code",
   "execution_count": null,
   "id": "457fc7c8-2aff-425f-a94c-3fad39d2b315",
   "metadata": {},
   "outputs": [],
   "source": []
  },
  {
   "cell_type": "code",
   "execution_count": null,
   "id": "c3562581-eb2c-46a6-9f53-e10269743865",
   "metadata": {},
   "outputs": [],
   "source": []
  },
  {
   "cell_type": "code",
   "execution_count": null,
   "id": "39d0a79f-aed4-4aa2-9f32-42e019f7dfb2",
   "metadata": {},
   "outputs": [],
   "source": []
  }
 ],
 "metadata": {
  "kernelspec": {
   "display_name": "Python 3 (ipykernel)",
   "language": "python",
   "name": "python3"
  },
  "language_info": {
   "codemirror_mode": {
    "name": "ipython",
    "version": 3
   },
   "file_extension": ".py",
   "mimetype": "text/x-python",
   "name": "python",
   "nbconvert_exporter": "python",
   "pygments_lexer": "ipython3",
   "version": "3.9.16"
  }
 },
 "nbformat": 4,
 "nbformat_minor": 5
}
