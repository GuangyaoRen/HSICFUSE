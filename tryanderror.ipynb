{
 "cells": [
  {
   "cell_type": "code",
   "execution_count": 15,
   "id": "992a4d43-8997-4da1-b36f-8929b7e012e3",
   "metadata": {},
   "outputs": [],
   "source": [
    "import jax.numpy as jnp"
   ]
  },
  {
   "cell_type": "code",
   "execution_count": 18,
   "id": "af897cc9-18f8-4569-969f-5f1834a0f0a5",
   "metadata": {},
   "outputs": [
    {
     "name": "stdout",
     "output_type": "stream",
     "text": [
      "(10, 10)\n"
     ]
    }
   ],
   "source": [
    "K = jnp.array([[0, 1, 2, 3, 4, 5, 6, 7, 8, 9],\n",
    "               [0, 1, 2, 3, 4, 5, 6, 7, 8, 9],\n",
    "               [0, 1, 2, 3, 4, 5, 6, 7, 8, 9],\n",
    "               [0, 1, 2, 3, 4, 5, 6, 7, 8, 9],\n",
    "               [0, 1, 2, 3, 4, 5, 6, 7, 8, 9],\n",
    "               [0, 1, 2, 3, 4, 5, 6, 7, 8, 9],\n",
    "               [0, 1, 2, 3, 4, 5, 6, 7, 8, 9],\n",
    "               [0, 1, 2, 3, 4, 5, 6, 7, 8, 9],\n",
    "               [0, 1, 2, 3, 4, 5, 6, 7, 8, 9],\n",
    "               [0, 1, 2, 3, 4, 5, 6, 7, 8, 9],])"
   ]
  },
  {
   "cell_type": "code",
   "execution_count": 29,
   "id": "1dd9e3d5-6b97-4383-9840-8913ba3715be",
   "metadata": {},
   "outputs": [
    {
     "name": "stdout",
     "output_type": "stream",
     "text": [
      "378 ms ± 46.2 ms per loop (mean ± std. dev. of 7 runs, 1 loop each)\n"
     ]
    }
   ],
   "source": [
    "%%timeit\n",
    "sum = 0\n",
    "for i in range(1000):\n",
    "    sum += jnp.sum(K * K)"
   ]
  },
  {
   "cell_type": "code",
   "execution_count": 28,
   "id": "978b2ec0-6098-45e4-a935-26a2d42ed219",
   "metadata": {},
   "outputs": [
    {
     "name": "stdout",
     "output_type": "stream",
     "text": [
      "360 ms ± 42.7 ms per loop (mean ± std. dev. of 7 runs, 1 loop each)\n"
     ]
    }
   ],
   "source": [
    "%%timeit\n",
    "sum = 0\n",
    "for i in range(1000):\n",
    "    sum += jnp.sum(K @ K)"
   ]
  },
  {
   "cell_type": "code",
   "execution_count": 32,
   "id": "65f3724a-02c9-40f6-839e-25fcd735943f",
   "metadata": {},
   "outputs": [
    {
     "name": "stdout",
     "output_type": "stream",
     "text": [
      "211 ms ± 17.4 ms per loop (mean ± std. dev. of 7 runs, 1 loop each)\n"
     ]
    }
   ],
   "source": [
    "%%timeit\n",
    "sum = 0\n",
    "ones = jnp.ones(K.shape[0])\n",
    "for i in range(1000):\n",
    "    sum += ones @ K @ K @ ones"
   ]
  },
  {
   "cell_type": "code",
   "execution_count": null,
   "id": "2da6045e-6b65-4937-adfd-daf4c9335f52",
   "metadata": {},
   "outputs": [],
   "source": []
  },
  {
   "cell_type": "code",
   "execution_count": null,
   "id": "f4cc03ff-267f-4102-9a18-96b371f8ffa6",
   "metadata": {},
   "outputs": [],
   "source": []
  },
  {
   "cell_type": "code",
   "execution_count": null,
   "id": "2b9c1ee3-54ea-4603-b427-54e42bea0e43",
   "metadata": {},
   "outputs": [],
   "source": []
  },
  {
   "cell_type": "code",
   "execution_count": null,
   "id": "14cd25d1-c36d-4882-8542-f58baf0410fc",
   "metadata": {},
   "outputs": [],
   "source": []
  },
  {
   "cell_type": "code",
   "execution_count": null,
   "id": "d5f94466-9cb9-4562-bb1a-925495bd033a",
   "metadata": {},
   "outputs": [],
   "source": []
  },
  {
   "cell_type": "code",
   "execution_count": null,
   "id": "eeac42d6-0ef7-4600-90d6-0a9ffa74f3bd",
   "metadata": {},
   "outputs": [],
   "source": []
  }
 ],
 "metadata": {
  "kernelspec": {
   "display_name": "Python 3 (ipykernel)",
   "language": "python",
   "name": "python3"
  },
  "language_info": {
   "codemirror_mode": {
    "name": "ipython",
    "version": 3
   },
   "file_extension": ".py",
   "mimetype": "text/x-python",
   "name": "python",
   "nbconvert_exporter": "python",
   "pygments_lexer": "ipython3",
   "version": "3.9.16"
  }
 },
 "nbformat": 4,
 "nbformat_minor": 5
}
