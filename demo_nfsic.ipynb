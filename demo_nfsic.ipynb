{
 "cells": [
  {
   "cell_type": "code",
   "execution_count": 1,
   "id": "4202037d-efa7-4314-9373-fde9d942fb73",
   "metadata": {},
   "outputs": [],
   "source": [
    "%load_ext autoreload\n",
    "%autoreload 2"
   ]
  },
  {
   "cell_type": "code",
   "execution_count": 2,
   "id": "2aaf1a02-452b-4c53-909e-7b54b289bfcc",
   "metadata": {},
   "outputs": [
    {
     "data": {
      "text/plain": [
       "StreamExecutorGpuDevice(id=0, process_index=0, slice_index=0)"
      ]
     },
     "execution_count": 2,
     "metadata": {},
     "output_type": "execute_result"
    }
   ],
   "source": [
    "import numpy as np\n",
    "from wittawatj_tests import nfsic\n",
    "from sampler_gclusters import shuffle, sampler_gclusters, plot_sampler_gclusters\n",
    "from jax import random\n",
    "import jax.numpy as jnp\n",
    "from all_tests import nfsic_test\n",
    "import matplotlib.pyplot as plt\n",
    "X = jnp.array([1, 2])\n",
    "X.device()"
   ]
  },
  {
   "cell_type": "code",
   "execution_count": 3,
   "id": "4634d310-3fcc-40bc-a2c0-056f87756192",
   "metadata": {},
   "outputs": [],
   "source": [
    "# generate data\n",
    "key = random.PRNGKey(0)\n",
    "np.random.seed(0)\n",
    "X = np.random.uniform(size=(500, 3))\n",
    "Y = np.random.uniform(size=(500, 3)) + 1"
   ]
  },
  {
   "cell_type": "markdown",
   "id": "1d168e39-90e1-448f-9c05-3e4b35341d7b",
   "metadata": {},
   "source": [
    "### nfisc <br>\n",
    "### Sample from Uniform"
   ]
  },
  {
   "cell_type": "code",
   "execution_count": 4,
   "id": "1ff97d14-7e9e-4267-8cbd-95f38da7b6da",
   "metadata": {},
   "outputs": [],
   "source": [
    "# compile function\n",
    "key, subkey = random.split(key)\n",
    "seed = 42\n",
    "output = nfsic_test(X, Y, subkey, seed)"
   ]
  },
  {
   "cell_type": "code",
   "execution_count": 7,
   "id": "9b93cbd6-bd43-451f-93c3-e66218af942c",
   "metadata": {},
   "outputs": [
    {
     "name": "stdout",
     "output_type": "stream",
     "text": [
      "<class 'numpy.ndarray'>\n",
      "<class 'numpy.ndarray'>\n",
      "(500, 2)\n",
      "(500, 2)\n",
      "1.65 s ± 81.4 ms per loop (mean ± std. dev. of 7 runs, 1 loop each)\n"
     ]
    }
   ],
   "source": [
    "# Now the function runs fast for any inputs X and Y of the compiled shaped (500, 10)\n",
    "# If the shape is changed, the function will need to be compiled again\n",
    "np.random.seed(1)\n",
    "X = np.random.uniform(size=(500, 3))\n",
    "Y = np.random.uniform(size=(500, 3)) + X\n",
    "# see section below for detailed speed comparision between jax cpu and jax gpu \n",
    "%timeit output = nfsic_test(X, Y, subkey, seed)"
   ]
  },
  {
   "cell_type": "code",
   "execution_count": 34,
   "id": "15e2870d-5c57-4780-b1cd-f0ced5ce2e8d",
   "metadata": {},
   "outputs": [],
   "source": [
    "# output = nyhsic(X, Y, subkey, n_features=10, alpha=0.05)\n",
    "output = nfsic_test(X, Y, subkey, seed)"
   ]
  },
  {
   "cell_type": "code",
   "execution_count": 35,
   "id": "43f70334-17db-4c35-a4d5-04f54b9aec9c",
   "metadata": {},
   "outputs": [
    {
     "data": {
      "text/plain": [
       "1"
      ]
     },
     "execution_count": 35,
     "metadata": {},
     "output_type": "execute_result"
    }
   ],
   "source": [
    "# output is a jax array consisting of either 0 or 1\n",
    "output"
   ]
  },
  {
   "cell_type": "code",
   "execution_count": null,
   "id": "0db9279b-90ff-4df8-90b8-945891bdf5b1",
   "metadata": {},
   "outputs": [],
   "source": []
  },
  {
   "cell_type": "markdown",
   "id": "abf06f01-8d8b-467c-a81e-2dfd1a3a68af",
   "metadata": {},
   "source": [
    "### nfic <br>\n",
    "### Smaple from GClusters"
   ]
  },
  {
   "cell_type": "code",
   "execution_count": 19,
   "id": "66b793d5-0fce-4bfe-8c5b-534abd5864ff",
   "metadata": {},
   "outputs": [],
   "source": [
    "seed = 42\n",
    "d = 5\n",
    "X, Y = sampler_gclusters(seed, L=4, d=d, theta=0, N=500, C=0) # C = 1 is the same as permute = True"
   ]
  },
  {
   "cell_type": "code",
   "execution_count": 20,
   "id": "e4765272-34ef-494c-a735-57333326bd9f",
   "metadata": {},
   "outputs": [],
   "source": [
    "# compile function\n",
    "seed = 42\n",
    "output = nfsic_test(X, Y, subkey, seed)"
   ]
  },
  {
   "cell_type": "code",
   "execution_count": 21,
   "id": "b07c2c21-b056-4ad4-b3eb-1ad82f3e20f4",
   "metadata": {},
   "outputs": [
    {
     "name": "stdout",
     "output_type": "stream",
     "text": [
      "1.73 s ± 95.2 ms per loop (mean ± std. dev. of 7 runs, 1 loop each)\n"
     ]
    }
   ],
   "source": [
    "# Now the function runs fast for any inputs X and Y of the compiled shaped (500, 10)\n",
    "# If the shape is changed, the function will need to be compiled again\n",
    "key = random.PRNGKey(1) # different initialisation\n",
    "key, subkey = random.split(key)\n",
    "subkeys = random.split(subkey, num=2)\n",
    "X, Y = sampler_gclusters(seed, L=4, d=d, theta=0, N=500, C=0) # C = 1 is the same as permute = True\n",
    "# see section below for detailed speed comparision between jax cpu and jax gpu \n",
    "%timeit output = nfsic_test(X, Y, subkey, seed)"
   ]
  },
  {
   "cell_type": "code",
   "execution_count": 22,
   "id": "386450e8-7306-4b88-b4bf-0a778fa97129",
   "metadata": {},
   "outputs": [],
   "source": [
    "from all_tests import nfsic_test\n",
    "seed = 42\n",
    "output = nfsic_test(X, Y, subkey, seed)"
   ]
  },
  {
   "cell_type": "code",
   "execution_count": 23,
   "id": "7155e791-d084-4b6f-b10d-854e22b75521",
   "metadata": {},
   "outputs": [
    {
     "data": {
      "text/plain": [
       "1"
      ]
     },
     "execution_count": 23,
     "metadata": {},
     "output_type": "execute_result"
    }
   ],
   "source": [
    "# output is a jax array consisting of either 0 or 1\n",
    "output"
   ]
  },
  {
   "cell_type": "code",
   "execution_count": null,
   "id": "b332a89f-7a97-4959-bcb3-784530be18f1",
   "metadata": {},
   "outputs": [],
   "source": []
  },
  {
   "cell_type": "code",
   "execution_count": null,
   "id": "7b0b5bcb-ea55-48a3-95a4-b54471028845",
   "metadata": {},
   "outputs": [],
   "source": []
  },
  {
   "cell_type": "code",
   "execution_count": null,
   "id": "c87a1db0-80a4-4cac-9a08-8a671f4da794",
   "metadata": {},
   "outputs": [],
   "source": []
  },
  {
   "cell_type": "code",
   "execution_count": null,
   "id": "c2f27ccb-f921-4945-9ae4-5823b15b1d41",
   "metadata": {},
   "outputs": [],
   "source": []
  },
  {
   "cell_type": "code",
   "execution_count": null,
   "id": "8c36522a-3ab0-4d2a-9174-cbbdb19f5690",
   "metadata": {},
   "outputs": [],
   "source": []
  }
 ],
 "metadata": {
  "kernelspec": {
   "display_name": "Python 3 (ipykernel)",
   "language": "python",
   "name": "python3"
  },
  "language_info": {
   "codemirror_mode": {
    "name": "ipython",
    "version": 3
   },
   "file_extension": ".py",
   "mimetype": "text/x-python",
   "name": "python",
   "nbconvert_exporter": "python",
   "pygments_lexer": "ipython3",
   "version": "3.9.16"
  }
 },
 "nbformat": 4,
 "nbformat_minor": 5
}
