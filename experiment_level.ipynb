{
 "cells": [
  {
   "cell_type": "code",
   "execution_count": 1,
   "id": "b59cf084-e762-4a43-8259-3b4bc313e47d",
   "metadata": {},
   "outputs": [],
   "source": [
    "from sampler_perturbations import f_theta_sampler\n",
    "import numpy as np\n",
    "import jax\n",
    "import jax.numpy as jnp\n",
    "from jax import random, jit, vmap\n",
    "from tqdm.auto import tqdm\n",
    "import time\n",
    "from pathlib import Path\n",
    "Path(\"results\").mkdir(exist_ok=True)\n",
    "%load_ext autoreload\n",
    "%autoreload 2"
   ]
  },
  {
   "cell_type": "code",
   "execution_count": 2,
   "id": "5c016297-0660-494f-8980-50de501cbb75",
   "metadata": {},
   "outputs": [],
   "source": [
    "from all_tests import hsicfuse_test, hsic_test\n",
    "from all_tests import hsicagginc_test, hsicagg_test\n",
    "from all_tests import nfsic_test, nyhsic_test, fhsic_test"
   ]
  },
  {
   "cell_type": "markdown",
   "id": "8d8b0466-23e6-40fe-b1fb-2f025650fa91",
   "metadata": {},
   "source": [
    "### Level vary N"
   ]
  },
  {
   "cell_type": "code",
   "execution_count": 4,
   "id": "9f05b0f0-4ad4-4d6e-9f21-acbcb1b2e01c",
   "metadata": {},
   "outputs": [
    {
     "data": {
      "application/vnd.jupyter.widget-view+json": {
       "model_id": "695e5d612d8d4173878144891bc2a730",
       "version_major": 2,
       "version_minor": 0
      },
      "text/plain": [
       "  0%|          | 0/5 [00:00<?, ?it/s]"
      ]
     },
     "metadata": {},
     "output_type": "display_data"
    },
    {
     "data": {
      "application/vnd.jupyter.widget-view+json": {
       "model_id": "99a618e90adb4ea0af5814a4cf8a1fae",
       "version_major": 2,
       "version_minor": 0
      },
      "text/plain": [
       "  0%|          | 0/200 [00:00<?, ?it/s]"
      ]
     },
     "metadata": {},
     "output_type": "display_data"
    },
    {
     "name": "stdout",
     "output_type": "stream",
     "text": [
      "200 / 200 time: 11653.560586214066\n"
     ]
    },
    {
     "data": {
      "application/vnd.jupyter.widget-view+json": {
       "model_id": "96e1c21510bb4ad79f20a79caefe1cb3",
       "version_major": 2,
       "version_minor": 0
      },
      "text/plain": [
       "  0%|          | 0/200 [00:00<?, ?it/s]"
      ]
     },
     "metadata": {},
     "output_type": "display_data"
    },
    {
     "name": "stdout",
     "output_type": "stream",
     "text": [
      "200 / 200 time: 12574.7290391922\n"
     ]
    },
    {
     "data": {
      "application/vnd.jupyter.widget-view+json": {
       "model_id": "fb4b3cc6aa394af386564ddf3c341389",
       "version_major": 2,
       "version_minor": 0
      },
      "text/plain": [
       "  0%|          | 0/200 [00:00<?, ?it/s]"
      ]
     },
     "metadata": {},
     "output_type": "display_data"
    },
    {
     "name": "stdout",
     "output_type": "stream",
     "text": [
      "200 / 200 time: 13561.668033599854\n"
     ]
    },
    {
     "data": {
      "application/vnd.jupyter.widget-view+json": {
       "model_id": "ca124a326eb34170987c1e7c1fe459ec",
       "version_major": 2,
       "version_minor": 0
      },
      "text/plain": [
       "  0%|          | 0/200 [00:00<?, ?it/s]"
      ]
     },
     "metadata": {},
     "output_type": "display_data"
    },
    {
     "name": "stdout",
     "output_type": "stream",
     "text": [
      "200 / 200 time: 14642.24425816536\n"
     ]
    },
    {
     "data": {
      "application/vnd.jupyter.widget-view+json": {
       "model_id": "a167b9317b104969957a809df2cba848",
       "version_major": 2,
       "version_minor": 0
      },
      "text/plain": [
       "  0%|          | 0/200 [00:00<?, ?it/s]"
      ]
     },
     "metadata": {},
     "output_type": "display_data"
    },
    {
     "name": "stdout",
     "output_type": "stream",
     "text": [
      "200 / 200 time: 16203.212682962418\n",
      " \n",
      "sample sizes : (200, 400, 600, 800, 1000)\n",
      "scale : 0.5\n",
      " \n",
      "<function hsicfuse_test at 0x7f208c0d9040>\n",
      "[0.07  0.035 0.065 0.065 0.055]\n",
      " \n",
      "<function hsic_test at 0x7f20652d15e0>\n",
      "[0.045 0.03  0.055 0.06  0.065]\n",
      " \n",
      "<function hsicagginc_test at 0x7f20652d1670>\n",
      "[0.06  0.05  0.055 0.04  0.03 ]\n",
      " \n",
      "<function hsicagg_test at 0x7f20652d1700>\n",
      "[0.06  0.05  0.04  0.045 0.045]\n",
      " \n",
      "<function nfsic_test at 0x7f20652d1790>\n",
      "[0.065 0.055 0.055 0.065 0.045]\n",
      " \n",
      "<function nyhsic_test at 0x7f20652d1820>\n",
      "[0.05  0.055 0.06  0.06  0.05 ]\n",
      " \n",
      "<function fhsic_test at 0x7f20652d18b0>\n",
      "[0.05  0.035 0.075 0.08  0.055]\n",
      " \n",
      "[[0.07  0.035 0.065 0.065 0.055]\n",
      " [0.045 0.03  0.055 0.06  0.065]\n",
      " [0.06  0.05  0.055 0.04  0.03 ]\n",
      " [0.06  0.05  0.04  0.045 0.045]\n",
      " [0.065 0.055 0.055 0.065 0.045]\n",
      " [0.05  0.055 0.06  0.06  0.05 ]\n",
      " [0.05  0.035 0.075 0.08  0.055]]\n"
     ]
    }
   ],
   "source": [
    "# Parameters\n",
    "scale        = 0.5\n",
    "d            = 2\n",
    "rep          = 200\n",
    "true_alpha   = 0.05\n",
    "f_theta_seed = 0\n",
    "p            = 2\n",
    "s            = 1\n",
    "\n",
    "tests = (hsicfuse_test, hsic_test, hsicagginc_test, hsicagg_test, nfsic_test, nyhsic_test, fhsic_test)\n",
    "N_values = (200, 400, 600, 800, 1000)\n",
    "outputs_level_vary_n = np.zeros((len(tests), len(N_values), rep))\n",
    "rs = np.random.RandomState(0)\n",
    "key = random.PRNGKey(42)\n",
    "seed = 0\n",
    "\n",
    "for r in tqdm(range(len(N_values))):\n",
    "    N = N_values[r]\n",
    "    t0 = time.time()\n",
    "    for i in tqdm(range(rep)):\n",
    "        seed += 1\n",
    "        perturbation_multiplier = np.exp(d) * p ** s * scale\n",
    "        X = rs.uniform(0, 1, (N, 1))\n",
    "        Y = rs.uniform(0, 1, (N, 1))\n",
    "        key, subkey = random.split(key)\n",
    "        for j in range(len(tests)):\n",
    "            test = tests[j]\n",
    "            outputs_level_vary_n[j][r][i] = test(X, Y, subkey, seed)\n",
    "    print(i + 1, \"/\", rep, \"time:\", time.time() - t0)    \n",
    "\n",
    "outputs_level_vary_n = np.mean(outputs_level_vary_n, -1)\n",
    "np.save(\"results/level_vary_n.npy\", outputs_level_vary_n)\n",
    "np.save(\"results/level_vary_n_x_axis.npy\", N_values)\n",
    "\n",
    "print(\" \")\n",
    "print(\"sample sizes :\", N_values)\n",
    "print(\"scale :\", scale)\n",
    "for t in range(len(tests)):\n",
    "    print(\" \")\n",
    "    print(tests[t])\n",
    "    print(outputs_level_vary_n[t])\n",
    "\n",
    "print(\" \")\n",
    "print(outputs_level_vary_n)"
   ]
  },
  {
   "cell_type": "code",
   "execution_count": null,
   "id": "69d3151a-b33c-41b4-9f03-7573475547af",
   "metadata": {},
   "outputs": [],
   "source": []
  },
  {
   "cell_type": "code",
   "execution_count": null,
   "id": "10c64a1a-7326-42e4-82f5-b3d4d7996c2c",
   "metadata": {},
   "outputs": [],
   "source": []
  }
 ],
 "metadata": {
  "kernelspec": {
   "display_name": "Python 3 (ipykernel)",
   "language": "python",
   "name": "python3"
  },
  "language_info": {
   "codemirror_mode": {
    "name": "ipython",
    "version": 3
   },
   "file_extension": ".py",
   "mimetype": "text/x-python",
   "name": "python",
   "nbconvert_exporter": "python",
   "pygments_lexer": "ipython3",
   "version": "3.9.16"
  }
 },
 "nbformat": 4,
 "nbformat_minor": 5
}
