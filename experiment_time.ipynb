{
 "cells": [
  {
   "cell_type": "code",
   "execution_count": 5,
   "id": "e620ccd2-c184-4a69-8299-e5a169792d97",
   "metadata": {},
   "outputs": [
    {
     "name": "stdout",
     "output_type": "stream",
     "text": [
      "The autoreload extension is already loaded. To reload it, use:\n",
      "  %reload_ext autoreload\n"
     ]
    }
   ],
   "source": [
    "import sys\n",
    "from pathlib import Path\n",
    "from sampler_perturbations import f_theta_sampler\n",
    "import numpy as np\n",
    "import jax\n",
    "import jax.numpy as jnp\n",
    "from jax import random, jit, vmap\n",
    "from tqdm.auto import tqdm\n",
    "import time\n",
    "from matplotlib import pyplot as plt\n",
    "Path(\"results\").mkdir(exist_ok=True)\n",
    "%load_ext autoreload\n",
    "%autoreload 2"
   ]
  },
  {
   "cell_type": "code",
   "execution_count": 2,
   "id": "4e4c3ea0-a8c8-477e-a258-406638c771c8",
   "metadata": {},
   "outputs": [],
   "source": [
    "from all_tests import hsicfuse_test, hsic_test\n",
    "from all_tests import hsicagginc_test, hsicagg_test\n",
    "from all_tests import nfsic_test, nyhsic_test, fhsic_test"
   ]
  },
  {
   "cell_type": "markdown",
   "id": "67feb86a-7ead-42dd-8863-ade8e4f272b9",
   "metadata": {},
   "source": [
    "### Time <br>\n",
    "### Vary Sample Size "
   ]
  },
  {
   "cell_type": "code",
   "execution_count": 3,
   "id": "7c6e953f-eed1-40aa-b33b-e48f8f020470",
   "metadata": {},
   "outputs": [
    {
     "data": {
      "application/vnd.jupyter.widget-view+json": {
       "model_id": "c77d3ef8018f4254b1686eb3082dee85",
       "version_major": 2,
       "version_minor": 0
      },
      "text/plain": [
       "  0%|          | 0/5 [00:00<?, ?it/s]"
      ]
     },
     "metadata": {},
     "output_type": "display_data"
    },
    {
     "name": "stdout",
     "output_type": "stream",
     "text": [
      "The slowest run took 7.92 times longer than the fastest. This could mean that an intermediate result is being cached.\n",
      "1.15 s ± 1.29 s per loop (mean ± std. dev. of 20 runs, 1 loop each)\n",
      "The slowest run took 76.74 times longer than the fastest. This could mean that an intermediate result is being cached.\n",
      "85.4 ms ± 294 ms per loop (mean ± std. dev. of 20 runs, 1 loop each)\n",
      "The slowest run took 7995.95 times longer than the fastest. This could mean that an intermediate result is being cached.\n",
      "961 ms ± 4.18 s per loop (mean ± std. dev. of 20 runs, 1 loop each)\n",
      "The slowest run took 7166.06 times longer than the fastest. This could mean that an intermediate result is being cached.\n",
      "944 ms ± 4.1 s per loop (mean ± std. dev. of 20 runs, 1 loop each)\n",
      "The slowest run took 45.35 times longer than the fastest. This could mean that an intermediate result is being cached.\n",
      "2.8 s ± 8.25 s per loop (mean ± std. dev. of 20 runs, 1 loop each)\n",
      "17 ms ± 9.2 ms per loop (mean ± std. dev. of 20 runs, 1 loop each)\n",
      "40.3 ms ± 1.4 ms per loop (mean ± std. dev. of 20 runs, 1 loop each)\n",
      "The slowest run took 4.86 times longer than the fastest. This could mean that an intermediate result is being cached.\n",
      "2.21 s ± 1.55 s per loop (mean ± std. dev. of 20 runs, 1 loop each)\n",
      "The slowest run took 133.53 times longer than the fastest. This could mean that an intermediate result is being cached.\n",
      "135 ms ± 511 ms per loop (mean ± std. dev. of 20 runs, 1 loop each)\n",
      "The slowest run took 7117.05 times longer than the fastest. This could mean that an intermediate result is being cached.\n",
      "1.05 s ± 4.58 s per loop (mean ± std. dev. of 20 runs, 1 loop each)\n",
      "The slowest run took 6848.73 times longer than the fastest. This could mean that an intermediate result is being cached.\n",
      "1.02 s ± 4.42 s per loop (mean ± std. dev. of 20 runs, 1 loop each)\n",
      "The slowest run took 24.74 times longer than the fastest. This could mean that an intermediate result is being cached.\n",
      "1.99 s ± 4.58 s per loop (mean ± std. dev. of 20 runs, 1 loop each)\n",
      "13.7 ms ± 4.44 ms per loop (mean ± std. dev. of 20 runs, 1 loop each)\n",
      "27.5 ms ± 1.79 ms per loop (mean ± std. dev. of 20 runs, 1 loop each)\n",
      "4.28 s ± 1.83 s per loop (mean ± std. dev. of 20 runs, 1 loop each)\n",
      "The slowest run took 159.31 times longer than the fastest. This could mean that an intermediate result is being cached.\n",
      "186 ms ± 717 ms per loop (mean ± std. dev. of 20 runs, 1 loop each)\n",
      "The slowest run took 5984.67 times longer than the fastest. This could mean that an intermediate result is being cached.\n",
      "1.09 s ± 4.73 s per loop (mean ± std. dev. of 20 runs, 1 loop each)\n",
      "The slowest run took 5560.36 times longer than the fastest. This could mean that an intermediate result is being cached.\n",
      "1.11 s ± 4.81 s per loop (mean ± std. dev. of 20 runs, 1 loop each)\n",
      "The slowest run took 24.53 times longer than the fastest. This could mean that an intermediate result is being cached.\n",
      "2 s ± 4.6 s per loop (mean ± std. dev. of 20 runs, 1 loop each)\n",
      "31.1 ms ± 10.5 ms per loop (mean ± std. dev. of 20 runs, 1 loop each)\n",
      "54.2 ms ± 410 µs per loop (mean ± std. dev. of 20 runs, 1 loop each)\n",
      "7.89 s ± 2.04 s per loop (mean ± std. dev. of 20 runs, 1 loop each)\n",
      "The slowest run took 119.07 times longer than the fastest. This could mean that an intermediate result is being cached.\n",
      "248 ms ± 921 ms per loop (mean ± std. dev. of 20 runs, 1 loop each)\n",
      "The slowest run took 5494.15 times longer than the fastest. This could mean that an intermediate result is being cached.\n",
      "1.15 s ± 5.01 s per loop (mean ± std. dev. of 20 runs, 1 loop each)\n",
      "The slowest run took 4950.53 times longer than the fastest. This could mean that an intermediate result is being cached.\n",
      "1.22 s ± 5.28 s per loop (mean ± std. dev. of 20 runs, 1 loop each)\n",
      "The slowest run took 24.78 times longer than the fastest. This could mean that an intermediate result is being cached.\n",
      "2.05 s ± 4.74 s per loop (mean ± std. dev. of 20 runs, 1 loop each)\n",
      "30.1 ms ± 8.21 ms per loop (mean ± std. dev. of 20 runs, 1 loop each)\n",
      "44.9 ms ± 331 µs per loop (mean ± std. dev. of 20 runs, 1 loop each)\n",
      "13.8 s ± 2.22 s per loop (mean ± std. dev. of 20 runs, 1 loop each)\n",
      "The slowest run took 93.22 times longer than the fastest. This could mean that an intermediate result is being cached.\n",
      "311 ms ± 1.11 s per loop (mean ± std. dev. of 20 runs, 1 loop each)\n",
      "The slowest run took 4574.50 times longer than the fastest. This could mean that an intermediate result is being cached.\n",
      "1.22 s ± 5.3 s per loop (mean ± std. dev. of 20 runs, 1 loop each)\n",
      "The slowest run took 4105.20 times longer than the fastest. This could mean that an intermediate result is being cached.\n",
      "1.34 s ± 5.83 s per loop (mean ± std. dev. of 20 runs, 1 loop each)\n",
      "The slowest run took 27.26 times longer than the fastest. This could mean that an intermediate result is being cached.\n",
      "2.2 s ± 5.27 s per loop (mean ± std. dev. of 20 runs, 1 loop each)\n",
      "59.7 ms ± 5.45 ms per loop (mean ± std. dev. of 20 runs, 1 loop each)\n",
      "85.3 ms ± 2.2 ms per loop (mean ± std. dev. of 20 runs, 1 loop each)\n"
     ]
    }
   ],
   "source": [
    "repetitions          = 100\n",
    "scale                = 0.5\n",
    "f_theta_seed         = 0\n",
    "p                    = 2\n",
    "s                    = 1\n",
    "d                    = 2\n",
    "\n",
    "tests_hsic_vary_n = (hsicfuse_test, hsic_test, hsicagginc_test, hsicagg_test, nfsic_test, nyhsic_test, fhsic_test)\n",
    "tests_names_hsic_vary_n = [\"hsicfuse_test\", \"hsic_test\", \"hsicagginc_test\", \"hsicagg_test\", \"nfsic_test\", \"nyhsic_test\", \"fhsic_test\"]\n",
    "tests = tests_hsic_vary_n\n",
    "\n",
    "N_values = [200, 400, 600, 800, 1000]\n",
    "time_hsic_vary_n_mean = np.zeros((len(tests), len(N_values)))\n",
    "time_hsic_vary_n_std = np.zeros((len(tests), len(N_values)))\n",
    "rs = np.random.RandomState(0)\n",
    "x_axis_hsic_vary_n = N_values\n",
    "key = random.PRNGKey(42)\n",
    "seed = 0\n",
    "\n",
    "for r in tqdm(range(len(N_values))):\n",
    "    N = N_values[r]\n",
    "    seed += 1\n",
    "    perturbation_multiplier = np.exp(d) * p ** s * scale\n",
    "    Z = f_theta_sampler(f_theta_seed, seed, N, p, s, perturbation_multiplier, d)\n",
    "    X = np.expand_dims(Z[:, 0], 1)\n",
    "    Y = np.expand_dims(Z[:, 1], 1)\n",
    "    key, subkey = random.split(key)\n",
    "    for j in range(len(tests)):\n",
    "        test = tests[j]\n",
    "        time_f = %timeit -o -r 20 -n 1 test(X, Y, subkey, seed)\n",
    "        time_hsic_vary_n_mean[j][r] = np.mean(time_f.timings)\n",
    "        time_hsic_vary_n_std[j][r] = np.std(time_f.timings)    \n",
    "np.save(\"results/time_vary_n_mean.npy\", time_hsic_vary_n_mean)\n",
    "np.save(\"results/time_vary_n_std.npy\", time_hsic_vary_n_std)\n"
   ]
  },
  {
   "cell_type": "code",
   "execution_count": 7,
   "id": "84872838-3952-44af-bb22-3dc04619d7c2",
   "metadata": {},
   "outputs": [
    {
     "data": {
      "image/png": "[encoded data removed]",
      "text/plain": [
       "<Figure size 640x480 with 1 Axes>"
      ]
     },
     "metadata": {},
     "output_type": "display_data"
    }
   ],
   "source": [
    "time_mean = np.load(\"results/time_vary_n_mean.npy\")\n",
    "time_std = np.load(\"results/time_vary_n_std.npy\")\n",
    "tests_names = [\"hsicfuse_test\", \"hsic_test\", \"hsicagginc_test\", \"hsicagg_test\", \"nfsic_test\", \"nyhsic_test\", \"fhsic_test\"]\n",
    "x_axis = N_values\n",
    "for j in range(len(tests_names)):\n",
    "    plt.errorbar(x_axis, time_mean[j], label=tests_names[j])\n",
    "    plt.legend()\n",
    "    plt.xlabel(\"Sample Size\")\n",
    "    plt.ylabel(\"Time\")"
   ]
  },
  {
   "cell_type": "code",
   "execution_count": null,
   "id": "a298df5d-19ca-4a52-b630-ad7924f695d5",
   "metadata": {},
   "outputs": [],
   "source": []
  },
  {
   "cell_type": "code",
   "execution_count": null,
   "id": "b8a4b4d8-dd10-48c0-8a7e-608973e1f5d9",
   "metadata": {},
   "outputs": [],
   "source": []
  },
  {
   "cell_type": "code",
   "execution_count": null,
   "id": "70080646-96ac-4c09-85cb-f914580a3d82",
   "metadata": {},
   "outputs": [],
   "source": []
  },
  {
   "cell_type": "code",
   "execution_count": null,
   "id": "345f4aa5-9276-4b20-904e-718ff2cf9c9a",
   "metadata": {},
   "outputs": [],
   "source": []
  },
  {
   "cell_type": "code",
   "execution_count": null,
   "id": "859d9532-264d-42b9-9d54-f958dc87f8d0",
   "metadata": {},
   "outputs": [],
   "source": []
  },
  {
   "cell_type": "code",
   "execution_count": null,
   "id": "484cef2b-c255-4b17-be0b-4f748371a36b",
   "metadata": {},
   "outputs": [],
   "source": []
  },
  {
   "cell_type": "code",
   "execution_count": null,
   "id": "bdc61003-6e2f-45be-9255-71348aee5c4b",
   "metadata": {},
   "outputs": [],
   "source": []
  },
  {
   "cell_type": "code",
   "execution_count": null,
   "id": "3fff7a51-ce69-4f3b-9bcb-4a18f41b5e71",
   "metadata": {},
   "outputs": [],
   "source": []
  },
  {
   "cell_type": "code",
   "execution_count": null,
   "id": "1a3e508e-c35b-4314-b25a-280195f1ff5d",
   "metadata": {},
   "outputs": [],
   "source": []
  },
  {
   "cell_type": "code",
   "execution_count": null,
   "id": "ed2d71b0-e483-4727-b14d-55630364fd88",
   "metadata": {},
   "outputs": [],
   "source": []
  }
 ],
 "metadata": {
  "kernelspec": {
   "display_name": "Python 3 (ipykernel)",
   "language": "python",
   "name": "python3"
  },
  "language_info": {
   "codemirror_mode": {
    "name": "ipython",
    "version": 3
   },
   "file_extension": ".py",
   "mimetype": "text/x-python",
   "name": "python",
   "nbconvert_exporter": "python",
   "pygments_lexer": "ipython3",
   "version": "3.9.16"
  }
 },
 "nbformat": 4,
 "nbformat_minor": 5
}
