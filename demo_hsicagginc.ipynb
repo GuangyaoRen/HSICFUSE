{
 "cells": [
  {
   "cell_type": "code",
   "execution_count": 1,
   "id": "5c8e6b59-6f67-4320-9314-77adf22723d2",
   "metadata": {},
   "outputs": [],
   "source": [
    "%load_ext autoreload\n",
    "%autoreload 2"
   ]
  },
  {
   "cell_type": "code",
   "execution_count": 2,
   "id": "c89468bf-84bf-477e-9632-8cfa0f8f4cd5",
   "metadata": {},
   "outputs": [
    {
     "data": {
      "text/plain": [
       "StreamExecutorGpuDevice(id=0, process_index=0, slice_index=0)"
      ]
     },
     "execution_count": 2,
     "metadata": {},
     "output_type": "execute_result"
    }
   ],
   "source": [
    "# run for Jax GPU\n",
    "import numpy as np\n",
    "from agginc.jax import agginc, human_readable_dict\n",
    "from sampler_gclusters import sampler_gclusters\n",
    "from jax import random\n",
    "import jax.numpy as jnp\n",
    "X = jnp.array([1, 2])\n",
    "X.device()"
   ]
  },
  {
   "cell_type": "code",
   "execution_count": 3,
   "id": "df9e1d30-ec8b-41da-a53b-5da3f103c7b1",
   "metadata": {},
   "outputs": [],
   "source": [
    "# generate data\n",
    "key = random.PRNGKey(0)\n",
    "key, subkey = random.split(key)\n",
    "subkeys = random.split(subkey, num=2)\n",
    "X = random.uniform(subkeys[0], shape=(5000, 100))\n",
    "Y = 0.5 * X + random.uniform(subkeys[1], shape=(5000, 100))"
   ]
  },
  {
   "cell_type": "markdown",
   "id": "55e67478-16a5-4926-86a0-d42369cc545b",
   "metadata": {},
   "source": [
    "### hsicagginc <br>\n",
    "### sample from Uniform distributions"
   ]
  },
  {
   "cell_type": "code",
   "execution_count": 4,
   "id": "a796a54b-548f-4c82-a3f8-dde223a6bfaa",
   "metadata": {},
   "outputs": [],
   "source": [
    "# compile function\n",
    "output, dictionary = agginc(\"hsic\", X, Y, R=200, return_dictionary=True)\n",
    "\n",
    "# Numpy version (no compilation)\n",
    "# output, dictionary = agginc(\"hsic\", np.array(X), np.array(Y), return_dictionary=True)"
   ]
  },
  {
   "cell_type": "code",
   "execution_count": null,
   "id": "534c0ef7-b37f-446c-b239-c98ec223b17b",
   "metadata": {},
   "outputs": [],
   "source": [
    "# Now the function runs fast for any inputs X and Y of the compiled shaped (5000, 100)\n",
    "# If the shape is changed, the function will need to be compiled again\n",
    "key = random.PRNGKey(1) # different initialisation\n",
    "key, subkey = random.split(key)\n",
    "subkeys = random.split(subkey, num=2)\n",
    "X = random.uniform(subkeys[0], shape=(5000, 100))\n",
    "Y = random.uniform(subkeys[1], shape=(5000, 100)) + 0.5 * X \n",
    "# see speed.ipynb for detailed speed comparision between numpy, jax cpu and jax gpu \n",
    "%timeit output, dictionary = agginc(\"hsic\", X, Y, R=200, return_dictionary=True)"
   ]
  },
  {
   "cell_type": "code",
   "execution_count": 6,
   "id": "11ae7097-eff4-449a-8298-0612fac09501",
   "metadata": {},
   "outputs": [],
   "source": [
    "output, dictionary = agginc(\"hsic\", X, Y, R=200, return_dictionary=True)"
   ]
  },
  {
   "cell_type": "code",
   "execution_count": 7,
   "id": "5b3f3ec7-d298-453a-b465-cd2b9b1e0ffc",
   "metadata": {},
   "outputs": [
    {
     "data": {
      "text/plain": [
       "Array(1, dtype=int32)"
      ]
     },
     "execution_count": 7,
     "metadata": {},
     "output_type": "execute_result"
    }
   ],
   "source": [
    "# output is a jax array consisting of either 0 or 1\n",
    "output"
   ]
  },
  {
   "cell_type": "code",
   "execution_count": 8,
   "id": "c3c14994-2a89-4b8b-a17c-6d605e390619",
   "metadata": {},
   "outputs": [
    {
     "data": {
      "text/plain": [
       "1"
      ]
     },
     "execution_count": 8,
     "metadata": {},
     "output_type": "execute_result"
    }
   ],
   "source": [
    "# to convert it to an int use: \n",
    "output.item()"
   ]
  },
  {
   "cell_type": "code",
   "execution_count": 9,
   "id": "bc6767c3-1efe-49c2-9a06-afb68304ac3d",
   "metadata": {},
   "outputs": [],
   "source": [
    "# human_readable_dict(dictionary) # use to convert jax arrays to scalars\n",
    "# dictionary"
   ]
  },
  {
   "cell_type": "code",
   "execution_count": null,
   "id": "d90fa061-69d4-4424-9876-0aeaed927df4",
   "metadata": {},
   "outputs": [],
   "source": []
  },
  {
   "cell_type": "markdown",
   "id": "6eba3123-5ded-42b4-8a96-bc5a9dd1eabb",
   "metadata": {},
   "source": [
    "### hsicagginc <br>\n",
    "### sample from three Gaussian clusters"
   ]
  },
  {
   "cell_type": "code",
   "execution_count": 10,
   "id": "91e515af-4e91-4cdb-8217-5fc98cd83886",
   "metadata": {},
   "outputs": [
    {
     "name": "stdout",
     "output_type": "stream",
     "text": [
      "(500, 2)\n",
      "(500, 2)\n"
     ]
    }
   ],
   "source": [
    "# generate data\n",
    "key = random.PRNGKey(0)\n",
    "key, subkey = random.split(key)\n",
    "\n",
    "N = 500\n",
    "L = 10 \n",
    "theta = jnp.pi / 12\n",
    "# means\n",
    "means = [\n",
    "    jnp.array([0,0]),\n",
    "    jnp.array([L * jnp.cos(theta), L * jnp.sin(theta)]),\n",
    "    jnp.array([(L / 2) * jnp.cos(theta) - (L * jnp.sqrt(3) / 2) * jnp.sin(theta), (L / 2) * jnp.sin(theta) + (L * jnp.sqrt(3) / 2) * jnp.cos(theta)])  \n",
    "]\n",
    "# Covariance matrix\n",
    "var = 1\n",
    "cov = jnp.array([[var,   0], \n",
    "                 [  0, var]])\n",
    "\n",
    "X, Y = sampler_gclusters(key, L, theta, means, cov, N, permute=False)\n",
    "print(X.shape)\n",
    "print(Y.shape)"
   ]
  },
  {
   "cell_type": "code",
   "execution_count": 11,
   "id": "a774e32d-adee-4aa2-b63b-5312e534cd4c",
   "metadata": {},
   "outputs": [],
   "source": [
    "# compile function\n",
    "output, dictionary = agginc(\"hsic\", X, Y, R=200, return_dictionary=True)\n",
    "\n",
    "# Numpy version (no compilation)\n",
    "# output, dictionary = agginc(\"hsic\", np.array(X), np.array(Y), return_dictionary=True)"
   ]
  },
  {
   "cell_type": "code",
   "execution_count": 18,
   "id": "0515d234-b697-47fd-9dde-14ef0ce93472",
   "metadata": {},
   "outputs": [
    {
     "name": "stdout",
     "output_type": "stream",
     "text": [
      "5.86 ms ± 218 µs per loop (mean ± std. dev. of 7 runs, 100 loops each)\n"
     ]
    }
   ],
   "source": [
    "# Now the function runs fast for any inputs X and Y of the compiled shaped (500, 10)\n",
    "# If the shape is changed, the function will need to be compiled again\n",
    "key = random.PRNGKey(1)\n",
    "key, subkey = random.split(key)\n",
    "\n",
    "N = 500\n",
    "L = 10\n",
    "theta = jnp.pi / 12\n",
    "means = [\n",
    "    jnp.array([0,0]),\n",
    "    jnp.array([L * jnp.cos(theta), L * jnp.sin(theta)]),\n",
    "    jnp.array([(L / 2) * jnp.cos(theta) - (L * jnp.sqrt(3) / 2) * jnp.sin(theta), (L / 2) * jnp.sin(theta) + (L * jnp.sqrt(3) / 2) * jnp.cos(theta)])  \n",
    "]\n",
    "# Covariance matrix\n",
    "var = 1\n",
    "cov = jnp.array([[var,   0], \n",
    "                 [  0, var]])\n",
    "\n",
    "X, Y = sampler_gclusters(key, L, theta, means, cov, N, permute=True)\n",
    "\n",
    "# see section below for detailed speed comparision between jax cpu and jax gpu \n",
    "%timeit output, dictionary = agginc(\"hsic\", X, Y, R=200, return_dictionary=True)"
   ]
  },
  {
   "cell_type": "code",
   "execution_count": 19,
   "id": "bd9c3396-b61d-4550-a618-1725a09a2591",
   "metadata": {},
   "outputs": [],
   "source": [
    "key, subkey = random.split(key)\n",
    "output, dictionary = agginc(\"hsic\", X, Y, R=200, return_dictionary=True)"
   ]
  },
  {
   "cell_type": "code",
   "execution_count": 20,
   "id": "aece79b8-0347-46b2-9f0e-1cdef0edc718",
   "metadata": {},
   "outputs": [
    {
     "data": {
      "text/plain": [
       "Array(0, dtype=int32)"
      ]
     },
     "execution_count": 20,
     "metadata": {},
     "output_type": "execute_result"
    }
   ],
   "source": [
    "# output is a jax array consisting of either 0 or 1\n",
    "output"
   ]
  },
  {
   "cell_type": "code",
   "execution_count": 21,
   "id": "ed6f80e1-9470-4fd1-a0c4-fbbe8961c833",
   "metadata": {},
   "outputs": [
    {
     "data": {
      "text/plain": [
       "0"
      ]
     },
     "execution_count": 21,
     "metadata": {},
     "output_type": "execute_result"
    }
   ],
   "source": [
    "# to convert it to an int use: \n",
    "output.item()"
   ]
  },
  {
   "cell_type": "code",
   "execution_count": 17,
   "id": "724e96fc-c28d-48da-89ac-bd47ac5e0f2f",
   "metadata": {},
   "outputs": [],
   "source": [
    "# human_readable_dict(dictionary) # use to convert jax arrays to scalars\n",
    "# dictionary"
   ]
  },
  {
   "cell_type": "code",
   "execution_count": null,
   "id": "75ebb62f-4803-4ae8-890c-346fdfde4fdd",
   "metadata": {},
   "outputs": [],
   "source": []
  },
  {
   "cell_type": "code",
   "execution_count": null,
   "id": "0a119232-7bd6-48c6-bff9-538b19da9f5d",
   "metadata": {},
   "outputs": [],
   "source": []
  }
 ],
 "metadata": {
  "kernelspec": {
   "display_name": "Python 3 (ipykernel)",
   "language": "python",
   "name": "python3"
  },
  "language_info": {
   "codemirror_mode": {
    "name": "ipython",
    "version": 3
   },
   "file_extension": ".py",
   "mimetype": "text/x-python",
   "name": "python",
   "nbconvert_exporter": "python",
   "pygments_lexer": "ipython3",
   "version": "3.9.16"
  }
 },
 "nbformat": 4,
 "nbformat_minor": 5
}
