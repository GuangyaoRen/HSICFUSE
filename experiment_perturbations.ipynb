{
 "cells": [
  {
   "cell_type": "code",
   "execution_count": 23,
   "id": "74ff30fc-e47a-4cf6-8bcd-2c054d6df333",
   "metadata": {},
   "outputs": [
    {
     "name": "stdout",
     "output_type": "stream",
     "text": [
      "The autoreload extension is already loaded. To reload it, use:\n",
      "  %reload_ext autoreload\n"
     ]
    }
   ],
   "source": [
    "import sys\n",
    "from pathlib import Path\n",
    "from sampler_perturbations import f_theta_sampler\n",
    "import numpy as np\n",
    "import jax\n",
    "import jax.numpy as jnp\n",
    "from jax import random, jit, vmap\n",
    "from tqdm.auto import tqdm\n",
    "\n",
    "Path(\"results\").mkdir(exist_ok=True)\n",
    "%load_ext autoreload\n",
    "%autoreload 2"
   ]
  },
  {
   "cell_type": "code",
   "execution_count": 27,
   "id": "514b7941-7638-4360-93b2-86a66d292841",
   "metadata": {},
   "outputs": [],
   "source": [
    "from all_tests import hsicfuse_test, hsic_test\n",
    "from all_tests import hsicagginc1_test, hsicagginc100_test, hsicagginc200_test, hsicaggincquad_test\n",
    "from all_tests import nfsic_test"
   ]
  },
  {
   "cell_type": "markdown",
   "id": "b66ec1c5-d768-49bd-b49e-395301c6d526",
   "metadata": {},
   "source": [
    "### Vary difficulty d=2"
   ]
  },
  {
   "cell_type": "code",
   "execution_count": 32,
   "id": "2bf88010-7412-4866-9578-b09cb492bb5c",
   "metadata": {},
   "outputs": [
    {
     "data": {
      "application/vnd.jupyter.widget-view+json": {
       "model_id": "cb2d15dbbc4a4326b7e7d05a6b35cee8",
       "version_major": 2,
       "version_minor": 0
      },
      "text/plain": [
       "  0%|          | 0/1 [00:00<?, ?it/s]"
      ]
     },
     "metadata": {},
     "output_type": "display_data"
    },
    {
     "data": {
      "application/vnd.jupyter.widget-view+json": {
       "model_id": "a5546ee88f2b464484badbb92bdebb02",
       "version_major": 2,
       "version_minor": 0
      },
      "text/plain": [
       "  0%|          | 0/200 [00:00<?, ?it/s]"
      ]
     },
     "metadata": {},
     "output_type": "display_data"
    },
    {
     "ename": "KeyboardInterrupt",
     "evalue": "",
     "output_type": "error",
     "traceback": [
      "\u001b[0;31m---------------------------------------------------------------------------\u001b[0m",
      "\u001b[0;31mKeyboardInterrupt\u001b[0m                         Traceback (most recent call last)",
      "Cell \u001b[0;32mIn[32], line 29\u001b[0m\n\u001b[1;32m     27\u001b[0m         \u001b[38;5;28;01mfor\u001b[39;00m t \u001b[38;5;129;01min\u001b[39;00m \u001b[38;5;28mrange\u001b[39m(\u001b[38;5;28mlen\u001b[39m(tests)):\n\u001b[1;32m     28\u001b[0m             test \u001b[38;5;241m=\u001b[39m tests[t]\n\u001b[0;32m---> 29\u001b[0m             outputs[t][s][i] \u001b[38;5;241m=\u001b[39m \u001b[43mtest\u001b[49m\u001b[43m(\u001b[49m\u001b[43mX\u001b[49m\u001b[43m,\u001b[49m\u001b[43m \u001b[49m\u001b[43mY\u001b[49m\u001b[43m,\u001b[49m\u001b[43m \u001b[49m\u001b[43msubkey\u001b[49m\u001b[43m,\u001b[49m\u001b[43m \u001b[49m\u001b[43mseed\u001b[49m\u001b[43m)\u001b[49m\n\u001b[1;32m     31\u001b[0m output \u001b[38;5;241m=\u001b[39m jnp\u001b[38;5;241m.\u001b[39mmean(jnp\u001b[38;5;241m.\u001b[39marray(outputs), \u001b[38;5;241m-\u001b[39m\u001b[38;5;241m1\u001b[39m) \u001b[38;5;66;03m# the last dimension is eliminated\u001b[39;00m\n\u001b[1;32m     33\u001b[0m jnp\u001b[38;5;241m.\u001b[39msave(\u001b[38;5;124m\"\u001b[39m\u001b[38;5;124mresults/perturbations_vary_dif_d2.npy\u001b[39m\u001b[38;5;124m\"\u001b[39m, output)\n",
      "File \u001b[0;32m~/hsicfuse-project/all_tests.py:9\u001b[0m, in \u001b[0;36mhsicfuse_test\u001b[0;34m(X, Y, key, seed)\u001b[0m\n\u001b[1;32m      8\u001b[0m \u001b[38;5;28;01mdef\u001b[39;00m \u001b[38;5;21mhsicfuse_test\u001b[39m(X, Y, key, seed):\n\u001b[0;32m----> 9\u001b[0m     \u001b[38;5;28;01mreturn\u001b[39;00m \u001b[38;5;28mint\u001b[39m(\u001b[43mhsicfuse\u001b[49m\u001b[43m(\u001b[49m\u001b[43mX\u001b[49m\u001b[43m,\u001b[49m\u001b[43m \u001b[49m\u001b[43mY\u001b[49m\u001b[43m,\u001b[49m\u001b[43m \u001b[49m\u001b[43mkey\u001b[49m\u001b[43m)\u001b[49m)\n",
      "\u001b[0;31mKeyboardInterrupt\u001b[0m: "
     ]
    }
   ],
   "source": [
    "repetitions          = 200\n",
    "# scales               = (0.0, 0.2, 0.4, 0.6, 0.8, 1.0)\n",
    "scales = (0.6, )\n",
    "# sample_size          = 500  \n",
    "sample_size = 100\n",
    "d                    = 2\n",
    "f_theta_seed         = 0\n",
    "p                    = 1\n",
    "s                    = 1\n",
    "\n",
    "tests = (hsicfuse_test, hsic_test, hsicagginc1_test, hsicagginc100_test, hsicagginc200_test, hsicaggincquad_test, nfsic_test)\n",
    "outputs = jnp.zeros((len(tests), len(scales), repetitions))\n",
    "outputs = outputs.tolist()\n",
    "key = random.PRNGKey(42)\n",
    "seed = 42\n",
    "for s in tqdm(range(len(scales))):\n",
    "    scale = scales[s]\n",
    "    for i in tqdm(range(repetitions)):\n",
    "        key, subkey = random.split(key)\n",
    "        perturbation_multiplier = np.exp(d) * p ** s * scale \n",
    "        Z = f_theta_sampler(f_theta_seed, seed, sample_size, p, s, perturbation_multiplier, d)\n",
    "        X = np.expand_dims(Z[:, 0], 1)\n",
    "        Y = np.expand_dims(Z[:, 1], 1)\n",
    "        key, subkey = random.split(key)\n",
    "        seed += 1\n",
    "        for t in range(len(tests)):\n",
    "            test = tests[t]\n",
    "            outputs[t][s][i] = test(X, Y, subkey, seed)\n",
    "\n",
    "output = jnp.mean(jnp.array(outputs), -1) # the last dimension is eliminated\n",
    "\n",
    "jnp.save(\"results/perturbations_vary_dif_d2.npy\", output)\n",
    "jnp.save(\"results/perturbations_vary_dif_d2_x_axis.npy\", scales)\n",
    "\n",
    "print(\"scales :\", scales)\n",
    "print(\"sample size :\", sample_size)\n",
    "for t in range(len(tests)):\n",
    "    print(\" \")\n",
    "    print(tests[t])\n",
    "    print(output[t])\n",
    "    "
   ]
  },
  {
   "cell_type": "markdown",
   "id": "87e762c7-edc7-411f-a62d-daaf49e71f71",
   "metadata": {},
   "source": [
    "## Vary sample size d=2"
   ]
  },
  {
   "cell_type": "code",
   "execution_count": 35,
   "id": "85d0a04b-b503-4d28-b5ef-b55fc74eefce",
   "metadata": {},
   "outputs": [
    {
     "data": {
      "application/vnd.jupyter.widget-view+json": {
       "model_id": "6c357b84cce84e5db0337adab15fcb70",
       "version_major": 2,
       "version_minor": 0
      },
      "text/plain": [
       "  0%|          | 0/1 [00:00<?, ?it/s]"
      ]
     },
     "metadata": {},
     "output_type": "display_data"
    },
    {
     "data": {
      "application/vnd.jupyter.widget-view+json": {
       "model_id": "1a872c40e9f546b9b1b1616acee5c1a0",
       "version_major": 2,
       "version_minor": 0
      },
      "text/plain": [
       "  0%|          | 0/200 [00:00<?, ?it/s]"
      ]
     },
     "metadata": {},
     "output_type": "display_data"
    },
    {
     "name": "stderr",
     "output_type": "stream",
     "text": [
      "Exception ignored in: <function tqdm.__del__ at 0x7facb82815e0>\n",
      "Traceback (most recent call last):\n",
      "  File \"/nfs/ghome/live/gren/mambaforge/envs/hsicfuse-env/lib/python3.9/site-packages/tqdm/std.py\", line 1144, in __del__\n",
      "    def __del__(self):\n",
      "KeyboardInterrupt: \n"
     ]
    },
    {
     "name": "stdout",
     "output_type": "stream",
     "text": [
      "sample sizes : (100,)\n",
      "scale : 0.6\n",
      " \n",
      "<function nfsic_test at 0x7f9ed99b9e50>\n",
      "[0.13499999]\n"
     ]
    }
   ],
   "source": [
    "repetitions          = 200\n",
    "scale                = 0.6\n",
    "number_perturbations = 2\n",
    "# sample_sizes         = (200, 400, 600, 800, 1000)\n",
    "sample_sizes = (200, )\n",
    "d                    = 2\n",
    "f_theta_seed         = 0\n",
    "p                    = 1\n",
    "s                    = 1\n",
    "\n",
    "# tests = (hsicfuse_test, hsic_test, hsicagginc1_test, hsicagginc100_test, hsicagginc200_test, hsicaggincquad_test)\n",
    "tests = (nfsic_test, )\n",
    "outputs = jnp.zeros((len(tests), len(sample_sizes), repetitions))\n",
    "outputs = outputs.tolist()\n",
    "key = random.PRNGKey(42)\n",
    "seed = 42\n",
    "for s in tqdm(range(len(sample_sizes))):\n",
    "    sample_size = sample_sizes[s]\n",
    "    for i in tqdm(range(repetitions)):\n",
    "        key, subkey = random.split(key)\n",
    "        perturbation_multiplier = np.exp(d) * p ** s * scale \n",
    "        Z = f_theta_sampler(f_theta_seed, seed, sample_size, p, s, perturbation_multiplier, d)\n",
    "        X = np.expand_dims(Z[:, 0], 1)\n",
    "        Y = np.expand_dims(Z[:, 1], 1)\n",
    "        key, subkey = random.split(key)\n",
    "        seed += 1\n",
    "        for t in range(len(tests)):\n",
    "            test = tests[t]\n",
    "            outputs[t][s][i] = test(X, Y, subkey, seed)\n",
    "\n",
    "output = jnp.mean(jnp.array(outputs), -1)\n",
    "\n",
    "jnp.save(\"results/perturbations_vary_n_d2.npy\", output)\n",
    "jnp.save(\"results/perturbations_vary_n_d2_x_axis.npy\", sample_sizes)\n",
    "\n",
    "print(\"sample sizes :\", sample_sizes)\n",
    "print(\"scale :\", scale)\n",
    "for t in range(len(tests)):\n",
    "    print(\" \")\n",
    "    print(tests[t])\n",
    "    print(output[t])"
   ]
  },
  {
   "cell_type": "markdown",
   "id": "a6eff1eb-446e-47f9-8fbb-c72600044c68",
   "metadata": {},
   "source": [
    "### Vary d"
   ]
  },
  {
   "cell_type": "code",
   "execution_count": 33,
   "id": "41ca8adf-88c1-4f29-9eb4-d6cc352da70e",
   "metadata": {},
   "outputs": [
    {
     "data": {
      "application/vnd.jupyter.widget-view+json": {
       "model_id": "b403dc6c1ec94c29bbfbd037877212d2",
       "version_major": 2,
       "version_minor": 0
      },
      "text/plain": [
       "  0%|          | 0/1 [00:00<?, ?it/s]"
      ]
     },
     "metadata": {},
     "output_type": "display_data"
    },
    {
     "data": {
      "application/vnd.jupyter.widget-view+json": {
       "model_id": "4b2edbf77989470da718afcfe16a7b84",
       "version_major": 2,
       "version_minor": 0
      },
      "text/plain": [
       "  0%|          | 0/200 [00:00<?, ?it/s]"
      ]
     },
     "metadata": {},
     "output_type": "display_data"
    },
    {
     "ename": "KeyboardInterrupt",
     "evalue": "",
     "output_type": "error",
     "traceback": [
      "\u001b[0;31m---------------------------------------------------------------------------\u001b[0m",
      "\u001b[0;31mKeyboardInterrupt\u001b[0m                         Traceback (most recent call last)",
      "Cell \u001b[0;32mIn[33], line 30\u001b[0m\n\u001b[1;32m     28\u001b[0m         \u001b[38;5;28;01mfor\u001b[39;00m t \u001b[38;5;129;01min\u001b[39;00m \u001b[38;5;28mrange\u001b[39m(\u001b[38;5;28mlen\u001b[39m(tests)):\n\u001b[1;32m     29\u001b[0m             test \u001b[38;5;241m=\u001b[39m tests[t]\n\u001b[0;32m---> 30\u001b[0m             outputs[t][s][i] \u001b[38;5;241m=\u001b[39m \u001b[43mtest\u001b[49m\u001b[43m(\u001b[49m\u001b[43mX\u001b[49m\u001b[43m,\u001b[49m\u001b[43m \u001b[49m\u001b[43mY\u001b[49m\u001b[43m,\u001b[49m\u001b[43m \u001b[49m\u001b[43msubkey\u001b[49m\u001b[43m,\u001b[49m\u001b[43m \u001b[49m\u001b[43mseed\u001b[49m\u001b[43m)\u001b[49m\n\u001b[1;32m     32\u001b[0m output \u001b[38;5;241m=\u001b[39m jnp\u001b[38;5;241m.\u001b[39mmean(jnp\u001b[38;5;241m.\u001b[39marray(outputs), \u001b[38;5;241m-\u001b[39m\u001b[38;5;241m1\u001b[39m)\n\u001b[1;32m     34\u001b[0m jnp\u001b[38;5;241m.\u001b[39msave(\u001b[38;5;124m\"\u001b[39m\u001b[38;5;124mresults/perturbations_vary_d.npy\u001b[39m\u001b[38;5;124m\"\u001b[39m, output)\n",
      "File \u001b[0;32m~/hsicfuse-project/all_tests.py:27\u001b[0m, in \u001b[0;36mnfsic_test\u001b[0;34m(X, Y, key, seed)\u001b[0m\n\u001b[1;32m     26\u001b[0m \u001b[38;5;28;01mdef\u001b[39;00m \u001b[38;5;21mnfsic_test\u001b[39m(X, Y, key, seed):\n\u001b[0;32m---> 27\u001b[0m     \u001b[38;5;28;01mreturn\u001b[39;00m \u001b[38;5;28mint\u001b[39m(\u001b[43mnfsic\u001b[49m\u001b[43m(\u001b[49m\u001b[43mX\u001b[49m\u001b[43m,\u001b[49m\u001b[43m \u001b[49m\u001b[43mY\u001b[49m\u001b[43m,\u001b[49m\u001b[43m \u001b[49m\u001b[43mseed\u001b[49m\u001b[43m)\u001b[49m)\n",
      "File \u001b[0;32m~/hsicfuse-project/wittawatj_tests.py:25\u001b[0m, in \u001b[0;36mnfsic\u001b[0;34m(X, Y, r, J, n_permute, alpha)\u001b[0m\n\u001b[1;32m     20\u001b[0m tr, te \u001b[38;5;241m=\u001b[39m pdata\u001b[38;5;241m.\u001b[39msubsample(X\u001b[38;5;241m.\u001b[39mshape[\u001b[38;5;241m0\u001b[39m], seed\u001b[38;5;241m=\u001b[39mr\u001b[38;5;241m+\u001b[39m\u001b[38;5;241m4\u001b[39m)\u001b[38;5;241m.\u001b[39msplit_tr_te(tr_proportion\u001b[38;5;241m=\u001b[39m\u001b[38;5;241m0.5\u001b[39m, seed\u001b[38;5;241m=\u001b[39mr\u001b[38;5;241m+\u001b[39m\u001b[38;5;241m5\u001b[39m)\n\u001b[1;32m     21\u001b[0m nfsic_opt_options \u001b[38;5;241m=\u001b[39m {\u001b[38;5;124m'\u001b[39m\u001b[38;5;124mn_test_locs\u001b[39m\u001b[38;5;124m'\u001b[39m:J, \u001b[38;5;124m'\u001b[39m\u001b[38;5;124mmax_iter\u001b[39m\u001b[38;5;124m'\u001b[39m:\u001b[38;5;241m200\u001b[39m,\n\u001b[1;32m     22\u001b[0m \u001b[38;5;124m'\u001b[39m\u001b[38;5;124mV_step\u001b[39m\u001b[38;5;124m'\u001b[39m:\u001b[38;5;241m1\u001b[39m, \u001b[38;5;124m'\u001b[39m\u001b[38;5;124mW_step\u001b[39m\u001b[38;5;124m'\u001b[39m:\u001b[38;5;241m1\u001b[39m, \u001b[38;5;124m'\u001b[39m\u001b[38;5;124mgwidthx_step\u001b[39m\u001b[38;5;124m'\u001b[39m:\u001b[38;5;241m1\u001b[39m, \u001b[38;5;124m'\u001b[39m\u001b[38;5;124mgwidthy_step\u001b[39m\u001b[38;5;124m'\u001b[39m:\u001b[38;5;241m1\u001b[39m,\n\u001b[1;32m     23\u001b[0m \u001b[38;5;124m'\u001b[39m\u001b[38;5;124mbatch_proportion\u001b[39m\u001b[38;5;124m'\u001b[39m:\u001b[38;5;241m0.7\u001b[39m, \u001b[38;5;124m'\u001b[39m\u001b[38;5;124mtol_fun\u001b[39m\u001b[38;5;124m'\u001b[39m:\u001b[38;5;241m1e-4\u001b[39m, \u001b[38;5;124m'\u001b[39m\u001b[38;5;124mstep_pow\u001b[39m\u001b[38;5;124m'\u001b[39m:\u001b[38;5;241m0.5\u001b[39m, \u001b[38;5;124m'\u001b[39m\u001b[38;5;124mseed\u001b[39m\u001b[38;5;124m'\u001b[39m:r\u001b[38;5;241m+\u001b[39m\u001b[38;5;241m2\u001b[39m,\n\u001b[1;32m     24\u001b[0m \u001b[38;5;124m'\u001b[39m\u001b[38;5;124mreg\u001b[39m\u001b[38;5;124m'\u001b[39m: \u001b[38;5;241m1e-6\u001b[39m}\n\u001b[0;32m---> 25\u001b[0m op_V, op_W, op_gwx, op_gwy, info \u001b[38;5;241m=\u001b[39m \u001b[43mfsic_GaussNFSIC\u001b[49m\u001b[38;5;241;43m.\u001b[39;49m\u001b[43moptimize_locs_widths\u001b[49m\u001b[43m(\u001b[49m\u001b[43mtr\u001b[49m\u001b[43m,\u001b[49m\n\u001b[1;32m     26\u001b[0m \u001b[43m        \u001b[49m\u001b[43malpha\u001b[49m\u001b[43m,\u001b[49m\u001b[43m \u001b[49m\u001b[38;5;241;43m*\u001b[39;49m\u001b[38;5;241;43m*\u001b[39;49m\u001b[43mnfsic_opt_options\u001b[49m\u001b[43m \u001b[49m\u001b[43m)\u001b[49m\n\u001b[1;32m     27\u001b[0m nfsic_opt \u001b[38;5;241m=\u001b[39m fsic_GaussNFSIC(op_gwx, op_gwy, op_V, op_W, alpha, reg\u001b[38;5;241m=\u001b[39m\u001b[38;5;124m'\u001b[39m\u001b[38;5;124mauto\u001b[39m\u001b[38;5;124m'\u001b[39m, n_permute\u001b[38;5;241m=\u001b[39mn_permute, seed\u001b[38;5;241m=\u001b[39mr\u001b[38;5;241m+\u001b[39m\u001b[38;5;241m3\u001b[39m)\n\u001b[1;32m     28\u001b[0m nfsic_opt_result  \u001b[38;5;241m=\u001b[39m nfsic_opt\u001b[38;5;241m.\u001b[39mperform_test(te)\n",
      "File \u001b[0;32m~/hsicfuse-project/fsic/indtest.py:364\u001b[0m, in \u001b[0;36mGaussNFSIC.optimize_locs_widths\u001b[0;34m(pdata, alpha, n_test_locs, max_iter, V_step, W_step, gwidthx_step, gwidthy_step, batch_proportion, tol_fun, step_pow, seed, reg, gwidthx_lb, gwidthx_ub, gwidthy_lb, gwidthy_ub)\u001b[0m\n\u001b[1;32m    360\u001b[0m gwidthy_ub \u001b[38;5;241m=\u001b[39m gwidthy_ub \u001b[38;5;28;01mif\u001b[39;00m gwidthy_ub \u001b[38;5;129;01mis\u001b[39;00m \u001b[38;5;129;01mnot\u001b[39;00m \u001b[38;5;28;01mNone\u001b[39;00m \u001b[38;5;28;01melse\u001b[39;00m fac_max\u001b[38;5;241m*\u001b[39mmedy2\n\u001b[1;32m    362\u001b[0m \u001b[38;5;66;03m# info = optimization info \u001b[39;00m\n\u001b[1;32m    363\u001b[0m V, W, gwidthx, gwidthy, info  \u001b[38;5;241m=\u001b[39m \\\n\u001b[0;32m--> 364\u001b[0m         \u001b[43mgeneric_optimize_locs_widths\u001b[49m\u001b[43m(\u001b[49m\u001b[43mpdata\u001b[49m\u001b[43m,\u001b[49m\u001b[43m \u001b[49m\u001b[43mV\u001b[49m\u001b[43m,\u001b[49m\u001b[43m \u001b[49m\u001b[43mW\u001b[49m\u001b[43m,\u001b[49m\u001b[43m \u001b[49m\u001b[43mgwidthx0\u001b[49m\u001b[43m,\u001b[49m\u001b[43m \u001b[49m\u001b[43mgwidthy0\u001b[49m\u001b[43m,\u001b[49m\n\u001b[1;32m    365\u001b[0m \u001b[43m                \u001b[49m\u001b[43mGaussNFSIC\u001b[49m\u001b[38;5;241;43m.\u001b[39;49m\u001b[43mfunc_obj\u001b[49m\u001b[43m,\u001b[49m\u001b[43m \u001b[49m\u001b[43mmax_iter\u001b[49m\u001b[38;5;241;43m=\u001b[39;49m\u001b[43mmax_iter\u001b[49m\u001b[43m,\u001b[49m\u001b[43m \u001b[49m\u001b[43mV_step\u001b[49m\u001b[38;5;241;43m=\u001b[39;49m\u001b[43mV_step\u001b[49m\u001b[43m,\u001b[49m\n\u001b[1;32m    366\u001b[0m \u001b[43m                \u001b[49m\u001b[43mW_step\u001b[49m\u001b[38;5;241;43m=\u001b[39;49m\u001b[43mW_step\u001b[49m\u001b[43m,\u001b[49m\u001b[43m \u001b[49m\u001b[43mgwidthx_step\u001b[49m\u001b[38;5;241;43m=\u001b[39;49m\u001b[43mgwidthx_step\u001b[49m\u001b[43m,\u001b[49m\n\u001b[1;32m    367\u001b[0m \u001b[43m                \u001b[49m\u001b[43mgwidthy_step\u001b[49m\u001b[38;5;241;43m=\u001b[39;49m\u001b[43mgwidthy_step\u001b[49m\u001b[43m,\u001b[49m\n\u001b[1;32m    368\u001b[0m \u001b[43m                \u001b[49m\u001b[43mbatch_proportion\u001b[49m\u001b[38;5;241;43m=\u001b[39;49m\u001b[43mbatch_proportion\u001b[49m\u001b[43m,\u001b[49m\u001b[43m \u001b[49m\u001b[43mtol_fun\u001b[49m\u001b[38;5;241;43m=\u001b[39;49m\u001b[43mtol_fun\u001b[49m\u001b[43m,\u001b[49m\n\u001b[1;32m    369\u001b[0m \u001b[43m                \u001b[49m\u001b[43mstep_pow\u001b[49m\u001b[38;5;241;43m=\u001b[39;49m\u001b[43mstep_pow\u001b[49m\u001b[43m,\u001b[49m\u001b[43m \u001b[49m\u001b[43mreg\u001b[49m\u001b[38;5;241;43m=\u001b[39;49m\u001b[43mreg\u001b[49m\u001b[43m,\u001b[49m\u001b[43m \u001b[49m\u001b[43mseed\u001b[49m\u001b[38;5;241;43m=\u001b[39;49m\u001b[43mseed\u001b[49m\u001b[38;5;241;43m+\u001b[39;49m\u001b[38;5;241;43m1\u001b[39;49m\u001b[43m,\u001b[49m\u001b[43m \u001b[49m\n\u001b[1;32m    370\u001b[0m \u001b[43m                \u001b[49m\u001b[43mgwidthx_lb\u001b[49m\u001b[38;5;241;43m=\u001b[39;49m\u001b[43mgwidthx_lb\u001b[49m\u001b[43m,\u001b[49m\u001b[43m \u001b[49m\u001b[43mgwidthx_ub\u001b[49m\u001b[38;5;241;43m=\u001b[39;49m\u001b[43mgwidthx_ub\u001b[49m\u001b[43m,\u001b[49m\n\u001b[1;32m    371\u001b[0m \u001b[43m                \u001b[49m\u001b[43mgwidthy_lb\u001b[49m\u001b[38;5;241;43m=\u001b[39;49m\u001b[43mgwidthy_lb\u001b[49m\u001b[43m,\u001b[49m\u001b[43m \u001b[49m\u001b[43mgwidthy_ub\u001b[49m\u001b[38;5;241;43m=\u001b[39;49m\u001b[43mgwidthy_ub\u001b[49m\u001b[43m)\u001b[49m\n\u001b[1;32m    372\u001b[0m \u001b[38;5;28;01massert\u001b[39;00m util\u001b[38;5;241m.\u001b[39mis_real_num(gwidthx), \u001b[38;5;124m'\u001b[39m\u001b[38;5;124mgwidthx is not real. Was \u001b[39m\u001b[38;5;132;01m%s\u001b[39;00m\u001b[38;5;124m'\u001b[39m \u001b[38;5;241m%\u001b[39m \u001b[38;5;28mstr\u001b[39m(gwidthx)\n\u001b[1;32m    373\u001b[0m \u001b[38;5;28;01massert\u001b[39;00m util\u001b[38;5;241m.\u001b[39mis_real_num(gwidthy), \u001b[38;5;124m'\u001b[39m\u001b[38;5;124mgwidthy is not real. Was \u001b[39m\u001b[38;5;132;01m%s\u001b[39;00m\u001b[38;5;124m'\u001b[39m \u001b[38;5;241m%\u001b[39m \u001b[38;5;28mstr\u001b[39m(gwidthy)\n",
      "File \u001b[0;32m~/hsicfuse-project/fsic/indtest.py:613\u001b[0m, in \u001b[0;36mgeneric_optimize_locs_widths\u001b[0;34m(pdata, V0, W0, gwidthx0, gwidthy0, func_obj, max_iter, V_step, W_step, gwidthx_step, gwidthy_step, batch_proportion, tol_fun, step_pow, reg, seed, gwidthx_lb, gwidthx_ub, gwidthy_lb, gwidthy_ub)\u001b[0m\n\u001b[1;32m    610\u001b[0m regth \u001b[38;5;241m=\u001b[39m theano\u001b[38;5;241m.\u001b[39mshared(reg, name\u001b[38;5;241m=\u001b[39m\u001b[38;5;124m'\u001b[39m\u001b[38;5;124mreg\u001b[39m\u001b[38;5;124m'\u001b[39m)\n\u001b[1;32m    612\u001b[0m \u001b[38;5;66;03m#sqr(x) = x^2\u001b[39;00m\n\u001b[0;32m--> 613\u001b[0m s \u001b[38;5;241m=\u001b[39m \u001b[43mfunc_obj\u001b[49m\u001b[43m(\u001b[49m\u001b[43mXth\u001b[49m\u001b[43m,\u001b[49m\u001b[43m \u001b[49m\u001b[43mYth\u001b[49m\u001b[43m,\u001b[49m\u001b[43m \u001b[49m\u001b[43mVth\u001b[49m\u001b[43m,\u001b[49m\u001b[43m \u001b[49m\u001b[43mWth\u001b[49m\u001b[43m,\u001b[49m\u001b[43m \u001b[49m\u001b[43mtensor\u001b[49m\u001b[38;5;241;43m.\u001b[39;49m\u001b[43msqr\u001b[49m\u001b[43m(\u001b[49m\u001b[43mgwidthx_sq_th\u001b[49m\u001b[43m)\u001b[49m\u001b[43m,\u001b[49m\n\u001b[1;32m    614\u001b[0m \u001b[43m        \u001b[49m\u001b[43mtensor\u001b[49m\u001b[38;5;241;43m.\u001b[39;49m\u001b[43msqr\u001b[49m\u001b[43m(\u001b[49m\u001b[43mgwidthy_sq_th\u001b[49m\u001b[43m)\u001b[49m\u001b[43m,\u001b[49m\u001b[43m \u001b[49m\u001b[43mregth\u001b[49m\u001b[43m,\u001b[49m\u001b[43m \u001b[49m\u001b[43mX\u001b[49m\u001b[38;5;241;43m.\u001b[39;49m\u001b[43mshape\u001b[49m\u001b[43m[\u001b[49m\u001b[38;5;241;43m0\u001b[39;49m\u001b[43m]\u001b[49m\u001b[43m,\u001b[49m\u001b[43m \u001b[49m\u001b[43mV0\u001b[49m\u001b[38;5;241;43m.\u001b[39;49m\u001b[43mshape\u001b[49m\u001b[43m[\u001b[49m\u001b[38;5;241;43m0\u001b[39;49m\u001b[43m]\u001b[49m\u001b[43m)\u001b[49m\n\u001b[1;32m    616\u001b[0m g_V, g_W, g_gwidthx_sq, g_gwidthy_sq \u001b[38;5;241m=\u001b[39m tensor\u001b[38;5;241m.\u001b[39mgrad(s, [Vth, Wth,\n\u001b[1;32m    617\u001b[0m     gwidthx_sq_th, gwidthy_sq_th])\n\u001b[1;32m    619\u001b[0m \u001b[38;5;66;03m# heuristic to prevent the step sizes from being too large\u001b[39;00m\n",
      "File \u001b[0;32m~/hsicfuse-project/fsic/indtest.py:274\u001b[0m, in \u001b[0;36mGaussNFSIC.func_obj\u001b[0;34m(Xth, Yth, Vth, Wth, gwidthx_th, gwidthy_th, regth, n, J)\u001b[0m\n\u001b[1;32m    272\u001b[0m mean_gam \u001b[38;5;241m=\u001b[39m Gam\u001b[38;5;241m.\u001b[39mmean(\u001b[38;5;241m0\u001b[39m)\n\u001b[1;32m    273\u001b[0m Gam0 \u001b[38;5;241m=\u001b[39m Gam \u001b[38;5;241m-\u001b[39m mean_gam\n\u001b[0;32m--> 274\u001b[0m Sig \u001b[38;5;241m=\u001b[39m \u001b[43mGam0\u001b[49m\u001b[38;5;241;43m.\u001b[39;49m\u001b[43mT\u001b[49m\u001b[38;5;241;43m.\u001b[39;49m\u001b[43mdot\u001b[49m\u001b[43m(\u001b[49m\u001b[43mGam0\u001b[49m\u001b[43m)\u001b[49m\u001b[38;5;241;43m/\u001b[39;49m\u001b[43mn\u001b[49m\n\u001b[1;32m    275\u001b[0m s \u001b[38;5;241m=\u001b[39m nlinalg\u001b[38;5;241m.\u001b[39mmatrix_inverse(Sig \u001b[38;5;241m+\u001b[39m diag_regth)\u001b[38;5;241m.\u001b[39mdot(u)\u001b[38;5;241m.\u001b[39mdot(u)\u001b[38;5;241m*\u001b[39mn\n\u001b[1;32m    276\u001b[0m \u001b[38;5;66;03m#s = nlinalg.matrix_inverse(Sig).dot(u).dot(u)*n\u001b[39;00m\n",
      "File \u001b[0;32m~/mambaforge/envs/hsicfuse-env/lib/python3.9/site-packages/theano/tensor/var.py:170\u001b[0m, in \u001b[0;36m_tensor_py_operators.__truediv__\u001b[0;34m(self, other)\u001b[0m\n\u001b[1;32m    169\u001b[0m \u001b[38;5;28;01mdef\u001b[39;00m \u001b[38;5;21m__truediv__\u001b[39m(\u001b[38;5;28mself\u001b[39m, other):\n\u001b[0;32m--> 170\u001b[0m     \u001b[38;5;28;01mreturn\u001b[39;00m \u001b[43mtheano\u001b[49m\u001b[38;5;241;43m.\u001b[39;49m\u001b[43mtensor\u001b[49m\u001b[38;5;241;43m.\u001b[39;49m\u001b[43mbasic\u001b[49m\u001b[38;5;241;43m.\u001b[39;49m\u001b[43mtrue_div\u001b[49m\u001b[43m(\u001b[49m\u001b[38;5;28;43mself\u001b[39;49m\u001b[43m,\u001b[49m\u001b[43m \u001b[49m\u001b[43mother\u001b[49m\u001b[43m)\u001b[49m\n",
      "File \u001b[0;32m~/mambaforge/envs/hsicfuse-env/lib/python3.9/site-packages/theano/graph/op.py:250\u001b[0m, in \u001b[0;36mOp.__call__\u001b[0;34m(self, *inputs, **kwargs)\u001b[0m\n\u001b[1;32m    207\u001b[0m \u001b[38;5;250m\u001b[39m\u001b[38;5;124;03m\"\"\"Construct an `Apply` node using `self.make_node` and return its outputs.\u001b[39;00m\n\u001b[1;32m    208\u001b[0m \n\u001b[1;32m    209\u001b[0m \u001b[38;5;124;03mThis method is just a wrapper around `Op.make_node`.\u001b[39;00m\n\u001b[0;32m   (...)\u001b[0m\n\u001b[1;32m    247\u001b[0m \n\u001b[1;32m    248\u001b[0m \u001b[38;5;124;03m\"\"\"\u001b[39;00m\n\u001b[1;32m    249\u001b[0m return_list \u001b[38;5;241m=\u001b[39m kwargs\u001b[38;5;241m.\u001b[39mpop(\u001b[38;5;124m\"\u001b[39m\u001b[38;5;124mreturn_list\u001b[39m\u001b[38;5;124m\"\u001b[39m, \u001b[38;5;28;01mFalse\u001b[39;00m)\n\u001b[0;32m--> 250\u001b[0m node \u001b[38;5;241m=\u001b[39m \u001b[38;5;28;43mself\u001b[39;49m\u001b[38;5;241;43m.\u001b[39;49m\u001b[43mmake_node\u001b[49m\u001b[43m(\u001b[49m\u001b[38;5;241;43m*\u001b[39;49m\u001b[43minputs\u001b[49m\u001b[43m,\u001b[49m\u001b[43m \u001b[49m\u001b[38;5;241;43m*\u001b[39;49m\u001b[38;5;241;43m*\u001b[39;49m\u001b[43mkwargs\u001b[49m\u001b[43m)\u001b[49m\n\u001b[1;32m    252\u001b[0m \u001b[38;5;28;01mif\u001b[39;00m config\u001b[38;5;241m.\u001b[39mcompute_test_value \u001b[38;5;241m!=\u001b[39m \u001b[38;5;124m\"\u001b[39m\u001b[38;5;124moff\u001b[39m\u001b[38;5;124m\"\u001b[39m:\n\u001b[1;32m    253\u001b[0m     compute_test_value(node)\n",
      "File \u001b[0;32m~/mambaforge/envs/hsicfuse-env/lib/python3.9/site-packages/theano/tensor/elemwise.py:500\u001b[0m, in \u001b[0;36mElemwise.make_node\u001b[0;34m(self, *inputs)\u001b[0m\n\u001b[1;32m    494\u001b[0m \u001b[38;5;250m\u001b[39m\u001b[38;5;124;03m\"\"\"\u001b[39;00m\n\u001b[1;32m    495\u001b[0m \u001b[38;5;124;03mIf the inputs have different number of dimensions, their shape\u001b[39;00m\n\u001b[1;32m    496\u001b[0m \u001b[38;5;124;03mis left-completed to the greatest number of dimensions with 1s\u001b[39;00m\n\u001b[1;32m    497\u001b[0m \u001b[38;5;124;03musing DimShuffle.\u001b[39;00m\n\u001b[1;32m    498\u001b[0m \u001b[38;5;124;03m\"\"\"\u001b[39;00m\n\u001b[1;32m    499\u001b[0m inputs \u001b[38;5;241m=\u001b[39m \u001b[38;5;28mlist\u001b[39m(\u001b[38;5;28mmap\u001b[39m(as_tensor_variable, inputs))\n\u001b[0;32m--> 500\u001b[0m out_dtypes, out_broadcastables, inputs \u001b[38;5;241m=\u001b[39m \u001b[38;5;28;43mself\u001b[39;49m\u001b[38;5;241;43m.\u001b[39;49m\u001b[43mget_output_info\u001b[49m\u001b[43m(\u001b[49m\n\u001b[1;32m    501\u001b[0m \u001b[43m    \u001b[49m\u001b[43mDimShuffle\u001b[49m\u001b[43m,\u001b[49m\u001b[43m \u001b[49m\u001b[38;5;241;43m*\u001b[39;49m\u001b[43minputs\u001b[49m\n\u001b[1;32m    502\u001b[0m \u001b[43m\u001b[49m\u001b[43m)\u001b[49m\n\u001b[1;32m    503\u001b[0m outputs \u001b[38;5;241m=\u001b[39m [\n\u001b[1;32m    504\u001b[0m     TensorType(dtype\u001b[38;5;241m=\u001b[39mdtype, broadcastable\u001b[38;5;241m=\u001b[39mbroadcastable)()\n\u001b[1;32m    505\u001b[0m     \u001b[38;5;28;01mfor\u001b[39;00m dtype, broadcastable \u001b[38;5;129;01min\u001b[39;00m \u001b[38;5;28mzip\u001b[39m(out_dtypes, out_broadcastables)\n\u001b[1;32m    506\u001b[0m ]\n\u001b[1;32m    507\u001b[0m \u001b[38;5;28;01mreturn\u001b[39;00m Apply(\u001b[38;5;28mself\u001b[39m, inputs, outputs)\n",
      "File \u001b[0;32m~/mambaforge/envs/hsicfuse-env/lib/python3.9/site-packages/theano/tensor/elemwise.py:444\u001b[0m, in \u001b[0;36mElemwise.get_output_info\u001b[0;34m(self, dim_shuffle, *inputs)\u001b[0m\n\u001b[1;32m    440\u001b[0m         args\u001b[38;5;241m.\u001b[39mappend(\u001b[38;5;28minput\u001b[39m)\n\u001b[1;32m    441\u001b[0m     \u001b[38;5;28;01melse\u001b[39;00m:\n\u001b[1;32m    442\u001b[0m         \u001b[38;5;66;03m# TODO: use LComplete instead\u001b[39;00m\n\u001b[1;32m    443\u001b[0m         args\u001b[38;5;241m.\u001b[39mappend(\n\u001b[0;32m--> 444\u001b[0m             \u001b[43mdim_shuffle\u001b[49m\u001b[43m(\u001b[49m\n\u001b[1;32m    445\u001b[0m \u001b[43m                \u001b[49m\u001b[38;5;28;43minput\u001b[39;49m\u001b[38;5;241;43m.\u001b[39;49m\u001b[43mtype\u001b[49m\u001b[38;5;241;43m.\u001b[39;49m\u001b[43mbroadcastable\u001b[49m\u001b[43m,\u001b[49m\n\u001b[1;32m    446\u001b[0m \u001b[43m                \u001b[49m\u001b[43m[\u001b[49m\u001b[38;5;124;43m\"\u001b[39;49m\u001b[38;5;124;43mx\u001b[39;49m\u001b[38;5;124;43m\"\u001b[39;49m\u001b[43m]\u001b[49m\u001b[43m \u001b[49m\u001b[38;5;241;43m*\u001b[39;49m\u001b[43m \u001b[49m\u001b[43mdifference\u001b[49m\u001b[43m \u001b[49m\u001b[38;5;241;43m+\u001b[39;49m\u001b[43m \u001b[49m\u001b[38;5;28;43mlist\u001b[39;49m\u001b[43m(\u001b[49m\u001b[38;5;28;43mrange\u001b[39;49m\u001b[43m(\u001b[49m\u001b[43mlength\u001b[49m\u001b[43m)\u001b[49m\u001b[43m)\u001b[49m\u001b[43m,\u001b[49m\n\u001b[1;32m    447\u001b[0m \u001b[43m            \u001b[49m\u001b[43m)\u001b[49m(\u001b[38;5;28minput\u001b[39m)\n\u001b[1;32m    448\u001b[0m         )\n\u001b[1;32m    449\u001b[0m inputs \u001b[38;5;241m=\u001b[39m args\n\u001b[1;32m    451\u001b[0m \u001b[38;5;66;03m# HERE: all the broadcast dims have the same length now\u001b[39;00m\n\u001b[1;32m    452\u001b[0m \n\u001b[1;32m    453\u001b[0m \u001b[38;5;66;03m# cleverness: we iterate over the first, second, third broadcast flag\u001b[39;00m\n\u001b[0;32m   (...)\u001b[0m\n\u001b[1;32m    457\u001b[0m \u001b[38;5;66;03m# it is multiplied by nout because Elemwise supports multiple outputs\u001b[39;00m\n\u001b[1;32m    458\u001b[0m \u001b[38;5;66;03m# (nout of them)\u001b[39;00m\n",
      "File \u001b[0;32m~/mambaforge/envs/hsicfuse-env/lib/python3.9/site-packages/theano/tensor/elemwise.py:158\u001b[0m, in \u001b[0;36mDimShuffle.__init__\u001b[0;34m(self, input_broadcastable, new_order, inplace)\u001b[0m\n\u001b[1;32m    157\u001b[0m \u001b[38;5;28;01mdef\u001b[39;00m \u001b[38;5;21m__init__\u001b[39m(\u001b[38;5;28mself\u001b[39m, input_broadcastable, new_order, inplace\u001b[38;5;241m=\u001b[39m\u001b[38;5;28;01mTrue\u001b[39;00m):\n\u001b[0;32m--> 158\u001b[0m     \u001b[38;5;28;43msuper\u001b[39;49m\u001b[43m(\u001b[49m\u001b[43m)\u001b[49m\u001b[38;5;241;43m.\u001b[39;49m\u001b[38;5;21;43m__init__\u001b[39;49m\u001b[43m(\u001b[49m\u001b[43m[\u001b[49m\u001b[38;5;28;43mself\u001b[39;49m\u001b[38;5;241;43m.\u001b[39;49m\u001b[43mc_func_file\u001b[49m\u001b[43m]\u001b[49m\u001b[43m,\u001b[49m\u001b[43m \u001b[49m\u001b[38;5;28;43mself\u001b[39;49m\u001b[38;5;241;43m.\u001b[39;49m\u001b[43mc_func_name\u001b[49m\u001b[43m)\u001b[49m\n\u001b[1;32m    159\u001b[0m     \u001b[38;5;28mself\u001b[39m\u001b[38;5;241m.\u001b[39minput_broadcastable \u001b[38;5;241m=\u001b[39m \u001b[38;5;28mtuple\u001b[39m(input_broadcastable)\n\u001b[1;32m    160\u001b[0m     \u001b[38;5;28mself\u001b[39m\u001b[38;5;241m.\u001b[39mnew_order \u001b[38;5;241m=\u001b[39m \u001b[38;5;28mtuple\u001b[39m(new_order)\n",
      "File \u001b[0;32m~/mambaforge/envs/hsicfuse-env/lib/python3.9/site-packages/theano/graph/op.py:941\u001b[0m, in \u001b[0;36mExternalCOp.__init__\u001b[0;34m(self, func_files, func_name)\u001b[0m\n\u001b[1;32m    938\u001b[0m \u001b[38;5;66;03m# Keep the original name. If we reload old pickle, we want to\u001b[39;00m\n\u001b[1;32m    939\u001b[0m \u001b[38;5;66;03m# find the new path and new version of the file in Theano.\u001b[39;00m\n\u001b[1;32m    940\u001b[0m \u001b[38;5;28mself\u001b[39m\u001b[38;5;241m.\u001b[39mfunc_files \u001b[38;5;241m=\u001b[39m func_files\n\u001b[0;32m--> 941\u001b[0m \u001b[38;5;28;43mself\u001b[39;49m\u001b[38;5;241;43m.\u001b[39;49m\u001b[43mload_c_code\u001b[49m\u001b[43m(\u001b[49m\u001b[43mfunc_files\u001b[49m\u001b[43m)\u001b[49m\n\u001b[1;32m    943\u001b[0m \u001b[38;5;28;01mif\u001b[39;00m \u001b[38;5;28mlen\u001b[39m(\u001b[38;5;28mself\u001b[39m\u001b[38;5;241m.\u001b[39mcode_sections) \u001b[38;5;241m==\u001b[39m \u001b[38;5;241m0\u001b[39m:\n\u001b[1;32m    944\u001b[0m     \u001b[38;5;28;01mraise\u001b[39;00m \u001b[38;5;167;01mValueError\u001b[39;00m(\u001b[38;5;124m\"\u001b[39m\u001b[38;5;124mNo sections where defined in C files\u001b[39m\u001b[38;5;124m\"\u001b[39m)\n",
      "File \u001b[0;32m~/mambaforge/envs/hsicfuse-env/lib/python3.9/site-packages/theano/graph/op.py:961\u001b[0m, in \u001b[0;36mExternalCOp.load_c_code\u001b[0;34m(self, func_files)\u001b[0m\n\u001b[1;32m    959\u001b[0m \u001b[38;5;28;01mdef\u001b[39;00m \u001b[38;5;21mload_c_code\u001b[39m(\u001b[38;5;28mself\u001b[39m, func_files: List[Text]) \u001b[38;5;241m-\u001b[39m\u001b[38;5;241m>\u001b[39m NoReturn:\n\u001b[1;32m    960\u001b[0m \u001b[38;5;250m    \u001b[39m\u001b[38;5;124;03m\"\"\"Loads the C code to perform the `Op`.\"\"\"\u001b[39;00m\n\u001b[0;32m--> 961\u001b[0m     func_files \u001b[38;5;241m=\u001b[39m [\u001b[38;5;28mself\u001b[39m\u001b[38;5;241m.\u001b[39mget_path(f) \u001b[38;5;28;01mfor\u001b[39;00m f \u001b[38;5;129;01min\u001b[39;00m func_files]\n\u001b[1;32m    962\u001b[0m     \u001b[38;5;28mself\u001b[39m\u001b[38;5;241m.\u001b[39mfunc_codes \u001b[38;5;241m=\u001b[39m []\n\u001b[1;32m    963\u001b[0m     \u001b[38;5;28;01mfor\u001b[39;00m func_file \u001b[38;5;129;01min\u001b[39;00m func_files:\n\u001b[1;32m    964\u001b[0m         \u001b[38;5;66;03m# U (universal) will convert all new lines format to \\n.\u001b[39;00m\n",
      "File \u001b[0;32m~/mambaforge/envs/hsicfuse-env/lib/python3.9/site-packages/theano/graph/op.py:961\u001b[0m, in \u001b[0;36m<listcomp>\u001b[0;34m(.0)\u001b[0m\n\u001b[1;32m    959\u001b[0m \u001b[38;5;28;01mdef\u001b[39;00m \u001b[38;5;21mload_c_code\u001b[39m(\u001b[38;5;28mself\u001b[39m, func_files: List[Text]) \u001b[38;5;241m-\u001b[39m\u001b[38;5;241m>\u001b[39m NoReturn:\n\u001b[1;32m    960\u001b[0m \u001b[38;5;250m    \u001b[39m\u001b[38;5;124;03m\"\"\"Loads the C code to perform the `Op`.\"\"\"\u001b[39;00m\n\u001b[0;32m--> 961\u001b[0m     func_files \u001b[38;5;241m=\u001b[39m [\u001b[38;5;28;43mself\u001b[39;49m\u001b[38;5;241;43m.\u001b[39;49m\u001b[43mget_path\u001b[49m\u001b[43m(\u001b[49m\u001b[43mf\u001b[49m\u001b[43m)\u001b[49m \u001b[38;5;28;01mfor\u001b[39;00m f \u001b[38;5;129;01min\u001b[39;00m func_files]\n\u001b[1;32m    962\u001b[0m     \u001b[38;5;28mself\u001b[39m\u001b[38;5;241m.\u001b[39mfunc_codes \u001b[38;5;241m=\u001b[39m []\n\u001b[1;32m    963\u001b[0m     \u001b[38;5;28;01mfor\u001b[39;00m func_file \u001b[38;5;129;01min\u001b[39;00m func_files:\n\u001b[1;32m    964\u001b[0m         \u001b[38;5;66;03m# U (universal) will convert all new lines format to \\n.\u001b[39;00m\n",
      "File \u001b[0;32m~/mambaforge/envs/hsicfuse-env/lib/python3.9/site-packages/theano/graph/op.py:923\u001b[0m, in \u001b[0;36mExternalCOp.get_path\u001b[0;34m(cls, f)\u001b[0m\n\u001b[1;32m    921\u001b[0m     class_file \u001b[38;5;241m=\u001b[39m inspect\u001b[38;5;241m.\u001b[39mgetfile(\u001b[38;5;28mcls\u001b[39m)\n\u001b[1;32m    922\u001b[0m     class_dir \u001b[38;5;241m=\u001b[39m os\u001b[38;5;241m.\u001b[39mpath\u001b[38;5;241m.\u001b[39mdirname(class_file)\n\u001b[0;32m--> 923\u001b[0m     f \u001b[38;5;241m=\u001b[39m \u001b[43mos\u001b[49m\u001b[38;5;241;43m.\u001b[39;49m\u001b[43mpath\u001b[49m\u001b[38;5;241;43m.\u001b[39;49m\u001b[43mrealpath\u001b[49m\u001b[43m(\u001b[49m\u001b[43mos\u001b[49m\u001b[38;5;241;43m.\u001b[39;49m\u001b[43mpath\u001b[49m\u001b[38;5;241;43m.\u001b[39;49m\u001b[43mjoin\u001b[49m\u001b[43m(\u001b[49m\u001b[43mclass_dir\u001b[49m\u001b[43m,\u001b[49m\u001b[43m \u001b[49m\u001b[43mf\u001b[49m\u001b[43m)\u001b[49m\u001b[43m)\u001b[49m\n\u001b[1;32m    924\u001b[0m \u001b[38;5;28;01mreturn\u001b[39;00m f\n",
      "File \u001b[0;32m~/mambaforge/envs/hsicfuse-env/lib/python3.9/posixpath.py:392\u001b[0m, in \u001b[0;36mrealpath\u001b[0;34m(filename)\u001b[0m\n\u001b[1;32m    389\u001b[0m \u001b[38;5;250m    \u001b[39m\u001b[38;5;124;03m\"\"\"Return the canonical path of the specified filename, eliminating any\u001b[39;00m\n\u001b[1;32m    390\u001b[0m \u001b[38;5;124;03msymbolic links encountered in the path.\"\"\"\u001b[39;00m\n\u001b[1;32m    391\u001b[0m     filename \u001b[38;5;241m=\u001b[39m os\u001b[38;5;241m.\u001b[39mfspath(filename)\n\u001b[0;32m--> 392\u001b[0m     path, ok \u001b[38;5;241m=\u001b[39m \u001b[43m_joinrealpath\u001b[49m\u001b[43m(\u001b[49m\u001b[43mfilename\u001b[49m\u001b[43m[\u001b[49m\u001b[43m:\u001b[49m\u001b[38;5;241;43m0\u001b[39;49m\u001b[43m]\u001b[49m\u001b[43m,\u001b[49m\u001b[43m \u001b[49m\u001b[43mfilename\u001b[49m\u001b[43m,\u001b[49m\u001b[43m \u001b[49m\u001b[43m{\u001b[49m\u001b[43m}\u001b[49m\u001b[43m)\u001b[49m\n\u001b[1;32m    393\u001b[0m     \u001b[38;5;28;01mreturn\u001b[39;00m abspath(path)\n",
      "File \u001b[0;32m~/mambaforge/envs/hsicfuse-env/lib/python3.9/posixpath.py:426\u001b[0m, in \u001b[0;36m_joinrealpath\u001b[0;34m(path, rest, seen)\u001b[0m\n\u001b[1;32m    424\u001b[0m     \u001b[38;5;28;01mcontinue\u001b[39;00m\n\u001b[1;32m    425\u001b[0m newpath \u001b[38;5;241m=\u001b[39m join(path, name)\n\u001b[0;32m--> 426\u001b[0m \u001b[38;5;28;01mif\u001b[39;00m \u001b[38;5;129;01mnot\u001b[39;00m \u001b[43mislink\u001b[49m\u001b[43m(\u001b[49m\u001b[43mnewpath\u001b[49m\u001b[43m)\u001b[49m:\n\u001b[1;32m    427\u001b[0m     path \u001b[38;5;241m=\u001b[39m newpath\n\u001b[1;32m    428\u001b[0m     \u001b[38;5;28;01mcontinue\u001b[39;00m\n",
      "File \u001b[0;32m~/mambaforge/envs/hsicfuse-env/lib/python3.9/posixpath.py:167\u001b[0m, in \u001b[0;36mislink\u001b[0;34m(path)\u001b[0m\n\u001b[1;32m    165\u001b[0m \u001b[38;5;250m\u001b[39m\u001b[38;5;124;03m\"\"\"Test whether a path is a symbolic link\"\"\"\u001b[39;00m\n\u001b[1;32m    166\u001b[0m \u001b[38;5;28;01mtry\u001b[39;00m:\n\u001b[0;32m--> 167\u001b[0m     st \u001b[38;5;241m=\u001b[39m \u001b[43mos\u001b[49m\u001b[38;5;241;43m.\u001b[39;49m\u001b[43mlstat\u001b[49m\u001b[43m(\u001b[49m\u001b[43mpath\u001b[49m\u001b[43m)\u001b[49m\n\u001b[1;32m    168\u001b[0m \u001b[38;5;28;01mexcept\u001b[39;00m (\u001b[38;5;167;01mOSError\u001b[39;00m, \u001b[38;5;167;01mValueError\u001b[39;00m, \u001b[38;5;167;01mAttributeError\u001b[39;00m):\n\u001b[1;32m    169\u001b[0m     \u001b[38;5;28;01mreturn\u001b[39;00m \u001b[38;5;28;01mFalse\u001b[39;00m\n",
      "\u001b[0;31mKeyboardInterrupt\u001b[0m: "
     ]
    }
   ],
   "source": [
    "repetitions          = 200\n",
    "scales               = 1.0\n",
    "number_perturbations = 2\n",
    "# sample_size          = 500\n",
    "sample_size = 100\n",
    "# d_values             = (1, 2, 3, 4)\n",
    "d_values = (1, )\n",
    "f_theta_seed         = 0\n",
    "p                    = 1\n",
    "s                    = 1\n",
    "\n",
    "# tests = (hsicfuse_test, hsic_test, hsicagginc1_test, hsicagginc100_test, hsicagginc200_test, hsicaggincquad_test)\n",
    "tests = (nfsic_test, )\n",
    "outputs = jnp.zeros((len(tests), len(d_values), repetitions))\n",
    "outputs = outputs.tolist()\n",
    "key = random.PRNGKey(42)\n",
    "seed = 42\n",
    "for s in tqdm(range(len(d_values))):\n",
    "    d = d_values[s]\n",
    "    for i in tqdm(range(repetitions)):\n",
    "        key, subkey = random.split(key)\n",
    "        perturbation_multiplier = np.exp(d + 1) * p ** s * scale \n",
    "        Z = f_theta_sampler(f_theta_seed, seed, sample_size, p, s, perturbation_multiplier, d + 1)\n",
    "        X = Z[:, :1]\n",
    "        Y = Z[:, 1:]\n",
    "        key, subkey = random.split(key)\n",
    "        seed += 1\n",
    "        for t in range(len(tests)):\n",
    "            test = tests[t]\n",
    "            outputs[t][s][i] = test(X, Y, subkey, seed)\n",
    "\n",
    "output = jnp.mean(jnp.array(outputs), -1)\n",
    "\n",
    "jnp.save(\"results/perturbations_vary_d.npy\", output)\n",
    "jnp.save(\"results/perturbations_vary_d_x_axis.npy\", d_values)\n",
    "\n",
    "print(\"d :\", d_values)\n",
    "print(\"sample size :\", sample_size)\n",
    "for t in range(len(tests)):\n",
    "    print(\" \")\n",
    "    print(tests[t])\n",
    "    print(output[t])"
   ]
  },
  {
   "cell_type": "code",
   "execution_count": null,
   "id": "41099206-0e25-4074-b9ea-a7d51116fd53",
   "metadata": {},
   "outputs": [],
   "source": []
  },
  {
   "cell_type": "code",
   "execution_count": null,
   "id": "a98e2f6e-de42-404f-b1ee-6a7c8e5f425b",
   "metadata": {},
   "outputs": [],
   "source": []
  },
  {
   "cell_type": "code",
   "execution_count": null,
   "id": "4de3cbe1-550a-4515-8ac7-4916b201c18d",
   "metadata": {},
   "outputs": [],
   "source": []
  },
  {
   "cell_type": "code",
   "execution_count": null,
   "id": "57015432-6fff-4755-b100-08fd12d6d50a",
   "metadata": {},
   "outputs": [],
   "source": []
  },
  {
   "cell_type": "code",
   "execution_count": null,
   "id": "da6af38c-0aa4-4b2b-b599-e88daa9bafae",
   "metadata": {},
   "outputs": [],
   "source": []
  }
 ],
 "metadata": {
  "kernelspec": {
   "display_name": "Python 3 (ipykernel)",
   "language": "python",
   "name": "python3"
  },
  "language_info": {
   "codemirror_mode": {
    "name": "ipython",
    "version": 3
   },
   "file_extension": ".py",
   "mimetype": "text/x-python",
   "name": "python",
   "nbconvert_exporter": "python",
   "pygments_lexer": "ipython3",
   "version": "3.9.16"
  }
 },
 "nbformat": 4,
 "nbformat_minor": 5
}
