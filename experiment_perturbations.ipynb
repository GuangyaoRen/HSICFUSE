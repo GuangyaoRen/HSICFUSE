{
 "cells": [
  {
   "cell_type": "code",
   "execution_count": 1,
   "id": "74ff30fc-e47a-4cf6-8bcd-2c054d6df333",
   "metadata": {},
   "outputs": [],
   "source": [
    "import sys\n",
    "from pathlib import Path\n",
    "from sampler_perturbations import f_theta_sampler\n",
    "import numpy as np\n",
    "import jax\n",
    "import jax.numpy as jnp\n",
    "from jax import random, jit, vmap\n",
    "from tqdm.auto import tqdm\n",
    "Path(\"results\").mkdir(exist_ok=True)\n",
    "%load_ext autoreload\n",
    "%autoreload 2"
   ]
  },
  {
   "cell_type": "code",
   "execution_count": 2,
   "id": "514b7941-7638-4360-93b2-86a66d292841",
   "metadata": {},
   "outputs": [],
   "source": [
    "from all_tests import hsicfuse_test, hsic_test\n",
    "from all_tests import hsicagginc_test, hsicagg_test\n",
    "from all_tests import nfsic_test, nyhsic_test, fhsic_test"
   ]
  },
  {
   "cell_type": "markdown",
   "id": "b66ec1c5-d768-49bd-b49e-395301c6d526",
   "metadata": {},
   "source": [
    "### Vary difficulty (d=2, rep=200, N=500)"
   ]
  },
  {
   "cell_type": "code",
   "execution_count": 3,
   "id": "2bf88010-7412-4866-9578-b09cb492bb5c",
   "metadata": {},
   "outputs": [
    {
     "data": {
      "application/vnd.jupyter.widget-view+json": {
       "model_id": "e2a82cf3bc47451eaee599bfef4126c7",
       "version_major": 2,
       "version_minor": 0
      },
      "text/plain": [
       "  0%|          | 0/6 [00:00<?, ?it/s]"
      ]
     },
     "metadata": {},
     "output_type": "display_data"
    },
    {
     "data": {
      "application/vnd.jupyter.widget-view+json": {
       "model_id": "bc2e73362a6f4cfe997d6dcbebd91499",
       "version_major": 2,
       "version_minor": 0
      },
      "text/plain": [
       "  0%|          | 0/200 [00:00<?, ?it/s]"
      ]
     },
     "metadata": {},
     "output_type": "display_data"
    },
    {
     "data": {
      "application/vnd.jupyter.widget-view+json": {
       "model_id": "0672832a2cf945338ab348366ce296ad",
       "version_major": 2,
       "version_minor": 0
      },
      "text/plain": [
       "  0%|          | 0/200 [00:00<?, ?it/s]"
      ]
     },
     "metadata": {},
     "output_type": "display_data"
    },
    {
     "data": {
      "application/vnd.jupyter.widget-view+json": {
       "model_id": "794f10f6d2de40debe6389963557b1da",
       "version_major": 2,
       "version_minor": 0
      },
      "text/plain": [
       "  0%|          | 0/200 [00:00<?, ?it/s]"
      ]
     },
     "metadata": {},
     "output_type": "display_data"
    },
    {
     "data": {
      "application/vnd.jupyter.widget-view+json": {
       "model_id": "63fdab57f05c4c5da52389fb80e8e4be",
       "version_major": 2,
       "version_minor": 0
      },
      "text/plain": [
       "  0%|          | 0/200 [00:00<?, ?it/s]"
      ]
     },
     "metadata": {},
     "output_type": "display_data"
    },
    {
     "data": {
      "application/vnd.jupyter.widget-view+json": {
       "model_id": "c6e121ddb33a4f6c9b280b47b1fcf6b5",
       "version_major": 2,
       "version_minor": 0
      },
      "text/plain": [
       "  0%|          | 0/200 [00:00<?, ?it/s]"
      ]
     },
     "metadata": {},
     "output_type": "display_data"
    },
    {
     "data": {
      "application/vnd.jupyter.widget-view+json": {
       "model_id": "ad41ae7e976c485d84154079d4ca404f",
       "version_major": 2,
       "version_minor": 0
      },
      "text/plain": [
       "  0%|          | 0/200 [00:00<?, ?it/s]"
      ]
     },
     "metadata": {},
     "output_type": "display_data"
    },
    {
     "name": "stdout",
     "output_type": "stream",
     "text": [
      "scales : (0.0, 0.2, 0.4, 0.6, 0.8, 1.0)\n",
      "sample size : 500\n",
      " \n",
      "<function hsic_test at 0x7f691c68eca0>\n",
      "[0.045      0.235      0.90999997 1.         1.         1.        ]\n",
      " \n",
      "[[0.045      0.235      0.90999997 1.         1.         1.        ]]\n"
     ]
    }
   ],
   "source": [
    "repetitions          = 200\n",
    "scales               = (0.0, 0.2, 0.4, 0.6, 0.8, 1.0)\n",
    "sample_size          = 500 \n",
    "d                    = 2\n",
    "f_theta_seed         = 0\n",
    "p                    = 1\n",
    "s                    = 1\n",
    "\n",
    "tests = (hsicfuse_test, hsic_test, hsicagginc_test, hsicagg_test, nfsic_test, nyhsic_test, fhsic_test)\n",
    "outputs = jnp.zeros((len(tests), len(scales), repetitions))\n",
    "outputs = outputs.tolist()\n",
    "key = random.PRNGKey(42)\n",
    "seed = 42\n",
    "for s in tqdm(range(len(scales))):\n",
    "    scale = scales[s]\n",
    "    for i in tqdm(range(repetitions)):\n",
    "        key, subkey = random.split(key)\n",
    "        perturbation_multiplier = np.exp(d) * p ** s * scale \n",
    "        Z = f_theta_sampler(f_theta_seed, seed, sample_size, p, s, perturbation_multiplier, d)\n",
    "        X = np.expand_dims(Z[:, 0], 1)\n",
    "        Y = np.expand_dims(Z[:, 1], 1)\n",
    "        key, subkey = random.split(key)\n",
    "        seed += 1\n",
    "        for t in range(len(tests)):\n",
    "            test = tests[t]\n",
    "            outputs[t][s][i] = test(X, Y, subkey, seed)\n",
    "\n",
    "output = jnp.mean(jnp.array(outputs), -1) # the last dimension is eliminated\n",
    "\n",
    "jnp.save(\"results/perturbations_vary_dif.npy\", output)\n",
    "jnp.save(\"results/perturbations_vary_dif_x_axis.npy\", scales)\n",
    "\n",
    "print(\"scales :\", scales)\n",
    "print(\"sample size :\", sample_size)\n",
    "for t in range(len(tests)):\n",
    "    print(\" \")\n",
    "    print(tests[t])\n",
    "    print(output[t])\n",
    "\n",
    "print(\" \")\n",
    "print(output)"
   ]
  },
  {
   "cell_type": "markdown",
   "id": "87e762c7-edc7-411f-a62d-daaf49e71f71",
   "metadata": {},
   "source": [
    "## Vary sample size (d=2, rep=200, scale=0.6)"
   ]
  },
  {
   "cell_type": "code",
   "execution_count": 6,
   "id": "85d0a04b-b503-4d28-b5ef-b55fc74eefce",
   "metadata": {},
   "outputs": [
    {
     "data": {
      "application/vnd.jupyter.widget-view+json": {
       "model_id": "0b584a1824494d32947c3ec83cd1016d",
       "version_major": 2,
       "version_minor": 0
      },
      "text/plain": [
       "  0%|          | 0/9 [00:00<?, ?it/s]"
      ]
     },
     "metadata": {},
     "output_type": "display_data"
    },
    {
     "data": {
      "application/vnd.jupyter.widget-view+json": {
       "model_id": "b9d058f7584b4833a1af4dce4f3b0ab1",
       "version_major": 2,
       "version_minor": 0
      },
      "text/plain": [
       "  0%|          | 0/200 [00:00<?, ?it/s]"
      ]
     },
     "metadata": {},
     "output_type": "display_data"
    },
    {
     "data": {
      "application/vnd.jupyter.widget-view+json": {
       "model_id": "28dba70f828c497c8b76370ee3a99e91",
       "version_major": 2,
       "version_minor": 0
      },
      "text/plain": [
       "  0%|          | 0/200 [00:00<?, ?it/s]"
      ]
     },
     "metadata": {},
     "output_type": "display_data"
    },
    {
     "data": {
      "application/vnd.jupyter.widget-view+json": {
       "model_id": "ed1bdd5c90aa45febc7931ce37373bf6",
       "version_major": 2,
       "version_minor": 0
      },
      "text/plain": [
       "  0%|          | 0/200 [00:00<?, ?it/s]"
      ]
     },
     "metadata": {},
     "output_type": "display_data"
    },
    {
     "data": {
      "application/vnd.jupyter.widget-view+json": {
       "model_id": "e70b2730fa334502a4ab916d94bca1de",
       "version_major": 2,
       "version_minor": 0
      },
      "text/plain": [
       "  0%|          | 0/200 [00:00<?, ?it/s]"
      ]
     },
     "metadata": {},
     "output_type": "display_data"
    },
    {
     "data": {
      "application/vnd.jupyter.widget-view+json": {
       "model_id": "0ebc381955574ed8a98da988e0dbf03c",
       "version_major": 2,
       "version_minor": 0
      },
      "text/plain": [
       "  0%|          | 0/200 [00:00<?, ?it/s]"
      ]
     },
     "metadata": {},
     "output_type": "display_data"
    },
    {
     "data": {
      "application/vnd.jupyter.widget-view+json": {
       "model_id": "4ba24bb9adc144e784c9f4509f02e7fd",
       "version_major": 2,
       "version_minor": 0
      },
      "text/plain": [
       "  0%|          | 0/200 [00:00<?, ?it/s]"
      ]
     },
     "metadata": {},
     "output_type": "display_data"
    },
    {
     "data": {
      "application/vnd.jupyter.widget-view+json": {
       "model_id": "a206e7b340a646e3ac00de7eff6d23e6",
       "version_major": 2,
       "version_minor": 0
      },
      "text/plain": [
       "  0%|          | 0/200 [00:00<?, ?it/s]"
      ]
     },
     "metadata": {},
     "output_type": "display_data"
    },
    {
     "data": {
      "application/vnd.jupyter.widget-view+json": {
       "model_id": "c4b291b086e045c4be8d97b5321cb0c6",
       "version_major": 2,
       "version_minor": 0
      },
      "text/plain": [
       "  0%|          | 0/200 [00:00<?, ?it/s]"
      ]
     },
     "metadata": {},
     "output_type": "display_data"
    },
    {
     "data": {
      "application/vnd.jupyter.widget-view+json": {
       "model_id": "be74c10874b14dcd9d360a3d49fb8290",
       "version_major": 2,
       "version_minor": 0
      },
      "text/plain": [
       "  0%|          | 0/200 [00:00<?, ?it/s]"
      ]
     },
     "metadata": {},
     "output_type": "display_data"
    },
    {
     "name": "stdout",
     "output_type": "stream",
     "text": [
      "sample sizes : (200, 400, 600, 800, 1000, 1500, 2000, 2500, 3000)\n",
      "scale : 0.6\n",
      " \n",
      "<function hsic_test at 0x7f691c68eca0>\n",
      "[0.895      0.98999995 1.         1.         1.         1.\n",
      " 1.         1.         1.        ]\n"
     ]
    }
   ],
   "source": [
    "repetitions          = 200\n",
    "scale                = 0.6\n",
    "number_perturbations = 2\n",
    "sample_sizes         = (200, 400, 600, 800, 1000, 1500, 2000, 2500, 3000)\n",
    "d                    = 2\n",
    "f_theta_seed         = 0\n",
    "p                    = 1\n",
    "s                    = 1\n",
    "\n",
    "tests = (hsicfuse_test, hsic_test, hsicagginc_test, hsicagg_test, nfsic_test, nyhsic_test, fhsic_test)\n",
    "outputs = jnp.zeros((len(tests), len(sample_sizes), repetitions))\n",
    "outputs = outputs.tolist()\n",
    "key = random.PRNGKey(42)\n",
    "seed = 42\n",
    "for s in tqdm(range(len(sample_sizes))):\n",
    "    sample_size = sample_sizes[s]\n",
    "    for i in tqdm(range(repetitions)):\n",
    "        key, subkey = random.split(key)\n",
    "        perturbation_multiplier = np.exp(d) * p ** s * scale \n",
    "        Z = f_theta_sampler(f_theta_seed, seed, sample_size, p, s, perturbation_multiplier, d)\n",
    "        X = np.expand_dims(Z[:, 0], 1)\n",
    "        Y = np.expand_dims(Z[:, 1], 1)\n",
    "        key, subkey = random.split(key)\n",
    "        seed += 1\n",
    "        for t in range(len(tests)):\n",
    "            test = tests[t]\n",
    "            outputs[t][s][i] = test(X, Y, subkey, seed)\n",
    "\n",
    "output = jnp.mean(jnp.array(outputs), -1)\n",
    "\n",
    "jnp.save(\"results/perturbations_vary_n.npy\", output)\n",
    "jnp.save(\"results/perturbations_vary_n_x_axis.npy\", sample_sizes)\n",
    "\n",
    "print(\"sample sizes :\", sample_sizes)\n",
    "print(\"scale :\", scale)\n",
    "for t in range(len(tests)):\n",
    "    print(\" \")\n",
    "    print(tests[t])\n",
    "    print(output[t])"
   ]
  },
  {
   "cell_type": "markdown",
   "id": "a6eff1eb-446e-47f9-8fbb-c72600044c68",
   "metadata": {},
   "source": [
    "### Vary d (N=500, rep=200, scale=1.0)"
   ]
  },
  {
   "cell_type": "code",
   "execution_count": 5,
   "id": "41ca8adf-88c1-4f29-9eb4-d6cc352da70e",
   "metadata": {},
   "outputs": [
    {
     "data": {
      "application/vnd.jupyter.widget-view+json": {
       "model_id": "6680ba2feb4042958893bf22a56dbff1",
       "version_major": 2,
       "version_minor": 0
      },
      "text/plain": [
       "  0%|          | 0/4 [00:00<?, ?it/s]"
      ]
     },
     "metadata": {},
     "output_type": "display_data"
    },
    {
     "data": {
      "application/vnd.jupyter.widget-view+json": {
       "model_id": "9a3c847fbdce459e8d5078b0fb5bc739",
       "version_major": 2,
       "version_minor": 0
      },
      "text/plain": [
       "  0%|          | 0/200 [00:00<?, ?it/s]"
      ]
     },
     "metadata": {},
     "output_type": "display_data"
    },
    {
     "data": {
      "application/vnd.jupyter.widget-view+json": {
       "model_id": "4ff62eb7802045af8148263eb109ca6b",
       "version_major": 2,
       "version_minor": 0
      },
      "text/plain": [
       "  0%|          | 0/200 [00:00<?, ?it/s]"
      ]
     },
     "metadata": {},
     "output_type": "display_data"
    },
    {
     "data": {
      "application/vnd.jupyter.widget-view+json": {
       "model_id": "111bc9731357429f95acf8ce55b72455",
       "version_major": 2,
       "version_minor": 0
      },
      "text/plain": [
       "  0%|          | 0/200 [00:00<?, ?it/s]"
      ]
     },
     "metadata": {},
     "output_type": "display_data"
    },
    {
     "data": {
      "application/vnd.jupyter.widget-view+json": {
       "model_id": "23966b383d2545849027150993c44e5c",
       "version_major": 2,
       "version_minor": 0
      },
      "text/plain": [
       "  0%|          | 0/200 [00:00<?, ?it/s]"
      ]
     },
     "metadata": {},
     "output_type": "display_data"
    },
    {
     "name": "stdout",
     "output_type": "stream",
     "text": [
      "d : (1, 2, 3, 4)\n",
      "sample size : 500\n",
      " \n",
      "<function hsic_test at 0x7f691c68eca0>\n",
      "[1.         0.53499997 0.065      0.05      ]\n"
     ]
    }
   ],
   "source": [
    "repetitions          = 200\n",
    "scale                = 1.0\n",
    "number_perturbations = 2\n",
    "sample_size          = 500\n",
    "d_values             = (1, 2, 3, 4)\n",
    "f_theta_seed         = 0\n",
    "p                    = 1\n",
    "s                    = 1\n",
    "\n",
    "tests = (hsicfuse_test, hsic_test, hsicagginc_test, hsicagg_test, nfsic_test, nyhsic_test, fhsic_test)\n",
    "outputs = jnp.zeros((len(tests), len(d_values), repetitions))\n",
    "outputs = outputs.tolist()\n",
    "key = random.PRNGKey(42)\n",
    "seed = 42\n",
    "for s in tqdm(range(len(d_values))):\n",
    "    d = d_values[s]\n",
    "    for i in tqdm(range(repetitions)):\n",
    "        key, subkey = random.split(key)\n",
    "        perturbation_multiplier = np.exp(d + 1) * p ** s * scale \n",
    "        Z = f_theta_sampler(f_theta_seed, seed, sample_size, p, s, perturbation_multiplier, d + 1)\n",
    "        X = Z[:, :1]\n",
    "        Y = Z[:, 1:]       \n",
    "        key, subkey = random.split(key)\n",
    "        seed += 1\n",
    "        for t in range(len(tests)):\n",
    "            test = tests[t]\n",
    "            outputs[t][s][i] = test(X, Y, subkey, seed)\n",
    "\n",
    "output = jnp.mean(jnp.array(outputs), -1)\n",
    "\n",
    "jnp.save(\"results/perturbations_vary_d.npy\", output)\n",
    "jnp.save(\"results/perturbations_vary_d_x_axis.npy\", d_values)\n",
    "\n",
    "print(\"d :\", d_values)\n",
    "print(\"sample size :\", sample_size)\n",
    "for t in range(len(tests)):\n",
    "    print(\" \")\n",
    "    print(tests[t])\n",
    "    print(output[t])"
   ]
  },
  {
   "cell_type": "code",
   "execution_count": null,
   "id": "4de3cbe1-550a-4515-8ac7-4916b201c18d",
   "metadata": {},
   "outputs": [],
   "source": []
  },
  {
   "cell_type": "code",
   "execution_count": null,
   "id": "57015432-6fff-4755-b100-08fd12d6d50a",
   "metadata": {},
   "outputs": [],
   "source": []
  }
 ],
 "metadata": {
  "kernelspec": {
   "display_name": "Python 3 (ipykernel)",
   "language": "python",
   "name": "python3"
  },
  "language_info": {
   "codemirror_mode": {
    "name": "ipython",
    "version": 3
   },
   "file_extension": ".py",
   "mimetype": "text/x-python",
   "name": "python",
   "nbconvert_exporter": "python",
   "pygments_lexer": "ipython3",
   "version": "3.9.16"
  }
 },
 "nbformat": 4,
 "nbformat_minor": 5
}
