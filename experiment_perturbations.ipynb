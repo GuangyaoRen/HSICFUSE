{
 "cells": [
  {
   "cell_type": "code",
   "execution_count": 10,
   "id": "74ff30fc-e47a-4cf6-8bcd-2c054d6df333",
   "metadata": {},
   "outputs": [
    {
     "name": "stdout",
     "output_type": "stream",
     "text": [
      "The autoreload extension is already loaded. To reload it, use:\n",
      "  %reload_ext autoreload\n"
     ]
    }
   ],
   "source": [
    "from sampler_perturbations import sampler_perturbations\n",
    "import numpy as np\n",
    "import jax\n",
    "import jax.numpy as jnp\n",
    "from jax import random\n",
    "from tqdm.auto import tqdm\n",
    "from pathlib import Path\n",
    "Path(\"results\").mkdir(exist_ok=True)\n",
    "%load_ext autoreload\n",
    "%autoreload 2"
   ]
  },
  {
   "cell_type": "code",
   "execution_count": 15,
   "id": "514b7941-7638-4360-93b2-86a66d292841",
   "metadata": {},
   "outputs": [],
   "source": [
    "from all_tests import hsicfuse_test, hsic_test\n",
    "from all_tests import hsicagginc1_test, hsicagginc100_test, hsicagginc200_test, hsicaggincquad_test"
   ]
  },
  {
   "cell_type": "markdown",
   "id": "b66ec1c5-d768-49bd-b49e-395301c6d526",
   "metadata": {},
   "source": [
    "### Vary difficulty d=1"
   ]
  },
  {
   "cell_type": "code",
   "execution_count": 18,
   "id": "2bf88010-7412-4866-9578-b09cb492bb5c",
   "metadata": {},
   "outputs": [
    {
     "name": "stdout",
     "output_type": "stream",
     "text": [
      "scales : (0,)\n",
      "sample size : 500\n",
      " \n",
      "<function hsicaggincquad_test at 0x7f70610823a0>\n",
      "[0.]\n"
     ]
    }
   ],
   "source": [
    "# repetitions          = 200\n",
    "# scales               = (0, 0.1, 0.2, 0.3, 0.4, 0.5)\n",
    "# number_perturbations = 2\n",
    "sample_size          = 500  \n",
    "d                    = 1\n",
    "\n",
    "repetitions          = 1\n",
    "scales               = (0, )\n",
    "number_perturbations = 2\n",
    "\n",
    "# tests = (mmdfuse_test, mmd_median_test, mmd_split_test, mmdagg_test, mmdagginc_test, deep_mmd_test, met_test, scf_test, ctt_test, actt_test)\n",
    "# tests = (hsicfuse_test, hsic_test, hsicagginc1_test, hsicagginc100_test, hsicagginc200_test, hsicaggincquad_test, )\n",
    "tests = (hsicaggincquad_test, )\n",
    "outputs = jnp.zeros((len(tests), len(scales), repetitions))\n",
    "outputs = outputs.tolist()\n",
    "key = random.PRNGKey(42)\n",
    "seed = 42\n",
    "for s in (range(len(scales))):\n",
    "    scale = scales[s]\n",
    "    for i in (range(repetitions)):\n",
    "        key, subkey = random.split(key)\n",
    "        X, Y = sampler_perturbations(m=sample_size, n=sample_size, d=d, scale=scale, number_perturbations=number_perturbations, seed=seed)\n",
    "        key, subkey = random.split(key)\n",
    "        seed += 1\n",
    "        for t in range(len(tests)):\n",
    "            test = tests[t]\n",
    "            outputs[t][s][i] = test(\n",
    "                    X,\n",
    "                    Y,\n",
    "                    subkey,\n",
    "                    seed,\n",
    "                )\n",
    "\n",
    "output = jnp.mean(jnp.array(outputs), -1) # the last dimension is eliminated\n",
    "\n",
    "jnp.save(\"results/perturbations_vary_dif_d1.npy\", output)\n",
    "jnp.save(\"results/perturbations_vary_dif_d1_x_axis.npy\", scales)\n",
    "\n",
    "print(\"scales :\", scales)\n",
    "print(\"sample size :\", sample_size)\n",
    "for t in range(len(tests)):\n",
    "    print(\" \")\n",
    "    print(tests[t])\n",
    "    print(output[t])"
   ]
  },
  {
   "cell_type": "markdown",
   "id": "87e762c7-edc7-411f-a62d-daaf49e71f71",
   "metadata": {},
   "source": [
    "### Vary sample size d=1"
   ]
  },
  {
   "cell_type": "code",
   "execution_count": null,
   "id": "85d0a04b-b503-4d28-b5ef-b55fc74eefce",
   "metadata": {},
   "outputs": [],
   "source": [
    "repetitions = 200\n",
    "scale = 0.2\n",
    "number_perturbations = 2\n",
    "sample_sizes = (500, 1000, 1500, 2000, 2500, 3000)\n",
    "d = 1\n",
    "\n",
    "# tests = (mmdfuse_test, mmd_median_test, mmd_split_test, mmdagg_test, mmdagginc_test, deep_mmd_test, met_test, scf_test, ctt_test, actt_test)\n",
    "tests = (hsicfuse_test, )\n",
    "outputs = jnp.zeros((len(tests), len(sample_sizes), repetitions))\n",
    "outputs = outputs.tolist()\n",
    "key = random.PRNGKey(42)\n",
    "seed = 42\n",
    "for s in tqdm(range(len(sample_sizes))):\n",
    "    sample_size = sample_sizes[s]\n",
    "    for i in tqdm(range(repetitions)):\n",
    "        key, subkey = random.split(key)\n",
    "        X, Y = sampler_perturbations(m=sample_size, n=sample_size, d=d, scale=scale, number_perturbations=number_perturbations, seed=seed)\n",
    "        key, subkey = random.split(key)\n",
    "        seed += 1\n",
    "        for t in range(len(tests)):\n",
    "            test = tests[t]\n",
    "            outputs[t][s][i] = test(\n",
    "                X,\n",
    "                Y,\n",
    "                subkey,\n",
    "                seed,\n",
    "            )\n",
    "\n",
    "output = jnp.mean(jnp.array(outputs), -1)\n",
    "\n",
    "jnp.save(\"results/perturbations_vary_n_d1.npy\", output)\n",
    "jnp.save(\"results/perturbations_vary_n_d1_x_axis.npy\", sample_sizes)\n",
    "\n",
    "print(\"sample sizes :\", sample_sizes)\n",
    "print(\"scale :\", scale)\n",
    "for t in range(len(tests)):\n",
    "    print(\" \")\n",
    "    print(tests[t])\n",
    "    print(output[t])"
   ]
  },
  {
   "cell_type": "markdown",
   "id": "a6eff1eb-446e-47f9-8fbb-c72600044c68",
   "metadata": {},
   "source": [
    "### Vary difficulty d=2"
   ]
  },
  {
   "cell_type": "code",
   "execution_count": null,
   "id": "41ca8adf-88c1-4f29-9eb4-d6cc352da70e",
   "metadata": {},
   "outputs": [],
   "source": [
    "repetitions = 200\n",
    "scales = (0, 0.2, 0.4, 0.6, 0.8, 1)\n",
    "number_perturbations = 2\n",
    "sample_size = 500\n",
    "d = 2\n",
    "\n",
    "# tests = (mmdfuse_test, mmd_median_test, mmd_split_test, mmdagg_test, mmdagginc_test, deep_mmd_test, met_test, scf_test, ctt_test, actt_test)\n",
    "tests = (hsicfuse_test, )\n",
    "outputs = jnp.zeros((len(tests), len(scales), repetitions))\n",
    "outputs = outputs.tolist()\n",
    "key = random.PRNGKey(42)\n",
    "seed = 42\n",
    "for s in tqdm(range(len(scales))):\n",
    "    scale = scales[s]\n",
    "    for i in tqdm(range(repetitions)):\n",
    "        key, subkey = random.split(key)\n",
    "        X, Y = sampler_perturbations(m=sample_size, n=sample_size, d=d, scale=scale, number_perturbations=number_perturbations, seed=seed)\n",
    "        key, subkey = random.split(key)\n",
    "        seed += 1\n",
    "        for t in range(len(tests)):\n",
    "            test = tests[t]\n",
    "            outputs[t][s][i] = test(\n",
    "                X,\n",
    "                Y,\n",
    "                subkey,\n",
    "                seed,\n",
    "            )\n",
    "\n",
    "output = jnp.mean(jnp.array(outputs), -1)\n",
    "\n",
    "jnp.save(\"results/perturbations_vary_dif_d2.npy\", output)\n",
    "jnp.save(\"results/perturbations_vary_dif_d2_x_axis.npy\", scales)\n",
    "\n",
    "print(\"scales :\", scales)\n",
    "print(\"sample size :\", sample_size)\n",
    "for t in range(len(tests)):\n",
    "    print(\" \")\n",
    "    print(tests[t])\n",
    "    print(output[t])"
   ]
  },
  {
   "cell_type": "markdown",
   "id": "fa941754-1131-4c77-a396-893ceaac30b0",
   "metadata": {},
   "source": [
    "### Vary sample size d=2"
   ]
  },
  {
   "cell_type": "code",
   "execution_count": null,
   "id": "39bca358-6c3e-4c57-8f7b-7885a4eb92e5",
   "metadata": {},
   "outputs": [],
   "source": [
    "repetitions = 200\n",
    "scale = 0.4\n",
    "number_perturbations = 2\n",
    "sample_sizes = (500, 1000, 1500, 2000, 2500, 3000)\n",
    "d = 2\n",
    "\n",
    "# tests = (mmdfuse_test, mmd_median_test, mmd_split_test, mmdagg_test, mmdagginc_test, deep_mmd_test, met_test, scf_test, ctt_test, actt_test)\n",
    "tests = (hsicfuse_test, )\n",
    "outputs = jnp.zeros((len(tests), len(sample_sizes), repetitions))\n",
    "outputs = outputs.tolist()\n",
    "key = random.PRNGKey(42)\n",
    "seed = 42\n",
    "for s in (range(len(sample_sizes))):\n",
    "    sample_size = sample_sizes[s]\n",
    "    for i in (range(repetitions)):\n",
    "        key, subkey = random.split(key)\n",
    "        X, Y = sampler_perturbations(m=sample_size, n=sample_size, d=d, scale=scale, number_perturbations=number_perturbations, seed=seed)\n",
    "        key, subkey = random.split(key)\n",
    "        seed += 1\n",
    "        for t in range(len(tests)):\n",
    "            test = tests[t]\n",
    "            outputs[t][s][i] = test(\n",
    "                X,\n",
    "                Y,\n",
    "                subkey,\n",
    "                seed,\n",
    "            )\n",
    "\n",
    "output = jnp.mean(jnp.array(outputs), -1)\n",
    "\n",
    "jnp.save(\"results/perturbations_vary_n_d2.npy\", output)\n",
    "jnp.save(\"results/perturbations_vary_n_d2_x_axis.npy\", sample_sizes)\n",
    "\n",
    "print(\"sample sizes :\", sample_sizes)\n",
    "print(\"scale :\", scale)\n",
    "for t in range(len(tests)):\n",
    "    print(\" \")\n",
    "    print(tests[t])\n",
    "    print(output[t])"
   ]
  },
  {
   "cell_type": "code",
   "execution_count": null,
   "id": "41099206-0e25-4074-b9ea-a7d51116fd53",
   "metadata": {},
   "outputs": [],
   "source": []
  }
 ],
 "metadata": {
  "kernelspec": {
   "display_name": "Python 3 (ipykernel)",
   "language": "python",
   "name": "python3"
  },
  "language_info": {
   "codemirror_mode": {
    "name": "ipython",
    "version": 3
   },
   "file_extension": ".py",
   "mimetype": "text/x-python",
   "name": "python",
   "nbconvert_exporter": "python",
   "pygments_lexer": "ipython3",
   "version": "3.9.16"
  }
 },
 "nbformat": 4,
 "nbformat_minor": 5
}
