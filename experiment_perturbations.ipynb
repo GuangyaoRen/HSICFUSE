{
 "cells": [
  {
   "cell_type": "code",
   "execution_count": 1,
   "id": "74ff30fc-e47a-4cf6-8bcd-2c054d6df333",
   "metadata": {},
   "outputs": [],
   "source": [
    "from sampler_perturbations import f_theta_sampler\n",
    "import numpy as np\n",
    "import jax\n",
    "import jax.numpy as jnp\n",
    "from jax import random, jit, vmap\n",
    "from tqdm.auto import tqdm\n",
    "from pathlib import Path\n",
    "Path(\"results\").mkdir(exist_ok=True)\n",
    "%load_ext autoreload\n",
    "%autoreload 2"
   ]
  },
  {
   "cell_type": "code",
   "execution_count": 2,
   "id": "514b7941-7638-4360-93b2-86a66d292841",
   "metadata": {},
   "outputs": [],
   "source": [
    "from all_tests import hsicfuse_test, hsic_test\n",
    "from all_tests import hsicagginc1_test, hsicagginc100_test, hsicagginc200_test, hsicaggincquad_test"
   ]
  },
  {
   "cell_type": "markdown",
   "id": "b66ec1c5-d768-49bd-b49e-395301c6d526",
   "metadata": {},
   "source": [
    "### Vary difficulty d=2"
   ]
  },
  {
   "cell_type": "code",
   "execution_count": 3,
   "id": "2bf88010-7412-4866-9578-b09cb492bb5c",
   "metadata": {},
   "outputs": [
    {
     "data": {
      "application/vnd.jupyter.widget-view+json": {
       "model_id": "656944eb4c844920b654404756831bde",
       "version_major": 2,
       "version_minor": 0
      },
      "text/plain": [
       "  0%|          | 0/6 [00:00<?, ?it/s]"
      ]
     },
     "metadata": {},
     "output_type": "display_data"
    },
    {
     "data": {
      "application/vnd.jupyter.widget-view+json": {
       "model_id": "8488bc5ab7a94998aea37ff27d003d27",
       "version_major": 2,
       "version_minor": 0
      },
      "text/plain": [
       "  0%|          | 0/200 [00:00<?, ?it/s]"
      ]
     },
     "metadata": {},
     "output_type": "display_data"
    },
    {
     "data": {
      "application/vnd.jupyter.widget-view+json": {
       "model_id": "af0e8cb2072b40ebb2c08f489cd25467",
       "version_major": 2,
       "version_minor": 0
      },
      "text/plain": [
       "  0%|          | 0/200 [00:00<?, ?it/s]"
      ]
     },
     "metadata": {},
     "output_type": "display_data"
    },
    {
     "data": {
      "application/vnd.jupyter.widget-view+json": {
       "model_id": "efbaf73f196048efbd1effe451d83b38",
       "version_major": 2,
       "version_minor": 0
      },
      "text/plain": [
       "  0%|          | 0/200 [00:00<?, ?it/s]"
      ]
     },
     "metadata": {},
     "output_type": "display_data"
    },
    {
     "data": {
      "application/vnd.jupyter.widget-view+json": {
       "model_id": "33d4d1c6eb254fb1acf2f4dbaec57a00",
       "version_major": 2,
       "version_minor": 0
      },
      "text/plain": [
       "  0%|          | 0/200 [00:00<?, ?it/s]"
      ]
     },
     "metadata": {},
     "output_type": "display_data"
    },
    {
     "data": {
      "application/vnd.jupyter.widget-view+json": {
       "model_id": "8cb52e385c4a42f9b4e4c7e986f74158",
       "version_major": 2,
       "version_minor": 0
      },
      "text/plain": [
       "  0%|          | 0/200 [00:00<?, ?it/s]"
      ]
     },
     "metadata": {},
     "output_type": "display_data"
    },
    {
     "data": {
      "application/vnd.jupyter.widget-view+json": {
       "model_id": "5f0ee795ff5f425cac608b3396442acb",
       "version_major": 2,
       "version_minor": 0
      },
      "text/plain": [
       "  0%|          | 0/200 [00:00<?, ?it/s]"
      ]
     },
     "metadata": {},
     "output_type": "display_data"
    },
    {
     "name": "stdout",
     "output_type": "stream",
     "text": [
      "scales : (0.0, 0.2, 0.4, 0.6, 0.8, 1.0)\n",
      "sample size : 500\n",
      " \n",
      "<function hsicfuse_test at 0x7faf143833a0>\n",
      "[0.055      0.35999998 0.96       1.         1.         1.        ]\n",
      " \n",
      "<function hsic_test at 0x7facb70c8dc0>\n",
      "[0.03       0.065      0.295      0.615      0.90999997 0.98499995]\n",
      " \n",
      "<function hsicagginc1_test at 0x7facb70c8f70>\n",
      "[0.03  0.06  0.065 0.075 0.195 0.435]\n",
      " \n",
      "<function hsicagginc100_test at 0x7facb7047430>\n",
      "[0.01       0.08       0.48999998 0.885      0.98999995 1.        ]\n",
      " \n",
      "<function hsicagginc200_test at 0x7facb70474c0>\n",
      "[0.025      0.11499999 0.53499997 0.91499996 0.98999995 1.        ]\n",
      " \n",
      "<function hsicaggincquad_test at 0x7facb7047550>\n",
      "[0.025      0.11       0.55       0.91499996 0.995      1.        ]\n"
     ]
    }
   ],
   "source": [
    "repetitions          = 200\n",
    "scales               = (0.0, 0.2, 0.4, 0.6, 0.8, 1.0)\n",
    "sample_size          = 500  \n",
    "d                    = 2\n",
    "f_theta_seed         = 0\n",
    "p                    = 1\n",
    "s                    = 1\n",
    "\n",
    "tests = (hsicfuse_test, hsic_test, hsicagginc1_test, hsicagginc100_test, hsicagginc200_test, hsicaggincquad_test)\n",
    "outputs = jnp.zeros((len(tests), len(scales), repetitions))\n",
    "outputs = outputs.tolist()\n",
    "key = random.PRNGKey(42)\n",
    "seed = 42\n",
    "for s in tqdm(range(len(scales))):\n",
    "    scale = scales[s]\n",
    "    for i in tqdm(range(repetitions)):\n",
    "        key, subkey = random.split(key)\n",
    "        perturbation_multiplier = np.exp(d) * p ** s * scale \n",
    "        Z = f_theta_sampler(f_theta_seed, seed, sample_size, p, s, perturbation_multiplier, d)\n",
    "        X = jnp.expand_dims(Z[:, 0], 1)\n",
    "        Y = jnp.expand_dims(Z[:, 1], 1)\n",
    "        key, subkey = random.split(key)\n",
    "        seed += 1\n",
    "        for t in range(len(tests)):\n",
    "            test = tests[t]\n",
    "            outputs[t][s][i] = test(X, Y, subkey, seed)\n",
    "\n",
    "output = jnp.mean(jnp.array(outputs), -1) # the last dimension is eliminated\n",
    "\n",
    "jnp.save(\"results/perturbations_vary_dif_d2.npy\", output)\n",
    "jnp.save(\"results/perturbations_vary_dif_d2_x_axis.npy\", scales)\n",
    "\n",
    "print(\"scales :\", scales)\n",
    "print(\"sample size :\", sample_size)\n",
    "for t in range(len(tests)):\n",
    "    print(\" \")\n",
    "    print(tests[t])\n",
    "    print(output[t])\n",
    "    "
   ]
  },
  {
   "cell_type": "markdown",
   "id": "87e762c7-edc7-411f-a62d-daaf49e71f71",
   "metadata": {},
   "source": [
    "## Vary sample size d=2"
   ]
  },
  {
   "cell_type": "code",
   "execution_count": 7,
   "id": "85d0a04b-b503-4d28-b5ef-b55fc74eefce",
   "metadata": {},
   "outputs": [
    {
     "data": {
      "application/vnd.jupyter.widget-view+json": {
       "model_id": "4415c78f275749b9a3bf15a7a9847490",
       "version_major": 2,
       "version_minor": 0
      },
      "text/plain": [
       "  0%|          | 0/5 [00:00<?, ?it/s]"
      ]
     },
     "metadata": {},
     "output_type": "display_data"
    },
    {
     "data": {
      "application/vnd.jupyter.widget-view+json": {
       "model_id": "325335eaa9c444fab732b9e2f1b4424a",
       "version_major": 2,
       "version_minor": 0
      },
      "text/plain": [
       "  0%|          | 0/200 [00:00<?, ?it/s]"
      ]
     },
     "metadata": {},
     "output_type": "display_data"
    },
    {
     "data": {
      "application/vnd.jupyter.widget-view+json": {
       "model_id": "29d06191d49f4e918386bd980d90c563",
       "version_major": 2,
       "version_minor": 0
      },
      "text/plain": [
       "  0%|          | 0/200 [00:00<?, ?it/s]"
      ]
     },
     "metadata": {},
     "output_type": "display_data"
    },
    {
     "data": {
      "application/vnd.jupyter.widget-view+json": {
       "model_id": "0f14d1abdf8f4c0ab0290dbb76d7743e",
       "version_major": 2,
       "version_minor": 0
      },
      "text/plain": [
       "  0%|          | 0/200 [00:00<?, ?it/s]"
      ]
     },
     "metadata": {},
     "output_type": "display_data"
    },
    {
     "data": {
      "application/vnd.jupyter.widget-view+json": {
       "model_id": "904668ff2c054371aa8d39f0fa10b53f",
       "version_major": 2,
       "version_minor": 0
      },
      "text/plain": [
       "  0%|          | 0/200 [00:00<?, ?it/s]"
      ]
     },
     "metadata": {},
     "output_type": "display_data"
    },
    {
     "data": {
      "application/vnd.jupyter.widget-view+json": {
       "model_id": "cee332586cfb4f88ac3b6f17b56e85d5",
       "version_major": 2,
       "version_minor": 0
      },
      "text/plain": [
       "  0%|          | 0/200 [00:00<?, ?it/s]"
      ]
     },
     "metadata": {},
     "output_type": "display_data"
    },
    {
     "name": "stdout",
     "output_type": "stream",
     "text": [
      "sample sizes : (200, 400, 600, 800, 1000)\n",
      "scale : 0.6\n",
      " \n",
      "<function hsicfuse_test at 0x7faf143833a0>\n",
      "[0.94 1.   1.   1.   1.  ]\n",
      " \n",
      "<function hsic_test at 0x7facb70c8dc0>\n",
      "[0.315      0.5        0.65       0.77       0.79499996]\n",
      " \n",
      "<function hsicagginc1_test at 0x7facb70c8f70>\n",
      "[0.065      0.09       0.105      0.14       0.16499999]\n",
      " \n",
      "<function hsicagginc100_test at 0x7facb7047430>\n",
      "[0.42       0.82       0.91499996 0.97999996 0.98499995]\n",
      " \n",
      "<function hsicagginc200_test at 0x7facb70474c0>\n",
      "[0.42       0.84499997 0.965      0.97999996 0.995     ]\n",
      " \n",
      "<function hsicaggincquad_test at 0x7facb7047550>\n",
      "[0.42       0.84499997 0.96999997 0.98999995 1.        ]\n"
     ]
    }
   ],
   "source": [
    "repetitions          = 200\n",
    "scale                = 0.6\n",
    "number_perturbations = 2\n",
    "sample_sizes         = (200, 400, 600, 800, 1000)\n",
    "d                    = 2\n",
    "f_theta_seed         = 0\n",
    "p                    = 1\n",
    "s                    = 1\n",
    "\n",
    "tests = (hsicfuse_test, hsic_test, hsicagginc1_test, hsicagginc100_test, hsicagginc200_test, hsicaggincquad_test)\n",
    "outputs = jnp.zeros((len(tests), len(sample_sizes), repetitions))\n",
    "outputs = outputs.tolist()\n",
    "key = random.PRNGKey(42)\n",
    "seed = 42\n",
    "for s in tqdm(range(len(sample_sizes))):\n",
    "    sample_size = sample_sizes[s]\n",
    "    for i in tqdm(range(repetitions)):\n",
    "        key, subkey = random.split(key)\n",
    "        perturbation_multiplier = np.exp(d) * p ** s * scale \n",
    "        Z = f_theta_sampler(f_theta_seed, seed, sample_size, p, s, perturbation_multiplier, d)\n",
    "        X = jnp.expand_dims(Z[:, 0], 1)\n",
    "        Y = jnp.expand_dims(Z[:, 1], 1)\n",
    "        key, subkey = random.split(key)\n",
    "        seed += 1\n",
    "        for t in range(len(tests)):\n",
    "            test = tests[t]\n",
    "            outputs[t][s][i] = test(X, Y, subkey, seed)\n",
    "\n",
    "output = jnp.mean(jnp.array(outputs), -1)\n",
    "\n",
    "jnp.save(\"results/perturbations_vary_n_d2.npy\", output)\n",
    "jnp.save(\"results/perturbations_vary_n_d2_x_axis.npy\", sample_sizes)\n",
    "\n",
    "print(\"sample sizes :\", sample_sizes)\n",
    "print(\"scale :\", scale)\n",
    "for t in range(len(tests)):\n",
    "    print(\" \")\n",
    "    print(tests[t])\n",
    "    print(output[t])"
   ]
  },
  {
   "cell_type": "markdown",
   "id": "a6eff1eb-446e-47f9-8fbb-c72600044c68",
   "metadata": {},
   "source": [
    "### Vary d"
   ]
  },
  {
   "cell_type": "code",
   "execution_count": 10,
   "id": "41ca8adf-88c1-4f29-9eb4-d6cc352da70e",
   "metadata": {},
   "outputs": [
    {
     "data": {
      "application/vnd.jupyter.widget-view+json": {
       "model_id": "cef386d13d5d4f6ba4034565e1662aa1",
       "version_major": 2,
       "version_minor": 0
      },
      "text/plain": [
       "  0%|          | 0/4 [00:00<?, ?it/s]"
      ]
     },
     "metadata": {},
     "output_type": "display_data"
    },
    {
     "data": {
      "application/vnd.jupyter.widget-view+json": {
       "model_id": "f3428fa642d74daaae0e3bfbd6f50602",
       "version_major": 2,
       "version_minor": 0
      },
      "text/plain": [
       "  0%|          | 0/200 [00:00<?, ?it/s]"
      ]
     },
     "metadata": {},
     "output_type": "display_data"
    },
    {
     "data": {
      "application/vnd.jupyter.widget-view+json": {
       "model_id": "e6e39c237475413fb94e40d65233215b",
       "version_major": 2,
       "version_minor": 0
      },
      "text/plain": [
       "  0%|          | 0/200 [00:00<?, ?it/s]"
      ]
     },
     "metadata": {},
     "output_type": "display_data"
    },
    {
     "data": {
      "application/vnd.jupyter.widget-view+json": {
       "model_id": "56696acd745549acae6b68478297e713",
       "version_major": 2,
       "version_minor": 0
      },
      "text/plain": [
       "  0%|          | 0/200 [00:00<?, ?it/s]"
      ]
     },
     "metadata": {},
     "output_type": "display_data"
    },
    {
     "data": {
      "application/vnd.jupyter.widget-view+json": {
       "model_id": "391334f962af4da6999ca7e31f289170",
       "version_major": 2,
       "version_minor": 0
      },
      "text/plain": [
       "  0%|          | 0/200 [00:00<?, ?it/s]"
      ]
     },
     "metadata": {},
     "output_type": "display_data"
    },
    {
     "name": "stdout",
     "output_type": "stream",
     "text": [
      "d : (1, 2, 3, 4)\n",
      "sample size : 500\n",
      " \n",
      "<function hsicfuse_test at 0x7faf143833a0>\n",
      "[1.    0.9   0.065 0.035]\n",
      " \n",
      "<function hsic_test at 0x7facb70c8dc0>\n",
      "[1.    0.08  0.065 0.04 ]\n",
      " \n",
      "<function hsicagginc1_test at 0x7facb70c8f70>\n",
      "[0.375 0.065 0.035 0.025]\n",
      " \n",
      "<function hsicagginc100_test at 0x7facb7047430>\n",
      "[1.         0.72499996 0.11499999 0.045     ]\n",
      " \n",
      "<function hsicagginc200_test at 0x7facb70474c0>\n",
      "[1.   0.82 0.14 0.05]\n",
      " \n",
      "<function hsicaggincquad_test at 0x7facb7047550>\n",
      "[1.    0.825 0.13  0.045]\n"
     ]
    }
   ],
   "source": [
    "repetitions          = 200\n",
    "scales               = 1.0\n",
    "number_perturbations = 2\n",
    "sample_size          = 500\n",
    "d_values             = (1, 2, 3, 4)\n",
    "f_theta_seed         = 0\n",
    "p                    = 1\n",
    "s                    = 1\n",
    "\n",
    "tests = (hsicfuse_test, hsic_test, hsicagginc1_test, hsicagginc100_test, hsicagginc200_test, hsicaggincquad_test)\n",
    "outputs = jnp.zeros((len(tests), len(d_values), repetitions))\n",
    "outputs = outputs.tolist()\n",
    "key = random.PRNGKey(42)\n",
    "seed = 42\n",
    "for s in tqdm(range(len(d_values))):\n",
    "    d = d_values[s]\n",
    "    for i in tqdm(range(repetitions)):\n",
    "        key, subkey = random.split(key)\n",
    "        perturbation_multiplier = np.exp(d + 1) * p ** s * scale \n",
    "        Z = f_theta_sampler(f_theta_seed, seed, sample_size, p, s, perturbation_multiplier, d + 1)\n",
    "        X = Z[:, :1]\n",
    "        Y = Z[:, 1:]\n",
    "        key, subkey = random.split(key)\n",
    "        seed += 1\n",
    "        for t in range(len(tests)):\n",
    "            test = tests[t]\n",
    "            outputs[t][s][i] = test(X, Y, subkey, seed)\n",
    "\n",
    "output = jnp.mean(jnp.array(outputs), -1)\n",
    "\n",
    "jnp.save(\"results/perturbations_vary_d.npy\", output)\n",
    "jnp.save(\"results/perturbations_vary_d_x_axis.npy\", d_values)\n",
    "\n",
    "print(\"d :\", d_values)\n",
    "print(\"sample size :\", sample_size)\n",
    "for t in range(len(tests)):\n",
    "    print(\" \")\n",
    "    print(tests[t])\n",
    "    print(output[t])"
   ]
  },
  {
   "cell_type": "code",
   "execution_count": null,
   "id": "41099206-0e25-4074-b9ea-a7d51116fd53",
   "metadata": {},
   "outputs": [],
   "source": []
  },
  {
   "cell_type": "code",
   "execution_count": null,
   "id": "a98e2f6e-de42-404f-b1ee-6a7c8e5f425b",
   "metadata": {},
   "outputs": [],
   "source": []
  },
  {
   "cell_type": "code",
   "execution_count": null,
   "id": "4de3cbe1-550a-4515-8ac7-4916b201c18d",
   "metadata": {},
   "outputs": [],
   "source": []
  },
  {
   "cell_type": "code",
   "execution_count": null,
   "id": "57015432-6fff-4755-b100-08fd12d6d50a",
   "metadata": {},
   "outputs": [],
   "source": []
  },
  {
   "cell_type": "code",
   "execution_count": null,
   "id": "da6af38c-0aa4-4b2b-b599-e88daa9bafae",
   "metadata": {},
   "outputs": [],
   "source": []
  }
 ],
 "metadata": {
  "kernelspec": {
   "display_name": "Python 3 (ipykernel)",
   "language": "python",
   "name": "python3"
  },
  "language_info": {
   "codemirror_mode": {
    "name": "ipython",
    "version": 3
   },
   "file_extension": ".py",
   "mimetype": "text/x-python",
   "name": "python",
   "nbconvert_exporter": "python",
   "pygments_lexer": "ipython3",
   "version": "3.9.16"
  }
 },
 "nbformat": 4,
 "nbformat_minor": 5
}
