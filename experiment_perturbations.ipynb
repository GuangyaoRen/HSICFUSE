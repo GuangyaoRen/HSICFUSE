{
 "cells": [
  {
   "cell_type": "code",
   "execution_count": 4,
   "id": "74ff30fc-e47a-4cf6-8bcd-2c054d6df333",
   "metadata": {},
   "outputs": [
    {
     "name": "stdout",
     "output_type": "stream",
     "text": [
      "The autoreload extension is already loaded. To reload it, use:\n",
      "  %reload_ext autoreload\n"
     ]
    }
   ],
   "source": [
    "from sampler_perturbations import f_theta_sampler\n",
    "import numpy as np\n",
    "import jax\n",
    "import jax.numpy as jnp\n",
    "from jax import random, jit, vmap\n",
    "from tqdm.auto import tqdm\n",
    "from pathlib import Path\n",
    "Path(\"results\").mkdir(exist_ok=True)\n",
    "%load_ext autoreload\n",
    "%autoreload 2"
   ]
  },
  {
   "cell_type": "code",
   "execution_count": 5,
   "id": "514b7941-7638-4360-93b2-86a66d292841",
   "metadata": {},
   "outputs": [],
   "source": [
    "from all_tests import hsicfuse_test, hsic_test\n",
    "from all_tests import hsicagginc1_test, hsicagginc100_test, hsicagginc200_test, hsicaggincquad_test"
   ]
  },
  {
   "cell_type": "markdown",
   "id": "b66ec1c5-d768-49bd-b49e-395301c6d526",
   "metadata": {},
   "source": [
    "### Vary difficulty d=2"
   ]
  },
  {
   "cell_type": "code",
   "execution_count": 13,
   "id": "2bf88010-7412-4866-9578-b09cb492bb5c",
   "metadata": {},
   "outputs": [
    {
     "data": {
      "application/vnd.jupyter.widget-view+json": {
       "model_id": "fcbdac0e7aa5496fa3f0c866fe967898",
       "version_major": 2,
       "version_minor": 0
      },
      "text/plain": [
       "  0%|          | 0/5 [00:00<?, ?it/s]"
      ]
     },
     "metadata": {},
     "output_type": "display_data"
    },
    {
     "data": {
      "application/vnd.jupyter.widget-view+json": {
       "model_id": "8c396bc44b8442d5aa30eacbb4f94903",
       "version_major": 2,
       "version_minor": 0
      },
      "text/plain": [
       "  0%|          | 0/200 [00:00<?, ?it/s]"
      ]
     },
     "metadata": {},
     "output_type": "display_data"
    },
    {
     "data": {
      "application/vnd.jupyter.widget-view+json": {
       "model_id": "df315f3ab5b345e98bfd6184db07e0c8",
       "version_major": 2,
       "version_minor": 0
      },
      "text/plain": [
       "  0%|          | 0/200 [00:00<?, ?it/s]"
      ]
     },
     "metadata": {},
     "output_type": "display_data"
    },
    {
     "data": {
      "application/vnd.jupyter.widget-view+json": {
       "model_id": "344f5bf33fa948a5a5f936895d353ade",
       "version_major": 2,
       "version_minor": 0
      },
      "text/plain": [
       "  0%|          | 0/200 [00:00<?, ?it/s]"
      ]
     },
     "metadata": {},
     "output_type": "display_data"
    },
    {
     "data": {
      "application/vnd.jupyter.widget-view+json": {
       "model_id": "15b77ccb42e149e69b61ad8abe8e0b31",
       "version_major": 2,
       "version_minor": 0
      },
      "text/plain": [
       "  0%|          | 0/200 [00:00<?, ?it/s]"
      ]
     },
     "metadata": {},
     "output_type": "display_data"
    },
    {
     "data": {
      "application/vnd.jupyter.widget-view+json": {
       "model_id": "b7f1decdcb354306bdd70d9f819e5f6a",
       "version_major": 2,
       "version_minor": 0
      },
      "text/plain": [
       "  0%|          | 0/200 [00:00<?, ?it/s]"
      ]
     },
     "metadata": {},
     "output_type": "display_data"
    },
    {
     "name": "stdout",
     "output_type": "stream",
     "text": [
      "scales : (0.1, 0.2, 0.3, 0.4, 0.5)\n",
      "sample size : 500\n",
      " \n",
      "<function hsicfuse_test at 0x7f320c2f2430>\n",
      "[0.405      0.655      0.92499995 0.995      1.        ]\n",
      " \n",
      "<function hsic_test at 0x7f307804fb80>\n",
      "[0.055 0.065 0.205 0.28  0.38 ]\n",
      " \n",
      "<function hsicagginc1_test at 0x7f307804fd30>\n",
      "[0.02  0.06  0.03  0.065 0.065]\n",
      " \n",
      "<function hsicagginc100_test at 0x7f3077fcf1f0>\n",
      "[0.025 0.08  0.28  0.5   0.675]\n",
      " \n",
      "<function hsicagginc200_test at 0x7f3077fcf280>\n",
      "[0.04       0.11499999 0.29       0.55       0.715     ]\n",
      " \n",
      "<function hsicaggincquad_test at 0x7f3077fcf310>\n",
      "[0.05       0.11       0.295      0.545      0.71999997]\n"
     ]
    }
   ],
   "source": [
    "repetitions          = 200\n",
    "scales               = (0.1, 0.2, 0.3, 0.4, 0.5)\n",
    "sample_size          = 500  \n",
    "d                    = 2\n",
    "f_theta_seed         = 0\n",
    "p                    = 1\n",
    "s                    = 1\n",
    "\n",
    "tests = (hsicfuse_test, hsic_test, hsicagginc1_test, hsicagginc100_test, hsicagginc200_test, hsicaggincquad_test)\n",
    "outputs = jnp.zeros((len(tests), len(scales), repetitions))\n",
    "outputs = outputs.tolist()\n",
    "key = random.PRNGKey(42)\n",
    "seed = 42\n",
    "for s in tqdm(range(len(scales))):\n",
    "    scale = scales[s]\n",
    "    for i in tqdm(range(repetitions)):\n",
    "        key, subkey = random.split(key)\n",
    "        perturbation_multiplier = np.exp(d) * p ** s * scale \n",
    "        Z = f_theta_sampler(f_theta_seed, seed, sample_size, p, s, perturbation_multiplier, d)\n",
    "        X = jnp.expand_dims(Z[:, 0], 1)\n",
    "        Y = jnp.expand_dims(Z[:, 1], 1)\n",
    "        key, subkey = random.split(key)\n",
    "        seed += 1\n",
    "        for t in range(len(tests)):\n",
    "            test = tests[t]\n",
    "            outputs[t][s][i] = test(X, Y, subkey, seed)\n",
    "\n",
    "output = jnp.mean(jnp.array(outputs), -1) # the last dimension is eliminated\n",
    "\n",
    "jnp.save(\"results/perturbations_vary_dif_d2.npy\", output)\n",
    "jnp.save(\"results/perturbations_vary_dif_d2_x_axis.npy\", scales)\n",
    "\n",
    "print(\"scales :\", scales)\n",
    "print(\"sample size :\", sample_size)\n",
    "for t in range(len(tests)):\n",
    "    print(\" \")\n",
    "    print(tests[t])\n",
    "    print(output[t])\n",
    "    "
   ]
  },
  {
   "cell_type": "markdown",
   "id": "87e762c7-edc7-411f-a62d-daaf49e71f71",
   "metadata": {},
   "source": [
    "## Vary sample size d=2"
   ]
  },
  {
   "cell_type": "code",
   "execution_count": 6,
   "id": "85d0a04b-b503-4d28-b5ef-b55fc74eefce",
   "metadata": {},
   "outputs": [
    {
     "data": {
      "application/vnd.jupyter.widget-view+json": {
       "model_id": "e005a8557f784a8f9e56b64985514ae2",
       "version_major": 2,
       "version_minor": 0
      },
      "text/plain": [
       "  0%|          | 0/5 [00:00<?, ?it/s]"
      ]
     },
     "metadata": {},
     "output_type": "display_data"
    },
    {
     "data": {
      "application/vnd.jupyter.widget-view+json": {
       "model_id": "a75122bc12f744fdaac44aa59df56dd4",
       "version_major": 2,
       "version_minor": 0
      },
      "text/plain": [
       "  0%|          | 0/200 [00:00<?, ?it/s]"
      ]
     },
     "metadata": {},
     "output_type": "display_data"
    },
    {
     "data": {
      "application/vnd.jupyter.widget-view+json": {
       "model_id": "f6674b0a7cbf47ecaa307ff5f843fdb2",
       "version_major": 2,
       "version_minor": 0
      },
      "text/plain": [
       "  0%|          | 0/200 [00:00<?, ?it/s]"
      ]
     },
     "metadata": {},
     "output_type": "display_data"
    },
    {
     "data": {
      "application/vnd.jupyter.widget-view+json": {
       "model_id": "107cb463b3c347eda5dc05835a835ec8",
       "version_major": 2,
       "version_minor": 0
      },
      "text/plain": [
       "  0%|          | 0/200 [00:00<?, ?it/s]"
      ]
     },
     "metadata": {},
     "output_type": "display_data"
    },
    {
     "data": {
      "application/vnd.jupyter.widget-view+json": {
       "model_id": "d423008f0574435b89eeaf4016cbf0d6",
       "version_major": 2,
       "version_minor": 0
      },
      "text/plain": [
       "  0%|          | 0/200 [00:00<?, ?it/s]"
      ]
     },
     "metadata": {},
     "output_type": "display_data"
    },
    {
     "data": {
      "application/vnd.jupyter.widget-view+json": {
       "model_id": "30678bfb12d041fabff343ab25b50393",
       "version_major": 2,
       "version_minor": 0
      },
      "text/plain": [
       "  0%|          | 0/200 [00:00<?, ?it/s]"
      ]
     },
     "metadata": {},
     "output_type": "display_data"
    },
    {
     "name": "stdout",
     "output_type": "stream",
     "text": [
      "sample sizes : (200, 400, 600, 800, 1000)\n",
      "scale : 0.2\n",
      " \n",
      "<function hsicfuse_test at 0x7f320c2f2430>\n",
      "[0.39499998 0.59499997 0.72999996 0.835      0.865     ]\n",
      " \n",
      "<function hsic_test at 0x7f307804fb80>\n",
      "[0.055      0.08       0.11499999 0.08       0.125     ]\n",
      " \n",
      "<function hsicagginc1_test at 0x7f307804fd30>\n",
      "[0.055 0.03  0.04  0.015 0.04 ]\n",
      " \n",
      "<function hsicagginc100_test at 0x7f3077fcf1f0>\n",
      "[0.045      0.095      0.12       0.185      0.19999999]\n",
      " \n",
      "<function hsicagginc200_test at 0x7f3077fcf280>\n",
      "[0.045      0.105      0.155      0.235      0.22999999]\n",
      " \n",
      "<function hsicaggincquad_test at 0x7f3077fcf310>\n",
      "[0.045 0.105 0.145 0.25  0.24 ]\n"
     ]
    }
   ],
   "source": [
    "repetitions          = 200\n",
    "scale                = 0.2\n",
    "number_perturbations = 2\n",
    "sample_sizes         = (200, 400, 600, 800, 1000)\n",
    "d                    = 2\n",
    "f_theta_seed         = 0\n",
    "p                    = 1\n",
    "s                    = 1\n",
    "\n",
    "tests = (hsicfuse_test, hsic_test, hsicagginc1_test, hsicagginc100_test, hsicagginc200_test, hsicaggincquad_test)\n",
    "outputs = jnp.zeros((len(tests), len(sample_sizes), repetitions))\n",
    "outputs = outputs.tolist()\n",
    "key = random.PRNGKey(42)\n",
    "seed = 42\n",
    "for s in tqdm(range(len(sample_sizes))):\n",
    "    sample_size = sample_sizes[s]\n",
    "    for i in tqdm(range(repetitions)):\n",
    "        key, subkey = random.split(key)\n",
    "        perturbation_multiplier = np.exp(d) * p ** s * scale \n",
    "        Z = f_theta_sampler(f_theta_seed, seed, sample_size, p, s, perturbation_multiplier, d)\n",
    "        X = jnp.expand_dims(Z[:, 0], 1)\n",
    "        Y = jnp.expand_dims(Z[:, 1], 1)\n",
    "        key, subkey = random.split(key)\n",
    "        seed += 1\n",
    "        for t in range(len(tests)):\n",
    "            test = tests[t]\n",
    "            outputs[t][s][i] = test(X, Y, subkey, seed)\n",
    "\n",
    "output = jnp.mean(jnp.array(outputs), -1)\n",
    "\n",
    "jnp.save(\"results/perturbations_vary_n_d2.npy\", output)\n",
    "jnp.save(\"results/perturbations_vary_n_d2_x_axis.npy\", sample_sizes)\n",
    "\n",
    "print(\"sample sizes :\", sample_sizes)\n",
    "print(\"scale :\", scale)\n",
    "for t in range(len(tests)):\n",
    "    print(\" \")\n",
    "    print(tests[t])\n",
    "    print(output[t])"
   ]
  },
  {
   "cell_type": "markdown",
   "id": "a6eff1eb-446e-47f9-8fbb-c72600044c68",
   "metadata": {},
   "source": [
    "### Vary difficulty d=4"
   ]
  },
  {
   "cell_type": "code",
   "execution_count": 9,
   "id": "41ca8adf-88c1-4f29-9eb4-d6cc352da70e",
   "metadata": {},
   "outputs": [
    {
     "data": {
      "application/vnd.jupyter.widget-view+json": {
       "model_id": "25f6496b4da9491ab3fe12ed73a65b8e",
       "version_major": 2,
       "version_minor": 0
      },
      "text/plain": [
       "  0%|          | 0/5 [00:00<?, ?it/s]"
      ]
     },
     "metadata": {},
     "output_type": "display_data"
    },
    {
     "data": {
      "application/vnd.jupyter.widget-view+json": {
       "model_id": "aac2f0ff01424409950099d280018237",
       "version_major": 2,
       "version_minor": 0
      },
      "text/plain": [
       "  0%|          | 0/200 [00:00<?, ?it/s]"
      ]
     },
     "metadata": {},
     "output_type": "display_data"
    },
    {
     "data": {
      "application/vnd.jupyter.widget-view+json": {
       "model_id": "85a1fdc104e34e838936b0496f0811f5",
       "version_major": 2,
       "version_minor": 0
      },
      "text/plain": [
       "  0%|          | 0/200 [00:00<?, ?it/s]"
      ]
     },
     "metadata": {},
     "output_type": "display_data"
    },
    {
     "data": {
      "application/vnd.jupyter.widget-view+json": {
       "model_id": "3d4f97b48ed746028ae80d5590c19f1e",
       "version_major": 2,
       "version_minor": 0
      },
      "text/plain": [
       "  0%|          | 0/200 [00:00<?, ?it/s]"
      ]
     },
     "metadata": {},
     "output_type": "display_data"
    },
    {
     "data": {
      "application/vnd.jupyter.widget-view+json": {
       "model_id": "24f13db88e094443b0ac343b2f161193",
       "version_major": 2,
       "version_minor": 0
      },
      "text/plain": [
       "  0%|          | 0/200 [00:00<?, ?it/s]"
      ]
     },
     "metadata": {},
     "output_type": "display_data"
    },
    {
     "data": {
      "application/vnd.jupyter.widget-view+json": {
       "model_id": "67c88f6cc2d7422897ee0743b74bed5e",
       "version_major": 2,
       "version_minor": 0
      },
      "text/plain": [
       "  0%|          | 0/200 [00:00<?, ?it/s]"
      ]
     },
     "metadata": {},
     "output_type": "display_data"
    },
    {
     "name": "stdout",
     "output_type": "stream",
     "text": [
      "scales : (0.2, 0.4, 0.6, 0.8, 1.0)\n",
      "sample size : 500\n",
      " \n",
      "<function hsicfuse_test at 0x7f320c2f2430>\n",
      "[0.22       0.26999998 0.235      0.285      0.255     ]\n",
      " \n",
      "<function hsic_test at 0x7f307804fb80>\n",
      "[0.04  0.035 0.035 0.03  0.055]\n",
      " \n",
      "<function hsicagginc1_test at 0x7f307804fd30>\n",
      "[0.025 0.04  0.02  0.055 0.03 ]\n",
      " \n",
      "<function hsicagginc100_test at 0x7f3077fcf1f0>\n",
      "[0.03  0.04  0.045 0.025 0.035]\n",
      " \n",
      "<function hsicagginc200_test at 0x7f3077fcf280>\n",
      "[0.015 0.03  0.02  0.04  0.04 ]\n",
      " \n",
      "<function hsicaggincquad_test at 0x7f3077fcf310>\n",
      "[0.03  0.035 0.025 0.03  0.05 ]\n"
     ]
    }
   ],
   "source": [
    "repetitions          = 200\n",
    "scales               = (0.2, 0.4, 0.6, 0.8, 1.0)\n",
    "number_perturbations = 2\n",
    "sample_size          = 500\n",
    "d                    = 4\n",
    "f_theta_seed         = 0\n",
    "p                    = 1\n",
    "s                    = 1\n",
    "\n",
    "tests = (hsicfuse_test, hsic_test, hsicagginc1_test, hsicagginc100_test, hsicagginc200_test, hsicaggincquad_test)\n",
    "outputs = jnp.zeros((len(tests), len(scales), repetitions))\n",
    "outputs = outputs.tolist()\n",
    "key = random.PRNGKey(42)\n",
    "seed = 42\n",
    "for s in tqdm(range(len(scales))):\n",
    "    scale = scales[s]\n",
    "    for i in tqdm(range(repetitions)):\n",
    "        key, subkey = random.split(key)\n",
    "        perturbation_multiplier = np.exp(d + 1) * p ** s * scale \n",
    "        Z = f_theta_sampler(f_theta_seed, seed, sample_size, p, s, perturbation_multiplier, d + 1)\n",
    "        X = Z[:, :1]\n",
    "        Y = Z[:, 1:]\n",
    "        key, subkey = random.split(key)\n",
    "        seed += 1\n",
    "        for t in range(len(tests)):\n",
    "            test = tests[t]\n",
    "            outputs[t][s][i] = test(X, Y, subkey, seed)\n",
    "\n",
    "output = jnp.mean(jnp.array(outputs), -1)\n",
    "\n",
    "jnp.save(\"results/perturbations_vary_dif_d4.npy\", output)\n",
    "jnp.save(\"results/perturbations_vary_dif_d4_x_axis.npy\", scales)\n",
    "\n",
    "print(\"scales :\", scales)\n",
    "print(\"sample size :\", sample_size)\n",
    "for t in range(len(tests)):\n",
    "    print(\" \")\n",
    "    print(tests[t])\n",
    "    print(output[t])"
   ]
  },
  {
   "cell_type": "markdown",
   "id": "fa941754-1131-4c77-a396-893ceaac30b0",
   "metadata": {},
   "source": [
    "### Vary sample size d=4"
   ]
  },
  {
   "cell_type": "code",
   "execution_count": 12,
   "id": "39bca358-6c3e-4c57-8f7b-7885a4eb92e5",
   "metadata": {},
   "outputs": [
    {
     "data": {
      "application/vnd.jupyter.widget-view+json": {
       "model_id": "03f69d3cb6104e439765c4c529cf611e",
       "version_major": 2,
       "version_minor": 0
      },
      "text/plain": [
       "  0%|          | 0/5 [00:00<?, ?it/s]"
      ]
     },
     "metadata": {},
     "output_type": "display_data"
    },
    {
     "data": {
      "application/vnd.jupyter.widget-view+json": {
       "model_id": "0dbd38816a5f4d08bfa991cf2ce663a2",
       "version_major": 2,
       "version_minor": 0
      },
      "text/plain": [
       "  0%|          | 0/200 [00:00<?, ?it/s]"
      ]
     },
     "metadata": {},
     "output_type": "display_data"
    },
    {
     "data": {
      "application/vnd.jupyter.widget-view+json": {
       "model_id": "c952bd6338c746bea3c6580fb898102d",
       "version_major": 2,
       "version_minor": 0
      },
      "text/plain": [
       "  0%|          | 0/200 [00:00<?, ?it/s]"
      ]
     },
     "metadata": {},
     "output_type": "display_data"
    },
    {
     "data": {
      "application/vnd.jupyter.widget-view+json": {
       "model_id": "68d219e3dcba4ab9a9ea43df420647ec",
       "version_major": 2,
       "version_minor": 0
      },
      "text/plain": [
       "  0%|          | 0/200 [00:00<?, ?it/s]"
      ]
     },
     "metadata": {},
     "output_type": "display_data"
    },
    {
     "data": {
      "application/vnd.jupyter.widget-view+json": {
       "model_id": "7d90a106e9884b19af98e6d2de7a081e",
       "version_major": 2,
       "version_minor": 0
      },
      "text/plain": [
       "  0%|          | 0/200 [00:00<?, ?it/s]"
      ]
     },
     "metadata": {},
     "output_type": "display_data"
    },
    {
     "data": {
      "application/vnd.jupyter.widget-view+json": {
       "model_id": "8abec4734e294d19a318c0003ced65fb",
       "version_major": 2,
       "version_minor": 0
      },
      "text/plain": [
       "  0%|          | 0/200 [00:00<?, ?it/s]"
      ]
     },
     "metadata": {},
     "output_type": "display_data"
    },
    {
     "name": "stdout",
     "output_type": "stream",
     "text": [
      "sample sizes : (200, 400, 600, 800, 1000)\n",
      "scale : 0.2\n",
      " \n",
      "<function hsicfuse_test at 0x7f320c2f2430>\n",
      "[0.205 0.275 0.265 0.26  0.255]\n",
      " \n",
      "<function hsic_test at 0x7f307804fb80>\n",
      "[0.04  0.05  0.055 0.05  0.03 ]\n",
      " \n",
      "<function hsicagginc1_test at 0x7f307804fd30>\n",
      "[0.04  0.03  0.035 0.04  0.045]\n",
      " \n",
      "<function hsicagginc100_test at 0x7f3077fcf1f0>\n",
      "[0.035 0.015 0.04  0.025 0.03 ]\n",
      " \n",
      "<function hsicagginc200_test at 0x7f3077fcf280>\n",
      "[0.035 0.04  0.03  0.025 0.045]\n",
      " \n",
      "<function hsicaggincquad_test at 0x7f3077fcf310>\n",
      "[0.035 0.04  0.03  0.025 0.04 ]\n"
     ]
    }
   ],
   "source": [
    "repetitions          = 200\n",
    "scale                = 0.2\n",
    "number_perturbations = 2\n",
    "sample_sizes         = (200, 400, 600, 800, 1000)\n",
    "d                    = 4\n",
    "f_theta_seed         = 0\n",
    "p                    = 1\n",
    "s                    = 1\n",
    "\n",
    "tests = (hsicfuse_test, hsic_test, hsicagginc1_test, hsicagginc100_test, hsicagginc200_test, hsicaggincquad_test)\n",
    "outputs = jnp.zeros((len(tests), len(sample_sizes), repetitions))\n",
    "outputs = outputs.tolist()\n",
    "key = random.PRNGKey(42)\n",
    "seed = 42\n",
    "for s in tqdm(range(len(sample_sizes))):\n",
    "    sample_size = sample_sizes[s]\n",
    "    for i in tqdm(range(repetitions)):\n",
    "        key, subkey = random.split(key)\n",
    "        perturbation_multiplier = np.exp(d + 1) * p ** s * scale \n",
    "        Z = f_theta_sampler(f_theta_seed, seed, sample_size, p, s, perturbation_multiplier, d + 1)\n",
    "        X = Z[:, :1]\n",
    "        Y = Z[:, 1:]\n",
    "        key, subkey = random.split(key)\n",
    "        seed += 1\n",
    "        for t in range(len(tests)):\n",
    "            test = tests[t]\n",
    "            outputs[t][s][i] = test(X, Y, subkey, seed)\n",
    "\n",
    "output = jnp.mean(jnp.array(outputs), -1)\n",
    "\n",
    "jnp.save(\"results/perturbations_vary_n_d4.npy\", output)\n",
    "jnp.save(\"results/perturbations_vary_n_d4_x_axis.npy\", sample_sizes)\n",
    "\n",
    "print(\"sample sizes :\", sample_sizes)\n",
    "print(\"scale :\", scale)\n",
    "for t in range(len(tests)):\n",
    "    print(\" \")\n",
    "    print(tests[t])\n",
    "    print(output[t])"
   ]
  },
  {
   "cell_type": "code",
   "execution_count": null,
   "id": "41099206-0e25-4074-b9ea-a7d51116fd53",
   "metadata": {},
   "outputs": [],
   "source": []
  }
 ],
 "metadata": {
  "kernelspec": {
   "display_name": "Python 3 (ipykernel)",
   "language": "python",
   "name": "python3"
  },
  "language_info": {
   "codemirror_mode": {
    "name": "ipython",
    "version": 3
   },
   "file_extension": ".py",
   "mimetype": "text/x-python",
   "name": "python",
   "nbconvert_exporter": "python",
   "pygments_lexer": "ipython3",
   "version": "3.9.16"
  }
 },
 "nbformat": 4,
 "nbformat_minor": 5
}
