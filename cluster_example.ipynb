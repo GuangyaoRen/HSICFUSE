{
 "cells": [
  {
   "cell_type": "markdown",
   "id": "d3babb17-0037-4d68-b72f-0fff1ea6bf0b",
   "metadata": {
    "tags": []
   },
   "source": [
    "# Dask cluster"
   ]
  },
  {
   "cell_type": "code",
   "execution_count": 1,
   "id": "683cc44b-36b9-4eef-8904-76db0f407d25",
   "metadata": {},
   "outputs": [],
   "source": [
    "# !pip install dask-jobqueue"
   ]
  },
  {
   "cell_type": "code",
   "execution_count": 1,
   "id": "9076c61b-51bc-439a-9472-515039f5b27f",
   "metadata": {
    "tags": []
   },
   "outputs": [],
   "source": [
    "# Parameters for the cluster\n",
    "\n",
    "from dask_jobqueue import SLURMCluster\n",
    "from distributed import Client\n",
    "from os import path\n",
    "import os\n",
    "os.environ[\"DASK_DISTRIBUTED__WORKER__DAEMON\"] = \"False\"\n",
    "\n",
    "# queue = 'gpu'\n",
    "queue = 'cpu'\n",
    "# queue = 'medium' # time limit 12h [both gpus and cpus]\n",
    "# queue = 'fast'  # time limit 3h  [both gpus and cpus]\n",
    "\n",
    "# gpu_flag = '--gres=gpu:1'\n",
    "gpu_flag = ''\n",
    "\n",
    "memory = '16GB'\n",
    "\n",
    "# if you increase your cpu per jobs you get more cpus so your individual jobs finish quicker\n",
    "# but you get allocated fewer ressources\n",
    "job_cpu = 5\n",
    "\n",
    "# you need to change this to match a host you have setup the portfowarding \n",
    "# on your mac mini in ~/.ssh/config\n",
    "# in particular the port forwarding might change depending on the 'queue' value\n",
    "# this host needs to be different from your jupyter notebook host\n",
    "host = '8883'\n",
    "# then in your browser type http://localhost:8883/ \n",
    "# and you should have access to a dask dashboard which will show the progression on your submitted jobs\n",
    "\n",
    "# after this time your jobs will be automatically cancelled, just put a high number \n",
    "# and kill the cluster before it reaches the end\n",
    "hours = 80\n",
    "\n",
    "cluster = SLURMCluster(\n",
    "    queue=queue,\n",
    "    memory=memory,\n",
    "    processes=1, # leave like that\n",
    "    cores=1, # leave like that\n",
    "    job_cpu=job_cpu, \n",
    "    scheduler_options={'dashboard_address': ':' + host, 'host': ':45353'},\n",
    "    job_extra_directives=['--output=test.out', '--time=' + str(hours) + ':0:0', gpu_flag],\n",
    "    # depending on the version of dask you might need to replace the above line with\n",
    "    #job_extra=['--output=test.out', '--time=' + str(hours) + ':0:0', gpu_flag] \n",
    "    death_timeout=60 * 5, # leave like that\n",
    "    walltime=60 * 3, # leave like that\n",
    "    )\n",
    "\n",
    "client = Client(cluster)"
   ]
  },
  {
   "cell_type": "code",
   "execution_count": 2,
   "id": "4e6becc0-f845-4db3-b911-d491af996232",
   "metadata": {},
   "outputs": [
    {
     "data": {
      "application/vnd.jupyter.widget-view+json": {
       "model_id": "18775265341b4409b5e81891a0d2242a",
       "version_major": 2,
       "version_minor": 0
      },
      "text/html": [
       "<div class=\"jp-RenderedHTMLCommon jp-RenderedHTML jp-mod-trusted jp-OutputArea-output\">\n",
       "    <div style=\"width: 24px; height: 24px; background-color: #e1e1e1; border: 3px solid #9D9D9D; border-radius: 5px; position: absolute;\">\n",
       "    </div>\n",
       "    <div style=\"margin-left: 48px;\">\n",
       "        <h3 style=\"margin-bottom: 0px; margin-top: 0px;\">SLURMCluster</h3>\n",
       "        <p style=\"color: #9D9D9D; margin-bottom: 0px;\">88ac90b2</p>\n",
       "        <table style=\"width: 100%; text-align: left;\">\n",
       "            <tr>\n",
       "                <td style=\"text-align: left;\">\n",
       "                    <strong>Dashboard:</strong> <a href=\"http://192.168.234.48:8883/status\" target=\"_blank\">http://192.168.234.48:8883/status</a>\n",
       "                </td>\n",
       "                <td style=\"text-align: left;\">\n",
       "                    <strong>Workers:</strong> 0\n",
       "                </td>\n",
       "            </tr>\n",
       "            <tr>\n",
       "                <td style=\"text-align: left;\">\n",
       "                    <strong>Total threads:</strong> 0\n",
       "                </td>\n",
       "                <td style=\"text-align: left;\">\n",
       "                    <strong>Total memory:</strong> 0 B\n",
       "                </td>\n",
       "            </tr>\n",
       "            \n",
       "        </table>\n",
       "\n",
       "        <details>\n",
       "            <summary style=\"margin-bottom: 20px;\">\n",
       "                <h3 style=\"display: inline;\">Scheduler Info</h3>\n",
       "            </summary>\n",
       "\n",
       "            <div style=\"\">\n",
       "    <div>\n",
       "        <div style=\"width: 24px; height: 24px; background-color: #FFF7E5; border: 3px solid #FF6132; border-radius: 5px; position: absolute;\"> </div>\n",
       "        <div style=\"margin-left: 48px;\">\n",
       "            <h3 style=\"margin-bottom: 0px;\">Scheduler</h3>\n",
       "            <p style=\"color: #9D9D9D; margin-bottom: 0px;\">Scheduler-e3edf894-2555-4782-9f9a-409f56a463f3</p>\n",
       "            <table style=\"width: 100%; text-align: left;\">\n",
       "                <tr>\n",
       "                    <td style=\"text-align: left;\">\n",
       "                        <strong>Comm:</strong> tcp://192.168.234.48:45353\n",
       "                    </td>\n",
       "                    <td style=\"text-align: left;\">\n",
       "                        <strong>Workers:</strong> 0\n",
       "                    </td>\n",
       "                </tr>\n",
       "                <tr>\n",
       "                    <td style=\"text-align: left;\">\n",
       "                        <strong>Dashboard:</strong> <a href=\"http://192.168.234.48:8883/status\" target=\"_blank\">http://192.168.234.48:8883/status</a>\n",
       "                    </td>\n",
       "                    <td style=\"text-align: left;\">\n",
       "                        <strong>Total threads:</strong> 0\n",
       "                    </td>\n",
       "                </tr>\n",
       "                <tr>\n",
       "                    <td style=\"text-align: left;\">\n",
       "                        <strong>Started:</strong> Just now\n",
       "                    </td>\n",
       "                    <td style=\"text-align: left;\">\n",
       "                        <strong>Total memory:</strong> 0 B\n",
       "                    </td>\n",
       "                </tr>\n",
       "            </table>\n",
       "        </div>\n",
       "    </div>\n",
       "\n",
       "    <details style=\"margin-left: 48px;\">\n",
       "        <summary style=\"margin-bottom: 20px;\">\n",
       "            <h3 style=\"display: inline;\">Workers</h3>\n",
       "        </summary>\n",
       "\n",
       "        \n",
       "\n",
       "    </details>\n",
       "</div>\n",
       "\n",
       "        </details>\n",
       "    </div>\n",
       "</div>"
      ],
      "text/plain": [
       "SLURMCluster(88ac90b2, 'tcp://192.168.234.48:45353', workers=0, threads=0, memory=0 B)"
      ]
     },
     "metadata": {},
     "output_type": "display_data"
    }
   ],
   "source": [
    "cluster"
   ]
  },
  {
   "cell_type": "code",
   "execution_count": 3,
   "id": "3d30330a-ce5d-423a-996e-1d604ffae8b1",
   "metadata": {},
   "outputs": [
    {
     "data": {
      "text/html": [
       "<div>\n",
       "    <div style=\"width: 24px; height: 24px; background-color: #e1e1e1; border: 3px solid #9D9D9D; border-radius: 5px; position: absolute;\"> </div>\n",
       "    <div style=\"margin-left: 48px;\">\n",
       "        <h3 style=\"margin-bottom: 0px;\">Client</h3>\n",
       "        <p style=\"color: #9D9D9D; margin-bottom: 0px;\">Client-8c6ae581-3256-11ee-a7d0-b88303896fec</p>\n",
       "        <table style=\"width: 100%; text-align: left;\">\n",
       "\n",
       "        <tr>\n",
       "        \n",
       "            <td style=\"text-align: left;\"><strong>Connection method:</strong> Cluster object</td>\n",
       "            <td style=\"text-align: left;\"><strong>Cluster type:</strong> dask_jobqueue.SLURMCluster</td>\n",
       "        \n",
       "        </tr>\n",
       "\n",
       "        \n",
       "            <tr>\n",
       "                <td style=\"text-align: left;\">\n",
       "                    <strong>Dashboard: </strong> <a href=\"http://192.168.234.48:8883/status\" target=\"_blank\">http://192.168.234.48:8883/status</a>\n",
       "                </td>\n",
       "                <td style=\"text-align: left;\"></td>\n",
       "            </tr>\n",
       "        \n",
       "\n",
       "        </table>\n",
       "\n",
       "        \n",
       "\n",
       "        \n",
       "            <details>\n",
       "            <summary style=\"margin-bottom: 20px;\"><h3 style=\"display: inline;\">Cluster Info</h3></summary>\n",
       "            <div class=\"jp-RenderedHTMLCommon jp-RenderedHTML jp-mod-trusted jp-OutputArea-output\">\n",
       "    <div style=\"width: 24px; height: 24px; background-color: #e1e1e1; border: 3px solid #9D9D9D; border-radius: 5px; position: absolute;\">\n",
       "    </div>\n",
       "    <div style=\"margin-left: 48px;\">\n",
       "        <h3 style=\"margin-bottom: 0px; margin-top: 0px;\">SLURMCluster</h3>\n",
       "        <p style=\"color: #9D9D9D; margin-bottom: 0px;\">88ac90b2</p>\n",
       "        <table style=\"width: 100%; text-align: left;\">\n",
       "            <tr>\n",
       "                <td style=\"text-align: left;\">\n",
       "                    <strong>Dashboard:</strong> <a href=\"http://192.168.234.48:8883/status\" target=\"_blank\">http://192.168.234.48:8883/status</a>\n",
       "                </td>\n",
       "                <td style=\"text-align: left;\">\n",
       "                    <strong>Workers:</strong> 0\n",
       "                </td>\n",
       "            </tr>\n",
       "            <tr>\n",
       "                <td style=\"text-align: left;\">\n",
       "                    <strong>Total threads:</strong> 0\n",
       "                </td>\n",
       "                <td style=\"text-align: left;\">\n",
       "                    <strong>Total memory:</strong> 0 B\n",
       "                </td>\n",
       "            </tr>\n",
       "            \n",
       "        </table>\n",
       "\n",
       "        <details>\n",
       "            <summary style=\"margin-bottom: 20px;\">\n",
       "                <h3 style=\"display: inline;\">Scheduler Info</h3>\n",
       "            </summary>\n",
       "\n",
       "            <div style=\"\">\n",
       "    <div>\n",
       "        <div style=\"width: 24px; height: 24px; background-color: #FFF7E5; border: 3px solid #FF6132; border-radius: 5px; position: absolute;\"> </div>\n",
       "        <div style=\"margin-left: 48px;\">\n",
       "            <h3 style=\"margin-bottom: 0px;\">Scheduler</h3>\n",
       "            <p style=\"color: #9D9D9D; margin-bottom: 0px;\">Scheduler-e3edf894-2555-4782-9f9a-409f56a463f3</p>\n",
       "            <table style=\"width: 100%; text-align: left;\">\n",
       "                <tr>\n",
       "                    <td style=\"text-align: left;\">\n",
       "                        <strong>Comm:</strong> tcp://192.168.234.48:45353\n",
       "                    </td>\n",
       "                    <td style=\"text-align: left;\">\n",
       "                        <strong>Workers:</strong> 0\n",
       "                    </td>\n",
       "                </tr>\n",
       "                <tr>\n",
       "                    <td style=\"text-align: left;\">\n",
       "                        <strong>Dashboard:</strong> <a href=\"http://192.168.234.48:8883/status\" target=\"_blank\">http://192.168.234.48:8883/status</a>\n",
       "                    </td>\n",
       "                    <td style=\"text-align: left;\">\n",
       "                        <strong>Total threads:</strong> 0\n",
       "                    </td>\n",
       "                </tr>\n",
       "                <tr>\n",
       "                    <td style=\"text-align: left;\">\n",
       "                        <strong>Started:</strong> Just now\n",
       "                    </td>\n",
       "                    <td style=\"text-align: left;\">\n",
       "                        <strong>Total memory:</strong> 0 B\n",
       "                    </td>\n",
       "                </tr>\n",
       "            </table>\n",
       "        </div>\n",
       "    </div>\n",
       "\n",
       "    <details style=\"margin-left: 48px;\">\n",
       "        <summary style=\"margin-bottom: 20px;\">\n",
       "            <h3 style=\"display: inline;\">Workers</h3>\n",
       "        </summary>\n",
       "\n",
       "        \n",
       "\n",
       "    </details>\n",
       "</div>\n",
       "\n",
       "        </details>\n",
       "    </div>\n",
       "</div>\n",
       "            </details>\n",
       "        \n",
       "\n",
       "    </div>\n",
       "</div>"
      ],
      "text/plain": [
       "<Client: 'tcp://192.168.234.48:45353' processes=0 threads=0, memory=0 B>"
      ]
     },
     "execution_count": 3,
     "metadata": {},
     "output_type": "execute_result"
    }
   ],
   "source": [
    "client"
   ]
  },
  {
   "cell_type": "code",
   "execution_count": 4,
   "id": "9df70a31-1c5d-4379-b6ee-74617dbd71f0",
   "metadata": {},
   "outputs": [],
   "source": [
    "# in your terminal in tmux you can type\n",
    "# watch -n0.5 squeue --me\n",
    "# and you will see all your jobs and whether they have started or not\n",
    "\n",
    "# now to launch some workers we use the scale function\n",
    "# Here we request 10 workers, you can play with this number\n",
    "# If we have 10 workers, they work in parallel so compute time will roughly be divided by 10\n",
    "cluster.scale(10)"
   ]
  },
  {
   "cell_type": "code",
   "execution_count": 5,
   "id": "45b67b4a-1e91-4407-91a8-60f927af9496",
   "metadata": {},
   "outputs": [],
   "source": [
    "# when you are done you scale the cluster to 0 to kill the jobs\n",
    "# you can check in your terminal they are not running anymore\n",
    "cluster.scale(0)"
   ]
  },
  {
   "cell_type": "code",
   "execution_count": 6,
   "id": "7c94ba4c-d51f-4f6a-b091-49945c1f2e95",
   "metadata": {},
   "outputs": [],
   "source": [
    "# always check in your terminal whether you don't have some unwanted jobs running\n",
    "# if so you can kill them by checking the JOBID [e.g. 3813807] and running in the terminal\n",
    "# scancel 3813807"
   ]
  },
  {
   "cell_type": "markdown",
   "id": "4ab90d43-ce11-4105-ba66-62a68a6b11eb",
   "metadata": {
    "tags": []
   },
   "source": [
    "# Example power"
   ]
  },
  {
   "cell_type": "code",
   "execution_count": 5,
   "id": "ec20b44f-a25e-4721-9100-cbe5c05c9087",
   "metadata": {
    "tags": []
   },
   "outputs": [],
   "source": [
    "import jax\n",
    "import jax.numpy as jnp\n",
    "from jax import random\n",
    "from tqdm.auto import tqdm\n",
    "from pathlib import Path\n",
    "import time\n",
    "from sampler_perturbations import sampler_perturbations\n",
    "Path(\"results\").mkdir(exist_ok=True)\n",
    "%load_ext autoreload\n",
    "%autoreload 2"
   ]
  },
  {
   "cell_type": "code",
   "execution_count": 6,
   "id": "3cf9efca-4184-45e5-8c66-ad17ed71e22d",
   "metadata": {
    "tags": []
   },
   "outputs": [],
   "source": [
    "import numpy as np\n",
    "from hsicfuse import hsicfuse\n",
    "from hsic import hsic, human_readable_dict\n",
    "from agginc.jax import agginc, human_readable_dict\n",
    "from wittawatj_tests import nfsic\n",
    "from nystromhsic import nystromhsic\n",
    "\n",
    "\n",
    "def test_1(X, Y, key, seed):\n",
    "    time.sleep(0.2)\n",
    "    return 0\n",
    "\n",
    "def test_2(X, Y, key, seed):\n",
    "    time.sleep(0.2)\n",
    "    return 0\n",
    "\n",
    "def test_3(X, Y, key, seed):\n",
    "    time.sleep(0.2)\n",
    "    return 0\n",
    "\n",
    "def test_4(X, Y, key, seed):\n",
    "    time.sleep(0.2)\n",
    "    return 0\n",
    "\n",
    "# the jax tests will use key\n",
    "# the other tests will use seed\n",
    "\n",
    "# use something like\n",
    "#def test_hsicfuse(key, X, Y):\n",
    "#    return hsic_fuse(\n",
    "#        key, \n",
    "#        X, \n",
    "#        Y, \n",
    "#        alpha=0.05, \n",
    "#        B=2000,\n",
    "#    )"
   ]
  },
  {
   "cell_type": "code",
   "execution_count": 7,
   "id": "40ce6749-def9-43ff-845b-aac98b54f578",
   "metadata": {
    "tags": []
   },
   "outputs": [
    {
     "data": {
      "application/vnd.jupyter.widget-view+json": {
       "model_id": "24ba1181afc649a687203a53576cc8fd",
       "version_major": 2,
       "version_minor": 0
      },
      "text/plain": [
       "  0%|          | 0/6 [00:00<?, ?it/s]"
      ]
     },
     "metadata": {},
     "output_type": "display_data"
    },
    {
     "data": {
      "application/vnd.jupyter.widget-view+json": {
       "model_id": "3d2be58fbc104a5ebde81c4378c29de6",
       "version_major": 2,
       "version_minor": 0
      },
      "text/plain": [
       "  0%|          | 0/10 [00:00<?, ?it/s]"
      ]
     },
     "metadata": {},
     "output_type": "display_data"
    },
    {
     "data": {
      "application/vnd.jupyter.widget-view+json": {
       "model_id": "605f42dfe91440b5946a666a9ef6de8b",
       "version_major": 2,
       "version_minor": 0
      },
      "text/plain": [
       "  0%|          | 0/10 [00:00<?, ?it/s]"
      ]
     },
     "metadata": {},
     "output_type": "display_data"
    },
    {
     "data": {
      "application/vnd.jupyter.widget-view+json": {
       "model_id": "4ca076d7c661439694bdfa65b4f6ba4a",
       "version_major": 2,
       "version_minor": 0
      },
      "text/plain": [
       "  0%|          | 0/10 [00:00<?, ?it/s]"
      ]
     },
     "metadata": {},
     "output_type": "display_data"
    },
    {
     "data": {
      "application/vnd.jupyter.widget-view+json": {
       "model_id": "31a1648fe3394759ad750e80a2650acc",
       "version_major": 2,
       "version_minor": 0
      },
      "text/plain": [
       "  0%|          | 0/10 [00:00<?, ?it/s]"
      ]
     },
     "metadata": {},
     "output_type": "display_data"
    },
    {
     "data": {
      "application/vnd.jupyter.widget-view+json": {
       "model_id": "58405a24f52841608e7b013b27c18789",
       "version_major": 2,
       "version_minor": 0
      },
      "text/plain": [
       "  0%|          | 0/10 [00:00<?, ?it/s]"
      ]
     },
     "metadata": {},
     "output_type": "display_data"
    },
    {
     "data": {
      "application/vnd.jupyter.widget-view+json": {
       "model_id": "a20b4d6cd80a4073bd7b067ac139a461",
       "version_major": 2,
       "version_minor": 0
      },
      "text/plain": [
       "  0%|          | 0/10 [00:00<?, ?it/s]"
      ]
     },
     "metadata": {},
     "output_type": "display_data"
    }
   ],
   "source": [
    "# as you run this you should see on the dask dashboard the jobs getting completed\n",
    "\n",
    "use_cluster = True\n",
    "save = True\n",
    "\n",
    "# repetitions = 200\n",
    "repetitions = 10\n",
    "scales = (0, 0.1, 0.2, 0.3, 0.4, 0.5)\n",
    "number_perturbations = 2\n",
    "sample_size = 500\n",
    "d = 2\n",
    "\n",
    "f_theta_seed         = 0\n",
    "p                    = 1\n",
    "s                    = 1\n",
    "\n",
    "tests = (test_1, test_2, test_3, test_4)\n",
    "outputs = jnp.zeros((len(tests), len(scales), repetitions))\n",
    "outputs = outputs.tolist()\n",
    "key = random.PRNGKey(42)\n",
    "seed = 42\n",
    "for s in tqdm(range(len(scales))):\n",
    "    scale = scales[s]\n",
    "    for i in tqdm(range(repetitions)):\n",
    "        key, subkey = random.split(key)\n",
    "        X, Y = sampler_perturbations(m=sample_size, n=sample_size, d=d, scale=scale, number_perturbations=number_perturbations, seed=seed)\n",
    "        key, subkey = random.split(key)\n",
    "        seed += 1\n",
    "        for t in range(len(tests)):\n",
    "            test = tests[t]\n",
    "            if use_cluster:\n",
    "                # we submit the jobs to the cluster\n",
    "                # outputs now contain some objects called futures\n",
    "                outputs[t][s][i] = client.submit(test, X, Y, subkey, seed)\n",
    "            else:\n",
    "                outputs[t][s][i] = test(X, Y, subkey, seed)\n"
   ]
  },
  {
   "cell_type": "code",
   "execution_count": 8,
   "id": "be71a131-821a-4680-9df1-78b975560d11",
   "metadata": {
    "tags": []
   },
   "outputs": [
    {
     "name": "stdout",
     "output_type": "stream",
     "text": [
      "done here 1\n",
      "done here 2\n",
      "scales : (0, 0.1, 0.2, 0.3, 0.4, 0.5)\n",
      "sample size : 500\n",
      " \n",
      "<function test_1 at 0x7fbe0c7c0670>\n",
      "[0. 0. 0. 0. 0. 0.]\n",
      " \n",
      "<function test_2 at 0x7fbd8b004160>\n",
      "[0. 0. 0. 0. 0. 0.]\n",
      " \n",
      "<function test_3 at 0x7fbd8b0041f0>\n",
      "[0. 0. 0. 0. 0. 0.]\n",
      " \n",
      "<function test_4 at 0x7fbd8b004280>\n",
      "[0. 0. 0. 0. 0. 0.]\n"
     ]
    }
   ],
   "source": [
    "# now we ask dask to gather the results once they are completed\n",
    "\n",
    "if use_cluster:\n",
    "    print(\"done here 1\")\n",
    "    results = [client.gather(outputs[t]) for t in range(len(tests))]\n",
    "    print(\"done here 2\")\n",
    "    results = jnp.array(results)\n",
    "    output = jnp.mean(results, -1)\n",
    "else:\n",
    "    output = jnp.mean(jnp.array(outputs), -1)\n",
    "\n",
    "if save:\n",
    "    jnp.save(\"results/toy_example.npy\", output)\n",
    "    jnp.save(\"results/toy_example_x_axis.npy\", scales)\n",
    "\n",
    "print(\"scales :\", scales)\n",
    "print(\"sample size :\", sample_size)\n",
    "for t in range(len(tests)):\n",
    "    print(\" \")\n",
    "    print(tests[t])\n",
    "    print(output[t])"
   ]
  },
  {
   "cell_type": "code",
   "execution_count": null,
   "id": "34e9658c-a581-496e-8373-e751909f94d1",
   "metadata": {},
   "outputs": [],
   "source": [
    "# you can run both cells together (submit jobs and wait for them to gather)\n",
    "# but you don t have to you can submit jobs, do other stuff, and only then gather"
   ]
  },
  {
   "cell_type": "code",
   "execution_count": null,
   "id": "6831dea4-aa37-424b-bea4-39fd0e6d1548",
   "metadata": {},
   "outputs": [],
   "source": []
  },
  {
   "cell_type": "code",
   "execution_count": null,
   "id": "aa9b19f3-38fa-4e35-9cd3-f6b7a1a0aeea",
   "metadata": {},
   "outputs": [],
   "source": []
  },
  {
   "cell_type": "code",
   "execution_count": null,
   "id": "1e67181d-6ecb-441b-aece-445d1fd234e6",
   "metadata": {},
   "outputs": [],
   "source": []
  }
 ],
 "metadata": {
  "kernelspec": {
   "display_name": "Python 3 (ipykernel)",
   "language": "python",
   "name": "python3"
  },
  "language_info": {
   "codemirror_mode": {
    "name": "ipython",
    "version": 3
   },
   "file_extension": ".py",
   "mimetype": "text/x-python",
   "name": "python",
   "nbconvert_exporter": "python",
   "pygments_lexer": "ipython3",
   "version": "3.9.16"
  }
 },
 "nbformat": 4,
 "nbformat_minor": 5
}
