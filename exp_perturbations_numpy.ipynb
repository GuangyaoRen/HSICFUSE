{
 "cells": [
  {
   "cell_type": "code",
   "execution_count": 2,
   "id": "256039b8-8e15-437b-81f2-31c052c61214",
   "metadata": {},
   "outputs": [],
   "source": [
    "# !pip install dask-jobqueue"
   ]
  },
  {
   "cell_type": "code",
   "execution_count": 1,
   "id": "b91d7f25-e2fc-4817-9013-d8035eb41242",
   "metadata": {},
   "outputs": [],
   "source": [
    "# Parameters for the cluster\n",
    "\n",
    "from dask_jobqueue import SLURMCluster\n",
    "from distributed import Client\n",
    "from os import path\n",
    "import os\n",
    "os.environ[\"DASK_DISTRIBUTED__WORKER__DAEMON\"] = \"False\"\n",
    "\n",
    "# queue = 'gpu'\n",
    "queue = 'cpu'\n",
    "# queue = 'medium' # time limit 12h [both gpus and cpus]\n",
    "# queue = 'fast'  # time limit 3h  [both gpus and cpus]\n",
    "\n",
    "# gpu_flag = '--gres=gpu:1'\n",
    "gpu_flag = ''\n",
    "\n",
    "memory = '16GB'\n",
    "\n",
    "job_cpu = 5\n",
    "\n",
    "# you need to change this to match a host you have setup the portfowarding \n",
    "# on your mac mini in ~/.ssh/config\n",
    "# in particular the port forwarding might change depending on the 'queue' value\n",
    "# this host needs to be different from your jupyter notebook host\n",
    "host = '8882'\n",
    "# then in your browser type http://localhost:8882/ \n",
    "# and you should have access to a dask dashboard which will show the progression on your submitted jobs\n",
    "\n",
    "# after this time your jobs will be automatically cancelled, just put a high number \n",
    "# and kill the cluster before it reaches the end\n",
    "hours = 80\n",
    "\n",
    "cluster = SLURMCluster(\n",
    "    queue=queue,\n",
    "    memory=memory,\n",
    "    processes=1, # leave like that\n",
    "    cores=1, # leave like that\n",
    "    job_cpu=job_cpu, \n",
    "    scheduler_options={'dashboard_address': ':' + host, 'host': ':45353'},\n",
    "    job_extra_directives=['--output=test.out', '--time=' + str(hours) + ':0:0', gpu_flag],\n",
    "    # depending on the version of dask you might need to replace the above line with\n",
    "    #job_extra=['--output=test.out', '--time=' + str(hours) + ':0:0', gpu_flag] \n",
    "    death_timeout=60 * 5, # leave like that\n",
    "    walltime=60 * 3, # leave like that\n",
    "    )\n",
    "\n",
    "client = Client(cluster)"
   ]
  },
  {
   "cell_type": "code",
   "execution_count": 2,
   "id": "56a3fcc5-f5b4-49ef-9823-44b04b3eb64d",
   "metadata": {},
   "outputs": [
    {
     "data": {
      "application/vnd.jupyter.widget-view+json": {
       "model_id": "17eaf342f52c4445a9a673153e6c3839",
       "version_major": 2,
       "version_minor": 0
      },
      "text/html": [
       "<div class=\"jp-RenderedHTMLCommon jp-RenderedHTML jp-mod-trusted jp-OutputArea-output\">\n",
       "    <div style=\"width: 24px; height: 24px; background-color: #e1e1e1; border: 3px solid #9D9D9D; border-radius: 5px; position: absolute;\">\n",
       "    </div>\n",
       "    <div style=\"margin-left: 48px;\">\n",
       "        <h3 style=\"margin-bottom: 0px; margin-top: 0px;\">SLURMCluster</h3>\n",
       "        <p style=\"color: #9D9D9D; margin-bottom: 0px;\">de06ea23</p>\n",
       "        <table style=\"width: 100%; text-align: left;\">\n",
       "            <tr>\n",
       "                <td style=\"text-align: left;\">\n",
       "                    <strong>Dashboard:</strong> <a href=\"http://192.168.234.48:8882/status\" target=\"_blank\">http://192.168.234.48:8882/status</a>\n",
       "                </td>\n",
       "                <td style=\"text-align: left;\">\n",
       "                    <strong>Workers:</strong> 0\n",
       "                </td>\n",
       "            </tr>\n",
       "            <tr>\n",
       "                <td style=\"text-align: left;\">\n",
       "                    <strong>Total threads:</strong> 0\n",
       "                </td>\n",
       "                <td style=\"text-align: left;\">\n",
       "                    <strong>Total memory:</strong> 0 B\n",
       "                </td>\n",
       "            </tr>\n",
       "            \n",
       "        </table>\n",
       "\n",
       "        <details>\n",
       "            <summary style=\"margin-bottom: 20px;\">\n",
       "                <h3 style=\"display: inline;\">Scheduler Info</h3>\n",
       "            </summary>\n",
       "\n",
       "            <div style=\"\">\n",
       "    <div>\n",
       "        <div style=\"width: 24px; height: 24px; background-color: #FFF7E5; border: 3px solid #FF6132; border-radius: 5px; position: absolute;\"> </div>\n",
       "        <div style=\"margin-left: 48px;\">\n",
       "            <h3 style=\"margin-bottom: 0px;\">Scheduler</h3>\n",
       "            <p style=\"color: #9D9D9D; margin-bottom: 0px;\">Scheduler-53434ef6-03c6-4aa0-aa14-8c92825c7cae</p>\n",
       "            <table style=\"width: 100%; text-align: left;\">\n",
       "                <tr>\n",
       "                    <td style=\"text-align: left;\">\n",
       "                        <strong>Comm:</strong> tcp://192.168.234.48:45353\n",
       "                    </td>\n",
       "                    <td style=\"text-align: left;\">\n",
       "                        <strong>Workers:</strong> 0\n",
       "                    </td>\n",
       "                </tr>\n",
       "                <tr>\n",
       "                    <td style=\"text-align: left;\">\n",
       "                        <strong>Dashboard:</strong> <a href=\"http://192.168.234.48:8882/status\" target=\"_blank\">http://192.168.234.48:8882/status</a>\n",
       "                    </td>\n",
       "                    <td style=\"text-align: left;\">\n",
       "                        <strong>Total threads:</strong> 0\n",
       "                    </td>\n",
       "                </tr>\n",
       "                <tr>\n",
       "                    <td style=\"text-align: left;\">\n",
       "                        <strong>Started:</strong> Just now\n",
       "                    </td>\n",
       "                    <td style=\"text-align: left;\">\n",
       "                        <strong>Total memory:</strong> 0 B\n",
       "                    </td>\n",
       "                </tr>\n",
       "            </table>\n",
       "        </div>\n",
       "    </div>\n",
       "\n",
       "    <details style=\"margin-left: 48px;\">\n",
       "        <summary style=\"margin-bottom: 20px;\">\n",
       "            <h3 style=\"display: inline;\">Workers</h3>\n",
       "        </summary>\n",
       "\n",
       "        \n",
       "\n",
       "    </details>\n",
       "</div>\n",
       "\n",
       "        </details>\n",
       "    </div>\n",
       "</div>"
      ],
      "text/plain": [
       "SLURMCluster(de06ea23, 'tcp://192.168.234.48:45353', workers=0, threads=0, memory=0 B)"
      ]
     },
     "metadata": {},
     "output_type": "display_data"
    }
   ],
   "source": [
    "cluster"
   ]
  },
  {
   "cell_type": "code",
   "execution_count": 3,
   "id": "a36bb3c2-68ee-4f9e-be01-1caa775e80ea",
   "metadata": {},
   "outputs": [
    {
     "data": {
      "text/html": [
       "<div>\n",
       "    <div style=\"width: 24px; height: 24px; background-color: #e1e1e1; border: 3px solid #9D9D9D; border-radius: 5px; position: absolute;\"> </div>\n",
       "    <div style=\"margin-left: 48px;\">\n",
       "        <h3 style=\"margin-bottom: 0px;\">Client</h3>\n",
       "        <p style=\"color: #9D9D9D; margin-bottom: 0px;\">Client-590f3092-3312-11ee-b3a7-b88303896fec</p>\n",
       "        <table style=\"width: 100%; text-align: left;\">\n",
       "\n",
       "        <tr>\n",
       "        \n",
       "            <td style=\"text-align: left;\"><strong>Connection method:</strong> Cluster object</td>\n",
       "            <td style=\"text-align: left;\"><strong>Cluster type:</strong> dask_jobqueue.SLURMCluster</td>\n",
       "        \n",
       "        </tr>\n",
       "\n",
       "        \n",
       "            <tr>\n",
       "                <td style=\"text-align: left;\">\n",
       "                    <strong>Dashboard: </strong> <a href=\"http://192.168.234.48:8882/status\" target=\"_blank\">http://192.168.234.48:8882/status</a>\n",
       "                </td>\n",
       "                <td style=\"text-align: left;\"></td>\n",
       "            </tr>\n",
       "        \n",
       "\n",
       "        </table>\n",
       "\n",
       "        \n",
       "\n",
       "        \n",
       "            <details>\n",
       "            <summary style=\"margin-bottom: 20px;\"><h3 style=\"display: inline;\">Cluster Info</h3></summary>\n",
       "            <div class=\"jp-RenderedHTMLCommon jp-RenderedHTML jp-mod-trusted jp-OutputArea-output\">\n",
       "    <div style=\"width: 24px; height: 24px; background-color: #e1e1e1; border: 3px solid #9D9D9D; border-radius: 5px; position: absolute;\">\n",
       "    </div>\n",
       "    <div style=\"margin-left: 48px;\">\n",
       "        <h3 style=\"margin-bottom: 0px; margin-top: 0px;\">SLURMCluster</h3>\n",
       "        <p style=\"color: #9D9D9D; margin-bottom: 0px;\">de06ea23</p>\n",
       "        <table style=\"width: 100%; text-align: left;\">\n",
       "            <tr>\n",
       "                <td style=\"text-align: left;\">\n",
       "                    <strong>Dashboard:</strong> <a href=\"http://192.168.234.48:8882/status\" target=\"_blank\">http://192.168.234.48:8882/status</a>\n",
       "                </td>\n",
       "                <td style=\"text-align: left;\">\n",
       "                    <strong>Workers:</strong> 0\n",
       "                </td>\n",
       "            </tr>\n",
       "            <tr>\n",
       "                <td style=\"text-align: left;\">\n",
       "                    <strong>Total threads:</strong> 0\n",
       "                </td>\n",
       "                <td style=\"text-align: left;\">\n",
       "                    <strong>Total memory:</strong> 0 B\n",
       "                </td>\n",
       "            </tr>\n",
       "            \n",
       "        </table>\n",
       "\n",
       "        <details>\n",
       "            <summary style=\"margin-bottom: 20px;\">\n",
       "                <h3 style=\"display: inline;\">Scheduler Info</h3>\n",
       "            </summary>\n",
       "\n",
       "            <div style=\"\">\n",
       "    <div>\n",
       "        <div style=\"width: 24px; height: 24px; background-color: #FFF7E5; border: 3px solid #FF6132; border-radius: 5px; position: absolute;\"> </div>\n",
       "        <div style=\"margin-left: 48px;\">\n",
       "            <h3 style=\"margin-bottom: 0px;\">Scheduler</h3>\n",
       "            <p style=\"color: #9D9D9D; margin-bottom: 0px;\">Scheduler-53434ef6-03c6-4aa0-aa14-8c92825c7cae</p>\n",
       "            <table style=\"width: 100%; text-align: left;\">\n",
       "                <tr>\n",
       "                    <td style=\"text-align: left;\">\n",
       "                        <strong>Comm:</strong> tcp://192.168.234.48:45353\n",
       "                    </td>\n",
       "                    <td style=\"text-align: left;\">\n",
       "                        <strong>Workers:</strong> 0\n",
       "                    </td>\n",
       "                </tr>\n",
       "                <tr>\n",
       "                    <td style=\"text-align: left;\">\n",
       "                        <strong>Dashboard:</strong> <a href=\"http://192.168.234.48:8882/status\" target=\"_blank\">http://192.168.234.48:8882/status</a>\n",
       "                    </td>\n",
       "                    <td style=\"text-align: left;\">\n",
       "                        <strong>Total threads:</strong> 0\n",
       "                    </td>\n",
       "                </tr>\n",
       "                <tr>\n",
       "                    <td style=\"text-align: left;\">\n",
       "                        <strong>Started:</strong> Just now\n",
       "                    </td>\n",
       "                    <td style=\"text-align: left;\">\n",
       "                        <strong>Total memory:</strong> 0 B\n",
       "                    </td>\n",
       "                </tr>\n",
       "            </table>\n",
       "        </div>\n",
       "    </div>\n",
       "\n",
       "    <details style=\"margin-left: 48px;\">\n",
       "        <summary style=\"margin-bottom: 20px;\">\n",
       "            <h3 style=\"display: inline;\">Workers</h3>\n",
       "        </summary>\n",
       "\n",
       "        \n",
       "\n",
       "    </details>\n",
       "</div>\n",
       "\n",
       "        </details>\n",
       "    </div>\n",
       "</div>\n",
       "            </details>\n",
       "        \n",
       "\n",
       "    </div>\n",
       "</div>"
      ],
      "text/plain": [
       "<Client: 'tcp://192.168.234.48:45353' processes=0 threads=0, memory=0 B>"
      ]
     },
     "execution_count": 3,
     "metadata": {},
     "output_type": "execute_result"
    }
   ],
   "source": [
    "client"
   ]
  },
  {
   "cell_type": "code",
   "execution_count": 4,
   "id": "6a3428ee-9389-47d4-820b-741e02ed9422",
   "metadata": {},
   "outputs": [],
   "source": [
    "# in your terminal in tmux you can type\n",
    "# watch -n0.5 squeue --me\n",
    "# and you will see all your jobs and whether they have started or not\n",
    "\n",
    "# now to launch some workers we use the scale function\n",
    "# Here we request 10 workers, you can play with this number\n",
    "# If we have 10 workers, they work in parallel so compute time will roughly be divided by 10\n",
    "cluster.scale(5)"
   ]
  },
  {
   "cell_type": "code",
   "execution_count": null,
   "id": "e7b8ac03-1f79-4010-a8d6-ea2bc0cbb947",
   "metadata": {},
   "outputs": [],
   "source": [
    "# when you are done you scale the cluster to 0 to kill the jobs\n",
    "# you can check in your terminal they are not running anymore\n",
    "# cluster.scale(0)"
   ]
  },
  {
   "cell_type": "code",
   "execution_count": null,
   "id": "fac81e5a-a796-4166-aa75-df967e1b111a",
   "metadata": {},
   "outputs": [],
   "source": [
    "# always check in your terminal whether you don't have some unwanted jobs running\n",
    "# if so you can kill them by checking the JOBID [e.g. 3813807] and running in the terminal\n",
    "# scancel 3813807"
   ]
  },
  {
   "cell_type": "code",
   "execution_count": null,
   "id": "0aed60c8-064e-4ffb-8070-25fa5c42ab13",
   "metadata": {},
   "outputs": [],
   "source": []
  },
  {
   "cell_type": "code",
   "execution_count": 5,
   "id": "548c8f4d-0abf-4277-bbd4-18923e4d9924",
   "metadata": {},
   "outputs": [],
   "source": [
    "import numpy as np\n",
    "import jax\n",
    "import jax.numpy as jnp\n",
    "from jax import random, jit, vmap\n",
    "from tqdm.auto import tqdm\n",
    "from pathlib import Path\n",
    "import sys\n",
    "from sampler_perturbations import f_theta_sampler\n",
    "Path(\"results\").mkdir(exist_ok=True)\n",
    "%load_ext autoreload\n",
    "%autoreload 2"
   ]
  },
  {
   "cell_type": "code",
   "execution_count": 6,
   "id": "514b7941-7638-4360-93b2-86a66d292841",
   "metadata": {},
   "outputs": [],
   "source": [
    "from all_tests import nfsic_test, nyhsic_test, fhsic_test"
   ]
  },
  {
   "cell_type": "code",
   "execution_count": 7,
   "id": "a5609352-5e32-445c-b528-2480ef5bed7b",
   "metadata": {},
   "outputs": [],
   "source": [
    "use_cluster = True\n",
    "save        = True"
   ]
  },
  {
   "cell_type": "markdown",
   "id": "b66ec1c5-d768-49bd-b49e-395301c6d526",
   "metadata": {},
   "source": [
    "### Vary difficulty d=2"
   ]
  },
  {
   "cell_type": "code",
   "execution_count": 10,
   "id": "2bf88010-7412-4866-9578-b09cb492bb5c",
   "metadata": {},
   "outputs": [],
   "source": [
    "repetitions          = 200\n",
    "scales               = (0.0, 0.2, 0.4, 0.6, 0.8, 1.0)\n",
    "sample_size          = 500  \n",
    "\n",
    "d                    = 2\n",
    "number_perturbations = 2\n",
    "f_theta_seed         = 0\n",
    "p                    = 1\n",
    "s                    = 1\n",
    "\n",
    "tests = (nfsic_test, nyhsic_test, fhsic_test)\n",
    "outputs_numpy = jnp.zeros((len(tests), len(scales), repetitions))\n",
    "outputs_numpy = outputs_numpy.tolist()\n",
    "key = random.PRNGKey(42)\n",
    "seed = 42\n",
    "for s in tqdm(range(len(scales))):\n",
    "    scale = scales[s]\n",
    "    for i in tqdm(range(repetitions)):\n",
    "        key, subkey = random.split(key)\n",
    "        perturbation_multiplier = np.exp(d) * p ** s * scale \n",
    "        Z = f_theta_sampler(f_theta_seed, seed, sample_size, p, s, perturbation_multiplier, d)\n",
    "        X = np.expand_dims(Z[:, 0], 1)\n",
    "        Y = np.expand_dims(Z[:, 1], 1)\n",
    "        key, subkey = random.split(key)\n",
    "        seed += 1\n",
    "        for t in range(len(tests)):\n",
    "            test = tests[t]\n",
    "            if use_cluster:\n",
    "                # we submit the jobs to the cluster\n",
    "                # outputs now contain some objects called futures\n",
    "                outputs_numpy[t][s][i] = client.submit(test, X, Y, subkey, seed)\n",
    "            else:\n",
    "                outputs_numpy[t][s][i] = test(X, Y, subkey, seed)\n"
   ]
  },
  {
   "cell_type": "code",
   "execution_count": 9,
   "id": "fb619945-cfbb-4343-be04-91b6d3fb88d6",
   "metadata": {},
   "outputs": [
    {
     "name": "stdout",
     "output_type": "stream",
     "text": [
      "scales : (0.0, 0.2, 0.4, 0.6, 0.8, 1.0)\n",
      "sample size : 500\n",
      " \n",
      "<function nfsic_test at 0x7f07abfcbdc0>\n",
      "[0.035      0.05       0.185      0.48499998 0.87       0.97999996]\n",
      " \n",
      "<function nyhsic_test at 0x7f07abfcbe50>\n",
      "[0.055      0.36499998 0.97499996 1.         1.         1.        ]\n",
      " \n",
      "<function fhsic_test at 0x7f07abfcbee0>\n",
      "[0.03       0.35999998 0.92499995 1.         1.         1.        ]\n"
     ]
    }
   ],
   "source": [
    "# now we ask dask to gather the results once they are completed\n",
    "\n",
    "if use_cluster:\n",
    "    results = [client.gather(outputs_numpy[t]) for t in range(len(tests))]\n",
    "    results = jnp.array(results)\n",
    "    outputs_numpy = jnp.mean(results, -1)\n",
    "else:\n",
    "    outputs_numpy = jnp.mean(jnp.array(outputs_numpy), -1)\n",
    "\n",
    "if save:\n",
    "    jnp.save(\"results/perturbations_vary_dif_d2_cluster_numpy.npy\", outputs_numpy)\n",
    "    jnp.save(\"results/perturbations_vary_dif_d2_cluster_numpy_x_axis.npy\", scales)\n",
    "\n",
    "print(\"scales :\", scales)\n",
    "print(\"sample size :\", sample_size)\n",
    "for t in range(len(tests)):\n",
    "    print(\" \")\n",
    "    print(tests[t])\n",
    "    print(outputs_numpy[t])"
   ]
  },
  {
   "cell_type": "code",
   "execution_count": null,
   "id": "139e96e9-f931-40a7-98a9-dbde0590d79e",
   "metadata": {},
   "outputs": [],
   "source": []
  },
  {
   "cell_type": "markdown",
   "id": "87e762c7-edc7-411f-a62d-daaf49e71f71",
   "metadata": {},
   "source": [
    "## Vary sample size d=2"
   ]
  },
  {
   "cell_type": "code",
   "execution_count": 9,
   "id": "85d0a04b-b503-4d28-b5ef-b55fc74eefce",
   "metadata": {},
   "outputs": [
    {
     "data": {
      "application/vnd.jupyter.widget-view+json": {
       "model_id": "0b4c5c1ad4a94c7d9d43a8b29f68bc50",
       "version_major": 2,
       "version_minor": 0
      },
      "text/plain": [
       "  0%|          | 0/1 [00:00<?, ?it/s]"
      ]
     },
     "metadata": {},
     "output_type": "display_data"
    },
    {
     "data": {
      "application/vnd.jupyter.widget-view+json": {
       "model_id": "ee6d84a50e314078b2f60ea73d0db75d",
       "version_major": 2,
       "version_minor": 0
      },
      "text/plain": [
       "  0%|          | 0/200 [00:00<?, ?it/s]"
      ]
     },
     "metadata": {},
     "output_type": "display_data"
    },
    {
     "name": "stderr",
     "output_type": "stream",
     "text": [
      "Exception ignored in: <bound method GCDiagnosis._gc_callback of <distributed.utils_perf.GCDiagnosis object at 0x7fc944390c40>>\n",
      "Traceback (most recent call last):\n",
      "  File \"/nfs/ghome/live/gren/mambaforge/envs/hsicfuse-env/lib/python3.9/site-packages/distributed/utils_perf.py\", line 176, in _gc_callback\n",
      "    def _gc_callback(self, phase, info):\n",
      "KeyboardInterrupt: \n",
      "Exception ignored in: <bound method GCDiagnosis._gc_callback of <distributed.utils_perf.GCDiagnosis object at 0x7fc944390c40>>\n",
      "Traceback (most recent call last):\n",
      "  File \"/nfs/ghome/live/gren/mambaforge/envs/hsicfuse-env/lib/python3.9/site-packages/distributed/utils_perf.py\", line 183, in _gc_callback\n",
      "    self._fractional_timer.start_timing()\n",
      "  File \"/nfs/ghome/live/gren/mambaforge/envs/hsicfuse-env/lib/python3.9/site-packages/distributed/utils_perf.py\", line 118, in start_timing\n",
      "    assert self._cur_start is None\n",
      "AssertionError: \n"
     ]
    },
    {
     "ename": "KeyboardInterrupt",
     "evalue": "",
     "output_type": "error",
     "traceback": [
      "\u001b[0;31m---------------------------------------------------------------------------\u001b[0m",
      "\u001b[0;31mKeyboardInterrupt\u001b[0m                         Traceback (most recent call last)",
      "Cell \u001b[0;32mIn[9], line 29\u001b[0m\n\u001b[1;32m     27\u001b[0m         \u001b[38;5;28;01mfor\u001b[39;00m t \u001b[38;5;129;01min\u001b[39;00m \u001b[38;5;28mrange\u001b[39m(\u001b[38;5;28mlen\u001b[39m(tests)):\n\u001b[1;32m     28\u001b[0m             test \u001b[38;5;241m=\u001b[39m tests[t]\n\u001b[0;32m---> 29\u001b[0m             outputs[t][s][i] \u001b[38;5;241m=\u001b[39m \u001b[43mtest\u001b[49m\u001b[43m(\u001b[49m\u001b[43mX\u001b[49m\u001b[43m,\u001b[49m\u001b[43m \u001b[49m\u001b[43mY\u001b[49m\u001b[43m,\u001b[49m\u001b[43m \u001b[49m\u001b[43msubkey\u001b[49m\u001b[43m,\u001b[49m\u001b[43m \u001b[49m\u001b[43mseed\u001b[49m\u001b[43m)\u001b[49m\n\u001b[1;32m     31\u001b[0m output \u001b[38;5;241m=\u001b[39m jnp\u001b[38;5;241m.\u001b[39mmean(jnp\u001b[38;5;241m.\u001b[39marray(outputs), \u001b[38;5;241m-\u001b[39m\u001b[38;5;241m1\u001b[39m)\n\u001b[1;32m     33\u001b[0m jnp\u001b[38;5;241m.\u001b[39msave(\u001b[38;5;124m\"\u001b[39m\u001b[38;5;124mresults/perturbations_vary_n_d2.npy\u001b[39m\u001b[38;5;124m\"\u001b[39m, output)\n",
      "File \u001b[0;32m~/hsicfuse-project/all_tests.py:23\u001b[0m, in \u001b[0;36mnfsic_test\u001b[0;34m(X, Y, key, seed)\u001b[0m\n\u001b[1;32m     22\u001b[0m \u001b[38;5;28;01mdef\u001b[39;00m \u001b[38;5;21mnfsic_test\u001b[39m(X, Y, key, seed):\n\u001b[0;32m---> 23\u001b[0m     \u001b[38;5;28;01mreturn\u001b[39;00m \u001b[38;5;28mint\u001b[39m(\u001b[43mnfsic\u001b[49m\u001b[43m(\u001b[49m\u001b[43mX\u001b[49m\u001b[43m,\u001b[49m\u001b[43m \u001b[49m\u001b[43mY\u001b[49m\u001b[43m,\u001b[49m\u001b[43m \u001b[49m\u001b[43mseed\u001b[49m\u001b[43m)\u001b[49m)\n",
      "File \u001b[0;32m~/hsicfuse-project/wittawatj_tests.py:52\u001b[0m, in \u001b[0;36mnfsic\u001b[0;34m(X, Y, r, J, n_permute, alpha)\u001b[0m\n\u001b[1;32m     47\u001b[0m tr, te \u001b[38;5;241m=\u001b[39m pdata\u001b[38;5;241m.\u001b[39msubsample(X\u001b[38;5;241m.\u001b[39mshape[\u001b[38;5;241m0\u001b[39m], seed\u001b[38;5;241m=\u001b[39mr\u001b[38;5;241m+\u001b[39m\u001b[38;5;241m4\u001b[39m)\u001b[38;5;241m.\u001b[39msplit_tr_te(tr_proportion\u001b[38;5;241m=\u001b[39m\u001b[38;5;241m0.5\u001b[39m, seed\u001b[38;5;241m=\u001b[39mr\u001b[38;5;241m+\u001b[39m\u001b[38;5;241m5\u001b[39m)\n\u001b[1;32m     48\u001b[0m nfsic_opt_options \u001b[38;5;241m=\u001b[39m {\u001b[38;5;124m'\u001b[39m\u001b[38;5;124mn_test_locs\u001b[39m\u001b[38;5;124m'\u001b[39m:J, \u001b[38;5;124m'\u001b[39m\u001b[38;5;124mmax_iter\u001b[39m\u001b[38;5;124m'\u001b[39m:\u001b[38;5;241m200\u001b[39m,\n\u001b[1;32m     49\u001b[0m \u001b[38;5;124m'\u001b[39m\u001b[38;5;124mV_step\u001b[39m\u001b[38;5;124m'\u001b[39m:\u001b[38;5;241m1\u001b[39m, \u001b[38;5;124m'\u001b[39m\u001b[38;5;124mW_step\u001b[39m\u001b[38;5;124m'\u001b[39m:\u001b[38;5;241m1\u001b[39m, \u001b[38;5;124m'\u001b[39m\u001b[38;5;124mgwidthx_step\u001b[39m\u001b[38;5;124m'\u001b[39m:\u001b[38;5;241m1\u001b[39m, \u001b[38;5;124m'\u001b[39m\u001b[38;5;124mgwidthy_step\u001b[39m\u001b[38;5;124m'\u001b[39m:\u001b[38;5;241m1\u001b[39m,\n\u001b[1;32m     50\u001b[0m \u001b[38;5;124m'\u001b[39m\u001b[38;5;124mbatch_proportion\u001b[39m\u001b[38;5;124m'\u001b[39m:\u001b[38;5;241m0.7\u001b[39m, \u001b[38;5;124m'\u001b[39m\u001b[38;5;124mtol_fun\u001b[39m\u001b[38;5;124m'\u001b[39m:\u001b[38;5;241m1e-4\u001b[39m, \u001b[38;5;124m'\u001b[39m\u001b[38;5;124mstep_pow\u001b[39m\u001b[38;5;124m'\u001b[39m:\u001b[38;5;241m0.5\u001b[39m, \u001b[38;5;124m'\u001b[39m\u001b[38;5;124mseed\u001b[39m\u001b[38;5;124m'\u001b[39m:r\u001b[38;5;241m+\u001b[39m\u001b[38;5;241m2\u001b[39m,\n\u001b[1;32m     51\u001b[0m \u001b[38;5;124m'\u001b[39m\u001b[38;5;124mreg\u001b[39m\u001b[38;5;124m'\u001b[39m: \u001b[38;5;241m1e-6\u001b[39m}\n\u001b[0;32m---> 52\u001b[0m op_V, op_W, op_gwx, op_gwy, info \u001b[38;5;241m=\u001b[39m \u001b[43mfsic_GaussNFSIC\u001b[49m\u001b[38;5;241;43m.\u001b[39;49m\u001b[43moptimize_locs_widths\u001b[49m\u001b[43m(\u001b[49m\u001b[43mtr\u001b[49m\u001b[43m,\u001b[49m\n\u001b[1;32m     53\u001b[0m \u001b[43m        \u001b[49m\u001b[43malpha\u001b[49m\u001b[43m,\u001b[49m\u001b[43m \u001b[49m\u001b[38;5;241;43m*\u001b[39;49m\u001b[38;5;241;43m*\u001b[39;49m\u001b[43mnfsic_opt_options\u001b[49m\u001b[43m \u001b[49m\u001b[43m)\u001b[49m\n\u001b[1;32m     54\u001b[0m nfsic_opt \u001b[38;5;241m=\u001b[39m fsic_GaussNFSIC(op_gwx, op_gwy, op_V, op_W, alpha, reg\u001b[38;5;241m=\u001b[39m\u001b[38;5;124m'\u001b[39m\u001b[38;5;124mauto\u001b[39m\u001b[38;5;124m'\u001b[39m, n_permute\u001b[38;5;241m=\u001b[39mn_permute, seed\u001b[38;5;241m=\u001b[39mr\u001b[38;5;241m+\u001b[39m\u001b[38;5;241m3\u001b[39m)\n\u001b[1;32m     55\u001b[0m nfsic_opt_result  \u001b[38;5;241m=\u001b[39m nfsic_opt\u001b[38;5;241m.\u001b[39mperform_test(te)\n",
      "File \u001b[0;32m~/hsicfuse-project/fsic/indtest.py:364\u001b[0m, in \u001b[0;36mGaussNFSIC.optimize_locs_widths\u001b[0;34m(pdata, alpha, n_test_locs, max_iter, V_step, W_step, gwidthx_step, gwidthy_step, batch_proportion, tol_fun, step_pow, seed, reg, gwidthx_lb, gwidthx_ub, gwidthy_lb, gwidthy_ub)\u001b[0m\n\u001b[1;32m    360\u001b[0m gwidthy_ub \u001b[38;5;241m=\u001b[39m gwidthy_ub \u001b[38;5;28;01mif\u001b[39;00m gwidthy_ub \u001b[38;5;129;01mis\u001b[39;00m \u001b[38;5;129;01mnot\u001b[39;00m \u001b[38;5;28;01mNone\u001b[39;00m \u001b[38;5;28;01melse\u001b[39;00m fac_max\u001b[38;5;241m*\u001b[39mmedy2\n\u001b[1;32m    362\u001b[0m \u001b[38;5;66;03m# info = optimization info \u001b[39;00m\n\u001b[1;32m    363\u001b[0m V, W, gwidthx, gwidthy, info  \u001b[38;5;241m=\u001b[39m \\\n\u001b[0;32m--> 364\u001b[0m         \u001b[43mgeneric_optimize_locs_widths\u001b[49m\u001b[43m(\u001b[49m\u001b[43mpdata\u001b[49m\u001b[43m,\u001b[49m\u001b[43m \u001b[49m\u001b[43mV\u001b[49m\u001b[43m,\u001b[49m\u001b[43m \u001b[49m\u001b[43mW\u001b[49m\u001b[43m,\u001b[49m\u001b[43m \u001b[49m\u001b[43mgwidthx0\u001b[49m\u001b[43m,\u001b[49m\u001b[43m \u001b[49m\u001b[43mgwidthy0\u001b[49m\u001b[43m,\u001b[49m\n\u001b[1;32m    365\u001b[0m \u001b[43m                \u001b[49m\u001b[43mGaussNFSIC\u001b[49m\u001b[38;5;241;43m.\u001b[39;49m\u001b[43mfunc_obj\u001b[49m\u001b[43m,\u001b[49m\u001b[43m \u001b[49m\u001b[43mmax_iter\u001b[49m\u001b[38;5;241;43m=\u001b[39;49m\u001b[43mmax_iter\u001b[49m\u001b[43m,\u001b[49m\u001b[43m \u001b[49m\u001b[43mV_step\u001b[49m\u001b[38;5;241;43m=\u001b[39;49m\u001b[43mV_step\u001b[49m\u001b[43m,\u001b[49m\n\u001b[1;32m    366\u001b[0m \u001b[43m                \u001b[49m\u001b[43mW_step\u001b[49m\u001b[38;5;241;43m=\u001b[39;49m\u001b[43mW_step\u001b[49m\u001b[43m,\u001b[49m\u001b[43m \u001b[49m\u001b[43mgwidthx_step\u001b[49m\u001b[38;5;241;43m=\u001b[39;49m\u001b[43mgwidthx_step\u001b[49m\u001b[43m,\u001b[49m\n\u001b[1;32m    367\u001b[0m \u001b[43m                \u001b[49m\u001b[43mgwidthy_step\u001b[49m\u001b[38;5;241;43m=\u001b[39;49m\u001b[43mgwidthy_step\u001b[49m\u001b[43m,\u001b[49m\n\u001b[1;32m    368\u001b[0m \u001b[43m                \u001b[49m\u001b[43mbatch_proportion\u001b[49m\u001b[38;5;241;43m=\u001b[39;49m\u001b[43mbatch_proportion\u001b[49m\u001b[43m,\u001b[49m\u001b[43m \u001b[49m\u001b[43mtol_fun\u001b[49m\u001b[38;5;241;43m=\u001b[39;49m\u001b[43mtol_fun\u001b[49m\u001b[43m,\u001b[49m\n\u001b[1;32m    369\u001b[0m \u001b[43m                \u001b[49m\u001b[43mstep_pow\u001b[49m\u001b[38;5;241;43m=\u001b[39;49m\u001b[43mstep_pow\u001b[49m\u001b[43m,\u001b[49m\u001b[43m \u001b[49m\u001b[43mreg\u001b[49m\u001b[38;5;241;43m=\u001b[39;49m\u001b[43mreg\u001b[49m\u001b[43m,\u001b[49m\u001b[43m \u001b[49m\u001b[43mseed\u001b[49m\u001b[38;5;241;43m=\u001b[39;49m\u001b[43mseed\u001b[49m\u001b[38;5;241;43m+\u001b[39;49m\u001b[38;5;241;43m1\u001b[39;49m\u001b[43m,\u001b[49m\u001b[43m \u001b[49m\n\u001b[1;32m    370\u001b[0m \u001b[43m                \u001b[49m\u001b[43mgwidthx_lb\u001b[49m\u001b[38;5;241;43m=\u001b[39;49m\u001b[43mgwidthx_lb\u001b[49m\u001b[43m,\u001b[49m\u001b[43m \u001b[49m\u001b[43mgwidthx_ub\u001b[49m\u001b[38;5;241;43m=\u001b[39;49m\u001b[43mgwidthx_ub\u001b[49m\u001b[43m,\u001b[49m\n\u001b[1;32m    371\u001b[0m \u001b[43m                \u001b[49m\u001b[43mgwidthy_lb\u001b[49m\u001b[38;5;241;43m=\u001b[39;49m\u001b[43mgwidthy_lb\u001b[49m\u001b[43m,\u001b[49m\u001b[43m \u001b[49m\u001b[43mgwidthy_ub\u001b[49m\u001b[38;5;241;43m=\u001b[39;49m\u001b[43mgwidthy_ub\u001b[49m\u001b[43m)\u001b[49m\n\u001b[1;32m    372\u001b[0m \u001b[38;5;28;01massert\u001b[39;00m util\u001b[38;5;241m.\u001b[39mis_real_num(gwidthx), \u001b[38;5;124m'\u001b[39m\u001b[38;5;124mgwidthx is not real. Was \u001b[39m\u001b[38;5;132;01m%s\u001b[39;00m\u001b[38;5;124m'\u001b[39m \u001b[38;5;241m%\u001b[39m \u001b[38;5;28mstr\u001b[39m(gwidthx)\n\u001b[1;32m    373\u001b[0m \u001b[38;5;28;01massert\u001b[39;00m util\u001b[38;5;241m.\u001b[39mis_real_num(gwidthy), \u001b[38;5;124m'\u001b[39m\u001b[38;5;124mgwidthy is not real. Was \u001b[39m\u001b[38;5;132;01m%s\u001b[39;00m\u001b[38;5;124m'\u001b[39m \u001b[38;5;241m%\u001b[39m \u001b[38;5;28mstr\u001b[39m(gwidthy)\n",
      "File \u001b[0;32m~/hsicfuse-project/fsic/indtest.py:622\u001b[0m, in \u001b[0;36mgeneric_optimize_locs_widths\u001b[0;34m(pdata, V0, W0, gwidthx0, gwidthy0, func_obj, max_iter, V_step, W_step, gwidthx_step, gwidthy_step, batch_proportion, tol_fun, step_pow, reg, seed, gwidthx_lb, gwidthx_ub, gwidthy_lb, gwidthy_ub)\u001b[0m\n\u001b[1;32m    620\u001b[0m max_gwidthx_step \u001b[38;5;241m=\u001b[39m np\u001b[38;5;241m.\u001b[39mamin(np\u001b[38;5;241m.\u001b[39mstd(X, \u001b[38;5;241m0\u001b[39m))\u001b[38;5;241m/\u001b[39m\u001b[38;5;241m2.0\u001b[39m\n\u001b[1;32m    621\u001b[0m max_gwidthy_step \u001b[38;5;241m=\u001b[39m np\u001b[38;5;241m.\u001b[39mamin(np\u001b[38;5;241m.\u001b[39mstd(Y, \u001b[38;5;241m0\u001b[39m))\u001b[38;5;241m/\u001b[39m\u001b[38;5;241m2.0\u001b[39m\n\u001b[0;32m--> 622\u001b[0m functh \u001b[38;5;241m=\u001b[39m \u001b[43mtheano\u001b[49m\u001b[38;5;241;43m.\u001b[39;49m\u001b[43mfunction\u001b[49m\u001b[43m(\u001b[49m\u001b[43minputs\u001b[49m\u001b[38;5;241;43m=\u001b[39;49m\u001b[43m[\u001b[49m\u001b[43mXth\u001b[49m\u001b[43m,\u001b[49m\u001b[43m \u001b[49m\u001b[43mYth\u001b[49m\u001b[43m]\u001b[49m\u001b[43m,\u001b[49m\u001b[43m \u001b[49m\u001b[43moutputs\u001b[49m\u001b[38;5;241;43m=\u001b[39;49m\u001b[43ms\u001b[49m\u001b[43m,\u001b[49m\u001b[43m \u001b[49m\n\u001b[1;32m    623\u001b[0m \u001b[43m       \u001b[49m\u001b[43mupdates\u001b[49m\u001b[38;5;241;43m=\u001b[39;49m\u001b[43m[\u001b[49m\n\u001b[1;32m    624\u001b[0m \u001b[43m          \u001b[49m\u001b[43m(\u001b[49m\u001b[43mVth\u001b[49m\u001b[43m,\u001b[49m\u001b[43m \u001b[49m\u001b[43mVth\u001b[49m\u001b[38;5;241;43m+\u001b[39;49m\u001b[43mV_step\u001b[49m\u001b[38;5;241;43m*\u001b[39;49m\u001b[43mg_V\u001b[49m\u001b[38;5;241;43m/\u001b[39;49m\u001b[43mit\u001b[49m\u001b[38;5;241;43m*\u001b[39;49m\u001b[38;5;241;43m*\u001b[39;49m\u001b[43mstep_pow\u001b[49m\u001b[38;5;241;43m/\u001b[39;49m\u001b[43mtensor\u001b[49m\u001b[38;5;241;43m.\u001b[39;49m\u001b[43msum\u001b[49m\u001b[43m(\u001b[49m\u001b[43mg_V\u001b[49m\u001b[38;5;241;43m*\u001b[39;49m\u001b[38;5;241;43m*\u001b[39;49m\u001b[38;5;241;43m2\u001b[39;49m\u001b[43m)\u001b[49m\u001b[38;5;241;43m*\u001b[39;49m\u001b[38;5;241;43m*\u001b[39;49m\u001b[38;5;241;43m0.5\u001b[39;49m\u001b[43m \u001b[49m\u001b[43m)\u001b[49m\u001b[43m,\u001b[49m\u001b[43m \u001b[49m\n\u001b[1;32m    625\u001b[0m \u001b[43m          \u001b[49m\u001b[43m(\u001b[49m\u001b[43mWth\u001b[49m\u001b[43m,\u001b[49m\u001b[43m \u001b[49m\u001b[43mWth\u001b[49m\u001b[38;5;241;43m+\u001b[39;49m\u001b[43mW_step\u001b[49m\u001b[38;5;241;43m*\u001b[39;49m\u001b[43mg_W\u001b[49m\u001b[38;5;241;43m/\u001b[39;49m\u001b[43mit\u001b[49m\u001b[38;5;241;43m*\u001b[39;49m\u001b[38;5;241;43m*\u001b[39;49m\u001b[43mstep_pow\u001b[49m\u001b[38;5;241;43m/\u001b[39;49m\u001b[43mtensor\u001b[49m\u001b[38;5;241;43m.\u001b[39;49m\u001b[43msum\u001b[49m\u001b[43m(\u001b[49m\u001b[43mg_W\u001b[49m\u001b[38;5;241;43m*\u001b[39;49m\u001b[38;5;241;43m*\u001b[39;49m\u001b[38;5;241;43m2\u001b[39;49m\u001b[43m)\u001b[49m\u001b[38;5;241;43m*\u001b[39;49m\u001b[38;5;241;43m*\u001b[39;49m\u001b[38;5;241;43m0.5\u001b[39;49m\u001b[43m \u001b[49m\u001b[43m)\u001b[49m\u001b[43m,\u001b[49m\u001b[43m \u001b[49m\n\u001b[1;32m    626\u001b[0m \u001b[43m          \u001b[49m\u001b[43m(\u001b[49m\u001b[43mit\u001b[49m\u001b[43m,\u001b[49m\u001b[43m \u001b[49m\u001b[43mit\u001b[49m\u001b[38;5;241;43m+\u001b[39;49m\u001b[38;5;241;43m1\u001b[39;49m\u001b[43m)\u001b[49m\u001b[43m,\u001b[49m\u001b[43m \u001b[49m\n\u001b[1;32m    627\u001b[0m \u001b[43m          \u001b[49m\u001b[38;5;66;43;03m#(gamma_sq_th, gamma_sq_th+gwidthx_step*gra_gamma_sq\\\u001b[39;49;00m\n\u001b[1;32m    628\u001b[0m \u001b[43m          \u001b[49m\u001b[38;5;66;43;03m#        /it**step_pow/tensor.sum(gra_gamma_sq**2)**0.5 ) \u001b[39;49;00m\n\u001b[1;32m    629\u001b[0m \u001b[43m          \u001b[49m\u001b[43m(\u001b[49m\u001b[43mgwidthx_sq_th\u001b[49m\u001b[43m,\u001b[49m\u001b[43m \u001b[49m\n\u001b[1;32m    630\u001b[0m \u001b[43m              \u001b[49m\u001b[43mgwidth_constrain\u001b[49m\u001b[43m(\u001b[49m\n\u001b[1;32m    631\u001b[0m \u001b[43m                  \u001b[49m\u001b[43mgwidthx_sq_th\u001b[49m\u001b[38;5;241;43m+\u001b[39;49m\u001b[43mgwidthx_step\u001b[49m\u001b[38;5;241;43m*\u001b[39;49m\u001b[43mtensor\u001b[49m\u001b[38;5;241;43m.\u001b[39;49m\u001b[43msgn\u001b[49m\u001b[43m(\u001b[49m\u001b[43mg_gwidthx_sq\u001b[49m\u001b[43m)\u001b[49m\u001b[43m \u001b[49m\u001b[43m\\\u001b[49m\n\u001b[1;32m    632\u001b[0m \u001b[43m                  \u001b[49m\u001b[38;5;241;43m*\u001b[39;49m\u001b[43mtensor\u001b[49m\u001b[38;5;241;43m.\u001b[39;49m\u001b[43mminimum\u001b[49m\u001b[43m(\u001b[49m\u001b[43mtensor\u001b[49m\u001b[38;5;241;43m.\u001b[39;49m\u001b[43mabs_\u001b[49m\u001b[43m(\u001b[49m\u001b[43mg_gwidthx_sq\u001b[49m\u001b[43m)\u001b[49m\u001b[43m,\u001b[49m\u001b[43m \u001b[49m\u001b[43mmax_gwidthx_step\u001b[49m\u001b[43m)\u001b[49m\u001b[43m \u001b[49m\u001b[43m\\\u001b[49m\n\u001b[1;32m    633\u001b[0m \u001b[43m                  \u001b[49m\u001b[38;5;241;43m/\u001b[39;49m\u001b[43mit\u001b[49m\u001b[38;5;241;43m*\u001b[39;49m\u001b[38;5;241;43m*\u001b[39;49m\u001b[43mstep_pow\u001b[49m\u001b[43m,\u001b[49m\n\u001b[1;32m    634\u001b[0m \u001b[43m                  \u001b[49m\u001b[43mtensor\u001b[49m\u001b[38;5;241;43m.\u001b[39;49m\u001b[43msqrt\u001b[49m\u001b[43m(\u001b[49m\u001b[43mgwidthx_lb\u001b[49m\u001b[43m)\u001b[49m\u001b[43m,\u001b[49m\u001b[43m \u001b[49m\u001b[43mtensor\u001b[49m\u001b[38;5;241;43m.\u001b[39;49m\u001b[43msqrt\u001b[49m\u001b[43m(\u001b[49m\u001b[43mgwidthx_ub\u001b[49m\u001b[43m)\u001b[49m\n\u001b[1;32m    635\u001b[0m \u001b[43m              \u001b[49m\u001b[43m)\u001b[49m\n\u001b[1;32m    636\u001b[0m \u001b[43m          \u001b[49m\u001b[43m)\u001b[49m\u001b[43m,\u001b[49m\u001b[43m \u001b[49m\n\u001b[1;32m    637\u001b[0m \u001b[43m          \u001b[49m\u001b[43m(\u001b[49m\u001b[43mgwidthy_sq_th\u001b[49m\u001b[43m,\u001b[49m\u001b[43m \u001b[49m\n\u001b[1;32m    638\u001b[0m \u001b[43m              \u001b[49m\u001b[43mgwidth_constrain\u001b[49m\u001b[43m(\u001b[49m\n\u001b[1;32m    639\u001b[0m \u001b[43m                  \u001b[49m\u001b[43mgwidthy_sq_th\u001b[49m\u001b[38;5;241;43m+\u001b[39;49m\u001b[43mgwidthy_step\u001b[49m\u001b[38;5;241;43m*\u001b[39;49m\u001b[43mtensor\u001b[49m\u001b[38;5;241;43m.\u001b[39;49m\u001b[43msgn\u001b[49m\u001b[43m(\u001b[49m\u001b[43mg_gwidthy_sq\u001b[49m\u001b[43m)\u001b[49m\u001b[43m \u001b[49m\u001b[43m\\\u001b[49m\n\u001b[1;32m    640\u001b[0m \u001b[43m                 \u001b[49m\u001b[38;5;241;43m*\u001b[39;49m\u001b[43mtensor\u001b[49m\u001b[38;5;241;43m.\u001b[39;49m\u001b[43mminimum\u001b[49m\u001b[43m(\u001b[49m\u001b[43mtensor\u001b[49m\u001b[38;5;241;43m.\u001b[39;49m\u001b[43mabs_\u001b[49m\u001b[43m(\u001b[49m\u001b[43mg_gwidthy_sq\u001b[49m\u001b[43m)\u001b[49m\u001b[43m,\u001b[49m\u001b[43m \u001b[49m\u001b[43mmax_gwidthy_step\u001b[49m\u001b[43m)\u001b[49m\u001b[43m \u001b[49m\u001b[43m\\\u001b[49m\n\u001b[1;32m    641\u001b[0m \u001b[43m                 \u001b[49m\u001b[38;5;241;43m/\u001b[39;49m\u001b[43mit\u001b[49m\u001b[38;5;241;43m*\u001b[39;49m\u001b[38;5;241;43m*\u001b[39;49m\u001b[43mstep_pow\u001b[49m\u001b[43m,\u001b[49m\u001b[43m \u001b[49m\n\u001b[1;32m    642\u001b[0m \u001b[43m                 \u001b[49m\u001b[43mtensor\u001b[49m\u001b[38;5;241;43m.\u001b[39;49m\u001b[43msqrt\u001b[49m\u001b[43m(\u001b[49m\u001b[43mgwidthy_lb\u001b[49m\u001b[43m)\u001b[49m\u001b[43m,\u001b[49m\u001b[43m \u001b[49m\u001b[43mtensor\u001b[49m\u001b[38;5;241;43m.\u001b[39;49m\u001b[43msqrt\u001b[49m\u001b[43m(\u001b[49m\u001b[43mgwidthy_ub\u001b[49m\u001b[43m)\u001b[49m\n\u001b[1;32m    643\u001b[0m \u001b[43m             \u001b[49m\u001b[43m)\u001b[49m\n\u001b[1;32m    644\u001b[0m \u001b[43m          \u001b[49m\u001b[43m)\u001b[49m\u001b[43m \u001b[49m\n\u001b[1;32m    645\u001b[0m \u001b[43m          \u001b[49m\u001b[43m]\u001b[49m\u001b[43m \u001b[49m\n\u001b[1;32m    646\u001b[0m \u001b[43m       \u001b[49m\u001b[43m)\u001b[49m\n\u001b[1;32m    647\u001b[0m \u001b[38;5;66;03m# copy the function with the hope that multiple processes can access their own \u001b[39;00m\n\u001b[1;32m    648\u001b[0m \u001b[38;5;66;03m# compiled functions. Did not work?\u001b[39;00m\n\u001b[1;32m    649\u001b[0m \u001b[38;5;66;03m#http://deeplearning.net/software/theano/library/compile/function.html#theano.compile.function_module.Function.copy\u001b[39;00m\n\u001b[0;32m   (...)\u001b[0m\n\u001b[1;32m    654\u001b[0m \u001b[38;5;66;03m# //////// run gradient ascent //////////////\u001b[39;00m\n\u001b[1;32m    655\u001b[0m \u001b[38;5;66;03m# S for statistics\u001b[39;00m\n\u001b[1;32m    656\u001b[0m S \u001b[38;5;241m=\u001b[39m np\u001b[38;5;241m.\u001b[39mzeros(max_iter)\n",
      "File \u001b[0;32m~/mambaforge/envs/hsicfuse-env/lib/python3.9/site-packages/theano/compile/function/__init__.py:337\u001b[0m, in \u001b[0;36mfunction\u001b[0;34m(inputs, outputs, mode, updates, givens, no_default_updates, accept_inplace, name, rebuild_strict, allow_input_downcast, profile, on_unused_input)\u001b[0m\n\u001b[1;32m    331\u001b[0m     fn \u001b[38;5;241m=\u001b[39m orig_function(\n\u001b[1;32m    332\u001b[0m         inputs, outputs, mode\u001b[38;5;241m=\u001b[39mmode, accept_inplace\u001b[38;5;241m=\u001b[39maccept_inplace, name\u001b[38;5;241m=\u001b[39mname\n\u001b[1;32m    333\u001b[0m     )\n\u001b[1;32m    334\u001b[0m \u001b[38;5;28;01melse\u001b[39;00m:\n\u001b[1;32m    335\u001b[0m     \u001b[38;5;66;03m# note: pfunc will also call orig_function -- orig_function is\u001b[39;00m\n\u001b[1;32m    336\u001b[0m     \u001b[38;5;66;03m#      a choke point that all compilation must pass through\u001b[39;00m\n\u001b[0;32m--> 337\u001b[0m     fn \u001b[38;5;241m=\u001b[39m \u001b[43mpfunc\u001b[49m\u001b[43m(\u001b[49m\n\u001b[1;32m    338\u001b[0m \u001b[43m        \u001b[49m\u001b[43mparams\u001b[49m\u001b[38;5;241;43m=\u001b[39;49m\u001b[43minputs\u001b[49m\u001b[43m,\u001b[49m\n\u001b[1;32m    339\u001b[0m \u001b[43m        \u001b[49m\u001b[43moutputs\u001b[49m\u001b[38;5;241;43m=\u001b[39;49m\u001b[43moutputs\u001b[49m\u001b[43m,\u001b[49m\n\u001b[1;32m    340\u001b[0m \u001b[43m        \u001b[49m\u001b[43mmode\u001b[49m\u001b[38;5;241;43m=\u001b[39;49m\u001b[43mmode\u001b[49m\u001b[43m,\u001b[49m\n\u001b[1;32m    341\u001b[0m \u001b[43m        \u001b[49m\u001b[43mupdates\u001b[49m\u001b[38;5;241;43m=\u001b[39;49m\u001b[43mupdates\u001b[49m\u001b[43m,\u001b[49m\n\u001b[1;32m    342\u001b[0m \u001b[43m        \u001b[49m\u001b[43mgivens\u001b[49m\u001b[38;5;241;43m=\u001b[39;49m\u001b[43mgivens\u001b[49m\u001b[43m,\u001b[49m\n\u001b[1;32m    343\u001b[0m \u001b[43m        \u001b[49m\u001b[43mno_default_updates\u001b[49m\u001b[38;5;241;43m=\u001b[39;49m\u001b[43mno_default_updates\u001b[49m\u001b[43m,\u001b[49m\n\u001b[1;32m    344\u001b[0m \u001b[43m        \u001b[49m\u001b[43maccept_inplace\u001b[49m\u001b[38;5;241;43m=\u001b[39;49m\u001b[43maccept_inplace\u001b[49m\u001b[43m,\u001b[49m\n\u001b[1;32m    345\u001b[0m \u001b[43m        \u001b[49m\u001b[43mname\u001b[49m\u001b[38;5;241;43m=\u001b[39;49m\u001b[43mname\u001b[49m\u001b[43m,\u001b[49m\n\u001b[1;32m    346\u001b[0m \u001b[43m        \u001b[49m\u001b[43mrebuild_strict\u001b[49m\u001b[38;5;241;43m=\u001b[39;49m\u001b[43mrebuild_strict\u001b[49m\u001b[43m,\u001b[49m\n\u001b[1;32m    347\u001b[0m \u001b[43m        \u001b[49m\u001b[43mallow_input_downcast\u001b[49m\u001b[38;5;241;43m=\u001b[39;49m\u001b[43mallow_input_downcast\u001b[49m\u001b[43m,\u001b[49m\n\u001b[1;32m    348\u001b[0m \u001b[43m        \u001b[49m\u001b[43mon_unused_input\u001b[49m\u001b[38;5;241;43m=\u001b[39;49m\u001b[43mon_unused_input\u001b[49m\u001b[43m,\u001b[49m\n\u001b[1;32m    349\u001b[0m \u001b[43m        \u001b[49m\u001b[43mprofile\u001b[49m\u001b[38;5;241;43m=\u001b[39;49m\u001b[43mprofile\u001b[49m\u001b[43m,\u001b[49m\n\u001b[1;32m    350\u001b[0m \u001b[43m        \u001b[49m\u001b[43moutput_keys\u001b[49m\u001b[38;5;241;43m=\u001b[39;49m\u001b[43moutput_keys\u001b[49m\u001b[43m,\u001b[49m\n\u001b[1;32m    351\u001b[0m \u001b[43m    \u001b[49m\u001b[43m)\u001b[49m\n\u001b[1;32m    352\u001b[0m \u001b[38;5;28;01mreturn\u001b[39;00m fn\n",
      "File \u001b[0;32m~/mambaforge/envs/hsicfuse-env/lib/python3.9/site-packages/theano/compile/function/pfunc.py:524\u001b[0m, in \u001b[0;36mpfunc\u001b[0;34m(params, outputs, mode, updates, givens, no_default_updates, accept_inplace, name, rebuild_strict, allow_input_downcast, profile, on_unused_input, output_keys)\u001b[0m\n\u001b[1;32m    519\u001b[0m         si \u001b[38;5;241m=\u001b[39m In(\n\u001b[1;32m    520\u001b[0m             variable\u001b[38;5;241m=\u001b[39msv, value\u001b[38;5;241m=\u001b[39msv\u001b[38;5;241m.\u001b[39mcontainer, mutable\u001b[38;5;241m=\u001b[39m\u001b[38;5;28;01mFalse\u001b[39;00m, borrow\u001b[38;5;241m=\u001b[39m\u001b[38;5;28;01mTrue\u001b[39;00m, shared\u001b[38;5;241m=\u001b[39m\u001b[38;5;28;01mTrue\u001b[39;00m\n\u001b[1;32m    521\u001b[0m         )\n\u001b[1;32m    522\u001b[0m     inputs\u001b[38;5;241m.\u001b[39mappend(si)\n\u001b[0;32m--> 524\u001b[0m \u001b[38;5;28;01mreturn\u001b[39;00m \u001b[43morig_function\u001b[49m\u001b[43m(\u001b[49m\n\u001b[1;32m    525\u001b[0m \u001b[43m    \u001b[49m\u001b[43minputs\u001b[49m\u001b[43m,\u001b[49m\n\u001b[1;32m    526\u001b[0m \u001b[43m    \u001b[49m\u001b[43mcloned_outputs\u001b[49m\u001b[43m,\u001b[49m\n\u001b[1;32m    527\u001b[0m \u001b[43m    \u001b[49m\u001b[43mmode\u001b[49m\u001b[43m,\u001b[49m\n\u001b[1;32m    528\u001b[0m \u001b[43m    \u001b[49m\u001b[43maccept_inplace\u001b[49m\u001b[38;5;241;43m=\u001b[39;49m\u001b[43maccept_inplace\u001b[49m\u001b[43m,\u001b[49m\n\u001b[1;32m    529\u001b[0m \u001b[43m    \u001b[49m\u001b[43mname\u001b[49m\u001b[38;5;241;43m=\u001b[39;49m\u001b[43mname\u001b[49m\u001b[43m,\u001b[49m\n\u001b[1;32m    530\u001b[0m \u001b[43m    \u001b[49m\u001b[43mprofile\u001b[49m\u001b[38;5;241;43m=\u001b[39;49m\u001b[43mprofile\u001b[49m\u001b[43m,\u001b[49m\n\u001b[1;32m    531\u001b[0m \u001b[43m    \u001b[49m\u001b[43mon_unused_input\u001b[49m\u001b[38;5;241;43m=\u001b[39;49m\u001b[43mon_unused_input\u001b[49m\u001b[43m,\u001b[49m\n\u001b[1;32m    532\u001b[0m \u001b[43m    \u001b[49m\u001b[43moutput_keys\u001b[49m\u001b[38;5;241;43m=\u001b[39;49m\u001b[43moutput_keys\u001b[49m\u001b[43m,\u001b[49m\n\u001b[1;32m    533\u001b[0m \u001b[43m\u001b[49m\u001b[43m)\u001b[49m\n",
      "File \u001b[0;32m~/mambaforge/envs/hsicfuse-env/lib/python3.9/site-packages/theano/compile/function/types.py:1970\u001b[0m, in \u001b[0;36morig_function\u001b[0;34m(inputs, outputs, mode, accept_inplace, name, profile, on_unused_input, output_keys)\u001b[0m\n\u001b[1;32m   1968\u001b[0m \u001b[38;5;28;01mtry\u001b[39;00m:\n\u001b[1;32m   1969\u001b[0m     Maker \u001b[38;5;241m=\u001b[39m \u001b[38;5;28mgetattr\u001b[39m(mode, \u001b[38;5;124m\"\u001b[39m\u001b[38;5;124mfunction_maker\u001b[39m\u001b[38;5;124m\"\u001b[39m, FunctionMaker)\n\u001b[0;32m-> 1970\u001b[0m     m \u001b[38;5;241m=\u001b[39m \u001b[43mMaker\u001b[49m\u001b[43m(\u001b[49m\n\u001b[1;32m   1971\u001b[0m \u001b[43m        \u001b[49m\u001b[43minputs\u001b[49m\u001b[43m,\u001b[49m\n\u001b[1;32m   1972\u001b[0m \u001b[43m        \u001b[49m\u001b[43moutputs\u001b[49m\u001b[43m,\u001b[49m\n\u001b[1;32m   1973\u001b[0m \u001b[43m        \u001b[49m\u001b[43mmode\u001b[49m\u001b[43m,\u001b[49m\n\u001b[1;32m   1974\u001b[0m \u001b[43m        \u001b[49m\u001b[43maccept_inplace\u001b[49m\u001b[38;5;241;43m=\u001b[39;49m\u001b[43maccept_inplace\u001b[49m\u001b[43m,\u001b[49m\n\u001b[1;32m   1975\u001b[0m \u001b[43m        \u001b[49m\u001b[43mprofile\u001b[49m\u001b[38;5;241;43m=\u001b[39;49m\u001b[43mprofile\u001b[49m\u001b[43m,\u001b[49m\n\u001b[1;32m   1976\u001b[0m \u001b[43m        \u001b[49m\u001b[43mon_unused_input\u001b[49m\u001b[38;5;241;43m=\u001b[39;49m\u001b[43mon_unused_input\u001b[49m\u001b[43m,\u001b[49m\n\u001b[1;32m   1977\u001b[0m \u001b[43m        \u001b[49m\u001b[43moutput_keys\u001b[49m\u001b[38;5;241;43m=\u001b[39;49m\u001b[43moutput_keys\u001b[49m\u001b[43m,\u001b[49m\n\u001b[1;32m   1978\u001b[0m \u001b[43m        \u001b[49m\u001b[43mname\u001b[49m\u001b[38;5;241;43m=\u001b[39;49m\u001b[43mname\u001b[49m\u001b[43m,\u001b[49m\n\u001b[1;32m   1979\u001b[0m \u001b[43m    \u001b[49m\u001b[43m)\u001b[49m\n\u001b[1;32m   1980\u001b[0m     \u001b[38;5;28;01mwith\u001b[39;00m config\u001b[38;5;241m.\u001b[39mchange_flags(compute_test_value\u001b[38;5;241m=\u001b[39m\u001b[38;5;124m\"\u001b[39m\u001b[38;5;124moff\u001b[39m\u001b[38;5;124m\"\u001b[39m):\n\u001b[1;32m   1981\u001b[0m         fn \u001b[38;5;241m=\u001b[39m m\u001b[38;5;241m.\u001b[39mcreate(defaults)\n",
      "File \u001b[0;32m~/mambaforge/envs/hsicfuse-env/lib/python3.9/site-packages/theano/compile/function/types.py:1615\u001b[0m, in \u001b[0;36mFunctionMaker.__init__\u001b[0;34m(self, inputs, outputs, mode, accept_inplace, function_builder, profile, on_unused_input, fgraph, output_keys, name)\u001b[0m\n\u001b[1;32m   1611\u001b[0m     optimizer_profile \u001b[38;5;241m=\u001b[39m \u001b[38;5;28mself\u001b[39m\u001b[38;5;241m.\u001b[39moptimize_graph_with_cache(\n\u001b[1;32m   1612\u001b[0m         optimizer, inputs, outputs\n\u001b[1;32m   1613\u001b[0m     )\n\u001b[1;32m   1614\u001b[0m \u001b[38;5;28;01melse\u001b[39;00m:\n\u001b[0;32m-> 1615\u001b[0m     optimizer_profile \u001b[38;5;241m=\u001b[39m \u001b[43moptimizer\u001b[49m\u001b[43m(\u001b[49m\u001b[43mfgraph\u001b[49m\u001b[43m)\u001b[49m\n\u001b[1;32m   1617\u001b[0m end_optimizer \u001b[38;5;241m=\u001b[39m time\u001b[38;5;241m.\u001b[39mtime()\n\u001b[1;32m   1618\u001b[0m opt_time \u001b[38;5;241m=\u001b[39m end_optimizer \u001b[38;5;241m-\u001b[39m start_optimizer\n",
      "File \u001b[0;32m~/mambaforge/envs/hsicfuse-env/lib/python3.9/site-packages/theano/graph/opt.py:92\u001b[0m, in \u001b[0;36mGlobalOptimizer.__call__\u001b[0;34m(self, fgraph)\u001b[0m\n\u001b[1;32m     86\u001b[0m \u001b[38;5;28;01mdef\u001b[39;00m \u001b[38;5;21m__call__\u001b[39m(\u001b[38;5;28mself\u001b[39m, fgraph):\n\u001b[1;32m     87\u001b[0m \u001b[38;5;250m    \u001b[39m\u001b[38;5;124;03m\"\"\"\u001b[39;00m\n\u001b[1;32m     88\u001b[0m \n\u001b[1;32m     89\u001b[0m \u001b[38;5;124;03m    Same as self.optimize(fgraph).\u001b[39;00m\n\u001b[1;32m     90\u001b[0m \n\u001b[1;32m     91\u001b[0m \u001b[38;5;124;03m    \"\"\"\u001b[39;00m\n\u001b[0;32m---> 92\u001b[0m     \u001b[38;5;28;01mreturn\u001b[39;00m \u001b[38;5;28;43mself\u001b[39;49m\u001b[38;5;241;43m.\u001b[39;49m\u001b[43moptimize\u001b[49m\u001b[43m(\u001b[49m\u001b[43mfgraph\u001b[49m\u001b[43m)\u001b[49m\n",
      "File \u001b[0;32m~/mambaforge/envs/hsicfuse-env/lib/python3.9/site-packages/theano/graph/opt.py:83\u001b[0m, in \u001b[0;36mGlobalOptimizer.optimize\u001b[0;34m(self, fgraph, *args, **kwargs)\u001b[0m\n\u001b[1;32m     75\u001b[0m \u001b[38;5;250m\u001b[39m\u001b[38;5;124;03m\"\"\"\u001b[39;00m\n\u001b[1;32m     76\u001b[0m \n\u001b[1;32m     77\u001b[0m \u001b[38;5;124;03mThis is meant as a shortcut to:\u001b[39;00m\n\u001b[0;32m   (...)\u001b[0m\n\u001b[1;32m     80\u001b[0m \n\u001b[1;32m     81\u001b[0m \u001b[38;5;124;03m\"\"\"\u001b[39;00m\n\u001b[1;32m     82\u001b[0m \u001b[38;5;28mself\u001b[39m\u001b[38;5;241m.\u001b[39madd_requirements(fgraph)\n\u001b[0;32m---> 83\u001b[0m ret \u001b[38;5;241m=\u001b[39m \u001b[38;5;28;43mself\u001b[39;49m\u001b[38;5;241;43m.\u001b[39;49m\u001b[43mapply\u001b[49m\u001b[43m(\u001b[49m\u001b[43mfgraph\u001b[49m\u001b[43m,\u001b[49m\u001b[43m \u001b[49m\u001b[38;5;241;43m*\u001b[39;49m\u001b[43margs\u001b[49m\u001b[43m,\u001b[49m\u001b[43m \u001b[49m\u001b[38;5;241;43m*\u001b[39;49m\u001b[38;5;241;43m*\u001b[39;49m\u001b[43mkwargs\u001b[49m\u001b[43m)\u001b[49m\n\u001b[1;32m     84\u001b[0m \u001b[38;5;28;01mreturn\u001b[39;00m ret\n",
      "File \u001b[0;32m~/mambaforge/envs/hsicfuse-env/lib/python3.9/site-packages/theano/graph/opt.py:245\u001b[0m, in \u001b[0;36mSeqOptimizer.apply\u001b[0;34m(self, fgraph)\u001b[0m\n\u001b[1;32m    243\u001b[0m nb_nodes_before \u001b[38;5;241m=\u001b[39m \u001b[38;5;28mlen\u001b[39m(fgraph\u001b[38;5;241m.\u001b[39mapply_nodes)\n\u001b[1;32m    244\u001b[0m t0 \u001b[38;5;241m=\u001b[39m time\u001b[38;5;241m.\u001b[39mtime()\n\u001b[0;32m--> 245\u001b[0m sub_prof \u001b[38;5;241m=\u001b[39m \u001b[43moptimizer\u001b[49m\u001b[38;5;241;43m.\u001b[39;49m\u001b[43moptimize\u001b[49m\u001b[43m(\u001b[49m\u001b[43mfgraph\u001b[49m\u001b[43m)\u001b[49m\n\u001b[1;32m    246\u001b[0m l\u001b[38;5;241m.\u001b[39mappend(\u001b[38;5;28mfloat\u001b[39m(time\u001b[38;5;241m.\u001b[39mtime() \u001b[38;5;241m-\u001b[39m t0))\n\u001b[1;32m    247\u001b[0m sub_profs\u001b[38;5;241m.\u001b[39mappend(sub_prof)\n",
      "File \u001b[0;32m~/mambaforge/envs/hsicfuse-env/lib/python3.9/site-packages/theano/graph/opt.py:83\u001b[0m, in \u001b[0;36mGlobalOptimizer.optimize\u001b[0;34m(self, fgraph, *args, **kwargs)\u001b[0m\n\u001b[1;32m     75\u001b[0m \u001b[38;5;250m\u001b[39m\u001b[38;5;124;03m\"\"\"\u001b[39;00m\n\u001b[1;32m     76\u001b[0m \n\u001b[1;32m     77\u001b[0m \u001b[38;5;124;03mThis is meant as a shortcut to:\u001b[39;00m\n\u001b[0;32m   (...)\u001b[0m\n\u001b[1;32m     80\u001b[0m \n\u001b[1;32m     81\u001b[0m \u001b[38;5;124;03m\"\"\"\u001b[39;00m\n\u001b[1;32m     82\u001b[0m \u001b[38;5;28mself\u001b[39m\u001b[38;5;241m.\u001b[39madd_requirements(fgraph)\n\u001b[0;32m---> 83\u001b[0m ret \u001b[38;5;241m=\u001b[39m \u001b[38;5;28;43mself\u001b[39;49m\u001b[38;5;241;43m.\u001b[39;49m\u001b[43mapply\u001b[49m\u001b[43m(\u001b[49m\u001b[43mfgraph\u001b[49m\u001b[43m,\u001b[49m\u001b[43m \u001b[49m\u001b[38;5;241;43m*\u001b[39;49m\u001b[43margs\u001b[49m\u001b[43m,\u001b[49m\u001b[43m \u001b[49m\u001b[38;5;241;43m*\u001b[39;49m\u001b[38;5;241;43m*\u001b[39;49m\u001b[43mkwargs\u001b[49m\u001b[43m)\u001b[49m\n\u001b[1;32m     84\u001b[0m \u001b[38;5;28;01mreturn\u001b[39;00m ret\n",
      "File \u001b[0;32m~/mambaforge/envs/hsicfuse-env/lib/python3.9/site-packages/theano/graph/opt.py:2546\u001b[0m, in \u001b[0;36mEquilibriumOptimizer.apply\u001b[0;34m(self, fgraph, start_from)\u001b[0m\n\u001b[1;32m   2544\u001b[0m changed \u001b[38;5;241m=\u001b[39m \u001b[38;5;28;01mTrue\u001b[39;00m\n\u001b[1;32m   2545\u001b[0m node_created[lopt] \u001b[38;5;241m+\u001b[39m\u001b[38;5;241m=\u001b[39m change_tracker\u001b[38;5;241m.\u001b[39mnb_imported \u001b[38;5;241m-\u001b[39m nb\n\u001b[0;32m-> 2546\u001b[0m changed \u001b[38;5;241m|\u001b[39m\u001b[38;5;241m=\u001b[39m \u001b[43mapply_cleanup\u001b[49m\u001b[43m(\u001b[49m\u001b[43miter_cleanup_sub_profs\u001b[49m\u001b[43m)\u001b[49m\n\u001b[1;32m   2547\u001b[0m \u001b[38;5;28;01mif\u001b[39;00m global_process_count[lopt] \u001b[38;5;241m>\u001b[39m max_use:\n\u001b[1;32m   2548\u001b[0m     max_use_abort \u001b[38;5;241m=\u001b[39m \u001b[38;5;28;01mTrue\u001b[39;00m\n",
      "File \u001b[0;32m~/mambaforge/envs/hsicfuse-env/lib/python3.9/site-packages/theano/graph/opt.py:2454\u001b[0m, in \u001b[0;36mEquilibriumOptimizer.apply.<locals>.apply_cleanup\u001b[0;34m(profs_dict)\u001b[0m\n\u001b[1;32m   2452\u001b[0m nb \u001b[38;5;241m=\u001b[39m change_tracker\u001b[38;5;241m.\u001b[39mnb_imported\n\u001b[1;32m   2453\u001b[0m t_opt \u001b[38;5;241m=\u001b[39m time\u001b[38;5;241m.\u001b[39mtime()\n\u001b[0;32m-> 2454\u001b[0m sub_prof \u001b[38;5;241m=\u001b[39m \u001b[43mcopt\u001b[49m\u001b[38;5;241;43m.\u001b[39;49m\u001b[43mapply\u001b[49m\u001b[43m(\u001b[49m\u001b[43mfgraph\u001b[49m\u001b[43m)\u001b[49m\n\u001b[1;32m   2455\u001b[0m time_opts[copt] \u001b[38;5;241m+\u001b[39m\u001b[38;5;241m=\u001b[39m time\u001b[38;5;241m.\u001b[39mtime() \u001b[38;5;241m-\u001b[39m t_opt\n\u001b[1;32m   2456\u001b[0m profs_dict[copt]\u001b[38;5;241m.\u001b[39mappend(sub_prof)\n",
      "File \u001b[0;32m~/mambaforge/envs/hsicfuse-env/lib/python3.9/site-packages/theano/graph/opt.py:864\u001b[0m, in \u001b[0;36mMergeOptimizer.apply\u001b[0;34m(self, fgraph)\u001b[0m\n\u001b[1;32m    862\u001b[0m         fgraph\u001b[38;5;241m.\u001b[39mreplace_all(pairs, \u001b[38;5;124m\"\u001b[39m\u001b[38;5;124mMergeOptimizer\u001b[39m\u001b[38;5;124m\"\u001b[39m)\n\u001b[1;32m    863\u001b[0m     \u001b[38;5;28;01melse\u001b[39;00m:\n\u001b[0;32m--> 864\u001b[0m         \u001b[43mfgraph\u001b[49m\u001b[38;5;241;43m.\u001b[39;49m\u001b[43mreplace_all_validate\u001b[49m\u001b[43m(\u001b[49m\u001b[43mpairs\u001b[49m\u001b[43m,\u001b[49m\u001b[43m \u001b[49m\u001b[38;5;124;43m\"\u001b[39;49m\u001b[38;5;124;43mMergeOptimizer\u001b[39;49m\u001b[38;5;124;43m\"\u001b[39;49m\u001b[43m)\u001b[49m\n\u001b[1;32m    865\u001b[0m \u001b[38;5;28;01mexcept\u001b[39;00m InconsistencyError:\n\u001b[1;32m    866\u001b[0m     success \u001b[38;5;241m=\u001b[39m \u001b[38;5;28;01mFalse\u001b[39;00m\n",
      "File \u001b[0;32m~/mambaforge/envs/hsicfuse-env/lib/python3.9/site-packages/theano/graph/toolbox.py:543\u001b[0m, in \u001b[0;36mReplaceValidate.replace_all_validate\u001b[0;34m(self, fgraph, replacements, reason, verbose)\u001b[0m\n\u001b[1;32m    541\u001b[0m \u001b[38;5;28;01mfor\u001b[39;00m r, new_r \u001b[38;5;129;01min\u001b[39;00m replacements:\n\u001b[1;32m    542\u001b[0m     \u001b[38;5;28;01mtry\u001b[39;00m:\n\u001b[0;32m--> 543\u001b[0m         \u001b[43mfgraph\u001b[49m\u001b[38;5;241;43m.\u001b[39;49m\u001b[43mreplace\u001b[49m\u001b[43m(\u001b[49m\u001b[43mr\u001b[49m\u001b[43m,\u001b[49m\u001b[43m \u001b[49m\u001b[43mnew_r\u001b[49m\u001b[43m,\u001b[49m\u001b[43m \u001b[49m\u001b[43mreason\u001b[49m\u001b[38;5;241;43m=\u001b[39;49m\u001b[43mreason\u001b[49m\u001b[43m,\u001b[49m\u001b[43m \u001b[49m\u001b[43mverbose\u001b[49m\u001b[38;5;241;43m=\u001b[39;49m\u001b[38;5;28;43;01mFalse\u001b[39;49;00m\u001b[43m)\u001b[49m\n\u001b[1;32m    544\u001b[0m     \u001b[38;5;28;01mexcept\u001b[39;00m \u001b[38;5;167;01mException\u001b[39;00m \u001b[38;5;28;01mas\u001b[39;00m e:\n\u001b[1;32m    545\u001b[0m         msg \u001b[38;5;241m=\u001b[39m \u001b[38;5;28mstr\u001b[39m(e)\n",
      "File \u001b[0;32m~/mambaforge/envs/hsicfuse-env/lib/python3.9/site-packages/theano/graph/fg.py:539\u001b[0m, in \u001b[0;36mFunctionGraph.replace\u001b[0;34m(self, var, new_var, reason, verbose)\u001b[0m\n\u001b[1;32m    531\u001b[0m             \u001b[38;5;28;01mraise\u001b[39;00m \u001b[38;5;167;01mAssertionError\u001b[39;00m(\n\u001b[1;32m    532\u001b[0m                 \u001b[38;5;124m\"\u001b[39m\u001b[38;5;124mThe replacement variable has a test value with \u001b[39m\u001b[38;5;124m\"\u001b[39m\n\u001b[1;32m    533\u001b[0m                 \u001b[38;5;124m\"\u001b[39m\u001b[38;5;124ma shape different from the original variable\u001b[39m\u001b[38;5;124m'\u001b[39m\u001b[38;5;124ms \u001b[39m\u001b[38;5;124m\"\u001b[39m\n\u001b[1;32m    534\u001b[0m                 \u001b[38;5;124mf\u001b[39m\u001b[38;5;124m\"\u001b[39m\u001b[38;5;124mtest value. Original: \u001b[39m\u001b[38;5;132;01m{\u001b[39;00mtval_shape\u001b[38;5;132;01m}\u001b[39;00m\u001b[38;5;124m, new: \u001b[39m\u001b[38;5;132;01m{\u001b[39;00mnew_tval_shape\u001b[38;5;132;01m}\u001b[39;00m\u001b[38;5;124m\"\u001b[39m\n\u001b[1;32m    535\u001b[0m             )\n\u001b[1;32m    537\u001b[0m \u001b[38;5;28;01mfor\u001b[39;00m node, i \u001b[38;5;129;01min\u001b[39;00m \u001b[38;5;28mlist\u001b[39m(\u001b[38;5;28mself\u001b[39m\u001b[38;5;241m.\u001b[39mclients[var]):\n\u001b[1;32m    538\u001b[0m     \u001b[38;5;28;01massert\u001b[39;00m (node \u001b[38;5;241m==\u001b[39m \u001b[38;5;124m\"\u001b[39m\u001b[38;5;124moutput\u001b[39m\u001b[38;5;124m\"\u001b[39m \u001b[38;5;129;01mand\u001b[39;00m \u001b[38;5;28mself\u001b[39m\u001b[38;5;241m.\u001b[39moutputs[i] \u001b[38;5;129;01mis\u001b[39;00m var) \u001b[38;5;129;01mor\u001b[39;00m (\n\u001b[0;32m--> 539\u001b[0m         \u001b[43mnode\u001b[49m\u001b[38;5;241;43m.\u001b[39;49m\u001b[43minputs\u001b[49m[i] \u001b[38;5;129;01mis\u001b[39;00m var\n\u001b[1;32m    540\u001b[0m     )\n\u001b[1;32m    541\u001b[0m     \u001b[38;5;28mself\u001b[39m\u001b[38;5;241m.\u001b[39mchange_input(node, i, new_var, reason\u001b[38;5;241m=\u001b[39mreason)\n",
      "\u001b[0;31mKeyboardInterrupt\u001b[0m: "
     ]
    }
   ],
   "source": [
    "repetitions          = 200\n",
    "scale                = 0.6\n",
    "number_perturbations = 2\n",
    "# sample_sizes         = (200, 400, 600, 800, 1000)\n",
    "sample_sizes = (200, )\n",
    "d                    = 2\n",
    "f_theta_seed         = 0\n",
    "p                    = 1\n",
    "s                    = 1\n",
    "\n",
    "# tests = (hsicfuse_test, hsic_test, hsicagginc1_test, hsicagginc100_test, hsicagginc200_test, hsicaggincquad_test)\n",
    "tests = (nfsic_test, )\n",
    "outputs = jnp.zeros((len(tests), len(sample_sizes), repetitions))\n",
    "outputs = outputs.tolist()\n",
    "key = random.PRNGKey(42)\n",
    "seed = 42\n",
    "for s in tqdm(range(len(sample_sizes))):\n",
    "    sample_size = sample_sizes[s]\n",
    "    for i in tqdm(range(repetitions)):\n",
    "        key, subkey = random.split(key)\n",
    "        perturbation_multiplier = np.exp(d) * p ** s * scale \n",
    "        Z = f_theta_sampler(f_theta_seed, seed, sample_size, p, s, perturbation_multiplier, d)\n",
    "        X = np.expand_dims(Z[:, 0], 1)\n",
    "        Y = np.expand_dims(Z[:, 1], 1)\n",
    "        key, subkey = random.split(key)\n",
    "        seed += 1\n",
    "        for t in range(len(tests)):\n",
    "            test = tests[t]\n",
    "            outputs[t][s][i] = test(X, Y, subkey, seed)\n",
    "\n",
    "output = jnp.mean(jnp.array(outputs), -1)\n",
    "\n",
    "jnp.save(\"results/perturbations_vary_n_d2.npy\", output)\n",
    "jnp.save(\"results/perturbations_vary_n_d2_x_axis.npy\", sample_sizes)\n",
    "\n",
    "print(\"sample sizes :\", sample_sizes)\n",
    "print(\"scale :\", scale)\n",
    "for t in range(len(tests)):\n",
    "    print(\" \")\n",
    "    print(tests[t])\n",
    "    print(output[t])"
   ]
  },
  {
   "cell_type": "markdown",
   "id": "a6eff1eb-446e-47f9-8fbb-c72600044c68",
   "metadata": {},
   "source": [
    "### Vary d"
   ]
  },
  {
   "cell_type": "code",
   "execution_count": 33,
   "id": "41ca8adf-88c1-4f29-9eb4-d6cc352da70e",
   "metadata": {},
   "outputs": [
    {
     "data": {
      "application/vnd.jupyter.widget-view+json": {
       "model_id": "b403dc6c1ec94c29bbfbd037877212d2",
       "version_major": 2,
       "version_minor": 0
      },
      "text/plain": [
       "  0%|          | 0/1 [00:00<?, ?it/s]"
      ]
     },
     "metadata": {},
     "output_type": "display_data"
    },
    {
     "data": {
      "application/vnd.jupyter.widget-view+json": {
       "model_id": "4b2edbf77989470da718afcfe16a7b84",
       "version_major": 2,
       "version_minor": 0
      },
      "text/plain": [
       "  0%|          | 0/200 [00:00<?, ?it/s]"
      ]
     },
     "metadata": {},
     "output_type": "display_data"
    },
    {
     "ename": "KeyboardInterrupt",
     "evalue": "",
     "output_type": "error",
     "traceback": [
      "\u001b[0;31m---------------------------------------------------------------------------\u001b[0m",
      "\u001b[0;31mKeyboardInterrupt\u001b[0m                         Traceback (most recent call last)",
      "Cell \u001b[0;32mIn[33], line 30\u001b[0m\n\u001b[1;32m     28\u001b[0m         \u001b[38;5;28;01mfor\u001b[39;00m t \u001b[38;5;129;01min\u001b[39;00m \u001b[38;5;28mrange\u001b[39m(\u001b[38;5;28mlen\u001b[39m(tests)):\n\u001b[1;32m     29\u001b[0m             test \u001b[38;5;241m=\u001b[39m tests[t]\n\u001b[0;32m---> 30\u001b[0m             outputs[t][s][i] \u001b[38;5;241m=\u001b[39m \u001b[43mtest\u001b[49m\u001b[43m(\u001b[49m\u001b[43mX\u001b[49m\u001b[43m,\u001b[49m\u001b[43m \u001b[49m\u001b[43mY\u001b[49m\u001b[43m,\u001b[49m\u001b[43m \u001b[49m\u001b[43msubkey\u001b[49m\u001b[43m,\u001b[49m\u001b[43m \u001b[49m\u001b[43mseed\u001b[49m\u001b[43m)\u001b[49m\n\u001b[1;32m     32\u001b[0m output \u001b[38;5;241m=\u001b[39m jnp\u001b[38;5;241m.\u001b[39mmean(jnp\u001b[38;5;241m.\u001b[39marray(outputs), \u001b[38;5;241m-\u001b[39m\u001b[38;5;241m1\u001b[39m)\n\u001b[1;32m     34\u001b[0m jnp\u001b[38;5;241m.\u001b[39msave(\u001b[38;5;124m\"\u001b[39m\u001b[38;5;124mresults/perturbations_vary_d.npy\u001b[39m\u001b[38;5;124m\"\u001b[39m, output)\n",
      "File \u001b[0;32m~/hsicfuse-project/all_tests.py:27\u001b[0m, in \u001b[0;36mnfsic_test\u001b[0;34m(X, Y, key, seed)\u001b[0m\n\u001b[1;32m     26\u001b[0m \u001b[38;5;28;01mdef\u001b[39;00m \u001b[38;5;21mnfsic_test\u001b[39m(X, Y, key, seed):\n\u001b[0;32m---> 27\u001b[0m     \u001b[38;5;28;01mreturn\u001b[39;00m \u001b[38;5;28mint\u001b[39m(\u001b[43mnfsic\u001b[49m\u001b[43m(\u001b[49m\u001b[43mX\u001b[49m\u001b[43m,\u001b[49m\u001b[43m \u001b[49m\u001b[43mY\u001b[49m\u001b[43m,\u001b[49m\u001b[43m \u001b[49m\u001b[43mseed\u001b[49m\u001b[43m)\u001b[49m)\n",
      "File \u001b[0;32m~/hsicfuse-project/wittawatj_tests.py:25\u001b[0m, in \u001b[0;36mnfsic\u001b[0;34m(X, Y, r, J, n_permute, alpha)\u001b[0m\n\u001b[1;32m     20\u001b[0m tr, te \u001b[38;5;241m=\u001b[39m pdata\u001b[38;5;241m.\u001b[39msubsample(X\u001b[38;5;241m.\u001b[39mshape[\u001b[38;5;241m0\u001b[39m], seed\u001b[38;5;241m=\u001b[39mr\u001b[38;5;241m+\u001b[39m\u001b[38;5;241m4\u001b[39m)\u001b[38;5;241m.\u001b[39msplit_tr_te(tr_proportion\u001b[38;5;241m=\u001b[39m\u001b[38;5;241m0.5\u001b[39m, seed\u001b[38;5;241m=\u001b[39mr\u001b[38;5;241m+\u001b[39m\u001b[38;5;241m5\u001b[39m)\n\u001b[1;32m     21\u001b[0m nfsic_opt_options \u001b[38;5;241m=\u001b[39m {\u001b[38;5;124m'\u001b[39m\u001b[38;5;124mn_test_locs\u001b[39m\u001b[38;5;124m'\u001b[39m:J, \u001b[38;5;124m'\u001b[39m\u001b[38;5;124mmax_iter\u001b[39m\u001b[38;5;124m'\u001b[39m:\u001b[38;5;241m200\u001b[39m,\n\u001b[1;32m     22\u001b[0m \u001b[38;5;124m'\u001b[39m\u001b[38;5;124mV_step\u001b[39m\u001b[38;5;124m'\u001b[39m:\u001b[38;5;241m1\u001b[39m, \u001b[38;5;124m'\u001b[39m\u001b[38;5;124mW_step\u001b[39m\u001b[38;5;124m'\u001b[39m:\u001b[38;5;241m1\u001b[39m, \u001b[38;5;124m'\u001b[39m\u001b[38;5;124mgwidthx_step\u001b[39m\u001b[38;5;124m'\u001b[39m:\u001b[38;5;241m1\u001b[39m, \u001b[38;5;124m'\u001b[39m\u001b[38;5;124mgwidthy_step\u001b[39m\u001b[38;5;124m'\u001b[39m:\u001b[38;5;241m1\u001b[39m,\n\u001b[1;32m     23\u001b[0m \u001b[38;5;124m'\u001b[39m\u001b[38;5;124mbatch_proportion\u001b[39m\u001b[38;5;124m'\u001b[39m:\u001b[38;5;241m0.7\u001b[39m, \u001b[38;5;124m'\u001b[39m\u001b[38;5;124mtol_fun\u001b[39m\u001b[38;5;124m'\u001b[39m:\u001b[38;5;241m1e-4\u001b[39m, \u001b[38;5;124m'\u001b[39m\u001b[38;5;124mstep_pow\u001b[39m\u001b[38;5;124m'\u001b[39m:\u001b[38;5;241m0.5\u001b[39m, \u001b[38;5;124m'\u001b[39m\u001b[38;5;124mseed\u001b[39m\u001b[38;5;124m'\u001b[39m:r\u001b[38;5;241m+\u001b[39m\u001b[38;5;241m2\u001b[39m,\n\u001b[1;32m     24\u001b[0m \u001b[38;5;124m'\u001b[39m\u001b[38;5;124mreg\u001b[39m\u001b[38;5;124m'\u001b[39m: \u001b[38;5;241m1e-6\u001b[39m}\n\u001b[0;32m---> 25\u001b[0m op_V, op_W, op_gwx, op_gwy, info \u001b[38;5;241m=\u001b[39m \u001b[43mfsic_GaussNFSIC\u001b[49m\u001b[38;5;241;43m.\u001b[39;49m\u001b[43moptimize_locs_widths\u001b[49m\u001b[43m(\u001b[49m\u001b[43mtr\u001b[49m\u001b[43m,\u001b[49m\n\u001b[1;32m     26\u001b[0m \u001b[43m        \u001b[49m\u001b[43malpha\u001b[49m\u001b[43m,\u001b[49m\u001b[43m \u001b[49m\u001b[38;5;241;43m*\u001b[39;49m\u001b[38;5;241;43m*\u001b[39;49m\u001b[43mnfsic_opt_options\u001b[49m\u001b[43m \u001b[49m\u001b[43m)\u001b[49m\n\u001b[1;32m     27\u001b[0m nfsic_opt \u001b[38;5;241m=\u001b[39m fsic_GaussNFSIC(op_gwx, op_gwy, op_V, op_W, alpha, reg\u001b[38;5;241m=\u001b[39m\u001b[38;5;124m'\u001b[39m\u001b[38;5;124mauto\u001b[39m\u001b[38;5;124m'\u001b[39m, n_permute\u001b[38;5;241m=\u001b[39mn_permute, seed\u001b[38;5;241m=\u001b[39mr\u001b[38;5;241m+\u001b[39m\u001b[38;5;241m3\u001b[39m)\n\u001b[1;32m     28\u001b[0m nfsic_opt_result  \u001b[38;5;241m=\u001b[39m nfsic_opt\u001b[38;5;241m.\u001b[39mperform_test(te)\n",
      "File \u001b[0;32m~/hsicfuse-project/fsic/indtest.py:364\u001b[0m, in \u001b[0;36mGaussNFSIC.optimize_locs_widths\u001b[0;34m(pdata, alpha, n_test_locs, max_iter, V_step, W_step, gwidthx_step, gwidthy_step, batch_proportion, tol_fun, step_pow, seed, reg, gwidthx_lb, gwidthx_ub, gwidthy_lb, gwidthy_ub)\u001b[0m\n\u001b[1;32m    360\u001b[0m gwidthy_ub \u001b[38;5;241m=\u001b[39m gwidthy_ub \u001b[38;5;28;01mif\u001b[39;00m gwidthy_ub \u001b[38;5;129;01mis\u001b[39;00m \u001b[38;5;129;01mnot\u001b[39;00m \u001b[38;5;28;01mNone\u001b[39;00m \u001b[38;5;28;01melse\u001b[39;00m fac_max\u001b[38;5;241m*\u001b[39mmedy2\n\u001b[1;32m    362\u001b[0m \u001b[38;5;66;03m# info = optimization info \u001b[39;00m\n\u001b[1;32m    363\u001b[0m V, W, gwidthx, gwidthy, info  \u001b[38;5;241m=\u001b[39m \\\n\u001b[0;32m--> 364\u001b[0m         \u001b[43mgeneric_optimize_locs_widths\u001b[49m\u001b[43m(\u001b[49m\u001b[43mpdata\u001b[49m\u001b[43m,\u001b[49m\u001b[43m \u001b[49m\u001b[43mV\u001b[49m\u001b[43m,\u001b[49m\u001b[43m \u001b[49m\u001b[43mW\u001b[49m\u001b[43m,\u001b[49m\u001b[43m \u001b[49m\u001b[43mgwidthx0\u001b[49m\u001b[43m,\u001b[49m\u001b[43m \u001b[49m\u001b[43mgwidthy0\u001b[49m\u001b[43m,\u001b[49m\n\u001b[1;32m    365\u001b[0m \u001b[43m                \u001b[49m\u001b[43mGaussNFSIC\u001b[49m\u001b[38;5;241;43m.\u001b[39;49m\u001b[43mfunc_obj\u001b[49m\u001b[43m,\u001b[49m\u001b[43m \u001b[49m\u001b[43mmax_iter\u001b[49m\u001b[38;5;241;43m=\u001b[39;49m\u001b[43mmax_iter\u001b[49m\u001b[43m,\u001b[49m\u001b[43m \u001b[49m\u001b[43mV_step\u001b[49m\u001b[38;5;241;43m=\u001b[39;49m\u001b[43mV_step\u001b[49m\u001b[43m,\u001b[49m\n\u001b[1;32m    366\u001b[0m \u001b[43m                \u001b[49m\u001b[43mW_step\u001b[49m\u001b[38;5;241;43m=\u001b[39;49m\u001b[43mW_step\u001b[49m\u001b[43m,\u001b[49m\u001b[43m \u001b[49m\u001b[43mgwidthx_step\u001b[49m\u001b[38;5;241;43m=\u001b[39;49m\u001b[43mgwidthx_step\u001b[49m\u001b[43m,\u001b[49m\n\u001b[1;32m    367\u001b[0m \u001b[43m                \u001b[49m\u001b[43mgwidthy_step\u001b[49m\u001b[38;5;241;43m=\u001b[39;49m\u001b[43mgwidthy_step\u001b[49m\u001b[43m,\u001b[49m\n\u001b[1;32m    368\u001b[0m \u001b[43m                \u001b[49m\u001b[43mbatch_proportion\u001b[49m\u001b[38;5;241;43m=\u001b[39;49m\u001b[43mbatch_proportion\u001b[49m\u001b[43m,\u001b[49m\u001b[43m \u001b[49m\u001b[43mtol_fun\u001b[49m\u001b[38;5;241;43m=\u001b[39;49m\u001b[43mtol_fun\u001b[49m\u001b[43m,\u001b[49m\n\u001b[1;32m    369\u001b[0m \u001b[43m                \u001b[49m\u001b[43mstep_pow\u001b[49m\u001b[38;5;241;43m=\u001b[39;49m\u001b[43mstep_pow\u001b[49m\u001b[43m,\u001b[49m\u001b[43m \u001b[49m\u001b[43mreg\u001b[49m\u001b[38;5;241;43m=\u001b[39;49m\u001b[43mreg\u001b[49m\u001b[43m,\u001b[49m\u001b[43m \u001b[49m\u001b[43mseed\u001b[49m\u001b[38;5;241;43m=\u001b[39;49m\u001b[43mseed\u001b[49m\u001b[38;5;241;43m+\u001b[39;49m\u001b[38;5;241;43m1\u001b[39;49m\u001b[43m,\u001b[49m\u001b[43m \u001b[49m\n\u001b[1;32m    370\u001b[0m \u001b[43m                \u001b[49m\u001b[43mgwidthx_lb\u001b[49m\u001b[38;5;241;43m=\u001b[39;49m\u001b[43mgwidthx_lb\u001b[49m\u001b[43m,\u001b[49m\u001b[43m \u001b[49m\u001b[43mgwidthx_ub\u001b[49m\u001b[38;5;241;43m=\u001b[39;49m\u001b[43mgwidthx_ub\u001b[49m\u001b[43m,\u001b[49m\n\u001b[1;32m    371\u001b[0m \u001b[43m                \u001b[49m\u001b[43mgwidthy_lb\u001b[49m\u001b[38;5;241;43m=\u001b[39;49m\u001b[43mgwidthy_lb\u001b[49m\u001b[43m,\u001b[49m\u001b[43m \u001b[49m\u001b[43mgwidthy_ub\u001b[49m\u001b[38;5;241;43m=\u001b[39;49m\u001b[43mgwidthy_ub\u001b[49m\u001b[43m)\u001b[49m\n\u001b[1;32m    372\u001b[0m \u001b[38;5;28;01massert\u001b[39;00m util\u001b[38;5;241m.\u001b[39mis_real_num(gwidthx), \u001b[38;5;124m'\u001b[39m\u001b[38;5;124mgwidthx is not real. Was \u001b[39m\u001b[38;5;132;01m%s\u001b[39;00m\u001b[38;5;124m'\u001b[39m \u001b[38;5;241m%\u001b[39m \u001b[38;5;28mstr\u001b[39m(gwidthx)\n\u001b[1;32m    373\u001b[0m \u001b[38;5;28;01massert\u001b[39;00m util\u001b[38;5;241m.\u001b[39mis_real_num(gwidthy), \u001b[38;5;124m'\u001b[39m\u001b[38;5;124mgwidthy is not real. Was \u001b[39m\u001b[38;5;132;01m%s\u001b[39;00m\u001b[38;5;124m'\u001b[39m \u001b[38;5;241m%\u001b[39m \u001b[38;5;28mstr\u001b[39m(gwidthy)\n",
      "File \u001b[0;32m~/hsicfuse-project/fsic/indtest.py:613\u001b[0m, in \u001b[0;36mgeneric_optimize_locs_widths\u001b[0;34m(pdata, V0, W0, gwidthx0, gwidthy0, func_obj, max_iter, V_step, W_step, gwidthx_step, gwidthy_step, batch_proportion, tol_fun, step_pow, reg, seed, gwidthx_lb, gwidthx_ub, gwidthy_lb, gwidthy_ub)\u001b[0m\n\u001b[1;32m    610\u001b[0m regth \u001b[38;5;241m=\u001b[39m theano\u001b[38;5;241m.\u001b[39mshared(reg, name\u001b[38;5;241m=\u001b[39m\u001b[38;5;124m'\u001b[39m\u001b[38;5;124mreg\u001b[39m\u001b[38;5;124m'\u001b[39m)\n\u001b[1;32m    612\u001b[0m \u001b[38;5;66;03m#sqr(x) = x^2\u001b[39;00m\n\u001b[0;32m--> 613\u001b[0m s \u001b[38;5;241m=\u001b[39m \u001b[43mfunc_obj\u001b[49m\u001b[43m(\u001b[49m\u001b[43mXth\u001b[49m\u001b[43m,\u001b[49m\u001b[43m \u001b[49m\u001b[43mYth\u001b[49m\u001b[43m,\u001b[49m\u001b[43m \u001b[49m\u001b[43mVth\u001b[49m\u001b[43m,\u001b[49m\u001b[43m \u001b[49m\u001b[43mWth\u001b[49m\u001b[43m,\u001b[49m\u001b[43m \u001b[49m\u001b[43mtensor\u001b[49m\u001b[38;5;241;43m.\u001b[39;49m\u001b[43msqr\u001b[49m\u001b[43m(\u001b[49m\u001b[43mgwidthx_sq_th\u001b[49m\u001b[43m)\u001b[49m\u001b[43m,\u001b[49m\n\u001b[1;32m    614\u001b[0m \u001b[43m        \u001b[49m\u001b[43mtensor\u001b[49m\u001b[38;5;241;43m.\u001b[39;49m\u001b[43msqr\u001b[49m\u001b[43m(\u001b[49m\u001b[43mgwidthy_sq_th\u001b[49m\u001b[43m)\u001b[49m\u001b[43m,\u001b[49m\u001b[43m \u001b[49m\u001b[43mregth\u001b[49m\u001b[43m,\u001b[49m\u001b[43m \u001b[49m\u001b[43mX\u001b[49m\u001b[38;5;241;43m.\u001b[39;49m\u001b[43mshape\u001b[49m\u001b[43m[\u001b[49m\u001b[38;5;241;43m0\u001b[39;49m\u001b[43m]\u001b[49m\u001b[43m,\u001b[49m\u001b[43m \u001b[49m\u001b[43mV0\u001b[49m\u001b[38;5;241;43m.\u001b[39;49m\u001b[43mshape\u001b[49m\u001b[43m[\u001b[49m\u001b[38;5;241;43m0\u001b[39;49m\u001b[43m]\u001b[49m\u001b[43m)\u001b[49m\n\u001b[1;32m    616\u001b[0m g_V, g_W, g_gwidthx_sq, g_gwidthy_sq \u001b[38;5;241m=\u001b[39m tensor\u001b[38;5;241m.\u001b[39mgrad(s, [Vth, Wth,\n\u001b[1;32m    617\u001b[0m     gwidthx_sq_th, gwidthy_sq_th])\n\u001b[1;32m    619\u001b[0m \u001b[38;5;66;03m# heuristic to prevent the step sizes from being too large\u001b[39;00m\n",
      "File \u001b[0;32m~/hsicfuse-project/fsic/indtest.py:274\u001b[0m, in \u001b[0;36mGaussNFSIC.func_obj\u001b[0;34m(Xth, Yth, Vth, Wth, gwidthx_th, gwidthy_th, regth, n, J)\u001b[0m\n\u001b[1;32m    272\u001b[0m mean_gam \u001b[38;5;241m=\u001b[39m Gam\u001b[38;5;241m.\u001b[39mmean(\u001b[38;5;241m0\u001b[39m)\n\u001b[1;32m    273\u001b[0m Gam0 \u001b[38;5;241m=\u001b[39m Gam \u001b[38;5;241m-\u001b[39m mean_gam\n\u001b[0;32m--> 274\u001b[0m Sig \u001b[38;5;241m=\u001b[39m \u001b[43mGam0\u001b[49m\u001b[38;5;241;43m.\u001b[39;49m\u001b[43mT\u001b[49m\u001b[38;5;241;43m.\u001b[39;49m\u001b[43mdot\u001b[49m\u001b[43m(\u001b[49m\u001b[43mGam0\u001b[49m\u001b[43m)\u001b[49m\u001b[38;5;241;43m/\u001b[39;49m\u001b[43mn\u001b[49m\n\u001b[1;32m    275\u001b[0m s \u001b[38;5;241m=\u001b[39m nlinalg\u001b[38;5;241m.\u001b[39mmatrix_inverse(Sig \u001b[38;5;241m+\u001b[39m diag_regth)\u001b[38;5;241m.\u001b[39mdot(u)\u001b[38;5;241m.\u001b[39mdot(u)\u001b[38;5;241m*\u001b[39mn\n\u001b[1;32m    276\u001b[0m \u001b[38;5;66;03m#s = nlinalg.matrix_inverse(Sig).dot(u).dot(u)*n\u001b[39;00m\n",
      "File \u001b[0;32m~/mambaforge/envs/hsicfuse-env/lib/python3.9/site-packages/theano/tensor/var.py:170\u001b[0m, in \u001b[0;36m_tensor_py_operators.__truediv__\u001b[0;34m(self, other)\u001b[0m\n\u001b[1;32m    169\u001b[0m \u001b[38;5;28;01mdef\u001b[39;00m \u001b[38;5;21m__truediv__\u001b[39m(\u001b[38;5;28mself\u001b[39m, other):\n\u001b[0;32m--> 170\u001b[0m     \u001b[38;5;28;01mreturn\u001b[39;00m \u001b[43mtheano\u001b[49m\u001b[38;5;241;43m.\u001b[39;49m\u001b[43mtensor\u001b[49m\u001b[38;5;241;43m.\u001b[39;49m\u001b[43mbasic\u001b[49m\u001b[38;5;241;43m.\u001b[39;49m\u001b[43mtrue_div\u001b[49m\u001b[43m(\u001b[49m\u001b[38;5;28;43mself\u001b[39;49m\u001b[43m,\u001b[49m\u001b[43m \u001b[49m\u001b[43mother\u001b[49m\u001b[43m)\u001b[49m\n",
      "File \u001b[0;32m~/mambaforge/envs/hsicfuse-env/lib/python3.9/site-packages/theano/graph/op.py:250\u001b[0m, in \u001b[0;36mOp.__call__\u001b[0;34m(self, *inputs, **kwargs)\u001b[0m\n\u001b[1;32m    207\u001b[0m \u001b[38;5;250m\u001b[39m\u001b[38;5;124;03m\"\"\"Construct an `Apply` node using `self.make_node` and return its outputs.\u001b[39;00m\n\u001b[1;32m    208\u001b[0m \n\u001b[1;32m    209\u001b[0m \u001b[38;5;124;03mThis method is just a wrapper around `Op.make_node`.\u001b[39;00m\n\u001b[0;32m   (...)\u001b[0m\n\u001b[1;32m    247\u001b[0m \n\u001b[1;32m    248\u001b[0m \u001b[38;5;124;03m\"\"\"\u001b[39;00m\n\u001b[1;32m    249\u001b[0m return_list \u001b[38;5;241m=\u001b[39m kwargs\u001b[38;5;241m.\u001b[39mpop(\u001b[38;5;124m\"\u001b[39m\u001b[38;5;124mreturn_list\u001b[39m\u001b[38;5;124m\"\u001b[39m, \u001b[38;5;28;01mFalse\u001b[39;00m)\n\u001b[0;32m--> 250\u001b[0m node \u001b[38;5;241m=\u001b[39m \u001b[38;5;28;43mself\u001b[39;49m\u001b[38;5;241;43m.\u001b[39;49m\u001b[43mmake_node\u001b[49m\u001b[43m(\u001b[49m\u001b[38;5;241;43m*\u001b[39;49m\u001b[43minputs\u001b[49m\u001b[43m,\u001b[49m\u001b[43m \u001b[49m\u001b[38;5;241;43m*\u001b[39;49m\u001b[38;5;241;43m*\u001b[39;49m\u001b[43mkwargs\u001b[49m\u001b[43m)\u001b[49m\n\u001b[1;32m    252\u001b[0m \u001b[38;5;28;01mif\u001b[39;00m config\u001b[38;5;241m.\u001b[39mcompute_test_value \u001b[38;5;241m!=\u001b[39m \u001b[38;5;124m\"\u001b[39m\u001b[38;5;124moff\u001b[39m\u001b[38;5;124m\"\u001b[39m:\n\u001b[1;32m    253\u001b[0m     compute_test_value(node)\n",
      "File \u001b[0;32m~/mambaforge/envs/hsicfuse-env/lib/python3.9/site-packages/theano/tensor/elemwise.py:500\u001b[0m, in \u001b[0;36mElemwise.make_node\u001b[0;34m(self, *inputs)\u001b[0m\n\u001b[1;32m    494\u001b[0m \u001b[38;5;250m\u001b[39m\u001b[38;5;124;03m\"\"\"\u001b[39;00m\n\u001b[1;32m    495\u001b[0m \u001b[38;5;124;03mIf the inputs have different number of dimensions, their shape\u001b[39;00m\n\u001b[1;32m    496\u001b[0m \u001b[38;5;124;03mis left-completed to the greatest number of dimensions with 1s\u001b[39;00m\n\u001b[1;32m    497\u001b[0m \u001b[38;5;124;03musing DimShuffle.\u001b[39;00m\n\u001b[1;32m    498\u001b[0m \u001b[38;5;124;03m\"\"\"\u001b[39;00m\n\u001b[1;32m    499\u001b[0m inputs \u001b[38;5;241m=\u001b[39m \u001b[38;5;28mlist\u001b[39m(\u001b[38;5;28mmap\u001b[39m(as_tensor_variable, inputs))\n\u001b[0;32m--> 500\u001b[0m out_dtypes, out_broadcastables, inputs \u001b[38;5;241m=\u001b[39m \u001b[38;5;28;43mself\u001b[39;49m\u001b[38;5;241;43m.\u001b[39;49m\u001b[43mget_output_info\u001b[49m\u001b[43m(\u001b[49m\n\u001b[1;32m    501\u001b[0m \u001b[43m    \u001b[49m\u001b[43mDimShuffle\u001b[49m\u001b[43m,\u001b[49m\u001b[43m \u001b[49m\u001b[38;5;241;43m*\u001b[39;49m\u001b[43minputs\u001b[49m\n\u001b[1;32m    502\u001b[0m \u001b[43m\u001b[49m\u001b[43m)\u001b[49m\n\u001b[1;32m    503\u001b[0m outputs \u001b[38;5;241m=\u001b[39m [\n\u001b[1;32m    504\u001b[0m     TensorType(dtype\u001b[38;5;241m=\u001b[39mdtype, broadcastable\u001b[38;5;241m=\u001b[39mbroadcastable)()\n\u001b[1;32m    505\u001b[0m     \u001b[38;5;28;01mfor\u001b[39;00m dtype, broadcastable \u001b[38;5;129;01min\u001b[39;00m \u001b[38;5;28mzip\u001b[39m(out_dtypes, out_broadcastables)\n\u001b[1;32m    506\u001b[0m ]\n\u001b[1;32m    507\u001b[0m \u001b[38;5;28;01mreturn\u001b[39;00m Apply(\u001b[38;5;28mself\u001b[39m, inputs, outputs)\n",
      "File \u001b[0;32m~/mambaforge/envs/hsicfuse-env/lib/python3.9/site-packages/theano/tensor/elemwise.py:444\u001b[0m, in \u001b[0;36mElemwise.get_output_info\u001b[0;34m(self, dim_shuffle, *inputs)\u001b[0m\n\u001b[1;32m    440\u001b[0m         args\u001b[38;5;241m.\u001b[39mappend(\u001b[38;5;28minput\u001b[39m)\n\u001b[1;32m    441\u001b[0m     \u001b[38;5;28;01melse\u001b[39;00m:\n\u001b[1;32m    442\u001b[0m         \u001b[38;5;66;03m# TODO: use LComplete instead\u001b[39;00m\n\u001b[1;32m    443\u001b[0m         args\u001b[38;5;241m.\u001b[39mappend(\n\u001b[0;32m--> 444\u001b[0m             \u001b[43mdim_shuffle\u001b[49m\u001b[43m(\u001b[49m\n\u001b[1;32m    445\u001b[0m \u001b[43m                \u001b[49m\u001b[38;5;28;43minput\u001b[39;49m\u001b[38;5;241;43m.\u001b[39;49m\u001b[43mtype\u001b[49m\u001b[38;5;241;43m.\u001b[39;49m\u001b[43mbroadcastable\u001b[49m\u001b[43m,\u001b[49m\n\u001b[1;32m    446\u001b[0m \u001b[43m                \u001b[49m\u001b[43m[\u001b[49m\u001b[38;5;124;43m\"\u001b[39;49m\u001b[38;5;124;43mx\u001b[39;49m\u001b[38;5;124;43m\"\u001b[39;49m\u001b[43m]\u001b[49m\u001b[43m \u001b[49m\u001b[38;5;241;43m*\u001b[39;49m\u001b[43m \u001b[49m\u001b[43mdifference\u001b[49m\u001b[43m \u001b[49m\u001b[38;5;241;43m+\u001b[39;49m\u001b[43m \u001b[49m\u001b[38;5;28;43mlist\u001b[39;49m\u001b[43m(\u001b[49m\u001b[38;5;28;43mrange\u001b[39;49m\u001b[43m(\u001b[49m\u001b[43mlength\u001b[49m\u001b[43m)\u001b[49m\u001b[43m)\u001b[49m\u001b[43m,\u001b[49m\n\u001b[1;32m    447\u001b[0m \u001b[43m            \u001b[49m\u001b[43m)\u001b[49m(\u001b[38;5;28minput\u001b[39m)\n\u001b[1;32m    448\u001b[0m         )\n\u001b[1;32m    449\u001b[0m inputs \u001b[38;5;241m=\u001b[39m args\n\u001b[1;32m    451\u001b[0m \u001b[38;5;66;03m# HERE: all the broadcast dims have the same length now\u001b[39;00m\n\u001b[1;32m    452\u001b[0m \n\u001b[1;32m    453\u001b[0m \u001b[38;5;66;03m# cleverness: we iterate over the first, second, third broadcast flag\u001b[39;00m\n\u001b[0;32m   (...)\u001b[0m\n\u001b[1;32m    457\u001b[0m \u001b[38;5;66;03m# it is multiplied by nout because Elemwise supports multiple outputs\u001b[39;00m\n\u001b[1;32m    458\u001b[0m \u001b[38;5;66;03m# (nout of them)\u001b[39;00m\n",
      "File \u001b[0;32m~/mambaforge/envs/hsicfuse-env/lib/python3.9/site-packages/theano/tensor/elemwise.py:158\u001b[0m, in \u001b[0;36mDimShuffle.__init__\u001b[0;34m(self, input_broadcastable, new_order, inplace)\u001b[0m\n\u001b[1;32m    157\u001b[0m \u001b[38;5;28;01mdef\u001b[39;00m \u001b[38;5;21m__init__\u001b[39m(\u001b[38;5;28mself\u001b[39m, input_broadcastable, new_order, inplace\u001b[38;5;241m=\u001b[39m\u001b[38;5;28;01mTrue\u001b[39;00m):\n\u001b[0;32m--> 158\u001b[0m     \u001b[38;5;28;43msuper\u001b[39;49m\u001b[43m(\u001b[49m\u001b[43m)\u001b[49m\u001b[38;5;241;43m.\u001b[39;49m\u001b[38;5;21;43m__init__\u001b[39;49m\u001b[43m(\u001b[49m\u001b[43m[\u001b[49m\u001b[38;5;28;43mself\u001b[39;49m\u001b[38;5;241;43m.\u001b[39;49m\u001b[43mc_func_file\u001b[49m\u001b[43m]\u001b[49m\u001b[43m,\u001b[49m\u001b[43m \u001b[49m\u001b[38;5;28;43mself\u001b[39;49m\u001b[38;5;241;43m.\u001b[39;49m\u001b[43mc_func_name\u001b[49m\u001b[43m)\u001b[49m\n\u001b[1;32m    159\u001b[0m     \u001b[38;5;28mself\u001b[39m\u001b[38;5;241m.\u001b[39minput_broadcastable \u001b[38;5;241m=\u001b[39m \u001b[38;5;28mtuple\u001b[39m(input_broadcastable)\n\u001b[1;32m    160\u001b[0m     \u001b[38;5;28mself\u001b[39m\u001b[38;5;241m.\u001b[39mnew_order \u001b[38;5;241m=\u001b[39m \u001b[38;5;28mtuple\u001b[39m(new_order)\n",
      "File \u001b[0;32m~/mambaforge/envs/hsicfuse-env/lib/python3.9/site-packages/theano/graph/op.py:941\u001b[0m, in \u001b[0;36mExternalCOp.__init__\u001b[0;34m(self, func_files, func_name)\u001b[0m\n\u001b[1;32m    938\u001b[0m \u001b[38;5;66;03m# Keep the original name. If we reload old pickle, we want to\u001b[39;00m\n\u001b[1;32m    939\u001b[0m \u001b[38;5;66;03m# find the new path and new version of the file in Theano.\u001b[39;00m\n\u001b[1;32m    940\u001b[0m \u001b[38;5;28mself\u001b[39m\u001b[38;5;241m.\u001b[39mfunc_files \u001b[38;5;241m=\u001b[39m func_files\n\u001b[0;32m--> 941\u001b[0m \u001b[38;5;28;43mself\u001b[39;49m\u001b[38;5;241;43m.\u001b[39;49m\u001b[43mload_c_code\u001b[49m\u001b[43m(\u001b[49m\u001b[43mfunc_files\u001b[49m\u001b[43m)\u001b[49m\n\u001b[1;32m    943\u001b[0m \u001b[38;5;28;01mif\u001b[39;00m \u001b[38;5;28mlen\u001b[39m(\u001b[38;5;28mself\u001b[39m\u001b[38;5;241m.\u001b[39mcode_sections) \u001b[38;5;241m==\u001b[39m \u001b[38;5;241m0\u001b[39m:\n\u001b[1;32m    944\u001b[0m     \u001b[38;5;28;01mraise\u001b[39;00m \u001b[38;5;167;01mValueError\u001b[39;00m(\u001b[38;5;124m\"\u001b[39m\u001b[38;5;124mNo sections where defined in C files\u001b[39m\u001b[38;5;124m\"\u001b[39m)\n",
      "File \u001b[0;32m~/mambaforge/envs/hsicfuse-env/lib/python3.9/site-packages/theano/graph/op.py:961\u001b[0m, in \u001b[0;36mExternalCOp.load_c_code\u001b[0;34m(self, func_files)\u001b[0m\n\u001b[1;32m    959\u001b[0m \u001b[38;5;28;01mdef\u001b[39;00m \u001b[38;5;21mload_c_code\u001b[39m(\u001b[38;5;28mself\u001b[39m, func_files: List[Text]) \u001b[38;5;241m-\u001b[39m\u001b[38;5;241m>\u001b[39m NoReturn:\n\u001b[1;32m    960\u001b[0m \u001b[38;5;250m    \u001b[39m\u001b[38;5;124;03m\"\"\"Loads the C code to perform the `Op`.\"\"\"\u001b[39;00m\n\u001b[0;32m--> 961\u001b[0m     func_files \u001b[38;5;241m=\u001b[39m [\u001b[38;5;28mself\u001b[39m\u001b[38;5;241m.\u001b[39mget_path(f) \u001b[38;5;28;01mfor\u001b[39;00m f \u001b[38;5;129;01min\u001b[39;00m func_files]\n\u001b[1;32m    962\u001b[0m     \u001b[38;5;28mself\u001b[39m\u001b[38;5;241m.\u001b[39mfunc_codes \u001b[38;5;241m=\u001b[39m []\n\u001b[1;32m    963\u001b[0m     \u001b[38;5;28;01mfor\u001b[39;00m func_file \u001b[38;5;129;01min\u001b[39;00m func_files:\n\u001b[1;32m    964\u001b[0m         \u001b[38;5;66;03m# U (universal) will convert all new lines format to \\n.\u001b[39;00m\n",
      "File \u001b[0;32m~/mambaforge/envs/hsicfuse-env/lib/python3.9/site-packages/theano/graph/op.py:961\u001b[0m, in \u001b[0;36m<listcomp>\u001b[0;34m(.0)\u001b[0m\n\u001b[1;32m    959\u001b[0m \u001b[38;5;28;01mdef\u001b[39;00m \u001b[38;5;21mload_c_code\u001b[39m(\u001b[38;5;28mself\u001b[39m, func_files: List[Text]) \u001b[38;5;241m-\u001b[39m\u001b[38;5;241m>\u001b[39m NoReturn:\n\u001b[1;32m    960\u001b[0m \u001b[38;5;250m    \u001b[39m\u001b[38;5;124;03m\"\"\"Loads the C code to perform the `Op`.\"\"\"\u001b[39;00m\n\u001b[0;32m--> 961\u001b[0m     func_files \u001b[38;5;241m=\u001b[39m [\u001b[38;5;28;43mself\u001b[39;49m\u001b[38;5;241;43m.\u001b[39;49m\u001b[43mget_path\u001b[49m\u001b[43m(\u001b[49m\u001b[43mf\u001b[49m\u001b[43m)\u001b[49m \u001b[38;5;28;01mfor\u001b[39;00m f \u001b[38;5;129;01min\u001b[39;00m func_files]\n\u001b[1;32m    962\u001b[0m     \u001b[38;5;28mself\u001b[39m\u001b[38;5;241m.\u001b[39mfunc_codes \u001b[38;5;241m=\u001b[39m []\n\u001b[1;32m    963\u001b[0m     \u001b[38;5;28;01mfor\u001b[39;00m func_file \u001b[38;5;129;01min\u001b[39;00m func_files:\n\u001b[1;32m    964\u001b[0m         \u001b[38;5;66;03m# U (universal) will convert all new lines format to \\n.\u001b[39;00m\n",
      "File \u001b[0;32m~/mambaforge/envs/hsicfuse-env/lib/python3.9/site-packages/theano/graph/op.py:923\u001b[0m, in \u001b[0;36mExternalCOp.get_path\u001b[0;34m(cls, f)\u001b[0m\n\u001b[1;32m    921\u001b[0m     class_file \u001b[38;5;241m=\u001b[39m inspect\u001b[38;5;241m.\u001b[39mgetfile(\u001b[38;5;28mcls\u001b[39m)\n\u001b[1;32m    922\u001b[0m     class_dir \u001b[38;5;241m=\u001b[39m os\u001b[38;5;241m.\u001b[39mpath\u001b[38;5;241m.\u001b[39mdirname(class_file)\n\u001b[0;32m--> 923\u001b[0m     f \u001b[38;5;241m=\u001b[39m \u001b[43mos\u001b[49m\u001b[38;5;241;43m.\u001b[39;49m\u001b[43mpath\u001b[49m\u001b[38;5;241;43m.\u001b[39;49m\u001b[43mrealpath\u001b[49m\u001b[43m(\u001b[49m\u001b[43mos\u001b[49m\u001b[38;5;241;43m.\u001b[39;49m\u001b[43mpath\u001b[49m\u001b[38;5;241;43m.\u001b[39;49m\u001b[43mjoin\u001b[49m\u001b[43m(\u001b[49m\u001b[43mclass_dir\u001b[49m\u001b[43m,\u001b[49m\u001b[43m \u001b[49m\u001b[43mf\u001b[49m\u001b[43m)\u001b[49m\u001b[43m)\u001b[49m\n\u001b[1;32m    924\u001b[0m \u001b[38;5;28;01mreturn\u001b[39;00m f\n",
      "File \u001b[0;32m~/mambaforge/envs/hsicfuse-env/lib/python3.9/posixpath.py:392\u001b[0m, in \u001b[0;36mrealpath\u001b[0;34m(filename)\u001b[0m\n\u001b[1;32m    389\u001b[0m \u001b[38;5;250m    \u001b[39m\u001b[38;5;124;03m\"\"\"Return the canonical path of the specified filename, eliminating any\u001b[39;00m\n\u001b[1;32m    390\u001b[0m \u001b[38;5;124;03msymbolic links encountered in the path.\"\"\"\u001b[39;00m\n\u001b[1;32m    391\u001b[0m     filename \u001b[38;5;241m=\u001b[39m os\u001b[38;5;241m.\u001b[39mfspath(filename)\n\u001b[0;32m--> 392\u001b[0m     path, ok \u001b[38;5;241m=\u001b[39m \u001b[43m_joinrealpath\u001b[49m\u001b[43m(\u001b[49m\u001b[43mfilename\u001b[49m\u001b[43m[\u001b[49m\u001b[43m:\u001b[49m\u001b[38;5;241;43m0\u001b[39;49m\u001b[43m]\u001b[49m\u001b[43m,\u001b[49m\u001b[43m \u001b[49m\u001b[43mfilename\u001b[49m\u001b[43m,\u001b[49m\u001b[43m \u001b[49m\u001b[43m{\u001b[49m\u001b[43m}\u001b[49m\u001b[43m)\u001b[49m\n\u001b[1;32m    393\u001b[0m     \u001b[38;5;28;01mreturn\u001b[39;00m abspath(path)\n",
      "File \u001b[0;32m~/mambaforge/envs/hsicfuse-env/lib/python3.9/posixpath.py:426\u001b[0m, in \u001b[0;36m_joinrealpath\u001b[0;34m(path, rest, seen)\u001b[0m\n\u001b[1;32m    424\u001b[0m     \u001b[38;5;28;01mcontinue\u001b[39;00m\n\u001b[1;32m    425\u001b[0m newpath \u001b[38;5;241m=\u001b[39m join(path, name)\n\u001b[0;32m--> 426\u001b[0m \u001b[38;5;28;01mif\u001b[39;00m \u001b[38;5;129;01mnot\u001b[39;00m \u001b[43mislink\u001b[49m\u001b[43m(\u001b[49m\u001b[43mnewpath\u001b[49m\u001b[43m)\u001b[49m:\n\u001b[1;32m    427\u001b[0m     path \u001b[38;5;241m=\u001b[39m newpath\n\u001b[1;32m    428\u001b[0m     \u001b[38;5;28;01mcontinue\u001b[39;00m\n",
      "File \u001b[0;32m~/mambaforge/envs/hsicfuse-env/lib/python3.9/posixpath.py:167\u001b[0m, in \u001b[0;36mislink\u001b[0;34m(path)\u001b[0m\n\u001b[1;32m    165\u001b[0m \u001b[38;5;250m\u001b[39m\u001b[38;5;124;03m\"\"\"Test whether a path is a symbolic link\"\"\"\u001b[39;00m\n\u001b[1;32m    166\u001b[0m \u001b[38;5;28;01mtry\u001b[39;00m:\n\u001b[0;32m--> 167\u001b[0m     st \u001b[38;5;241m=\u001b[39m \u001b[43mos\u001b[49m\u001b[38;5;241;43m.\u001b[39;49m\u001b[43mlstat\u001b[49m\u001b[43m(\u001b[49m\u001b[43mpath\u001b[49m\u001b[43m)\u001b[49m\n\u001b[1;32m    168\u001b[0m \u001b[38;5;28;01mexcept\u001b[39;00m (\u001b[38;5;167;01mOSError\u001b[39;00m, \u001b[38;5;167;01mValueError\u001b[39;00m, \u001b[38;5;167;01mAttributeError\u001b[39;00m):\n\u001b[1;32m    169\u001b[0m     \u001b[38;5;28;01mreturn\u001b[39;00m \u001b[38;5;28;01mFalse\u001b[39;00m\n",
      "\u001b[0;31mKeyboardInterrupt\u001b[0m: "
     ]
    }
   ],
   "source": [
    "repetitions          = 200\n",
    "scales               = 1.0\n",
    "number_perturbations = 2\n",
    "# sample_size          = 500\n",
    "sample_size = 100\n",
    "# d_values             = (1, 2, 3, 4)\n",
    "d_values = (1, )\n",
    "f_theta_seed         = 0\n",
    "p                    = 1\n",
    "s                    = 1\n",
    "\n",
    "# tests = (hsicfuse_test, hsic_test, hsicagginc1_test, hsicagginc100_test, hsicagginc200_test, hsicaggincquad_test)\n",
    "tests = (nfsic_test, )\n",
    "outputs = jnp.zeros((len(tests), len(d_values), repetitions))\n",
    "outputs = outputs.tolist()\n",
    "key = random.PRNGKey(42)\n",
    "seed = 42\n",
    "for s in tqdm(range(len(d_values))):\n",
    "    d = d_values[s]\n",
    "    for i in tqdm(range(repetitions)):\n",
    "        key, subkey = random.split(key)\n",
    "        perturbation_multiplier = np.exp(d + 1) * p ** s * scale \n",
    "        Z = f_theta_sampler(f_theta_seed, seed, sample_size, p, s, perturbation_multiplier, d + 1)\n",
    "        X = Z[:, :1]\n",
    "        Y = Z[:, 1:]\n",
    "        key, subkey = random.split(key)\n",
    "        seed += 1\n",
    "        for t in range(len(tests)):\n",
    "            test = tests[t]\n",
    "            outputs[t][s][i] = test(X, Y, subkey, seed)\n",
    "\n",
    "output = jnp.mean(jnp.array(outputs), -1)\n",
    "\n",
    "jnp.save(\"results/perturbations_vary_d.npy\", output)\n",
    "jnp.save(\"results/perturbations_vary_d_x_axis.npy\", d_values)\n",
    "\n",
    "print(\"d :\", d_values)\n",
    "print(\"sample size :\", sample_size)\n",
    "for t in range(len(tests)):\n",
    "    print(\" \")\n",
    "    print(tests[t])\n",
    "    print(output[t])"
   ]
  },
  {
   "cell_type": "code",
   "execution_count": null,
   "id": "41099206-0e25-4074-b9ea-a7d51116fd53",
   "metadata": {},
   "outputs": [],
   "source": []
  },
  {
   "cell_type": "code",
   "execution_count": null,
   "id": "a98e2f6e-de42-404f-b1ee-6a7c8e5f425b",
   "metadata": {},
   "outputs": [],
   "source": []
  },
  {
   "cell_type": "code",
   "execution_count": null,
   "id": "4de3cbe1-550a-4515-8ac7-4916b201c18d",
   "metadata": {},
   "outputs": [],
   "source": []
  },
  {
   "cell_type": "code",
   "execution_count": null,
   "id": "57015432-6fff-4755-b100-08fd12d6d50a",
   "metadata": {},
   "outputs": [],
   "source": []
  },
  {
   "cell_type": "code",
   "execution_count": null,
   "id": "da6af38c-0aa4-4b2b-b599-e88daa9bafae",
   "metadata": {},
   "outputs": [],
   "source": []
  }
 ],
 "metadata": {
  "kernelspec": {
   "display_name": "Python 3 (ipykernel)",
   "language": "python",
   "name": "python3"
  },
  "language_info": {
   "codemirror_mode": {
    "name": "ipython",
    "version": 3
   },
   "file_extension": ".py",
   "mimetype": "text/x-python",
   "name": "python",
   "nbconvert_exporter": "python",
   "pygments_lexer": "ipython3",
   "version": "3.9.16"
  }
 },
 "nbformat": 4,
 "nbformat_minor": 5
}
