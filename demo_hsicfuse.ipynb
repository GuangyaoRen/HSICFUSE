{
 "cells": [
  {
   "cell_type": "code",
   "execution_count": 1,
   "id": "6e76210a-699a-46fc-9c04-f886b9a13cb5",
   "metadata": {},
   "outputs": [],
   "source": [
    "%load_ext autoreload\n",
    "%autoreload 2"
   ]
  },
  {
   "cell_type": "code",
   "execution_count": 2,
   "id": "53aafb9d-9f9a-40c7-8ee9-26e63594b26d",
   "metadata": {},
   "outputs": [
    {
     "data": {
      "text/plain": [
       "StreamExecutorGpuDevice(id=0, process_index=0, slice_index=0)"
      ]
     },
     "execution_count": 2,
     "metadata": {},
     "output_type": "execute_result"
    }
   ],
   "source": [
    "import numpy as np\n",
    "from hsicfuse import hsicfuse\n",
    "from sampler_gclusters import sampler_gclusters\n",
    "from jax import random\n",
    "import jax.numpy as jnp\n",
    "X = jnp.array([1, 2])\n",
    "X.device()"
   ]
  },
  {
   "cell_type": "code",
   "execution_count": 3,
   "id": "9867a410-ce6f-405f-8fc4-4c8fe0d46340",
   "metadata": {},
   "outputs": [],
   "source": [
    "# generate data\n",
    "key = random.PRNGKey(0)\n",
    "key, subkey = random.split(key)\n",
    "subkeys = random.split(subkey, num=2)\n",
    "X = random.uniform(subkeys[0], shape=(500, 10))\n",
    "Y = random.uniform(subkeys[1], shape=(500, 10)) + 1"
   ]
  },
  {
   "cell_type": "markdown",
   "id": "0958b5a3-27f2-445e-9ca3-cdb565e50ba2",
   "metadata": {},
   "source": [
    "### hsicfuse <br> \n",
    "### sample from Uniform distributions"
   ]
  },
  {
   "cell_type": "code",
   "execution_count": 4,
   "id": "31e3e2f2-8b6d-4a79-9a77-0f254df5f5b3",
   "metadata": {},
   "outputs": [],
   "source": [
    "# compile function\n",
    "key, subkey = random.split(key)\n",
    "output, p_value = hsicfuse(X, Y, subkey, return_p_val=True)"
   ]
  },
  {
   "cell_type": "code",
   "execution_count": 5,
   "id": "6c36fbb0-15ea-40b6-a72b-cc70f7938580",
   "metadata": {},
   "outputs": [
    {
     "name": "stdout",
     "output_type": "stream",
     "text": [
      "2.18 s ± 6.13 ms per loop (mean ± std. dev. of 7 runs, 1 loop each)\n"
     ]
    }
   ],
   "source": [
    "# Now the function runs fast for any inputs X and Y of the compiled shaped (500, 10)\n",
    "# If the shape is changed, the function will need to be compiled again\n",
    "key = random.PRNGKey(1) # different initialisation\n",
    "key, subkey = random.split(key)\n",
    "subkeys = random.split(subkey, num=2)\n",
    "X = random.uniform(subkeys[0], shape=(500, 10))\n",
    "Y = random.uniform(subkeys[1], shape=(500, 10)) + X\n",
    "# see section below for detailed speed comparision between jax cpu and jax gpu \n",
    "%timeit output, p_value = hsicfuse(X, Y, subkey, return_p_val=True)"
   ]
  },
  {
   "cell_type": "code",
   "execution_count": 6,
   "id": "2814861f-1197-4c3b-a926-d3e0f9e6c737",
   "metadata": {},
   "outputs": [],
   "source": [
    "output, p_value = hsicfuse(X, Y, subkey, return_p_val=True)"
   ]
  },
  {
   "cell_type": "code",
   "execution_count": 7,
   "id": "5afaa59a-ac6e-475b-9510-f8963064bb9d",
   "metadata": {},
   "outputs": [
    {
     "data": {
      "text/plain": [
       "Array(1, dtype=int32)"
      ]
     },
     "execution_count": 7,
     "metadata": {},
     "output_type": "execute_result"
    }
   ],
   "source": [
    "# output is a jax array consisting of either 0 or 1\n",
    "output"
   ]
  },
  {
   "cell_type": "code",
   "execution_count": 8,
   "id": "05c40e27-f29d-4e05-9a53-5479f32715ac",
   "metadata": {},
   "outputs": [
    {
     "data": {
      "text/plain": [
       "1"
      ]
     },
     "execution_count": 8,
     "metadata": {},
     "output_type": "execute_result"
    }
   ],
   "source": [
    "# to convert it to an int use: \n",
    "output.item()"
   ]
  },
  {
   "cell_type": "code",
   "execution_count": 9,
   "id": "6c0a28ed-f743-47be-97a5-7bcf736fd7e7",
   "metadata": {},
   "outputs": [
    {
     "data": {
      "text/plain": [
       "Array(0.00049975, dtype=float32)"
      ]
     },
     "execution_count": 9,
     "metadata": {},
     "output_type": "execute_result"
    }
   ],
   "source": [
    "# p-value is a jax array\n",
    "p_value"
   ]
  },
  {
   "cell_type": "code",
   "execution_count": 10,
   "id": "a36322b5-ab47-4d70-a773-f74dc4e5921e",
   "metadata": {},
   "outputs": [
    {
     "data": {
      "text/plain": [
       "0.0004997501382604241"
      ]
     },
     "execution_count": 10,
     "metadata": {},
     "output_type": "execute_result"
    }
   ],
   "source": [
    "# to convert it to an int use: \n",
    "p_value.item()"
   ]
  },
  {
   "cell_type": "code",
   "execution_count": null,
   "id": "179c72cc-8351-4e6a-ba33-2bad8427a79a",
   "metadata": {},
   "outputs": [],
   "source": []
  },
  {
   "cell_type": "markdown",
   "id": "cf852e11-b050-41c8-b1cc-f3c9c3ee47e0",
   "metadata": {},
   "source": [
    "### hsicfuse <br> \n",
    "### sample from three Gaussian clusters"
   ]
  },
  {
   "cell_type": "code",
   "execution_count": 16,
   "id": "34a24389-fb67-4719-858d-d7cb27e239bf",
   "metadata": {},
   "outputs": [],
   "source": [
    "# generate data\n",
    "key = random.PRNGKey(0)\n",
    "key, subkey = random.split(key)\n",
    "\n",
    "N = 500\n",
    "L = 10 \n",
    "theta = jnp.pi / 12\n",
    "# means\n",
    "means = [\n",
    "    jnp.array([0,0]),\n",
    "    jnp.array([L * jnp.cos(theta), L * jnp.sin(theta)]),\n",
    "    jnp.array([(L / 2) * jnp.cos(theta) - (L * jnp.sqrt(3) / 2) * jnp.sin(theta), (L / 2) * jnp.sin(theta) + (L * jnp.sqrt(3) / 2) * jnp.cos(theta)])  \n",
    "]\n",
    "# Covariance matrix\n",
    "var = 1\n",
    "cov = jnp.array([[var,   0], \n",
    "                 [  0, var]])\n",
    "\n",
    "X, Y = sampler_gclusters(key, L, theta, means, cov, N, permute=False)"
   ]
  },
  {
   "cell_type": "code",
   "execution_count": 17,
   "id": "40f6fdc3-5000-4053-a69d-83893577a52e",
   "metadata": {},
   "outputs": [],
   "source": [
    "# compile function\n",
    "key, subkey = random.split(key)\n",
    "output, p_value = hsicfuse(X, Y, subkey, return_p_val=True)"
   ]
  },
  {
   "cell_type": "code",
   "execution_count": 24,
   "id": "66b59990-f813-4a5a-86b3-7a19dd677785",
   "metadata": {},
   "outputs": [
    {
     "name": "stdout",
     "output_type": "stream",
     "text": [
      "984 ms ± 18.9 ms per loop (mean ± std. dev. of 7 runs, 1 loop each)\n"
     ]
    }
   ],
   "source": [
    "# Now the function runs fast for any inputs X and Y of the compiled shaped (500, 10)\n",
    "# If the shape is changed, the function will need to be compiled again\n",
    "key = random.PRNGKey(1)\n",
    "key, subkey = random.split(key)\n",
    "\n",
    "N = 500\n",
    "L = 10\n",
    "theta = jnp.pi / 12\n",
    "means = [\n",
    "    jnp.array([0,0]),\n",
    "    jnp.array([L * jnp.cos(theta), L * jnp.sin(theta)]),\n",
    "    jnp.array([(L / 2) * jnp.cos(theta) - (L * jnp.sqrt(3) / 2) * jnp.sin(theta), (L / 2) * jnp.sin(theta) + (L * jnp.sqrt(3) / 2) * jnp.cos(theta)])  \n",
    "]\n",
    "# Covariance matrix\n",
    "var = 1\n",
    "cov = jnp.array([[var,   0], \n",
    "                 [  0, var]])\n",
    "\n",
    "X, Y = sampler_gclusters(key, L, theta, means, cov, N, permute=True)\n",
    "\n",
    "# see section below for detailed speed comparision between jax cpu and jax gpu \n",
    "%timeit output, p_value = hsicfuse(X, Y, subkey, return_p_val=True)"
   ]
  },
  {
   "cell_type": "code",
   "execution_count": 25,
   "id": "a8a58ce8-cd33-4f2c-a122-3cdc72141763",
   "metadata": {},
   "outputs": [],
   "source": [
    "output, p_value = hsicfuse(X, Y, subkey, return_p_val=True)"
   ]
  },
  {
   "cell_type": "code",
   "execution_count": 26,
   "id": "b6d1cb19-b6b0-4f21-aa07-6febd113cc08",
   "metadata": {},
   "outputs": [
    {
     "data": {
      "text/plain": [
       "Array(0, dtype=int32)"
      ]
     },
     "execution_count": 26,
     "metadata": {},
     "output_type": "execute_result"
    }
   ],
   "source": [
    "# output is a jax array consisting of either 0 or 1\n",
    "output"
   ]
  },
  {
   "cell_type": "code",
   "execution_count": 27,
   "id": "537bd6e4-989d-4da4-b9f3-f5fc1d0cbafc",
   "metadata": {},
   "outputs": [
    {
     "data": {
      "text/plain": [
       "0"
      ]
     },
     "execution_count": 27,
     "metadata": {},
     "output_type": "execute_result"
    }
   ],
   "source": [
    "# to convert it to an int use: \n",
    "output.item()"
   ]
  },
  {
   "cell_type": "code",
   "execution_count": 28,
   "id": "d413c4e9-9309-449b-92aa-dd9806c59cee",
   "metadata": {},
   "outputs": [
    {
     "data": {
      "text/plain": [
       "Array(0.24787606, dtype=float32)"
      ]
     },
     "execution_count": 28,
     "metadata": {},
     "output_type": "execute_result"
    }
   ],
   "source": [
    "# p-value is a jax array\n",
    "p_value"
   ]
  },
  {
   "cell_type": "code",
   "execution_count": 29,
   "id": "ad9392a9-2d9e-42d5-a04b-9a9cf6692018",
   "metadata": {},
   "outputs": [
    {
     "data": {
      "text/plain": [
       "0.24787606298923492"
      ]
     },
     "execution_count": 29,
     "metadata": {},
     "output_type": "execute_result"
    }
   ],
   "source": [
    "# to convert it to an int use: \n",
    "p_value.item()"
   ]
  },
  {
   "cell_type": "code",
   "execution_count": null,
   "id": "0e45efdc-cb40-436d-a13f-bdd5eeaad47c",
   "metadata": {},
   "outputs": [],
   "source": []
  },
  {
   "cell_type": "code",
   "execution_count": null,
   "id": "86fff13c-0080-4fe0-a38b-0a1b143c55c0",
   "metadata": {},
   "outputs": [],
   "source": []
  },
  {
   "cell_type": "code",
   "execution_count": null,
   "id": "c59b8de2-a789-4654-9e9f-d46c40fe0180",
   "metadata": {},
   "outputs": [],
   "source": []
  },
  {
   "cell_type": "code",
   "execution_count": null,
   "id": "6a83c980-5f29-4d5d-a4e0-2343a57d1c31",
   "metadata": {},
   "outputs": [],
   "source": []
  },
  {
   "cell_type": "code",
   "execution_count": null,
   "id": "91125efe-a85b-4407-8073-91ab347021b4",
   "metadata": {},
   "outputs": [],
   "source": []
  },
  {
   "cell_type": "code",
   "execution_count": null,
   "id": "2b089c6c-e4c8-41e6-a8a1-8df185e267c7",
   "metadata": {},
   "outputs": [],
   "source": []
  }
 ],
 "metadata": {
  "kernelspec": {
   "display_name": "Python 3 (ipykernel)",
   "language": "python",
   "name": "python3"
  },
  "language_info": {
   "codemirror_mode": {
    "name": "ipython",
    "version": 3
   },
   "file_extension": ".py",
   "mimetype": "text/x-python",
   "name": "python",
   "nbconvert_exporter": "python",
   "pygments_lexer": "ipython3",
   "version": "3.9.16"
  }
 },
 "nbformat": 4,
 "nbformat_minor": 5
}
