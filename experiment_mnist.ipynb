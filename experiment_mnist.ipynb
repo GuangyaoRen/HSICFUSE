{
 "cells": [
  {
   "cell_type": "code",
   "execution_count": null,
   "id": "a2f047b7-8d2d-4f1d-96d2-4ffa553c9bcc",
   "metadata": {},
   "outputs": [
    {
     "name": "stderr",
     "output_type": "stream",
     "text": [
      "/nfs/ghome/live/gren/mambaforge/envs/hsicfuse-env/lib/python3.9/site-packages/sklearn/datasets/_openml.py:1002: FutureWarning: The default value of `parser` will change from `'liac-arff'` to `'auto'` in 1.4. You can set `parser='auto'` to silence this warning. Therefore, an `ImportError` will be raised from 1.4 if the dataset is dense and pandas is not installed. Note that the pandas parser may return different data types. See the Notes Section in fetch_openml's API doc for details.\n",
      "  warn(\n"
     ]
    }
   ],
   "source": [
    "# # run to download mnist dataset\n",
    "# from mnist import download_mnist\n",
    "# download_mnist()"
   ]
  },
  {
   "cell_type": "code",
   "execution_count": 2,
   "id": "c53c5523-2018-4a3b-9e71-61ae6ebdd86d",
   "metadata": {},
   "outputs": [
    {
     "name": "stdout",
     "output_type": "stream",
     "text": [
      "The autoreload extension is already loaded. To reload it, use:\n",
      "  %reload_ext autoreload\n"
     ]
    }
   ],
   "source": [
    "from sampler_mnist import ind_X_Y_corrupt\n",
    "import numpy as np\n",
    "import jax\n",
    "import jax.numpy as jnp\n",
    "from jax import random\n",
    "from tqdm.auto import tqdm\n",
    "from pathlib import Path\n",
    "Path(\"results\").mkdir(exist_ok=True)\n",
    "%load_ext autoreload\n",
    "%autoreload 2"
   ]
  },
  {
   "cell_type": "code",
   "execution_count": 3,
   "id": "f55d2cf1-2674-437c-b9f9-e17eebfbf33c",
   "metadata": {},
   "outputs": [],
   "source": [
    "from all_tests import hsicfuse_test, hsic_test\n",
    "from all_tests import hsicagginc1_test, hsicagginc100_test, hsicagginc200_test, hsicaggincquad_test"
   ]
  },
  {
   "cell_type": "markdown",
   "id": "5ed62921-cc0a-4199-93b5-fef695001557",
   "metadata": {},
   "source": [
    "### MNIST vary N"
   ]
  },
  {
   "cell_type": "code",
   "execution_count": 10,
   "id": "eca360c1-d898-4d65-9c58-2ba135870ab0",
   "metadata": {},
   "outputs": [
    {
     "data": {
      "application/vnd.jupyter.widget-view+json": {
       "model_id": "3c6b24485a2f4eb8a2eadcbfaa6d526c",
       "version_major": 2,
       "version_minor": 0
      },
      "text/plain": [
       "  0%|          | 0/5 [00:00<?, ?it/s]"
      ]
     },
     "metadata": {},
     "output_type": "display_data"
    },
    {
     "data": {
      "application/vnd.jupyter.widget-view+json": {
       "model_id": "37daf5951878451d86d2e1d8f31e3e75",
       "version_major": 2,
       "version_minor": 0
      },
      "text/plain": [
       "  0%|          | 0/100 [00:00<?, ?it/s]"
      ]
     },
     "metadata": {},
     "output_type": "display_data"
    },
    {
     "data": {
      "application/vnd.jupyter.widget-view+json": {
       "model_id": "434eb9b38f0240758d1c845c8601123e",
       "version_major": 2,
       "version_minor": 0
      },
      "text/plain": [
       "  0%|          | 0/100 [00:00<?, ?it/s]"
      ]
     },
     "metadata": {},
     "output_type": "display_data"
    },
    {
     "data": {
      "application/vnd.jupyter.widget-view+json": {
       "model_id": "e59126a0d6a6454a9f3df77bd75feb5c",
       "version_major": 2,
       "version_minor": 0
      },
      "text/plain": [
       "  0%|          | 0/100 [00:00<?, ?it/s]"
      ]
     },
     "metadata": {},
     "output_type": "display_data"
    },
    {
     "data": {
      "application/vnd.jupyter.widget-view+json": {
       "model_id": "bb414e1833f8415a8e2e09ebc2c25983",
       "version_major": 2,
       "version_minor": 0
      },
      "text/plain": [
       "  0%|          | 0/100 [00:00<?, ?it/s]"
      ]
     },
     "metadata": {},
     "output_type": "display_data"
    },
    {
     "data": {
      "application/vnd.jupyter.widget-view+json": {
       "model_id": "1b5e163fc4354cd28a09b55a5918dcb4",
       "version_major": 2,
       "version_minor": 0
      },
      "text/plain": [
       "  0%|          | 0/100 [00:00<?, ?it/s]"
      ]
     },
     "metadata": {},
     "output_type": "display_data"
    },
    {
     "name": "stdout",
     "output_type": "stream",
     "text": [
      "corrupt proportion : 0.75\n",
      "sample size : (200, 400, 600, 800, 1000)\n",
      " \n",
      "<function hsicfuse_test at 0x7f38a0028b80>\n",
      "[0.96 1.   1.   1.   1.  ]\n",
      " \n",
      "<function hsic_test at 0x7f370d8c3790>\n",
      "[0.14 0.14 0.12 0.11 0.09]\n",
      " \n",
      "<function hsicagginc1_test at 0x7f370d8c3940>\n",
      "[0.06       0.05       0.09       0.07       0.14999999]\n",
      " \n",
      "<function hsicagginc100_test at 0x7f370d86edc0>\n",
      "[0.24       0.59999996 0.82       0.93       0.94      ]\n",
      " \n",
      "<function hsicagginc200_test at 0x7f370d86ee50>\n",
      "[0.24       0.74       0.90999997 0.96       0.98999995]\n",
      " \n",
      "<function hsicaggincquad_test at 0x7f370d86eee0>\n",
      "[0.24 0.74 0.94 1.   1.  ]\n"
     ]
    }
   ],
   "source": [
    "corrupt_proportion = 0.75\n",
    "rep = 100\n",
    "N_values = (200, 400, 600, 800, 1000)\n",
    "\n",
    "tests = (hsicfuse_test, hsic_test, hsicagginc1_test, hsicagginc100_test, hsicagginc200_test, hsicaggincquad_test)\n",
    "outputs_mnist_n = jnp.zeros((len(tests), len(N_values), rep))\n",
    "outputs_mnist_n = outputs_mnist_n.tolist()\n",
    "key = random.PRNGKey(42)\n",
    "seed = 42\n",
    "for r in tqdm(range(len(N_values))):\n",
    "    N = N_values[r]\n",
    "    for i in tqdm(range(rep)):\n",
    "        key, subkey = random.split(key)\n",
    "        X, Y = ind_X_Y_corrupt(key, N, corrupt_proportion)\n",
    "        key, subkey = random.split(key)\n",
    "        seed += 1\n",
    "        for j in range(len(tests)):\n",
    "            test = tests[j]\n",
    "            outputs_mnist_n[j][r][i] = test(X, Y, subkey, seed)\n",
    "\n",
    "outputs_mnist_n = jnp.array(outputs_mnist_n)   \n",
    "power = jnp.array([[jnp.mean(outputs_mnist_n[j][r])for r in range(len(N_values))] for j in range(len(tests))])\n",
    "np.save(\"results/mnist_n.npy\", power)\n",
    "np.save(\"results/mnist_n_x_axis.npy\", N_values)\n",
    "\n",
    "print(\"corrupt proportion :\", corrupt_proportion)\n",
    "print(\"sample size :\", N_values)\n",
    "for t in range(len(tests)):\n",
    "    print(\" \")\n",
    "    print(tests[t])\n",
    "    print(power[t])"
   ]
  },
  {
   "cell_type": "markdown",
   "id": "7e47c49f-5f27-455c-90b2-9589e2aa52d9",
   "metadata": {},
   "source": [
    "### MNIST vary C"
   ]
  },
  {
   "cell_type": "code",
   "execution_count": 13,
   "id": "6bd71765-7945-4217-9497-c7e8b2628ec9",
   "metadata": {},
   "outputs": [
    {
     "data": {
      "application/vnd.jupyter.widget-view+json": {
       "model_id": "c761c93b6c264c86862128b4e42a1da3",
       "version_major": 2,
       "version_minor": 0
      },
      "text/plain": [
       "  0%|          | 0/4 [00:00<?, ?it/s]"
      ]
     },
     "metadata": {},
     "output_type": "display_data"
    },
    {
     "data": {
      "application/vnd.jupyter.widget-view+json": {
       "model_id": "64d553ba5f1d476ca1f3ff0eeb6fc51c",
       "version_major": 2,
       "version_minor": 0
      },
      "text/plain": [
       "  0%|          | 0/100 [00:00<?, ?it/s]"
      ]
     },
     "metadata": {},
     "output_type": "display_data"
    },
    {
     "data": {
      "application/vnd.jupyter.widget-view+json": {
       "model_id": "9f5fac3656ce493db7ce197f24c65ea0",
       "version_major": 2,
       "version_minor": 0
      },
      "text/plain": [
       "  0%|          | 0/100 [00:00<?, ?it/s]"
      ]
     },
     "metadata": {},
     "output_type": "display_data"
    },
    {
     "data": {
      "application/vnd.jupyter.widget-view+json": {
       "model_id": "5dac1ffe3727466cb39e269810c4ce46",
       "version_major": 2,
       "version_minor": 0
      },
      "text/plain": [
       "  0%|          | 0/100 [00:00<?, ?it/s]"
      ]
     },
     "metadata": {},
     "output_type": "display_data"
    },
    {
     "data": {
      "application/vnd.jupyter.widget-view+json": {
       "model_id": "9f931fd859bf4bf28fa1c2d85a40427a",
       "version_major": 2,
       "version_minor": 0
      },
      "text/plain": [
       "  0%|          | 0/100 [00:00<?, ?it/s]"
      ]
     },
     "metadata": {},
     "output_type": "display_data"
    },
    {
     "name": "stdout",
     "output_type": "stream",
     "text": [
      "corrupt proportion : 0.9\n",
      "sample size : (200, 400, 600, 800, 1000)\n",
      " \n",
      "<function hsicfuse_test at 0x7f38a0028b80>\n",
      "[1.   1.   1.   0.61]\n",
      " \n",
      "<function hsic_test at 0x7f370d8c3790>\n",
      "[0.21       0.09999999 0.07       0.06      ]\n",
      " \n",
      "<function hsicagginc1_test at 0x7f370d8c3940>\n",
      "[0.09999999 0.04       0.08       0.01      ]\n",
      " \n",
      "<function hsicagginc100_test at 0x7f370d86edc0>\n",
      "[0.96999997 0.89       0.37       0.02      ]\n",
      " \n",
      "<function hsicagginc200_test at 0x7f370d86ee50>\n",
      "[1.   0.95 0.48 0.06]\n",
      " \n",
      "<function hsicaggincquad_test at 0x7f370d86eee0>\n",
      "[1.   0.96 0.48 0.06]\n"
     ]
    }
   ],
   "source": [
    "N        = 500\n",
    "rep      = 100\n",
    "C_values = (0.6, 0.7, 0.8, 0.9)\n",
    "\n",
    "tests = (hsicfuse_test, hsic_test, hsicagginc1_test, hsicagginc100_test, hsicagginc200_test, hsicaggincquad_test)\n",
    "outputs_mnist_n = jnp.zeros((len(tests), len(N_values), rep))\n",
    "outputs_mnist_n = outputs_mnist_n.tolist()\n",
    "key = random.PRNGKey(42)\n",
    "seed = 42\n",
    "for r in tqdm(range(len(C_values))):\n",
    "    corrupt_proportion = C_values[r]\n",
    "    for i in tqdm(range(rep)):\n",
    "        key, subkey = random.split(key)\n",
    "        X, Y = ind_X_Y_corrupt(key, N, corrupt_proportion)\n",
    "        key, subkey = random.split(key)\n",
    "        seed += 1\n",
    "        for j in range(len(tests)):\n",
    "            test = tests[j]\n",
    "            outputs_mnist_n[j][r][i] = test(X, Y, subkey, seed)\n",
    "\n",
    "outputs_mnist_n = jnp.array(outputs_mnist_n)   \n",
    "power = jnp.array([[jnp.mean(outputs_mnist_n[j][r])for r in range(len(C_values))] for j in range(len(tests))])\n",
    "np.save(\"results/mnist_c.npy\", power)\n",
    "np.save(\"results/mnist_c_x_axis.npy\", N_values)\n",
    "\n",
    "print(\"corrupt proportion :\", C_values)\n",
    "print(\"sample size :\", N)\n",
    "for t in range(len(tests)):\n",
    "    print(\" \")\n",
    "    print(tests[t])\n",
    "    print(power[t])"
   ]
  },
  {
   "cell_type": "code",
   "execution_count": null,
   "id": "3c1a2a3d-10b7-42be-ac9a-106f847fc1c3",
   "metadata": {},
   "outputs": [],
   "source": []
  },
  {
   "cell_type": "code",
   "execution_count": null,
   "id": "e3b638a5-6b34-4df5-ba25-44490eb44bdd",
   "metadata": {},
   "outputs": [],
   "source": []
  },
  {
   "cell_type": "code",
   "execution_count": null,
   "id": "4d4d6668-78b1-410c-9f45-4bc0263d2e18",
   "metadata": {},
   "outputs": [],
   "source": []
  }
 ],
 "metadata": {
  "kernelspec": {
   "display_name": "Python 3 (ipykernel)",
   "language": "python",
   "name": "python3"
  },
  "language_info": {
   "codemirror_mode": {
    "name": "ipython",
    "version": 3
   },
   "file_extension": ".py",
   "mimetype": "text/x-python",
   "name": "python",
   "nbconvert_exporter": "python",
   "pygments_lexer": "ipython3",
   "version": "3.9.16"
  }
 },
 "nbformat": 4,
 "nbformat_minor": 5
}
