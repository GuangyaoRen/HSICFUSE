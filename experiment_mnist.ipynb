{
 "cells": [
  {
   "cell_type": "code",
   "execution_count": null,
   "id": "a2f047b7-8d2d-4f1d-96d2-4ffa553c9bcc",
   "metadata": {},
   "outputs": [
    {
     "name": "stderr",
     "output_type": "stream",
     "text": [
      "/nfs/ghome/live/gren/mambaforge/envs/hsicfuse-env/lib/python3.9/site-packages/sklearn/datasets/_openml.py:1002: FutureWarning: The default value of `parser` will change from `'liac-arff'` to `'auto'` in 1.4. You can set `parser='auto'` to silence this warning. Therefore, an `ImportError` will be raised from 1.4 if the dataset is dense and pandas is not installed. Note that the pandas parser may return different data types. See the Notes Section in fetch_openml's API doc for details.\n",
      "  warn(\n"
     ]
    }
   ],
   "source": [
    "# # run to download mnist dataset\n",
    "# from mnist import download_mnist\n",
    "# download_mnist()"
   ]
  },
  {
   "cell_type": "code",
   "execution_count": 4,
   "id": "c53c5523-2018-4a3b-9e71-61ae6ebdd86d",
   "metadata": {},
   "outputs": [
    {
     "name": "stdout",
     "output_type": "stream",
     "text": [
      "The autoreload extension is already loaded. To reload it, use:\n",
      "  %reload_ext autoreload\n"
     ]
    }
   ],
   "source": [
    "from sampler_mnist import ind_X_Y_corrupt\n",
    "import numpy as np\n",
    "import jax\n",
    "import jax.numpy as jnp\n",
    "from jax import random\n",
    "from tqdm.auto import tqdm\n",
    "from pathlib import Path\n",
    "Path(\"results\").mkdir(exist_ok=True)\n",
    "%load_ext autoreload\n",
    "%autoreload 2"
   ]
  },
  {
   "cell_type": "code",
   "execution_count": 5,
   "id": "f55d2cf1-2674-437c-b9f9-e17eebfbf33c",
   "metadata": {},
   "outputs": [],
   "source": [
    "from all_tests import hsicfuse_test, hsic_test\n",
    "from all_tests import hsicagginc1_test, hsicagginc100_test, hsicagginc200_test, hsicaggincquad_test"
   ]
  },
  {
   "cell_type": "markdown",
   "id": "5ed62921-cc0a-4199-93b5-fef695001557",
   "metadata": {},
   "source": [
    "### MNIST vary N"
   ]
  },
  {
   "cell_type": "code",
   "execution_count": 9,
   "id": "eca360c1-d898-4d65-9c58-2ba135870ab0",
   "metadata": {},
   "outputs": [
    {
     "name": "stdout",
     "output_type": "stream",
     "text": [
      "N_values : (200,)\n",
      "sample size : (200,)\n",
      " \n",
      "<function hsic_test at 0x7fbacc49f8b0>\n",
      "[[0]]\n"
     ]
    }
   ],
   "source": [
    "corrupt_proportion = 0.75\n",
    "# rep = 100\n",
    "# N_values = (200, 400, 600, 800, 1000)\n",
    "rep = 1\n",
    "N_values = (200, )\n",
    "\n",
    "# tests = (hsicagginc1, hsicagginc100, hsicagginc200, hsicaggincquad)\n",
    "tests = (hsic_test, )\n",
    "outputs_mnist_n = jnp.zeros((len(tests), len(N_values), rep))\n",
    "outputs_mnist_n = outputs_hsic_mnist_n.tolist()\n",
    "key = random.PRNGKey(42)\n",
    "seed = 42\n",
    "for i in range(rep):\n",
    "    for r in range(len(N_values)):\n",
    "        N = N_values[r]\n",
    "        key, subkey = random.split(key)\n",
    "        X, Y = ind_X_Y_corrupt(key, N, corrupt_proportion)\n",
    "        key, subkey = random.split(key)\n",
    "        seed += 1\n",
    "        for j in range(len(tests)):\n",
    "            test = tests[j]\n",
    "            outputs_mnist_n[j][r][i] = test(X, Y, subkey, seed)\n",
    "\n",
    "outputs_mnist_n = jnp.array(outputs_mnist_n)   \n",
    "power = jnp.array([[jnp.mean(outputs_mnist_n[j][r])for r in range(len(N_values))] for j in range(len(tests))])\n",
    "np.save(\"results/mnist_n.npy\", power)\n",
    "np.save(\"results/mnist_n_x_axis.npy\", N_values)\n",
    "\n",
    "print(\"N_values :\", N_values)\n",
    "print(\"sample size :\", N_values)\n",
    "for t in range(len(tests)):\n",
    "    print(\" \")\n",
    "    print(tests[t])\n",
    "    print(outputs_mnist_n[t])"
   ]
  },
  {
   "cell_type": "code",
   "execution_count": null,
   "id": "55b53b70-a1f9-41a1-b055-0c895d50f4ca",
   "metadata": {},
   "outputs": [],
   "source": []
  },
  {
   "cell_type": "code",
   "execution_count": null,
   "id": "6bd71765-7945-4217-9497-c7e8b2628ec9",
   "metadata": {},
   "outputs": [],
   "source": []
  },
  {
   "cell_type": "code",
   "execution_count": null,
   "id": "3c1a2a3d-10b7-42be-ac9a-106f847fc1c3",
   "metadata": {},
   "outputs": [],
   "source": []
  },
  {
   "cell_type": "code",
   "execution_count": null,
   "id": "e3b638a5-6b34-4df5-ba25-44490eb44bdd",
   "metadata": {},
   "outputs": [],
   "source": []
  },
  {
   "cell_type": "code",
   "execution_count": null,
   "id": "4d4d6668-78b1-410c-9f45-4bc0263d2e18",
   "metadata": {},
   "outputs": [],
   "source": []
  }
 ],
 "metadata": {
  "kernelspec": {
   "display_name": "Python 3 (ipykernel)",
   "language": "python",
   "name": "python3"
  },
  "language_info": {
   "codemirror_mode": {
    "name": "ipython",
    "version": 3
   },
   "file_extension": ".py",
   "mimetype": "text/x-python",
   "name": "python",
   "nbconvert_exporter": "python",
   "pygments_lexer": "ipython3",
   "version": "3.9.16"
  }
 },
 "nbformat": 4,
 "nbformat_minor": 5
}
