{
 "cells": [
  {
   "cell_type": "code",
   "execution_count": null,
   "id": "a2f047b7-8d2d-4f1d-96d2-4ffa553c9bcc",
   "metadata": {},
   "outputs": [
    {
     "name": "stderr",
     "output_type": "stream",
     "text": [
      "/nfs/ghome/live/gren/mambaforge/envs/hsicfuse-env/lib/python3.9/site-packages/sklearn/datasets/_openml.py:1002: FutureWarning: The default value of `parser` will change from `'liac-arff'` to `'auto'` in 1.4. You can set `parser='auto'` to silence this warning. Therefore, an `ImportError` will be raised from 1.4 if the dataset is dense and pandas is not installed. Note that the pandas parser may return different data types. See the Notes Section in fetch_openml's API doc for details.\n",
      "  warn(\n"
     ]
    }
   ],
   "source": [
    "# # run to download mnist dataset\n",
    "# from mnist import download_mnist\n",
    "# download_mnist()"
   ]
  },
  {
   "cell_type": "code",
   "execution_count": 1,
   "id": "c53c5523-2018-4a3b-9e71-61ae6ebdd86d",
   "metadata": {},
   "outputs": [],
   "source": [
    "from sampler_mnist import ind_X_Y_corrupt, ind_X_Y_corrupt_np\n",
    "import numpy as np\n",
    "import jax\n",
    "import jax.numpy as jnp\n",
    "from jax import random\n",
    "from tqdm.auto import tqdm\n",
    "from pathlib import Path\n",
    "Path(\"results\").mkdir(exist_ok=True)\n",
    "%load_ext autoreload\n",
    "%autoreload 2"
   ]
  },
  {
   "cell_type": "code",
   "execution_count": 2,
   "id": "f55d2cf1-2674-437c-b9f9-e17eebfbf33c",
   "metadata": {},
   "outputs": [],
   "source": [
    "from all_tests import hsicfuse_test, hsic_test\n",
    "from all_tests import hsicagginc_test, hsicagg_test\n",
    "from all_tests import nfsic_test, nyhsic_test, fhsic_test"
   ]
  },
  {
   "cell_type": "markdown",
   "id": "5ed62921-cc0a-4199-93b5-fef695001557",
   "metadata": {},
   "source": [
    "### MNIST vary N"
   ]
  },
  {
   "cell_type": "code",
   "execution_count": 3,
   "id": "eca360c1-d898-4d65-9c58-2ba135870ab0",
   "metadata": {},
   "outputs": [
    {
     "data": {
      "application/vnd.jupyter.widget-view+json": {
       "model_id": "4de0bff6282f45fb91b7c98ceb9d83e0",
       "version_major": 2,
       "version_minor": 0
      },
      "text/plain": [
       "  0%|          | 0/5 [00:00<?, ?it/s]"
      ]
     },
     "metadata": {},
     "output_type": "display_data"
    },
    {
     "data": {
      "application/vnd.jupyter.widget-view+json": {
       "model_id": "2888e6181e7040eea85c6ad6b4089bc1",
       "version_major": 2,
       "version_minor": 0
      },
      "text/plain": [
       "  0%|          | 0/100 [00:00<?, ?it/s]"
      ]
     },
     "metadata": {},
     "output_type": "display_data"
    },
    {
     "data": {
      "application/vnd.jupyter.widget-view+json": {
       "model_id": "91186f07d1134b508ec61e17f506b420",
       "version_major": 2,
       "version_minor": 0
      },
      "text/plain": [
       "  0%|          | 0/100 [00:00<?, ?it/s]"
      ]
     },
     "metadata": {},
     "output_type": "display_data"
    },
    {
     "data": {
      "application/vnd.jupyter.widget-view+json": {
       "model_id": "654c560447614ba49d77d24a064e9c34",
       "version_major": 2,
       "version_minor": 0
      },
      "text/plain": [
       "  0%|          | 0/100 [00:00<?, ?it/s]"
      ]
     },
     "metadata": {},
     "output_type": "display_data"
    },
    {
     "data": {
      "application/vnd.jupyter.widget-view+json": {
       "model_id": "ae8abb5c6269429eaca2b27a8d32900b",
       "version_major": 2,
       "version_minor": 0
      },
      "text/plain": [
       "  0%|          | 0/100 [00:00<?, ?it/s]"
      ]
     },
     "metadata": {},
     "output_type": "display_data"
    },
    {
     "data": {
      "application/vnd.jupyter.widget-view+json": {
       "model_id": "d1968a75b5b44078b35ba653aaa444bb",
       "version_major": 2,
       "version_minor": 0
      },
      "text/plain": [
       "  0%|          | 0/100 [00:00<?, ?it/s]"
      ]
     },
     "metadata": {},
     "output_type": "display_data"
    },
    {
     "name": "stdout",
     "output_type": "stream",
     "text": [
      "corrupt proportion : 0.75\n",
      "sample size : (200, 400, 600, 800, 1000)\n",
      " \n",
      "<function hsic_test at 0x7f458cbc8820>\n",
      "[0.         0.         0.         0.53999996 1.        ]\n",
      " \n",
      "[[0.         0.         0.         0.53999996 1.        ]]\n"
     ]
    }
   ],
   "source": [
    "corrupt_proportion = 0.75\n",
    "rep = 100\n",
    "N_values = (200, 400, 600, 800, 1000)\n",
    "\n",
    "# tests = (hsicfuse_test, hsic_test, hsicagginc_test, hsicagg_test, nfsic_test, nyhsic_test, fhsic_test)\n",
    "tests = (hsic_test, )\n",
    "outputs_mnist_n = jnp.zeros((len(tests), len(N_values), rep))\n",
    "outputs_mnist_n = outputs_mnist_n.tolist()\n",
    "key = random.PRNGKey(42)\n",
    "seed = 42\n",
    "for r in tqdm(range(len(N_values))):\n",
    "    N = N_values[r]\n",
    "    for i in tqdm(range(rep)):\n",
    "        key, subkey = random.split(key)\n",
    "        X, Y = ind_X_Y_corrupt_np(key, N, corrupt_proportion)\n",
    "        key, subkey = random.split(key)\n",
    "        seed += 1\n",
    "        for j in range(len(tests)):\n",
    "            test = tests[j]\n",
    "            outputs_mnist_n[j][r][i] = test(X, Y, subkey, seed)\n",
    "\n",
    "outputs_mnist_n = jnp.array(outputs_mnist_n)   \n",
    "power = jnp.array([[jnp.mean(outputs_mnist_n[j][r])for r in range(len(N_values))] for j in range(len(tests))])\n",
    "np.save(\"results/mnist_vary_n.npy\", power)\n",
    "np.save(\"results/mnist_vary_n_x_axis.npy\", N_values)\n",
    "\n",
    "print(\"corrupt proportion :\", corrupt_proportion)\n",
    "print(\"sample size :\", N_values)\n",
    "for t in range(len(tests)):\n",
    "    print(\" \")\n",
    "    print(tests[t])\n",
    "    print(power[t])\n",
    "\n",
    "print(\" \")\n",
    "print(power)"
   ]
  },
  {
   "cell_type": "markdown",
   "id": "7e47c49f-5f27-455c-90b2-9589e2aa52d9",
   "metadata": {},
   "source": [
    "### MNIST vary C"
   ]
  },
  {
   "cell_type": "code",
   "execution_count": 4,
   "id": "6bd71765-7945-4217-9497-c7e8b2628ec9",
   "metadata": {},
   "outputs": [
    {
     "data": {
      "application/vnd.jupyter.widget-view+json": {
       "model_id": "9564e2cb1fb844dfbcba072e510b4eeb",
       "version_major": 2,
       "version_minor": 0
      },
      "text/plain": [
       "  0%|          | 0/4 [00:00<?, ?it/s]"
      ]
     },
     "metadata": {},
     "output_type": "display_data"
    },
    {
     "data": {
      "application/vnd.jupyter.widget-view+json": {
       "model_id": "7d717be7379a413ba8dbf26769134a9b",
       "version_major": 2,
       "version_minor": 0
      },
      "text/plain": [
       "  0%|          | 0/100 [00:00<?, ?it/s]"
      ]
     },
     "metadata": {},
     "output_type": "display_data"
    },
    {
     "data": {
      "application/vnd.jupyter.widget-view+json": {
       "model_id": "d49160f921e34a7f8c3a46cbe1f95c16",
       "version_major": 2,
       "version_minor": 0
      },
      "text/plain": [
       "  0%|          | 0/100 [00:00<?, ?it/s]"
      ]
     },
     "metadata": {},
     "output_type": "display_data"
    },
    {
     "data": {
      "application/vnd.jupyter.widget-view+json": {
       "model_id": "b96eedf3d70d46bc965a0221c41497b8",
       "version_major": 2,
       "version_minor": 0
      },
      "text/plain": [
       "  0%|          | 0/100 [00:00<?, ?it/s]"
      ]
     },
     "metadata": {},
     "output_type": "display_data"
    },
    {
     "data": {
      "application/vnd.jupyter.widget-view+json": {
       "model_id": "869cc58f3b8b449aa43374c51578759e",
       "version_major": 2,
       "version_minor": 0
      },
      "text/plain": [
       "  0%|          | 0/100 [00:00<?, ?it/s]"
      ]
     },
     "metadata": {},
     "output_type": "display_data"
    },
    {
     "name": "stdout",
     "output_type": "stream",
     "text": [
      "corrupt proportion : (0.6, 0.7, 0.8, 0.9)\n",
      "sample size : 500\n",
      " \n",
      "<function hsic_test at 0x7f458cbc8820>\n",
      "[1. 1. 0. 0.]\n"
     ]
    }
   ],
   "source": [
    "N        = 500\n",
    "rep      = 100\n",
    "C_values = (0.6, 0.7, 0.8, 0.9)\n",
    "\n",
    "# tests = (hsicfuse_test, hsic_test, hsicagginc_test, hsicagg_test, nfsic_test, nyhsic_test, fhsic_test)\n",
    "tests = (hsic_test, )\n",
    "outputs_mnist_n = jnp.zeros((len(tests), N, rep))\n",
    "outputs_mnist_n = outputs_mnist_n.tolist()\n",
    "key = random.PRNGKey(42)\n",
    "seed = 42\n",
    "for r in tqdm(range(len(C_values))):\n",
    "    corrupt_proportion = C_values[r]\n",
    "    for i in tqdm(range(rep)):\n",
    "        key, subkey = random.split(key)\n",
    "        X, Y = ind_X_Y_corrupt_np(key, N, corrupt_proportion)\n",
    "        key, subkey = random.split(key)\n",
    "        seed += 1\n",
    "        for j in range(len(tests)):\n",
    "            test = tests[j]\n",
    "            outputs_mnist_n[j][r][i] = test(X, Y, subkey, seed)\n",
    "\n",
    "outputs_mnist_n = jnp.array(outputs_mnist_n)   \n",
    "power = jnp.array([[jnp.mean(outputs_mnist_n[j][r])for r in range(len(C_values))] for j in range(len(tests))])\n",
    "np.save(\"results/mnist_vary_C.npy\", power)\n",
    "np.save(\"results/mnist_vary_C_x_axis.npy\", N_values)\n",
    "\n",
    "print(\"corrupt proportion :\", C_values)\n",
    "print(\"sample size :\", N)\n",
    "for t in range(len(tests)):\n",
    "    print(\" \")\n",
    "    print(tests[t])\n",
    "    print(power[t])"
   ]
  },
  {
   "cell_type": "code",
   "execution_count": null,
   "id": "3c1a2a3d-10b7-42be-ac9a-106f847fc1c3",
   "metadata": {},
   "outputs": [],
   "source": []
  },
  {
   "cell_type": "code",
   "execution_count": null,
   "id": "e3b638a5-6b34-4df5-ba25-44490eb44bdd",
   "metadata": {},
   "outputs": [],
   "source": []
  }
 ],
 "metadata": {
  "kernelspec": {
   "display_name": "Python 3 (ipykernel)",
   "language": "python",
   "name": "python3"
  },
  "language_info": {
   "codemirror_mode": {
    "name": "ipython",
    "version": 3
   },
   "file_extension": ".py",
   "mimetype": "text/x-python",
   "name": "python",
   "nbconvert_exporter": "python",
   "pygments_lexer": "ipython3",
   "version": "3.9.16"
  }
 },
 "nbformat": 4,
 "nbformat_minor": 5
}
