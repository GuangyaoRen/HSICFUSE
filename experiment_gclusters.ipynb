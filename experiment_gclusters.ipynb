{
 "cells": [
  {
   "cell_type": "code",
   "execution_count": 4,
   "id": "8a823d90-e944-43c8-a58c-5f40fa8468b4",
   "metadata": {},
   "outputs": [
    {
     "name": "stdout",
     "output_type": "stream",
     "text": [
      "The autoreload extension is already loaded. To reload it, use:\n",
      "  %reload_ext autoreload\n"
     ]
    }
   ],
   "source": [
    "from sampler_gclusters import sampler_gclusters\n",
    "import numpy as np\n",
    "import jax\n",
    "import jax.numpy as jnp\n",
    "from jax import random\n",
    "from tqdm.auto import tqdm\n",
    "from pathlib import Path\n",
    "Path(\"results\").mkdir(exist_ok=True)\n",
    "%load_ext autoreload\n",
    "%autoreload 2"
   ]
  },
  {
   "cell_type": "code",
   "execution_count": 5,
   "id": "e3102da0-c7f7-4825-acd9-4d1bc83019d9",
   "metadata": {},
   "outputs": [],
   "source": [
    "from all_tests import hsicfuse_test, hsic_test\n",
    "from all_tests import hsicagginc1_test, hsicagginc100_test, hsicagginc200_test, hsicaggincquad_test"
   ]
  },
  {
   "cell_type": "markdown",
   "id": "133b173c-3b33-427a-90f2-441c26c8b4ad",
   "metadata": {},
   "source": [
    "### Vary difficulty"
   ]
  },
  {
   "cell_type": "code",
   "execution_count": 11,
   "id": "848cd980-0602-493a-a1dc-ea4e8731b769",
   "metadata": {},
   "outputs": [
    {
     "name": "stdout",
     "output_type": "stream",
     "text": [
      "Ls : (1,)\n",
      "sample size : 500\n",
      " \n",
      "<function hsic_test at 0x7fdff316bf70>\n",
      "[0.]\n"
     ]
    }
   ],
   "source": [
    "repetitions          = 200\n",
    "Ls                   = (1, 2, 4, 8, 16, 32)\n",
    "sample_size          = 500  \n",
    "\n",
    "tests = (hsicfuse_test, hsic_test, hsicagginc1_test, hsicagginc100_test, hsicagginc200_test, hsicaggincquad_test, )\n",
    "outputs = jnp.zeros((len(tests), len(Ls), repetitions))\n",
    "outputs = outputs.tolist()\n",
    "key = random.PRNGKey(42)\n",
    "seed = 42\n",
    "for s in (range(len(Ls))):\n",
    "    L = Ls[s]\n",
    "    for i in (range(repetitions)):\n",
    "        key, subkey = random.split(key)\n",
    "        X, Y = sampler_gclusters(key=key, L=L, theta=0, N=sample_size, permute=False)\n",
    "        key, subkey = random.split(key)\n",
    "        seed += 1\n",
    "        for t in range(len(tests)):\n",
    "            test = tests[t]\n",
    "            outputs[t][s][i] = test(\n",
    "                    X,\n",
    "                    Y,\n",
    "                    subkey,\n",
    "                    seed,\n",
    "                )\n",
    "\n",
    "output = jnp.mean(jnp.array(outputs), -1) # the last dimension is eliminated\n",
    "\n",
    "jnp.save(\"results/gclusters_vary_dif.npy\", output)\n",
    "jnp.save(\"results/gclusters_vary_dif_x_axis.npy\", Ls)\n",
    "\n",
    "print(\"Ls :\", Ls)\n",
    "print(\"sample size :\", sample_size)\n",
    "for t in range(len(tests)):\n",
    "    print(\" \")\n",
    "    print(tests[t])\n",
    "    print(output[t])"
   ]
  },
  {
   "cell_type": "code",
   "execution_count": null,
   "id": "2b1885f2-9204-4c97-86f9-8af831f98d8c",
   "metadata": {},
   "outputs": [],
   "source": []
  },
  {
   "cell_type": "code",
   "execution_count": null,
   "id": "a88c37c1-13d4-47f4-a35c-dffd6988a0d0",
   "metadata": {},
   "outputs": [],
   "source": []
  },
  {
   "cell_type": "code",
   "execution_count": null,
   "id": "7477ebf2-73d3-4a5b-b6f1-5df416338793",
   "metadata": {},
   "outputs": [],
   "source": []
  },
  {
   "cell_type": "code",
   "execution_count": null,
   "id": "bd4ed66c-4128-4abc-a9c2-0bc49c731ab5",
   "metadata": {},
   "outputs": [],
   "source": []
  },
  {
   "cell_type": "code",
   "execution_count": null,
   "id": "8574e409-9bdf-458d-afcf-014de52993de",
   "metadata": {},
   "outputs": [],
   "source": []
  }
 ],
 "metadata": {
  "kernelspec": {
   "display_name": "Python 3 (ipykernel)",
   "language": "python",
   "name": "python3"
  },
  "language_info": {
   "codemirror_mode": {
    "name": "ipython",
    "version": 3
   },
   "file_extension": ".py",
   "mimetype": "text/x-python",
   "name": "python",
   "nbconvert_exporter": "python",
   "pygments_lexer": "ipython3",
   "version": "3.9.16"
  }
 },
 "nbformat": 4,
 "nbformat_minor": 5
}
