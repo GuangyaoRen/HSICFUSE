{
 "cells": [
  {
   "cell_type": "code",
   "execution_count": 1,
   "id": "e5c2d1db-80ec-4ef2-aa9f-2639c702a0f7",
   "metadata": {},
   "outputs": [],
   "source": [
    "import sys\n",
    "from pathlib import Path\n",
    "from sampler_gclusters import shuffle, generate_means, sampler_gclusters\n",
    "import numpy as np\n",
    "import jax\n",
    "import jax.numpy as jnp\n",
    "from jax import random, jit, vmap\n",
    "from tqdm.auto import tqdm\n",
    "import time\n",
    "Path(\"results\").mkdir(exist_ok=True)\n",
    "%load_ext autoreload\n",
    "%autoreload 2"
   ]
  },
  {
   "cell_type": "code",
   "execution_count": 2,
   "id": "5c943f44-9780-42f7-a2fa-10374478a8d0",
   "metadata": {},
   "outputs": [],
   "source": [
    "from all_tests import hsicfuse_test, hsic_test\n",
    "from all_tests import hsicagginc_test, hsicagg_test\n",
    "from all_tests import nfsic_test, nyhsic_test, fhsic_test"
   ]
  },
  {
   "cell_type": "markdown",
   "id": "ba0df912-2c02-4ecc-bc8e-a5249bd19c3a",
   "metadata": {},
   "source": [
    "### Vary corruption d=2"
   ]
  },
  {
   "cell_type": "code",
   "execution_count": 8,
   "id": "a47824b0-a293-4c85-8b36-b4946e894dfa",
   "metadata": {},
   "outputs": [
    {
     "data": {
      "application/vnd.jupyter.widget-view+json": {
       "model_id": "fc3c06667331445c8a949febfd2239e0",
       "version_major": 2,
       "version_minor": 0
      },
      "text/plain": [
       "  0%|          | 0/5 [00:00<?, ?it/s]"
      ]
     },
     "metadata": {},
     "output_type": "display_data"
    },
    {
     "data": {
      "application/vnd.jupyter.widget-view+json": {
       "model_id": "0e6e72f1c7b74a8b80f34e94dee7ede4",
       "version_major": 2,
       "version_minor": 0
      },
      "text/plain": [
       "  0%|          | 0/100 [00:00<?, ?it/s]"
      ]
     },
     "metadata": {},
     "output_type": "display_data"
    },
    {
     "name": "stdout",
     "output_type": "stream",
     "text": [
      "100 / 100 time: 737.3986234664917\n"
     ]
    },
    {
     "data": {
      "application/vnd.jupyter.widget-view+json": {
       "model_id": "26f49357995f4e5080051ee16b14589a",
       "version_major": 2,
       "version_minor": 0
      },
      "text/plain": [
       "  0%|          | 0/100 [00:00<?, ?it/s]"
      ]
     },
     "metadata": {},
     "output_type": "display_data"
    },
    {
     "name": "stdout",
     "output_type": "stream",
     "text": [
      "100 / 100 time: 623.8985702991486\n"
     ]
    },
    {
     "data": {
      "application/vnd.jupyter.widget-view+json": {
       "model_id": "1ab950d8f8734597a64d71c96742f023",
       "version_major": 2,
       "version_minor": 0
      },
      "text/plain": [
       "  0%|          | 0/100 [00:00<?, ?it/s]"
      ]
     },
     "metadata": {},
     "output_type": "display_data"
    },
    {
     "name": "stdout",
     "output_type": "stream",
     "text": [
      "100 / 100 time: 628.2195823192596\n"
     ]
    },
    {
     "data": {
      "application/vnd.jupyter.widget-view+json": {
       "model_id": "ba7bc4e8e72c4c6ab5a2a8fbca873576",
       "version_major": 2,
       "version_minor": 0
      },
      "text/plain": [
       "  0%|          | 0/100 [00:00<?, ?it/s]"
      ]
     },
     "metadata": {},
     "output_type": "display_data"
    },
    {
     "name": "stdout",
     "output_type": "stream",
     "text": [
      "100 / 100 time: 627.6710135936737\n"
     ]
    },
    {
     "data": {
      "application/vnd.jupyter.widget-view+json": {
       "model_id": "fbe7dd7f562e4ce29efb5a499b34e8e8",
       "version_major": 2,
       "version_minor": 0
      },
      "text/plain": [
       "  0%|          | 0/100 [00:00<?, ?it/s]"
      ]
     },
     "metadata": {},
     "output_type": "display_data"
    },
    {
     "name": "stdout",
     "output_type": "stream",
     "text": [
      "100 / 100 time: 607.178471326828\n",
      "corruptions : (0.2, 0.4, 0.6, 0.8, 1.0)\n",
      "sample size : 500\n",
      " \n",
      "<function hsicfuse_test at 0x7f4e7055a280>\n",
      "[1.         1.         0.93       0.26999998 0.03      ]\n",
      " \n",
      "<function hsic_test at 0x7f4e48c32820>\n",
      "[0.9        0.53999996 0.21       0.13       0.03      ]\n",
      " \n",
      "<function hsicagginc_test at 0x7f4e48c328b0>\n",
      "[0.97999996 0.95       0.55       0.09       0.04      ]\n",
      " \n",
      "<function hsicagg_test at 0x7f4e48c32940>\n",
      "[0.98999995 0.95       0.48999998 0.09       0.02      ]\n",
      " \n",
      "<function nfsic_test at 0x7f4e48c329d0>\n",
      "[0.84999996 0.53       0.13       0.12       0.04      ]\n",
      " \n",
      "<function nyhsic_test at 0x7f4e48c32a60>\n",
      "[1.   1.   0.95 0.28 0.05]\n",
      " \n",
      "<function fhsic_test at 0x7f4e48c32af0>\n",
      "[1.   1.   0.9  0.34 0.03]\n",
      " \n",
      "[[1.         1.         0.93       0.26999998 0.03      ]\n",
      " [0.9        0.53999996 0.21       0.13       0.03      ]\n",
      " [0.97999996 0.95       0.55       0.09       0.04      ]\n",
      " [0.98999995 0.95       0.48999998 0.09       0.02      ]\n",
      " [0.84999996 0.53       0.13       0.12       0.04      ]\n",
      " [1.         1.         0.95       0.28       0.05      ]\n",
      " [1.         1.         0.9        0.34       0.03      ]]\n"
     ]
    }
   ],
   "source": [
    "repetitions = 100\n",
    "corruptions = (0.2, 0.4, 0.6, 0.8, 1.0) # corruption = 1 is the same as permute = True\n",
    "sample_size = 500 \n",
    "L           = 4\n",
    "d           = 2\n",
    "\n",
    "tests = (hsicfuse_test, hsic_test, hsicagginc_test, hsicagg_test, nfsic_test, nyhsic_test, fhsic_test)\n",
    "outputs = jnp.zeros((len(tests), len(corruptions), repetitions))\n",
    "outputs = outputs.tolist()\n",
    "key = random.PRNGKey(42)\n",
    "seed = 42\n",
    "for s in tqdm(range(len(corruptions))):\n",
    "    C = corruptions[s]\n",
    "    t0 = time.time()\n",
    "    for i in tqdm(range(repetitions)):\n",
    "        key, subkey = random.split(key)\n",
    "        seed += 1\n",
    "        X, Y = sampler_gclusters(subkey, L=L, d=d, theta=0, N=sample_size, C=C)\n",
    "        for t in range(len(tests)):\n",
    "            test = tests[t]\n",
    "            outputs[t][s][i] = test(X, Y, subkey, seed)\n",
    "    print(i + 1, \"/\", repetitions, \"time:\", time.time() - t0)  \n",
    "\n",
    "output = jnp.mean(jnp.array(outputs), -1) # the last dimension is eliminated\n",
    "\n",
    "jnp.save(\"results/3gclusters_vary_dif.npy\", output)\n",
    "jnp.save(\"results/3gclusters_vary_dif_x_axis.npy\", corruptions)\n",
    "\n",
    "print(\"corruptions :\", corruptions)\n",
    "print(\"sample size :\", sample_size)\n",
    "for t in range(len(tests)):\n",
    "    print(\" \")\n",
    "    print(tests[t])\n",
    "    print(output[t])\n",
    "\n",
    "print(\" \")\n",
    "print(output)"
   ]
  },
  {
   "cell_type": "markdown",
   "id": "a8f03da8-b324-46e2-b3fa-81317a9a6c16",
   "metadata": {},
   "source": [
    "### Vary Sample Size"
   ]
  },
  {
   "cell_type": "code",
   "execution_count": 3,
   "id": "fa6f3576-4d7f-47a3-b0da-581c9a3114c3",
   "metadata": {},
   "outputs": [
    {
     "data": {
      "application/vnd.jupyter.widget-view+json": {
       "model_id": "1a6ecdd5e9874215a191704d81c2e2d8",
       "version_major": 2,
       "version_minor": 0
      },
      "text/plain": [
       "  0%|          | 0/1 [00:00<?, ?it/s]"
      ]
     },
     "metadata": {},
     "output_type": "display_data"
    },
    {
     "data": {
      "application/vnd.jupyter.widget-view+json": {
       "model_id": "07716805df3b4acd985e152e7ab6e793",
       "version_major": 2,
       "version_minor": 0
      },
      "text/plain": [
       "  0%|          | 0/100 [00:00<?, ?it/s]"
      ]
     },
     "metadata": {},
     "output_type": "display_data"
    },
    {
     "name": "stdout",
     "output_type": "stream",
     "text": [
      "100 / 100 time: 46030.82800960541\n",
      "corruptions : 0.6\n",
      "sample size : (2500,)\n",
      " \n",
      "<function hsicfuse_test at 0x7f989818e790>\n",
      "[1.]\n",
      " \n",
      "<function hsic_test at 0x7f9870abe3a0>\n",
      "[0.47]\n",
      " \n",
      "<function hsicagginc_test at 0x7f9870abe430>\n",
      "[1.]\n",
      " \n",
      "<function hsicagg_test at 0x7f9870abe4c0>\n",
      "[1.]\n",
      " \n",
      "<function nfsic_test at 0x7f9870abe550>\n",
      "[0.93]\n",
      " \n",
      "<function nyhsic_test at 0x7f9870abe5e0>\n",
      "[1.]\n",
      " \n",
      "<function fhsic_test at 0x7f9870abe670>\n",
      "[1.]\n",
      " \n",
      "[[1.  ]\n",
      " [0.47]\n",
      " [1.  ]\n",
      " [1.  ]\n",
      " [0.93]\n",
      " [1.  ]\n",
      " [1.  ]]\n"
     ]
    }
   ],
   "source": [
    "repetitions  = 100\n",
    "corruption   = 0.6\n",
    "sample_sizes = ( 200,  400,  600,  800, 1000, 1500, 2000, 2500, 3000)\n",
    "L            = 4\n",
    "d            = 2\n",
    "\n",
    "tests = (hsicfuse_test, hsic_test, hsicagginc_test, hsicagg_test, nfsic_test, nyhsic_test, fhsic_test)\n",
    "outputs = jnp.zeros((len(tests), len(sample_sizes), repetitions))\n",
    "outputs = outputs.tolist()\n",
    "key = random.PRNGKey(42)\n",
    "seed = 42\n",
    "for s in tqdm(range(len(sample_sizes))):\n",
    "    N = sample_sizes[s]\n",
    "    t0 = time.time()\n",
    "    for i in tqdm(range(repetitions)):\n",
    "        key, subkey = random.split(key)\n",
    "        seed += 1\n",
    "        X, Y = sampler_gclusters(subkey, L=L, d=d, theta=0, N=N, C=corruption)\n",
    "        for t in range(len(tests)):\n",
    "            test = tests[t]\n",
    "            outputs[t][s][i] = test(X, Y, subkey, seed)\n",
    "    print(i + 1, \"/\", repetitions, \"time:\", time.time() - t0)  \n",
    "\n",
    "output = jnp.mean(jnp.array(outputs), -1) # the last dimension is eliminated\n",
    "\n",
    "jnp.save(\"results/3gclusters_vary_n.npy\", output)\n",
    "jnp.save(\"results/3gclusters_vary_n_x_axis.npy\", sample_sizes)\n",
    "\n",
    "print(\"corruptions :\", corruption)\n",
    "print(\"sample size :\", sample_sizes)\n",
    "for t in range(len(tests)):\n",
    "    print(\" \")\n",
    "    print(tests[t])\n",
    "    print(output[t])\n",
    "\n",
    "print(\" \")\n",
    "print(output)"
   ]
  },
  {
   "cell_type": "markdown",
   "id": "b1f4313b-f132-43f9-a833-8a410b4f984f",
   "metadata": {},
   "source": [
    "### Vary d"
   ]
  },
  {
   "cell_type": "code",
   "execution_count": 3,
   "id": "0efcc391-068e-470d-b99a-10484cfda074",
   "metadata": {},
   "outputs": [
    {
     "data": {
      "application/vnd.jupyter.widget-view+json": {
       "model_id": "b2311b757e05462e8c278bfc9d59ef1a",
       "version_major": 2,
       "version_minor": 0
      },
      "text/plain": [
       "  0%|          | 0/4 [00:00<?, ?it/s]"
      ]
     },
     "metadata": {},
     "output_type": "display_data"
    },
    {
     "data": {
      "application/vnd.jupyter.widget-view+json": {
       "model_id": "0b6712f4c4d149939aab10719657c302",
       "version_major": 2,
       "version_minor": 0
      },
      "text/plain": [
       "  0%|          | 0/100 [00:00<?, ?it/s]"
      ]
     },
     "metadata": {},
     "output_type": "display_data"
    },
    {
     "name": "stdout",
     "output_type": "stream",
     "text": [
      "100 / 100 time: 1619.9030759334564\n"
     ]
    },
    {
     "data": {
      "application/vnd.jupyter.widget-view+json": {
       "model_id": "e0b545f12de94c06a2cf2dc6bceab4e7",
       "version_major": 2,
       "version_minor": 0
      },
      "text/plain": [
       "  0%|          | 0/100 [00:00<?, ?it/s]"
      ]
     },
     "metadata": {},
     "output_type": "display_data"
    },
    {
     "name": "stdout",
     "output_type": "stream",
     "text": [
      "100 / 100 time: 1977.0199162960052\n"
     ]
    },
    {
     "data": {
      "application/vnd.jupyter.widget-view+json": {
       "model_id": "6800b493b73a4229923c777f1086059c",
       "version_major": 2,
       "version_minor": 0
      },
      "text/plain": [
       "  0%|          | 0/100 [00:00<?, ?it/s]"
      ]
     },
     "metadata": {},
     "output_type": "display_data"
    },
    {
     "name": "stdout",
     "output_type": "stream",
     "text": [
      "100 / 100 time: 2055.3757729530334\n"
     ]
    },
    {
     "data": {
      "application/vnd.jupyter.widget-view+json": {
       "model_id": "7ad90e5b0aa0464597299f88ccadad87",
       "version_major": 2,
       "version_minor": 0
      },
      "text/plain": [
       "  0%|          | 0/100 [00:00<?, ?it/s]"
      ]
     },
     "metadata": {},
     "output_type": "display_data"
    },
    {
     "name": "stdout",
     "output_type": "stream",
     "text": [
      "100 / 100 time: 2086.9626095294952\n",
      "corruptions : 0.4\n",
      "dimensions : [2, 3, 4, 5]\n",
      " \n",
      "<function hsicfuse_test at 0x7ff2f2110820>\n",
      "[1.         1.         1.         0.98999995]\n",
      " \n",
      "<function hsic_test at 0x7ff46c74a5e0>\n",
      "[0.57 0.34 0.31 0.24]\n",
      " \n",
      "<function hsicagginc_test at 0x7ff46c74a670>\n",
      "[0.93       0.91999996 0.84999996 0.76      ]\n",
      " \n",
      "<function hsicagg_test at 0x7ff46c74a700>\n",
      "[0.97999996 0.90999997 0.84999996 0.78      ]\n",
      " \n",
      "<function nfsic_test at 0x7ff46c74a790>\n",
      "[0.44       0.42       0.22       0.29999998]\n",
      " \n",
      "<function nyhsic_test at 0x7ff46c74a820>\n",
      "[1. 1. 1. 1.]\n",
      " \n",
      "<function fhsic_test at 0x7ff46c74a8b0>\n",
      "[1.         1.         0.96999997 0.96999997]\n",
      " \n",
      "[[1.         1.         1.         0.98999995]\n",
      " [0.57       0.34       0.31       0.24      ]\n",
      " [0.93       0.91999996 0.84999996 0.76      ]\n",
      " [0.97999996 0.90999997 0.84999996 0.78      ]\n",
      " [0.44       0.42       0.22       0.29999998]\n",
      " [1.         1.         1.         1.        ]\n",
      " [1.         1.         0.96999997 0.96999997]]\n"
     ]
    }
   ],
   "source": [
    "repetitions  = 100\n",
    "corruption   = 0.4\n",
    "sample_size  = 500\n",
    "L            = 4\n",
    "dimension    = [2, 3, 4, 5]\n",
    "\n",
    "tests = (hsicfuse_test, hsic_test, hsicagginc_test, hsicagg_test, nfsic_test, nyhsic_test, fhsic_test)\n",
    "outputs = jnp.zeros((len(tests), len(dimension), repetitions))\n",
    "outputs = outputs.tolist()\n",
    "key = random.PRNGKey(42)\n",
    "seed = 42\n",
    "for s in tqdm(range(len(dimension))):\n",
    "    d = dimension[s]\n",
    "    t0 = time.time()\n",
    "    for i in tqdm(range(repetitions)):\n",
    "        key, subkey = random.split(key)\n",
    "        seed += 1\n",
    "        X, Y = sampler_gclusters(subkey, L=L, d=d, theta=0, N=sample_size, C=corruption)\n",
    "        for t in range(len(tests)):\n",
    "            test = tests[t]\n",
    "            outputs[t][s][i] = test(X, Y, subkey, seed)\n",
    "    print(i + 1, \"/\", repetitions, \"time:\", time.time() - t0)  \n",
    "\n",
    "output = jnp.mean(jnp.array(outputs), -1) # the last dimension is eliminated\n",
    "\n",
    "jnp.save(\"results/3gclusters_vary_d.npy\", output)\n",
    "jnp.save(\"results/3gclusters_vary_d_x_axis.npy\", dimension)\n",
    "\n",
    "print(\"corruptions :\", corruption)\n",
    "print(\"dimensions :\", dimension)\n",
    "for t in range(len(tests)):\n",
    "    print(\" \")\n",
    "    print(tests[t])\n",
    "    print(output[t])\n",
    "\n",
    "print(\" \")\n",
    "print(output)"
   ]
  },
  {
   "cell_type": "code",
   "execution_count": null,
   "id": "a0d6c3f1-51da-434f-b668-0ee0f7e2dea5",
   "metadata": {},
   "outputs": [],
   "source": []
  },
  {
   "cell_type": "code",
   "execution_count": null,
   "id": "d20c9a84-351b-4c0b-bad3-20267c816f5e",
   "metadata": {},
   "outputs": [],
   "source": []
  }
 ],
 "metadata": {
  "kernelspec": {
   "display_name": "Python 3 (ipykernel)",
   "language": "python",
   "name": "python3"
  },
  "language_info": {
   "codemirror_mode": {
    "name": "ipython",
    "version": 3
   },
   "file_extension": ".py",
   "mimetype": "text/x-python",
   "name": "python",
   "nbconvert_exporter": "python",
   "pygments_lexer": "ipython3",
   "version": "3.9.16"
  }
 },
 "nbformat": 4,
 "nbformat_minor": 5
}
